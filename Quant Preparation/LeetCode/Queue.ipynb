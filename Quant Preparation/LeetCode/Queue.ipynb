{
 "cells": [
  {
   "cell_type": "markdown",
   "id": "c33f539e",
   "metadata": {},
   "source": [
    "# basic operations"
   ]
  },
  {
   "cell_type": "markdown",
   "id": "8507c51b",
   "metadata": {},
   "source": [
    "## creat new queue"
   ]
  },
  {
   "cell_type": "code",
   "execution_count": 2,
   "id": "cdbe3581",
   "metadata": {},
   "outputs": [],
   "source": [
    "from collections import deque"
   ]
  },
  {
   "cell_type": "code",
   "execution_count": 3,
   "id": "9660b543",
   "metadata": {},
   "outputs": [
    {
     "data": {
      "text/plain": [
       "deque([])"
      ]
     },
     "execution_count": 3,
     "metadata": {},
     "output_type": "execute_result"
    }
   ],
   "source": [
    "a = deque()\n",
    "a"
   ]
  },
  {
   "cell_type": "code",
   "execution_count": null,
   "id": "bb8e8257",
   "metadata": {},
   "outputs": [],
   "source": [
    "## add elements"
   ]
  },
  {
   "cell_type": "code",
   "execution_count": 4,
   "id": "8aef519f",
   "metadata": {},
   "outputs": [
    {
     "data": {
      "text/plain": [
       "deque(['s'])"
      ]
     },
     "execution_count": 4,
     "metadata": {},
     "output_type": "execute_result"
    }
   ],
   "source": [
    "# from behind\n",
    "# O(1)\n",
    "a.append(\"s\")\n",
    "a"
   ]
  },
  {
   "cell_type": "markdown",
   "id": "abb531f4",
   "metadata": {},
   "source": [
    "## access elements"
   ]
  },
  {
   "cell_type": "code",
   "execution_count": 5,
   "id": "656fdd4d",
   "metadata": {},
   "outputs": [
    {
     "data": {
      "text/plain": [
       "'s'"
      ]
     },
     "execution_count": 5,
     "metadata": {},
     "output_type": "execute_result"
    }
   ],
   "source": [
    "# in a queue, usally first element is accessed\n",
    "# O(1)\n",
    "a[0]"
   ]
  },
  {
   "cell_type": "markdown",
   "id": "d472fd8c",
   "metadata": {},
   "source": [
    "## remove elements"
   ]
  },
  {
   "cell_type": "code",
   "execution_count": 10,
   "id": "01e70db0",
   "metadata": {},
   "outputs": [
    {
     "data": {
      "text/plain": [
       "deque(['a', 'b', 'a', 'b'])"
      ]
     },
     "execution_count": 10,
     "metadata": {},
     "output_type": "execute_result"
    }
   ],
   "source": [
    "a.append(\"a\")\n",
    "a.append(\"b\")\n",
    "a"
   ]
  },
  {
   "cell_type": "code",
   "execution_count": 11,
   "id": "12b9bd5c",
   "metadata": {},
   "outputs": [
    {
     "data": {
      "text/plain": [
       "'a'"
      ]
     },
     "execution_count": 11,
     "metadata": {},
     "output_type": "execute_result"
    }
   ],
   "source": [
    "# O(1)\n",
    "# first in first out\n",
    "a.popleft()"
   ]
  },
  {
   "cell_type": "code",
   "execution_count": 12,
   "id": "1492a430",
   "metadata": {},
   "outputs": [
    {
     "data": {
      "text/plain": [
       "deque(['b', 'a', 'b'])"
      ]
     },
     "execution_count": 12,
     "metadata": {},
     "output_type": "execute_result"
    }
   ],
   "source": [
    "a"
   ]
  },
  {
   "cell_type": "markdown",
   "id": "3ba71e5c",
   "metadata": {},
   "source": [
    "## iteratation"
   ]
  },
  {
   "cell_type": "code",
   "execution_count": null,
   "id": "a20c91af",
   "metadata": {},
   "outputs": [],
   "source": [
    "# O(N)"
   ]
  },
  {
   "cell_type": "code",
   "execution_count": 13,
   "id": "9c1237d9",
   "metadata": {},
   "outputs": [
    {
     "data": {
      "text/plain": [
       "deque(['b', 'a', 'b'])"
      ]
     },
     "execution_count": 13,
     "metadata": {},
     "output_type": "execute_result"
    }
   ],
   "source": [
    "a"
   ]
  },
  {
   "cell_type": "code",
   "execution_count": 14,
   "id": "7363e289",
   "metadata": {},
   "outputs": [
    {
     "name": "stdout",
     "output_type": "stream",
     "text": [
      "b\n",
      "a\n",
      "b\n"
     ]
    },
    {
     "data": {
      "text/plain": [
       "deque([])"
      ]
     },
     "execution_count": 14,
     "metadata": {},
     "output_type": "execute_result"
    }
   ],
   "source": [
    "# in a queue, iteration is accompanied with popleft \n",
    "while len(a) != 0:\n",
    "    print(a.popleft())\n",
    "a"
   ]
  },
  {
   "cell_type": "markdown",
   "id": "058db160",
   "metadata": {},
   "source": [
    "# relevent practice"
   ]
  },
  {
   "cell_type": "markdown",
   "id": "705b1a09",
   "metadata": {},
   "source": [
    "## leetcode 933"
   ]
  },
  {
   "cell_type": "markdown",
   "id": "8fd55f75",
   "metadata": {},
   "source": [
    "https://leetcode-cn.com/problems/number-of-recent-calls/\n",
    "\n",
    "You have a RecentCounter class which counts the number of recent requests within a certain time frame.\n",
    "\n",
    "Implement the RecentCounter class:\n",
    "\n",
    "RecentCounter() Initializes the counter with zero recent requests.\n",
    "int ping(int t) Adds a new request at time t, where t represents some time in milliseconds, and returns the number of requests that has happened in the past 3000 milliseconds (including the new request). Specifically, return the number of requests that have happened in the inclusive range [t - 3000, t].\n",
    "It is guaranteed that every call to ping uses a strictly larger value of t than the previous call.\n",
    "\n",
    "\n",
    "__My Solutions:__"
   ]
  },
  {
   "cell_type": "code",
   "execution_count": null,
   "id": "34fe3ba5",
   "metadata": {},
   "outputs": [],
   "source": [
    "class RecentCounter(object):\n",
    "\n",
    "    def __init__(self):\n",
    "        self.queue = deque()\n",
    "\n",
    "    def ping(self, t):\n",
    "        \"\"\"\n",
    "        :type t: int\n",
    "        :rtype: int\n",
    "        \"\"\"\n",
    "        self.queue.append(t)\n",
    "        while len(self.queue) != 0 and t - self.queue[0] > 3000:\n",
    "            self.queue.popleft()\n",
    "        return len(self.queue)\n",
    "\n",
    "\n",
    "# Your RecentCounter object will be instantiated and called as such:\n",
    "# obj = RecentCounter()\n",
    "# param_1 = obj.ping(t)"
   ]
  },
  {
   "cell_type": "markdown",
   "id": "59b05870",
   "metadata": {},
   "source": [
    "# Recap"
   ]
  },
  {
   "cell_type": "markdown",
   "id": "d76d6a2e",
   "metadata": {},
   "source": [
    "2.1 intuition\n",
    "\n",
    "As we need to consider the first elements, queue is the suitable data structure\n",
    "\n",
    "queue is characterized by __\"First in, First out\"__\n",
    "\n",
    "In programs, FIFO means __previous data is handled first__"
   ]
  }
 ],
 "metadata": {
  "kernelspec": {
   "display_name": "Python 3 (ipykernel)",
   "language": "python",
   "name": "python3"
  },
  "language_info": {
   "codemirror_mode": {
    "name": "ipython",
    "version": 3
   },
   "file_extension": ".py",
   "mimetype": "text/x-python",
   "name": "python",
   "nbconvert_exporter": "python",
   "pygments_lexer": "ipython3",
   "version": "3.9.7"
  },
  "toc": {
   "base_numbering": 1,
   "nav_menu": {},
   "number_sections": true,
   "sideBar": true,
   "skip_h1_title": false,
   "title_cell": "Table of Contents",
   "title_sidebar": "Contents",
   "toc_cell": false,
   "toc_position": {
    "height": "calc(100% - 180px)",
    "left": "10px",
    "top": "150px",
    "width": "178.59375px"
   },
   "toc_section_display": true,
   "toc_window_display": false
  }
 },
 "nbformat": 4,
 "nbformat_minor": 5
}
