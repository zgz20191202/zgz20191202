{
 "cells": [
  {
   "cell_type": "markdown",
   "id": "c33f539e",
   "metadata": {},
   "source": [
    "# Concepts for Trees"
   ]
  },
  {
   "cell_type": "markdown",
   "id": "8507c51b",
   "metadata": {},
   "source": [
    "## binary trees"
   ]
  },
  {
   "cell_type": "markdown",
   "id": "1d5ffa46",
   "metadata": {},
   "source": [
    "a data structure in which a record is linked to __two__ successor records __at most__"
   ]
  },
  {
   "cell_type": "markdown",
   "id": "dc727c51",
   "metadata": {},
   "source": [
    "## perfect/ full binary tree"
   ]
  },
  {
   "cell_type": "markdown",
   "id": "abd715b8",
   "metadata": {},
   "source": [
    "a binary tree in which every node has 2 successors __except for the leaves__"
   ]
  },
  {
   "cell_type": "markdown",
   "id": "56000bcb",
   "metadata": {},
   "source": [
    "## complete binary tree"
   ]
  },
  {
   "cell_type": "markdown",
   "id": "a26e6bec",
   "metadata": {},
   "source": [
    "a binary tree in which every level is full __except for the lowest one__, which is filled from __left to right__"
   ]
  },
  {
   "cell_type": "markdown",
   "id": "3ba71e5c",
   "metadata": {},
   "source": [
    "## iteration(traversal )"
   ]
  },
  {
   "cell_type": "markdown",
   "id": "d3052081",
   "metadata": {},
   "source": [
    "### preorder traversal"
   ]
  },
  {
   "cell_type": "markdown",
   "id": "73b7c692",
   "metadata": {},
   "source": [
    "for each sub tree, __root__ -> left -> right"
   ]
  },
  {
   "cell_type": "markdown",
   "id": "a20f974c",
   "metadata": {},
   "source": [
    "### inorder traversal"
   ]
  },
  {
   "cell_type": "markdown",
   "id": "c990f542",
   "metadata": {},
   "source": [
    "for each sub tree, left -> __root__ -> right"
   ]
  },
  {
   "cell_type": "markdown",
   "id": "b07751c8",
   "metadata": {},
   "source": [
    "### postorder traversal"
   ]
  },
  {
   "cell_type": "markdown",
   "id": "67379b4d",
   "metadata": {},
   "source": [
    "for each sub tree, left -> right -> __root__"
   ]
  },
  {
   "cell_type": "markdown",
   "id": "058db160",
   "metadata": {},
   "source": [
    "# Concepts for Heaps"
   ]
  },
  {
   "cell_type": "markdown",
   "id": "324e8d38",
   "metadata": {},
   "source": [
    "heaps is a special type of __complete binary trees__, in which every __parent__ node is __larger/ smaller__ than its __child__ nodes"
   ]
  },
  {
   "cell_type": "markdown",
   "id": "9ef3e07b",
   "metadata": {},
   "source": [
    "Therefore, \n",
    "\n",
    "the __root__ node for __max__ heap is the __largest__,\n",
    "\n",
    "the __root__ node for __min__ heap is the __smallest__"
   ]
  },
  {
   "cell_type": "markdown",
   "id": "705b1a09",
   "metadata": {},
   "source": [
    "## Basic Operations for Heaps"
   ]
  },
  {
   "cell_type": "code",
   "execution_count": 2,
   "id": "38bcacc4",
   "metadata": {},
   "outputs": [],
   "source": [
    "import heapq"
   ]
  },
  {
   "cell_type": "markdown",
   "id": "00e24138",
   "metadata": {},
   "source": [
    "###  create a heap"
   ]
  },
  {
   "cell_type": "code",
   "execution_count": 9,
   "id": "34fe3ba5",
   "metadata": {},
   "outputs": [],
   "source": [
    "minheap = []\n",
    "heapq.heapify(minheap)"
   ]
  },
  {
   "cell_type": "markdown",
   "id": "d6433c34",
   "metadata": {},
   "source": [
    "###  add element"
   ]
  },
  {
   "cell_type": "code",
   "execution_count": 10,
   "id": "61a76ff2",
   "metadata": {},
   "outputs": [],
   "source": [
    "# o(lgN)\n",
    "heapq.heappush(minheap, 10)\n",
    "heapq.heappush(minheap, 9)\n",
    "heapq.heappush(minheap, 8)\n",
    "heapq.heappush(minheap, 7)\n",
    "heapq.heappush(minheap, 6)"
   ]
  },
  {
   "cell_type": "code",
   "execution_count": 11,
   "id": "8332831f",
   "metadata": {},
   "outputs": [
    {
     "data": {
      "text/plain": [
       "[6, 7, 9, 10, 8]"
      ]
     },
     "execution_count": 11,
     "metadata": {},
     "output_type": "execute_result"
    }
   ],
   "source": [
    "minheap"
   ]
  },
  {
   "cell_type": "markdown",
   "id": "888450af",
   "metadata": {},
   "source": [
    "### access element"
   ]
  },
  {
   "cell_type": "code",
   "execution_count": 14,
   "id": "e0c89f7b",
   "metadata": {},
   "outputs": [
    {
     "data": {
      "text/plain": [
       "6"
      ]
     },
     "execution_count": 14,
     "metadata": {},
     "output_type": "execute_result"
    }
   ],
   "source": [
    "# O(1)\n",
    "minheap[0]"
   ]
  },
  {
   "cell_type": "markdown",
   "id": "ba97738a",
   "metadata": {},
   "source": [
    "### delete elements"
   ]
  },
  {
   "cell_type": "code",
   "execution_count": 16,
   "id": "cd187c5d",
   "metadata": {},
   "outputs": [
    {
     "data": {
      "text/plain": [
       "6"
      ]
     },
     "execution_count": 16,
     "metadata": {},
     "output_type": "execute_result"
    }
   ],
   "source": [
    "# O(lgN)\n",
    "heapq.heappop(minheap)"
   ]
  },
  {
   "cell_type": "code",
   "execution_count": 17,
   "id": "f6deb0ce",
   "metadata": {},
   "outputs": [
    {
     "data": {
      "text/plain": [
       "[7, 8, 9, 10]"
      ]
     },
     "execution_count": 17,
     "metadata": {},
     "output_type": "execute_result"
    }
   ],
   "source": [
    "minheap"
   ]
  },
  {
   "cell_type": "markdown",
   "id": "38aba813",
   "metadata": {},
   "source": [
    "### iteration"
   ]
  },
  {
   "cell_type": "code",
   "execution_count": 18,
   "id": "a91fe471",
   "metadata": {},
   "outputs": [
    {
     "name": "stdout",
     "output_type": "stream",
     "text": [
      "7\n",
      "---\n",
      "8\n",
      "---\n",
      "9\n",
      "---\n",
      "10\n",
      "---\n"
     ]
    }
   ],
   "source": [
    "while len(minheap):\n",
    "    print(heapq.heappop(minheap))\n",
    "    print(\"---\")"
   ]
  },
  {
   "cell_type": "markdown",
   "id": "533b2ed4",
   "metadata": {},
   "source": [
    "## Relevant Practices for Heaps"
   ]
  },
  {
   "cell_type": "markdown",
   "id": "d584ab43",
   "metadata": {},
   "source": [
    "### Leetcode 215"
   ]
  },
  {
   "cell_type": "markdown",
   "id": "7a8f3b8b",
   "metadata": {},
   "source": [
    "https://leetcode-cn.com/problems/kth-largest-element-in-an-array/\n",
    "\n",
    "Given an integer array nums and an integer k, return the kth largest element in the array.\n",
    "\n",
    "Note that it is the kth largest element in the sorted order, not the kth distinct element.\n",
    "\n",
    "__My Solutions:__"
   ]
  },
  {
   "cell_type": "code",
   "execution_count": null,
   "id": "07ac6c85",
   "metadata": {},
   "outputs": [],
   "source": [
    "# method 1\n",
    "# O(NlgN)"
   ]
  },
  {
   "cell_type": "code",
   "execution_count": 35,
   "id": "0d86441c",
   "metadata": {},
   "outputs": [],
   "source": [
    "import heapq\n",
    "class Solution(object):\n",
    "    def findKthLargest(self, nums, k):\n",
    "        \"\"\"\n",
    "        :type nums: List[int]\n",
    "        :type k: int\n",
    "        :rtype: int\n",
    "        \"\"\"\n",
    "        nums.sort()\n",
    "        return nums[-k]"
   ]
  },
  {
   "cell_type": "code",
   "execution_count": null,
   "id": "d94ec955",
   "metadata": {},
   "outputs": [],
   "source": [
    "# method 2\n",
    "# O(NlgN)"
   ]
  },
  {
   "cell_type": "code",
   "execution_count": 117,
   "id": "ba3cfa33",
   "metadata": {},
   "outputs": [],
   "source": [
    "import heapq\n",
    "class Solution(object):\n",
    "    def findKthLargest(self, nums, k):\n",
    "        \"\"\"\n",
    "        :type nums: List[int]\n",
    "        :type k: int\n",
    "        :rtype: int\n",
    "        \"\"\"\n",
    "        nums_trans = [-x for x in nums]\n",
    "        heapq.heapify(nums_trans)\n",
    "        for i in range(0, k-1):\n",
    "            heapq.heappop(nums_trans)\n",
    "        return -nums_trans[0]\n"
   ]
  },
  {
   "cell_type": "markdown",
   "id": "3f36a379",
   "metadata": {},
   "source": [
    "## leetcode 692"
   ]
  },
  {
   "cell_type": "markdown",
   "id": "8f610109",
   "metadata": {},
   "source": [
    "https://leetcode-cn.com/problems/top-k-frequent-words/\n",
    "\n",
    "Given an array of strings words and an integer k, return the k most frequent strings.\n",
    "\n",
    "Return the answer sorted by the frequency from highest to lowest. Sort the words with the same frequency by their lexicographical order.\n",
    "\n",
    "__My Solutions:__"
   ]
  },
  {
   "cell_type": "code",
   "execution_count": null,
   "id": "fc10a328",
   "metadata": {},
   "outputs": [],
   "source": [
    "import collections\n",
    "\n",
    "\n",
    "class Solution(object):\n",
    "    def topKFrequent(self, words, k):\n",
    "        \"\"\"\n",
    "        :type words: List[str]\n",
    "        :type k: int\n",
    "        :rtype: List[str]\n",
    "        \"\"\"\n",
    "        result = []\n",
    "        count_dict = {}\n",
    "        words.sort()\n",
    "        for w in words:\n",
    "            if w not in count_dict.keys():\n",
    "                count_dict[w] = 1\n",
    "            else:\n",
    "                count_dict[w] += 1\n",
    "        sorted_count_dict = sorted(\n",
    "            count_dict.items(), key=lambda x: (-x[1], x[0]))\n",
    "        for i in range(k):\n",
    "            result.append(sorted_count_dict[i][0])\n",
    "        return result"
   ]
  },
  {
   "cell_type": "code",
   "execution_count": null,
   "id": "74b89356",
   "metadata": {},
   "outputs": [],
   "source": [
    "# improved method"
   ]
  },
  {
   "cell_type": "code",
   "execution_count": null,
   "id": "f5e2bc00",
   "metadata": {},
   "outputs": [],
   "source": [
    "import collections\n",
    "\n",
    "\n",
    "class Solution(object):\n",
    "    def topKFrequent(self, words, k):\n",
    "        \"\"\"\n",
    "        :type words: List[str]\n",
    "        :type k: int\n",
    "        :rtype: List[str]\n",
    "        \"\"\"\n",
    "        count = collections.Counter(words)\n",
    "        return sorted(count, key=lambda x: (-(count[x]), x))[:k]"
   ]
  },
  {
   "cell_type": "markdown",
   "id": "59b05870",
   "metadata": {},
   "source": [
    "# Recap"
   ]
  },
  {
   "cell_type": "markdown",
   "id": "0d2c653e",
   "metadata": {},
   "source": [
    "heap is considered when finding the __top N largest or smallest__ elements"
   ]
  },
  {
   "cell_type": "markdown",
   "id": "d971736d",
   "metadata": {},
   "source": [
    "## Leetcode 692"
   ]
  },
  {
   "cell_type": "markdown",
   "id": "4efaa10d",
   "metadata": {},
   "source": [
    "### get(key, default)"
   ]
  },
  {
   "cell_type": "markdown",
   "id": "1f1821f5",
   "metadata": {},
   "source": [
    "about dictionaries, it is okay to get a key and set default value \n",
    "\n",
    "dic.get(key, __default__)"
   ]
  },
  {
   "cell_type": "code",
   "execution_count": 24,
   "id": "4142d779",
   "metadata": {},
   "outputs": [],
   "source": [
    "a={\"a\":1,\"b\":2}"
   ]
  },
  {
   "cell_type": "code",
   "execution_count": 26,
   "id": "efc4d309",
   "metadata": {
    "scrolled": true
   },
   "outputs": [
    {
     "name": "stdout",
     "output_type": "stream",
     "text": [
      "21\n"
     ]
    }
   ],
   "source": [
    "print(a.get(\"c\", 21))"
   ]
  },
  {
   "cell_type": "code",
   "execution_count": null,
   "id": "160bb6ad",
   "metadata": {},
   "outputs": [],
   "source": [
    "# with get key with default the coding constructing the dictionary can be written like this"
   ]
  },
  {
   "cell_type": "code",
   "execution_count": null,
   "id": "595989c2",
   "metadata": {},
   "outputs": [],
   "source": [
    "for w in words:\n",
    "       if w not in count_dict.keys():\n",
    "            count_dict[w] = 1\n",
    "        else:\n",
    "            count_dict[w] += 1"
   ]
  },
  {
   "cell_type": "code",
   "execution_count": null,
   "id": "ecade280",
   "metadata": {},
   "outputs": [],
   "source": [
    "for w in words:\n",
    "    count_dict[w] = count_dict.get(w, 0) + 1"
   ]
  },
  {
   "cell_type": "markdown",
   "id": "8899bafd",
   "metadata": {},
   "source": [
    "### collections.Counter"
   ]
  },
  {
   "cell_type": "markdown",
   "id": "4cfbe4a9",
   "metadata": {},
   "source": [
    "use __collections.Counter__(container) to get a __dictionary(k=element, v=frequency)__"
   ]
  },
  {
   "cell_type": "code",
   "execution_count": 32,
   "id": "b22d81c6",
   "metadata": {},
   "outputs": [],
   "source": [
    "words = [\"plpaboutit\", \"jnoqzdute\", \"sfvkdqf\", \"mjc\", \"nkpllqzjzp\", \"foqqenbey\", \"ssnanizsav\", \"nkpllqzjzp\", \"sfvkdqf\",\n",
    "         \"isnjmy\", \"pnqsz\", \"hhqpvvt\", \"fvvdtpnzx\", \"jkqonvenhx\", \"cyxwlef\", \"hhqpvvt\", \"fvvdtpnzx\", \"plpaboutit\",\n",
    "         \"sfvkdqf\", \"mjc\", \"fvvdtpnzx\", \"bwumsj\", \"foqqenbey\", \"isnjmy\", \"nkpllqzjzp\", \"hhqpvvt\", \"foqqenbey\", \"fvvdtpnzx\",\n",
    "         \"bwumsj\", \"hhqpvvt\", \"fvvdtpnzx\", \"jkqonvenhx\", \"jnoqzdute\", \"foqqenbey\", \"jnoqzdute\", \"foqqenbey\", \"hhqpvvt\",\n",
    "         \"ssnanizsav\", \"mjc\", \"foqqenbey\", \"bwumsj\", \"ssnanizsav\", \"fvvdtpnzx\", \"nkpllqzjzp\", \"jkqonvenhx\", \"hhqpvvt\",\n",
    "         \"mjc\", \"isnjmy\", \"bwumsj\", \"pnqsz\", \"hhqpvvt\", \"nkpllqzjzp\", \"jnoqzdute\", \"pnqsz\", \"nkpllqzjzp\", \"jnoqzdute\",\n",
    "         \"foqqenbey\", \"nkpllqzjzp\", \"hhqpvvt\", \"fvvdtpnzx\", \"plpaboutit\", \"jnoqzdute\", \"sfvkdqf\", \"fvvdtpnzx\", \"jkqonvenhx\",\n",
    "         \"jnoqzdute\", \"nkpllqzjzp\", \"jnoqzdute\", \"fvvdtpnzx\", \"jkqonvenhx\", \"hhqpvvt\", \"isnjmy\", \"jkqonvenhx\", \"ssnanizsav\",\n",
    "         \"jnoqzdute\", \"jkqonvenhx\", \"fvvdtpnzx\", \"hhqpvvt\", \"bwumsj\", \"nkpllqzjzp\", \"bwumsj\", \"jkqonvenhx\", \"jnoqzdute\",\n",
    "         \"pnqsz\", \"foqqenbey\", \"sfvkdqf\", \"sfvkdqf\"]"
   ]
  },
  {
   "cell_type": "code",
   "execution_count": 33,
   "id": "f702893c",
   "metadata": {},
   "outputs": [
    {
     "name": "stdout",
     "output_type": "stream",
     "text": [
      "type(count) <class 'collections.Counter'>\n"
     ]
    }
   ],
   "source": [
    "import collections\n",
    "count = collections.Counter(words)\n",
    "print(\"type(count)\", type(count))"
   ]
  },
  {
   "cell_type": "code",
   "execution_count": 35,
   "id": "e08bd43d",
   "metadata": {},
   "outputs": [
    {
     "data": {
      "text/plain": [
       "Counter({'plpaboutit': 3,\n",
       "         'jnoqzdute': 10,\n",
       "         'sfvkdqf': 6,\n",
       "         'mjc': 4,\n",
       "         'nkpllqzjzp': 9,\n",
       "         'foqqenbey': 8,\n",
       "         'ssnanizsav': 4,\n",
       "         'isnjmy': 4,\n",
       "         'pnqsz': 4,\n",
       "         'hhqpvvt': 10,\n",
       "         'fvvdtpnzx': 10,\n",
       "         'jkqonvenhx': 8,\n",
       "         'cyxwlef': 1,\n",
       "         'bwumsj': 6})"
      ]
     },
     "execution_count": 35,
     "metadata": {},
     "output_type": "execute_result"
    }
   ],
   "source": [
    "count"
   ]
  },
  {
   "cell_type": "code",
   "execution_count": 37,
   "id": "3e2a9492",
   "metadata": {},
   "outputs": [
    {
     "name": "stdout",
     "output_type": "stream",
     "text": [
      "plpaboutit\n",
      "jnoqzdute\n",
      "sfvkdqf\n",
      "mjc\n",
      "nkpllqzjzp\n",
      "foqqenbey\n",
      "ssnanizsav\n",
      "isnjmy\n",
      "pnqsz\n",
      "hhqpvvt\n",
      "fvvdtpnzx\n",
      "jkqonvenhx\n",
      "cyxwlef\n",
      "bwumsj\n"
     ]
    }
   ],
   "source": [
    "for x in count:\n",
    "    print(x)"
   ]
  },
  {
   "cell_type": "markdown",
   "id": "cd89af59",
   "metadata": {},
   "source": [
    "### sort an iterable"
   ]
  },
  {
   "cell_type": "markdown",
   "id": "5580ab76",
   "metadata": {},
   "source": [
    "use `sorted(iterable, key=lamda x: (x[0], x[1]), reverse=True)` to sort iterable based on rule(key)"
   ]
  },
  {
   "cell_type": "code",
   "execution_count": 38,
   "id": "9f9469d8",
   "metadata": {},
   "outputs": [
    {
     "data": {
      "text/plain": [
       "['cyxwlef',\n",
       " 'plpaboutit',\n",
       " 'isnjmy',\n",
       " 'mjc',\n",
       " 'pnqsz',\n",
       " 'ssnanizsav',\n",
       " 'bwumsj',\n",
       " 'sfvkdqf',\n",
       " 'foqqenbey',\n",
       " 'jkqonvenhx',\n",
       " 'nkpllqzjzp',\n",
       " 'fvvdtpnzx',\n",
       " 'hhqpvvt',\n",
       " 'jnoqzdute']"
      ]
     },
     "execution_count": 38,
     "metadata": {},
     "output_type": "execute_result"
    }
   ],
   "source": [
    "# as count is a dictionary, so the input for lambda function is the dict_key\n",
    "sorted(count, key=lambda x: (count[x], x))"
   ]
  },
  {
   "cell_type": "code",
   "execution_count": 40,
   "id": "001754af",
   "metadata": {},
   "outputs": [
    {
     "data": {
      "text/plain": [
       "[('fvvdtpnzx', 10),\n",
       " ('hhqpvvt', 10),\n",
       " ('jnoqzdute', 10),\n",
       " ('nkpllqzjzp', 9),\n",
       " ('foqqenbey', 8),\n",
       " ('jkqonvenhx', 8),\n",
       " ('bwumsj', 6),\n",
       " ('sfvkdqf', 6),\n",
       " ('isnjmy', 4),\n",
       " ('mjc', 4),\n",
       " ('pnqsz', 4),\n",
       " ('ssnanizsav', 4),\n",
       " ('plpaboutit', 3),\n",
       " ('cyxwlef', 1)]"
      ]
     },
     "execution_count": 40,
     "metadata": {},
     "output_type": "execute_result"
    }
   ],
   "source": [
    "# as the count.items are tuple, so the input for lambda function is tuple\n",
    "sorted(count.items(), key=lambda x: (-x[1], x[0]))"
   ]
  }
 ],
 "metadata": {
  "kernelspec": {
   "display_name": "Python 3 (ipykernel)",
   "language": "python",
   "name": "python3"
  },
  "language_info": {
   "codemirror_mode": {
    "name": "ipython",
    "version": 3
   },
   "file_extension": ".py",
   "mimetype": "text/x-python",
   "name": "python",
   "nbconvert_exporter": "python",
   "pygments_lexer": "ipython3",
   "version": "3.9.7"
  },
  "toc": {
   "base_numbering": 1,
   "nav_menu": {},
   "number_sections": true,
   "sideBar": true,
   "skip_h1_title": false,
   "title_cell": "Table of Contents",
   "title_sidebar": "Contents",
   "toc_cell": false,
   "toc_position": {
    "height": "calc(100% - 180px)",
    "left": "10px",
    "top": "150px",
    "width": "287.59375px"
   },
   "toc_section_display": true,
   "toc_window_display": true
  }
 },
 "nbformat": 4,
 "nbformat_minor": 5
}
