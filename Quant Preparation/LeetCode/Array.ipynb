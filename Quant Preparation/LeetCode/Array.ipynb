{
 "cells": [
  {
   "cell_type": "markdown",
   "id": "c33f539e",
   "metadata": {},
   "source": [
    "# basic operations"
   ]
  },
  {
   "cell_type": "markdown",
   "id": "8507c51b",
   "metadata": {},
   "source": [
    "## creat new arrays"
   ]
  },
  {
   "cell_type": "code",
   "execution_count": 6,
   "id": "cdbe3581",
   "metadata": {},
   "outputs": [],
   "source": [
    "a=[]"
   ]
  },
  {
   "cell_type": "code",
   "execution_count": 3,
   "id": "9660b543",
   "metadata": {},
   "outputs": [],
   "source": [
    "## add elements"
   ]
  },
  {
   "cell_type": "code",
   "execution_count": 7,
   "id": "8aef519f",
   "metadata": {},
   "outputs": [
    {
     "data": {
      "text/plain": [
       "['s']"
      ]
     },
     "execution_count": 7,
     "metadata": {},
     "output_type": "execute_result"
    }
   ],
   "source": [
    "# from behind\n",
    "# O(1) or O(N)\n",
    "a.append(\"s\")\n",
    "a"
   ]
  },
  {
   "cell_type": "code",
   "execution_count": 8,
   "id": "5d312617",
   "metadata": {},
   "outputs": [
    {
     "data": {
      "text/plain": [
       "['a', 's']"
      ]
     },
     "execution_count": 8,
     "metadata": {},
     "output_type": "execute_result"
    }
   ],
   "source": [
    "# from any position\n",
    "# O(N)\n",
    "a.insert(0,\"a\")\n",
    "a"
   ]
  },
  {
   "cell_type": "markdown",
   "id": "abb531f4",
   "metadata": {},
   "source": [
    "## access elements"
   ]
  },
  {
   "cell_type": "code",
   "execution_count": 9,
   "id": "656fdd4d",
   "metadata": {},
   "outputs": [
    {
     "data": {
      "text/plain": [
       "'s'"
      ]
     },
     "execution_count": 9,
     "metadata": {},
     "output_type": "execute_result"
    }
   ],
   "source": [
    "# O(1)\n",
    "a[1]"
   ]
  },
  {
   "cell_type": "markdown",
   "id": "56000bcb",
   "metadata": {},
   "source": [
    "## update elements"
   ]
  },
  {
   "cell_type": "code",
   "execution_count": 12,
   "id": "9a1715e9",
   "metadata": {},
   "outputs": [
    {
     "data": {
      "text/plain": [
       "['a', 't']"
      ]
     },
     "execution_count": 12,
     "metadata": {},
     "output_type": "execute_result"
    }
   ],
   "source": [
    "# O(1)\n",
    "a[1]=\"t\"\n",
    "a"
   ]
  },
  {
   "cell_type": "markdown",
   "id": "d472fd8c",
   "metadata": {},
   "source": [
    "## remove elements"
   ]
  },
  {
   "cell_type": "code",
   "execution_count": 13,
   "id": "01e70db0",
   "metadata": {},
   "outputs": [
    {
     "data": {
      "text/plain": [
       "['t']"
      ]
     },
     "execution_count": 13,
     "metadata": {},
     "output_type": "execute_result"
    }
   ],
   "source": [
    "# O(N)\n",
    "a.remove(\"a\")\n",
    "a"
   ]
  },
  {
   "cell_type": "code",
   "execution_count": 14,
   "id": "ae2aa9e6",
   "metadata": {},
   "outputs": [
    {
     "data": {
      "text/plain": [
       "[]"
      ]
     },
     "execution_count": 14,
     "metadata": {},
     "output_type": "execute_result"
    }
   ],
   "source": [
    "# O(1)\n",
    "a.pop()\n",
    "a"
   ]
  },
  {
   "cell_type": "code",
   "execution_count": 15,
   "id": "bd0aa8cf",
   "metadata": {},
   "outputs": [],
   "source": [
    "a=[1,2,3,4,5,6]"
   ]
  },
  {
   "cell_type": "code",
   "execution_count": 16,
   "id": "68cf7fe0",
   "metadata": {},
   "outputs": [
    {
     "data": {
      "text/plain": [
       "[1, 2, 4, 5, 6]"
      ]
     },
     "execution_count": 16,
     "metadata": {},
     "output_type": "execute_result"
    }
   ],
   "source": [
    "# O(N)\n",
    "a.pop(2)\n",
    "a"
   ]
  },
  {
   "cell_type": "markdown",
   "id": "3ba71e5c",
   "metadata": {},
   "source": [
    "## iteratation"
   ]
  },
  {
   "cell_type": "code",
   "execution_count": null,
   "id": "a20c91af",
   "metadata": {},
   "outputs": [],
   "source": [
    "# O(N)"
   ]
  },
  {
   "cell_type": "code",
   "execution_count": 18,
   "id": "9c1237d9",
   "metadata": {},
   "outputs": [
    {
     "name": "stdout",
     "output_type": "stream",
     "text": [
      "1\n",
      "2\n",
      "4\n",
      "5\n",
      "6\n"
     ]
    }
   ],
   "source": [
    "# when index is not needed\n",
    "for x in a:\n",
    "    print(x)"
   ]
  },
  {
   "cell_type": "code",
   "execution_count": 21,
   "id": "f3a7c7e1",
   "metadata": {
    "scrolled": true
   },
   "outputs": [
    {
     "name": "stdout",
     "output_type": "stream",
     "text": [
      "index: 0\n",
      "values 1\n",
      "---------\n",
      "index: 1\n",
      "values 2\n",
      "---------\n",
      "index: 2\n",
      "values 4\n",
      "---------\n",
      "index: 3\n",
      "values 5\n",
      "---------\n",
      "index: 4\n",
      "values 6\n",
      "---------\n"
     ]
    }
   ],
   "source": [
    "# when both index and value are needed \n",
    "for i, v in enumerate(a):\n",
    "    print(\"index:\",i)\n",
    "    print(\"values\",v)\n",
    "    print(\"---------\")"
   ]
  },
  {
   "cell_type": "code",
   "execution_count": 22,
   "id": "5463ad0d",
   "metadata": {
    "scrolled": false
   },
   "outputs": [
    {
     "name": "stdout",
     "output_type": "stream",
     "text": [
      "1\n",
      "2\n",
      "4\n",
      "5\n",
      "6\n"
     ]
    }
   ],
   "source": [
    "for i in range(len(a)):\n",
    "    print(a[i])"
   ]
  },
  {
   "cell_type": "markdown",
   "id": "18e8eef1",
   "metadata": {},
   "source": [
    "## sort"
   ]
  },
  {
   "cell_type": "code",
   "execution_count": null,
   "id": "e5e4e97f",
   "metadata": {},
   "outputs": [],
   "source": [
    "# O(NlogN)"
   ]
  },
  {
   "cell_type": "code",
   "execution_count": 24,
   "id": "1cc4fbb6",
   "metadata": {},
   "outputs": [],
   "source": [
    "a=[5,4,3,2,1]"
   ]
  },
  {
   "cell_type": "code",
   "execution_count": 29,
   "id": "4edfaf67",
   "metadata": {},
   "outputs": [
    {
     "data": {
      "text/plain": [
       "[1, 2, 4, 5, 6]"
      ]
     },
     "execution_count": 29,
     "metadata": {},
     "output_type": "execute_result"
    }
   ],
   "source": [
    "# sort will directly change the original array\n",
    "a.sort()\n",
    "a"
   ]
  },
  {
   "cell_type": "markdown",
   "id": "058db160",
   "metadata": {},
   "source": [
    "# relevent practice"
   ]
  },
  {
   "cell_type": "markdown",
   "id": "705b1a09",
   "metadata": {},
   "source": [
    "## leetcode 485"
   ]
  },
  {
   "cell_type": "markdown",
   "id": "8fd55f75",
   "metadata": {},
   "source": [
    "https://leetcode-cn.com/problems/max-consecutive-ones/\n",
    "\n",
    "Given a binary array nums, return the maximum number of consecutive 1's in the array.\n",
    "\n",
    "__My Solutions:__"
   ]
  },
  {
   "cell_type": "code",
   "execution_count": null,
   "id": "34fe3ba5",
   "metadata": {},
   "outputs": [],
   "source": [
    "class Solution(object):\n",
    "    def findMaxConsecutiveOnes(self, nums):\n",
    "        \"\"\"\n",
    "        :type nums: List[int]\n",
    "        :rtype: int\n",
    "        \"\"\"\n",
    "        result = 0\n",
    "        count = 0\n",
    "        for x in nums:\n",
    "            if x == 1:\n",
    "                count += 1\n",
    "            else:\n",
    "                # if count > max:\n",
    "                # max = count\n",
    "                result = max(count, result)\n",
    "                count = 0\n",
    "        return max(count, result)"
   ]
  },
  {
   "cell_type": "markdown",
   "id": "533b2ed4",
   "metadata": {},
   "source": [
    "## leetcode 283"
   ]
  },
  {
   "cell_type": "markdown",
   "id": "7a8f3b8b",
   "metadata": {},
   "source": [
    "https://leetcode-cn.com/problems/move-zeroes/\n",
    "\n",
    "Given an integer array nums, move all 0's to the end of it while maintaining the relative order of the non-zero elements.\n",
    "\n",
    "__My Solutions:__"
   ]
  },
  {
   "cell_type": "code",
   "execution_count": 35,
   "id": "0d86441c",
   "metadata": {},
   "outputs": [],
   "source": [
    "class Solution(object):\n",
    "    def moveZeroes(self, nums):\n",
    "        \"\"\"\n",
    "        :type nums: List[int]\n",
    "        :rtype: None Do not return anything, modify nums in-place instead.\n",
    "        \"\"\"\n",
    "        index = 0\n",
    "        for x in nums:\n",
    "            if x != 0:\n",
    "                nums[index] = x\n",
    "                index += 1\n",
    "        for i in range(index, len(nums)):\n",
    "            nums[i] = 0"
   ]
  },
  {
   "cell_type": "markdown",
   "id": "3f36a379",
   "metadata": {},
   "source": [
    "## leetcode 27"
   ]
  },
  {
   "cell_type": "markdown",
   "id": "8f610109",
   "metadata": {},
   "source": [
    "https://leetcode-cn.com/problems/remove-element/\n",
    "\n",
    "Given an integer array nums and an integer val, remove all occurrences of val in nums in-place. The relative order of the elements may be changed.\n",
    "\n",
    "__My Solutions:__"
   ]
  },
  {
   "cell_type": "code",
   "execution_count": null,
   "id": "fc10a328",
   "metadata": {},
   "outputs": [],
   "source": [
    "# method1:\n",
    "class Solution(object):\n",
    "    def removeElement(self, nums, val):\n",
    "        \"\"\"\n",
    "        :type nums: List[int]\n",
    "        :type val: int\n",
    "        :rtype: int\n",
    "        \"\"\"\n",
    "        while val in nums:\n",
    "            nums.remove(val)\n",
    "        return len(nums)"
   ]
  },
  {
   "cell_type": "code",
   "execution_count": null,
   "id": "21747b29",
   "metadata": {},
   "outputs": [],
   "source": [
    "# method2:\n",
    "class Solution(object):\n",
    "    def removeElement(self, nums, val):\n",
    "        \"\"\"\n",
    "        :type nums: List[int]\n",
    "        :type val: int\n",
    "        :rtype: int\n",
    "        \"\"\"\n",
    "        index = 0\n",
    "        for x in nums:\n",
    "            if x != val:\n",
    "                nums[index] = x\n",
    "                index += 1\n",
    "        return index"
   ]
  },
  {
   "cell_type": "code",
   "execution_count": null,
   "id": "ccff1845",
   "metadata": {},
   "outputs": [],
   "source": [
    "# method3:\n",
    "class Solution(object):\n",
    "    def removeElement(self, nums, val):\n",
    "        \"\"\"\n",
    "        :type nums: List[int]\n",
    "        :type val: int\n",
    "        :rtype: int\n",
    "        \"\"\"\n",
    "        if len(nums) == 0:\n",
    "            return 0\n",
    "        left = 0\n",
    "        right = len(nums) - 1\n",
    "        while left < right:\n",
    "            while left < right and nums[left] != val:\n",
    "                left += 1\n",
    "            while left < right and nums[right] == val:\n",
    "                right -= 1\n",
    "            nums[left], nums[right] = nums[right], nums[left]\n",
    "        if nums[left] == val:\n",
    "            return left\n",
    "        else:\n",
    "            return left + 1"
   ]
  },
  {
   "cell_type": "markdown",
   "id": "59b05870",
   "metadata": {},
   "source": [
    "# Recap"
   ]
  },
  {
   "cell_type": "markdown",
   "id": "d76d6a2e",
   "metadata": {},
   "source": [
    "2.3 remove and iteration\n",
    "\n",
    "be cautious when using __remove and for__\n",
    "\n",
    "safer way to remove and iteration is __while__"
   ]
  },
  {
   "cell_type": "code",
   "execution_count": 37,
   "id": "7ceb06cd",
   "metadata": {},
   "outputs": [
    {
     "name": "stdout",
     "output_type": "stream",
     "text": [
      "[2, 4]\n"
     ]
    }
   ],
   "source": [
    "a=[1,2,3,4,5]\n",
    "for x in a:\n",
    "    a.remove(x)\n",
    "# not []\n",
    "print(a)"
   ]
  }
 ],
 "metadata": {
  "kernelspec": {
   "display_name": "Python 3 (ipykernel)",
   "language": "python",
   "name": "python3"
  },
  "language_info": {
   "codemirror_mode": {
    "name": "ipython",
    "version": 3
   },
   "file_extension": ".py",
   "mimetype": "text/x-python",
   "name": "python",
   "nbconvert_exporter": "python",
   "pygments_lexer": "ipython3",
   "version": "3.9.7"
  },
  "toc": {
   "base_numbering": 1,
   "nav_menu": {},
   "number_sections": true,
   "sideBar": true,
   "skip_h1_title": false,
   "title_cell": "Table of Contents",
   "title_sidebar": "Contents",
   "toc_cell": false,
   "toc_position": {
    "height": "calc(100% - 180px)",
    "left": "10px",
    "top": "150px",
    "width": "178.59375px"
   },
   "toc_section_display": true,
   "toc_window_display": true
  }
 },
 "nbformat": 4,
 "nbformat_minor": 5
}
