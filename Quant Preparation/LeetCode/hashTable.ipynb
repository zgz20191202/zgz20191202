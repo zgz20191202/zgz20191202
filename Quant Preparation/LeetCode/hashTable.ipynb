{
 "cells": [
  {
   "cell_type": "markdown",
   "id": "c33f539e",
   "metadata": {},
   "source": [
    "# basic operations"
   ]
  },
  {
   "cell_type": "markdown",
   "id": "8507c51b",
   "metadata": {},
   "source": [
    "## creat new hashtables"
   ]
  },
  {
   "cell_type": "code",
   "execution_count": 1,
   "id": "cdbe3581",
   "metadata": {},
   "outputs": [
    {
     "data": {
      "text/plain": [
       "['', '', '', '']"
      ]
     },
     "execution_count": 1,
     "metadata": {},
     "output_type": "execute_result"
    }
   ],
   "source": [
    "# creat hashTable by array\n",
    "hashTable=[''] * 4\n",
    "hashTable"
   ]
  },
  {
   "cell_type": "code",
   "execution_count": 17,
   "id": "e73871ce",
   "metadata": {},
   "outputs": [
    {
     "data": {
      "text/plain": [
       "{}"
      ]
     },
     "execution_count": 17,
     "metadata": {},
     "output_type": "execute_result"
    }
   ],
   "source": [
    "# create hashTable by Dictionary\n",
    "mapping = {}\n",
    "mapping"
   ]
  },
  {
   "cell_type": "markdown",
   "id": "dc727c51",
   "metadata": {},
   "source": [
    "## add elements"
   ]
  },
  {
   "cell_type": "code",
   "execution_count": null,
   "id": "a0daf1b5",
   "metadata": {},
   "outputs": [],
   "source": [
    "# O(1)"
   ]
  },
  {
   "cell_type": "code",
   "execution_count": 6,
   "id": "8aef519f",
   "metadata": {},
   "outputs": [
    {
     "data": {
      "text/plain": [
       "['array1', 'array2', 'array3', 'array4']"
      ]
     },
     "execution_count": 6,
     "metadata": {},
     "output_type": "execute_result"
    }
   ],
   "source": [
    "# for arrays\n",
    "hashTable[0] = \"array1\"\n",
    "hashTable[1] = \"array2\"\n",
    "hashTable[2] = \"array3\"\n",
    "hashTable[3] = \"array4\"\n",
    "hashTable"
   ]
  },
  {
   "cell_type": "code",
   "execution_count": 19,
   "id": "5d312617",
   "metadata": {},
   "outputs": [
    {
     "data": {
      "text/plain": [
       "{'a': 'array1', 'b': 'array2', 'c': 'array3', 'd': 'array4'}"
      ]
     },
     "execution_count": 19,
     "metadata": {},
     "output_type": "execute_result"
    }
   ],
   "source": [
    "# for dictionaries\n",
    "# create keys automatically\n",
    "mapping[\"a\"] = \"array1\"\n",
    "mapping[\"b\"] = \"array2\"\n",
    "mapping[\"c\"] = \"array3\"\n",
    "mapping[\"d\"] = \"array4\"\n",
    "mapping"
   ]
  },
  {
   "cell_type": "markdown",
   "id": "56000bcb",
   "metadata": {},
   "source": [
    "## update elements"
   ]
  },
  {
   "cell_type": "code",
   "execution_count": 21,
   "id": "9a1715e9",
   "metadata": {},
   "outputs": [],
   "source": [
    "# O(1)\n",
    "hashTable[1] = \"update1\"\n",
    "mapping[\"b\"] = \"update2\""
   ]
  },
  {
   "cell_type": "code",
   "execution_count": 22,
   "id": "2821d712",
   "metadata": {},
   "outputs": [
    {
     "name": "stdout",
     "output_type": "stream",
     "text": [
      "hashTable ['array1', 'update1', 'array3', 'array4']\n",
      "mapping {'a': 'array1', 'b': 'update2', 'c': 'array3', 'd': 'array4'}\n"
     ]
    }
   ],
   "source": [
    "print(\"hashTable\", hashTable)\n",
    "print(\"mapping\", mapping)"
   ]
  },
  {
   "cell_type": "markdown",
   "id": "d472fd8c",
   "metadata": {},
   "source": [
    "## remove elements"
   ]
  },
  {
   "cell_type": "code",
   "execution_count": null,
   "id": "a7facd17",
   "metadata": {},
   "outputs": [],
   "source": [
    "# method 1: hashTable.pop(key)\n",
    "\n",
    "# method 2: del hashTable[key]"
   ]
  },
  {
   "cell_type": "code",
   "execution_count": 28,
   "id": "01e70db0",
   "metadata": {},
   "outputs": [
    {
     "data": {
      "text/plain": [
       "['', 'array3', 'array4']"
      ]
     },
     "execution_count": 28,
     "metadata": {},
     "output_type": "execute_result"
    }
   ],
   "source": [
    "# O(1)\n",
    "hashTable"
   ]
  },
  {
   "cell_type": "code",
   "execution_count": 29,
   "id": "8c9dd9d0",
   "metadata": {},
   "outputs": [
    {
     "data": {
      "text/plain": [
       "['', 'array4']"
      ]
     },
     "execution_count": 29,
     "metadata": {},
     "output_type": "execute_result"
    }
   ],
   "source": [
    "# for arrays\n",
    "hashTable.pop(1)\n",
    "hashTable"
   ]
  },
  {
   "cell_type": "code",
   "execution_count": 30,
   "id": "ae2aa9e6",
   "metadata": {},
   "outputs": [
    {
     "data": {
      "text/plain": [
       "{'a': 'array1', 'b': 'update2', 'c': 'array3', 'd': 'array4'}"
      ]
     },
     "execution_count": 30,
     "metadata": {},
     "output_type": "execute_result"
    }
   ],
   "source": [
    "mapping"
   ]
  },
  {
   "cell_type": "code",
   "execution_count": 33,
   "id": "c4beadb9",
   "metadata": {},
   "outputs": [
    {
     "data": {
      "text/plain": [
       "['']"
      ]
     },
     "execution_count": 33,
     "metadata": {},
     "output_type": "execute_result"
    }
   ],
   "source": [
    "del hashTable[1]\n",
    "hashTable"
   ]
  },
  {
   "cell_type": "code",
   "execution_count": 34,
   "id": "b819a972",
   "metadata": {
    "scrolled": true
   },
   "outputs": [
    {
     "data": {
      "text/plain": [
       "{'a': 'array1', 'c': 'array3', 'd': 'array4'}"
      ]
     },
     "execution_count": 34,
     "metadata": {},
     "output_type": "execute_result"
    }
   ],
   "source": [
    "mapping"
   ]
  },
  {
   "cell_type": "code",
   "execution_count": 31,
   "id": "e58e4f49",
   "metadata": {},
   "outputs": [
    {
     "data": {
      "text/plain": [
       "{'a': 'array1', 'c': 'array3', 'd': 'array4'}"
      ]
     },
     "execution_count": 31,
     "metadata": {},
     "output_type": "execute_result"
    }
   ],
   "source": [
    "# for dictionaries\n",
    "mapping.pop(\"b\")\n",
    "mapping"
   ]
  },
  {
   "cell_type": "code",
   "execution_count": 32,
   "id": "85d764a2",
   "metadata": {},
   "outputs": [
    {
     "data": {
      "text/plain": [
       "['', 'array4']"
      ]
     },
     "execution_count": 32,
     "metadata": {},
     "output_type": "execute_result"
    }
   ],
   "source": [
    "hashTable"
   ]
  },
  {
   "cell_type": "code",
   "execution_count": 36,
   "id": "f9bcf6b5",
   "metadata": {},
   "outputs": [
    {
     "data": {
      "text/plain": [
       "{'a': 'array1', 'd': 'array4'}"
      ]
     },
     "execution_count": 36,
     "metadata": {},
     "output_type": "execute_result"
    }
   ],
   "source": [
    "del mapping[\"c\"]\n",
    "mapping"
   ]
  },
  {
   "cell_type": "markdown",
   "id": "3ba71e5c",
   "metadata": {},
   "source": [
    "## iteratation"
   ]
  },
  {
   "cell_type": "code",
   "execution_count": null,
   "id": "a20c91af",
   "metadata": {},
   "outputs": [],
   "source": [
    "# O(N)"
   ]
  },
  {
   "cell_type": "code",
   "execution_count": 37,
   "id": "9c1237d9",
   "metadata": {
    "scrolled": false
   },
   "outputs": [
    {
     "name": "stdout",
     "output_type": "stream",
     "text": [
      "key a\n",
      "value array1\n",
      "key d\n",
      "value array4\n"
     ]
    }
   ],
   "source": [
    "# dictionary iteration\n",
    "for k, v in mapping.items():\n",
    "    print(\"key\", k)\n",
    "    print(\"value\", v)"
   ]
  },
  {
   "cell_type": "code",
   "execution_count": 38,
   "id": "f3a7c7e1",
   "metadata": {
    "scrolled": true
   },
   "outputs": [
    {
     "name": "stdout",
     "output_type": "stream",
     "text": [
      "index: 0\n",
      "values \n",
      "---------\n"
     ]
    }
   ],
   "source": [
    "# array interation\n",
    "for i, v in enumerate(hashTable):\n",
    "    print(\"index:\",i)\n",
    "    print(\"values\",v)\n",
    "    print(\"---------\")"
   ]
  },
  {
   "cell_type": "markdown",
   "id": "18e8eef1",
   "metadata": {},
   "source": [
    "## check key"
   ]
  },
  {
   "cell_type": "code",
   "execution_count": null,
   "id": "e5e4e97f",
   "metadata": {},
   "outputs": [],
   "source": [
    "# O(1)"
   ]
  },
  {
   "cell_type": "code",
   "execution_count": 39,
   "id": "1cc4fbb6",
   "metadata": {},
   "outputs": [
    {
     "data": {
      "text/plain": [
       "{'a': 'array1', 'd': 'array4'}"
      ]
     },
     "execution_count": 39,
     "metadata": {},
     "output_type": "execute_result"
    }
   ],
   "source": [
    "mapping"
   ]
  },
  {
   "cell_type": "code",
   "execution_count": 40,
   "id": "4edfaf67",
   "metadata": {},
   "outputs": [
    {
     "data": {
      "text/plain": [
       "True"
      ]
     },
     "execution_count": 40,
     "metadata": {},
     "output_type": "execute_result"
    }
   ],
   "source": [
    "'a' in mapping"
   ]
  },
  {
   "cell_type": "code",
   "execution_count": 41,
   "id": "c2d3ec75",
   "metadata": {
    "scrolled": true
   },
   "outputs": [
    {
     "data": {
      "text/plain": [
       "False"
      ]
     },
     "execution_count": 41,
     "metadata": {},
     "output_type": "execute_result"
    }
   ],
   "source": [
    "# syntax about dictionaries only check the key\n",
    "'array1' in mapping"
   ]
  },
  {
   "cell_type": "markdown",
   "id": "8b2f1479",
   "metadata": {},
   "source": [
    "## size of hashTable"
   ]
  },
  {
   "cell_type": "code",
   "execution_count": 42,
   "id": "48f9eb58",
   "metadata": {},
   "outputs": [
    {
     "data": {
      "text/plain": [
       "{'a': 'array1', 'd': 'array4'}"
      ]
     },
     "execution_count": 42,
     "metadata": {},
     "output_type": "execute_result"
    }
   ],
   "source": [
    "mapping"
   ]
  },
  {
   "cell_type": "code",
   "execution_count": 43,
   "id": "5c022c63",
   "metadata": {},
   "outputs": [
    {
     "data": {
      "text/plain": [
       "2"
      ]
     },
     "execution_count": 43,
     "metadata": {},
     "output_type": "execute_result"
    }
   ],
   "source": [
    "len(mapping)"
   ]
  },
  {
   "cell_type": "markdown",
   "id": "058db160",
   "metadata": {},
   "source": [
    "# relevent practice"
   ]
  },
  {
   "cell_type": "markdown",
   "id": "705b1a09",
   "metadata": {},
   "source": [
    "## leetcode 217"
   ]
  },
  {
   "cell_type": "markdown",
   "id": "8fd55f75",
   "metadata": {},
   "source": [
    "https://leetcode-cn.com/problems/contains-duplicate/\n",
    "\n",
    "Given an integer array nums, return true if any value appears at least twice in the array, and return false if every element is distinct.\n",
    "\n",
    "__My Solutions:__"
   ]
  },
  {
   "cell_type": "code",
   "execution_count": null,
   "id": "ca84a5df",
   "metadata": {},
   "outputs": [],
   "source": [
    "# method 1\n",
    "O(N^2)"
   ]
  },
  {
   "cell_type": "code",
   "execution_count": null,
   "id": "34fe3ba5",
   "metadata": {},
   "outputs": [],
   "source": [
    "class Solution(object):\n",
    "    def containsDuplicate(self, nums):\n",
    "        \"\"\"\n",
    "        :type nums: List[int]\n",
    "        :rtype: bool\n",
    "        \"\"\"\n",
    "        while nums:\n",
    "            temp = nums[0]\n",
    "            nums.remove(temp)\n",
    "            if temp in nums:\n",
    "                return True\n",
    "            else:\n",
    "                continue\n",
    "        return False"
   ]
  },
  {
   "cell_type": "code",
   "execution_count": null,
   "id": "4f9647e0",
   "metadata": {},
   "outputs": [],
   "source": [
    "# method 2\n",
    "# O(N)"
   ]
  },
  {
   "cell_type": "code",
   "execution_count": null,
   "id": "61a76ff2",
   "metadata": {},
   "outputs": [],
   "source": [
    "class Solution(object):\n",
    "    def containsDuplicate(self, nums):\n",
    "        \"\"\"\n",
    "        :type nums: List[int]\n",
    "        :rtype: bool\n",
    "        \"\"\"\n",
    "        nums_set = set(nums)\n",
    "        return len(nums_set) == len(nums)\n",
    "#         if len(nums_set) == len(nums):\n",
    "#             return False\n",
    "#         else: \n",
    "#             return True"
   ]
  },
  {
   "cell_type": "code",
   "execution_count": null,
   "id": "983ad567",
   "metadata": {},
   "outputs": [],
   "source": [
    "# method 3\n",
    "# O(NlgN)"
   ]
  },
  {
   "cell_type": "code",
   "execution_count": null,
   "id": "e0c89f7b",
   "metadata": {},
   "outputs": [],
   "source": [
    "class Solution(object):\n",
    "    def containsDuplicate(self, nums):\n",
    "        \"\"\"\n",
    "        :type nums: List[int]\n",
    "        :rtype: bool\n",
    "        \"\"\"\n",
    "        nums.sort()\n",
    "        if len(nums) == 0 or len(nums) == 1:\n",
    "            return False\n",
    "        previous = nums[0]\n",
    "        for x in nums[1:]:\n",
    "            if x == previous:\n",
    "                return True\n",
    "            else:\n",
    "                previous = x\n",
    "        return False"
   ]
  },
  {
   "cell_type": "markdown",
   "id": "533b2ed4",
   "metadata": {},
   "source": [
    "## leetcode 389"
   ]
  },
  {
   "cell_type": "markdown",
   "id": "7a8f3b8b",
   "metadata": {},
   "source": [
    "https://leetcode-cn.com/problems/find-the-difference/\n",
    "\n",
    "You are given two strings s and t.\n",
    "\n",
    "String t is generated by random shuffling string s and then add one more letter at a random position.\n",
    "\n",
    "Return the letter that was added to t.\n",
    "\n",
    "__My Solutions:__"
   ]
  },
  {
   "cell_type": "code",
   "execution_count": null,
   "id": "07ac6c85",
   "metadata": {},
   "outputs": [],
   "source": [
    "# method 1\n",
    "# O(M*N*M)"
   ]
  },
  {
   "cell_type": "code",
   "execution_count": 35,
   "id": "0d86441c",
   "metadata": {},
   "outputs": [],
   "source": [
    "class Solution(object):\n",
    "    def findTheDifference(self, s, t):\n",
    "        \"\"\"\n",
    "        :type s: str\n",
    "        :type t: str\n",
    "        :rtype: str\n",
    "        \"\"\"\n",
    "        s = list(s)\n",
    "        t = list(t)\n",
    "        for x in t:\n",
    "            if x in s:\n",
    "                s.remove(x)\n",
    "            else:\n",
    "                return x"
   ]
  },
  {
   "cell_type": "code",
   "execution_count": null,
   "id": "d94ec955",
   "metadata": {},
   "outputs": [],
   "source": [
    "# method 2\n",
    "# O(M*N)"
   ]
  },
  {
   "cell_type": "code",
   "execution_count": 117,
   "id": "ba3cfa33",
   "metadata": {},
   "outputs": [],
   "source": [
    "class Solution(object):\n",
    "    def findTheDifference(self, s, t):\n",
    "        \"\"\"\n",
    "        :type s: str\n",
    "        :type t: str\n",
    "        :rtype: str\n",
    "        \"\"\"\n",
    "        if len(s) == 0:\n",
    "            return t\n",
    "        dic_s = {}\n",
    "        dic_t = {}\n",
    "        for x in s:\n",
    "            if x not in dic_s.keys():\n",
    "                dic_s[x] = 1\n",
    "            else:\n",
    "                dic_s[x] += 1\n",
    "        for x in t:\n",
    "            if x not in dic_t.keys():\n",
    "                dic_t[x] = 1\n",
    "            else:\n",
    "                dic_t[x] += 1\n",
    "        for x in dic_t.keys():\n",
    "            if dic_t.get(x) != dic_s.get(x):\n",
    "                return x\n",
    "            else:\n",
    "                continue\n",
    "#             if x not in dic_s.keys():\n",
    "#                 return x\n",
    "#             elif dic_t.get(x) != dic_s.get(x):\n",
    "#                 return x\n",
    "#             else:\n",
    "#                 continue"
   ]
  },
  {
   "cell_type": "markdown",
   "id": "3f36a379",
   "metadata": {},
   "source": [
    "## leetcode 496"
   ]
  },
  {
   "cell_type": "markdown",
   "id": "8f610109",
   "metadata": {},
   "source": [
    "https://leetcode-cn.com/problems/next-greater-element-i/\n",
    "\n",
    "The next greater element of some element x in an array is the first greater element that is to the right of x in the same array.\n",
    "\n",
    "You are given two distinct 0-indexed integer arrays nums1 and nums2, where nums1 is a subset of nums2.\n",
    "\n",
    "For each 0 <= i < nums1.length, find the index j such that nums1[i] == nums2[j] and determine the next greater element of nums2[j] in nums2. If there is no next greater element, then the answer for this query is -1.\n",
    "\n",
    "Return an array ans of length nums1.length such that ans[i] is the next greater element as described above.\n",
    "\n",
    "__My Solutions:__"
   ]
  },
  {
   "cell_type": "code",
   "execution_count": null,
   "id": "fc10a328",
   "metadata": {},
   "outputs": [],
   "source": [
    "class Solution(object):\n",
    "    def nextGreaterElement(self, nums1, nums2):\n",
    "        \"\"\"\n",
    "        :type nums1: List[int]\n",
    "        :type nums2: List[int]\n",
    "        :rtype: List[int]\n",
    "        \"\"\"\n",
    "        result = []\n",
    "        stack = []\n",
    "        stack.append(nums2[0])\n",
    "        dic = {}\n",
    "        for x in nums2[1:]:\n",
    "            if x < stack[-1]:\n",
    "#                 stack.append(x)\n",
    "            else:\n",
    "                while stack and stack[-1] < x:\n",
    "                    dic[stack.pop()] = x\n",
    "#                 stack.append(x)\n",
    "            stack.append(x)\n",
    "        for x in stack:\n",
    "            dic[x] = -1\n",
    "        for x in nums1:\n",
    "            result.append(dic.get(x))\n",
    "        return result"
   ]
  },
  {
   "cell_type": "markdown",
   "id": "59b05870",
   "metadata": {},
   "source": [
    "# Recap"
   ]
  },
  {
   "cell_type": "markdown",
   "id": "0d2c653e",
   "metadata": {},
   "source": [
    "hashTable is of __key and value__ form\n",
    "\n",
    "hashTable is realized by __lists or dictionaries__"
   ]
  },
  {
   "cell_type": "markdown",
   "id": "a2bb4aca",
   "metadata": {},
   "source": [
    "## get duplicate value with pandas"
   ]
  },
  {
   "cell_type": "markdown",
   "id": "f47a0854",
   "metadata": {},
   "source": [
    "step1: df.value_counts()\n",
    "\n",
    "step2: get boolean __series__\n",
    "\n",
    "step3: df[boolean_series]"
   ]
  },
  {
   "cell_type": "code",
   "execution_count": 123,
   "id": "c5b18e1f",
   "metadata": {},
   "outputs": [],
   "source": [
    "import pandas as pd\n",
    "a = [274, -735, -911, 80, 454, -511, 922, -775, 985, -669, -463, -896, -629, -586, 910, -361, 288, -375, 88, 556, -578, -406, -87, 25, 377, -635, -445, -289, 646, -962, -\n",
    "     487, -924, -968, -962, 502, 36, 129, -611, 54, -27, -496, 915, -84, -782, 349, 678, 332, -114, 345, 14, 119, 710, 821, -194, 988, 38, -369, 409, -559, -529, -298, -593, 705]"
   ]
  },
  {
   "cell_type": "code",
   "execution_count": 124,
   "id": "25a5a80a",
   "metadata": {},
   "outputs": [
    {
     "data": {
      "text/html": [
       "<div>\n",
       "<style scoped>\n",
       "    .dataframe tbody tr th:only-of-type {\n",
       "        vertical-align: middle;\n",
       "    }\n",
       "\n",
       "    .dataframe tbody tr th {\n",
       "        vertical-align: top;\n",
       "    }\n",
       "\n",
       "    .dataframe thead th {\n",
       "        text-align: right;\n",
       "    }\n",
       "</style>\n",
       "<table border=\"1\" class=\"dataframe\">\n",
       "  <thead>\n",
       "    <tr style=\"text-align: right;\">\n",
       "      <th></th>\n",
       "      <th>0</th>\n",
       "    </tr>\n",
       "  </thead>\n",
       "  <tbody>\n",
       "    <tr>\n",
       "      <th>0</th>\n",
       "      <td>274</td>\n",
       "    </tr>\n",
       "    <tr>\n",
       "      <th>1</th>\n",
       "      <td>-735</td>\n",
       "    </tr>\n",
       "    <tr>\n",
       "      <th>2</th>\n",
       "      <td>-911</td>\n",
       "    </tr>\n",
       "    <tr>\n",
       "      <th>3</th>\n",
       "      <td>80</td>\n",
       "    </tr>\n",
       "    <tr>\n",
       "      <th>4</th>\n",
       "      <td>454</td>\n",
       "    </tr>\n",
       "    <tr>\n",
       "      <th>...</th>\n",
       "      <td>...</td>\n",
       "    </tr>\n",
       "    <tr>\n",
       "      <th>58</th>\n",
       "      <td>-559</td>\n",
       "    </tr>\n",
       "    <tr>\n",
       "      <th>59</th>\n",
       "      <td>-529</td>\n",
       "    </tr>\n",
       "    <tr>\n",
       "      <th>60</th>\n",
       "      <td>-298</td>\n",
       "    </tr>\n",
       "    <tr>\n",
       "      <th>61</th>\n",
       "      <td>-593</td>\n",
       "    </tr>\n",
       "    <tr>\n",
       "      <th>62</th>\n",
       "      <td>705</td>\n",
       "    </tr>\n",
       "  </tbody>\n",
       "</table>\n",
       "<p>63 rows × 1 columns</p>\n",
       "</div>"
      ],
      "text/plain": [
       "      0\n",
       "0   274\n",
       "1  -735\n",
       "2  -911\n",
       "3    80\n",
       "4   454\n",
       "..  ...\n",
       "58 -559\n",
       "59 -529\n",
       "60 -298\n",
       "61 -593\n",
       "62  705\n",
       "\n",
       "[63 rows x 1 columns]"
      ]
     },
     "execution_count": 124,
     "metadata": {},
     "output_type": "execute_result"
    }
   ],
   "source": [
    "a = pd.DataFrame(a)\n",
    "a"
   ]
  },
  {
   "cell_type": "code",
   "execution_count": 125,
   "id": "6665510a",
   "metadata": {
    "scrolled": false
   },
   "outputs": [
    {
     "data": {
      "text/plain": [
       "-962    2\n",
       "-968    1\n",
       " 349    1\n",
       " 14     1\n",
       " 25     1\n",
       "       ..\n",
       "-361    1\n",
       "-298    1\n",
       "-289    1\n",
       "-194    1\n",
       " 988    1\n",
       "Length: 62, dtype: int64"
      ]
     },
     "execution_count": 125,
     "metadata": {},
     "output_type": "execute_result"
    }
   ],
   "source": [
    "a.value_counts()"
   ]
  },
  {
   "cell_type": "code",
   "execution_count": 128,
   "id": "88aa614b",
   "metadata": {},
   "outputs": [
    {
     "data": {
      "text/plain": [
       "0     False\n",
       "1     False\n",
       "2     False\n",
       "3     False\n",
       "4     False\n",
       "      ...  \n",
       "58    False\n",
       "59    False\n",
       "60    False\n",
       "61    False\n",
       "62    False\n",
       "Name: 0, Length: 63, dtype: bool"
      ]
     },
     "execution_count": 128,
     "metadata": {},
     "output_type": "execute_result"
    }
   ],
   "source": [
    "# get boolean series\n",
    "location = a.loc[:,0] == -962 \n",
    "location"
   ]
  },
  {
   "cell_type": "code",
   "execution_count": 131,
   "id": "00c9586e",
   "metadata": {
    "scrolled": true
   },
   "outputs": [
    {
     "data": {
      "text/html": [
       "<div>\n",
       "<style scoped>\n",
       "    .dataframe tbody tr th:only-of-type {\n",
       "        vertical-align: middle;\n",
       "    }\n",
       "\n",
       "    .dataframe tbody tr th {\n",
       "        vertical-align: top;\n",
       "    }\n",
       "\n",
       "    .dataframe thead th {\n",
       "        text-align: right;\n",
       "    }\n",
       "</style>\n",
       "<table border=\"1\" class=\"dataframe\">\n",
       "  <thead>\n",
       "    <tr style=\"text-align: right;\">\n",
       "      <th></th>\n",
       "      <th>0</th>\n",
       "    </tr>\n",
       "  </thead>\n",
       "  <tbody>\n",
       "    <tr>\n",
       "      <th>29</th>\n",
       "      <td>-962</td>\n",
       "    </tr>\n",
       "    <tr>\n",
       "      <th>33</th>\n",
       "      <td>-962</td>\n",
       "    </tr>\n",
       "  </tbody>\n",
       "</table>\n",
       "</div>"
      ],
      "text/plain": [
       "      0\n",
       "29 -962\n",
       "33 -962"
      ]
     },
     "execution_count": 131,
     "metadata": {},
     "output_type": "execute_result"
    }
   ],
   "source": [
    "a.loc[location]"
   ]
  },
  {
   "cell_type": "markdown",
   "id": "d971736d",
   "metadata": {},
   "source": [
    "## Leetcode 389"
   ]
  },
  {
   "cell_type": "code",
   "execution_count": null,
   "id": "0f4303d5",
   "metadata": {},
   "outputs": [],
   "source": [
    "# it is okay to get a key that does not exist\n",
    "\n",
    "# the result will be None"
   ]
  },
  {
   "cell_type": "code",
   "execution_count": 119,
   "id": "4142d779",
   "metadata": {},
   "outputs": [],
   "source": [
    "a={\"a\":1,\"b\":2}"
   ]
  },
  {
   "cell_type": "code",
   "execution_count": 121,
   "id": "efc4d309",
   "metadata": {
    "scrolled": true
   },
   "outputs": [
    {
     "name": "stdout",
     "output_type": "stream",
     "text": [
      "None\n"
     ]
    }
   ],
   "source": [
    "print(a.get(\"c\"))"
   ]
  },
  {
   "cell_type": "markdown",
   "id": "d454c618",
   "metadata": {},
   "source": [
    "## LeetCode 217"
   ]
  },
  {
   "cell_type": "code",
   "execution_count": null,
   "id": "e08f3c8d",
   "metadata": {},
   "outputs": [],
   "source": [
    "# bad coding\n",
    "   if len(nums_set) == len(nums):\n",
    "        return False\n",
    "    else:\n",
    "        return True"
   ]
  },
  {
   "cell_type": "code",
   "execution_count": null,
   "id": "07448df6",
   "metadata": {},
   "outputs": [],
   "source": [
    "# good coding\n",
    "return len(nums_set) == len(nums)"
   ]
  }
 ],
 "metadata": {
  "kernelspec": {
   "display_name": "Python 3 (ipykernel)",
   "language": "python",
   "name": "python3"
  },
  "language_info": {
   "codemirror_mode": {
    "name": "ipython",
    "version": 3
   },
   "file_extension": ".py",
   "mimetype": "text/x-python",
   "name": "python",
   "nbconvert_exporter": "python",
   "pygments_lexer": "ipython3",
   "version": "3.9.7"
  },
  "toc": {
   "base_numbering": 1,
   "nav_menu": {},
   "number_sections": true,
   "sideBar": true,
   "skip_h1_title": false,
   "title_cell": "Table of Contents",
   "title_sidebar": "Contents",
   "toc_cell": false,
   "toc_position": {
    "height": "calc(100% - 180px)",
    "left": "10px",
    "top": "150px",
    "width": "287.59375px"
   },
   "toc_section_display": true,
   "toc_window_display": true
  }
 },
 "nbformat": 4,
 "nbformat_minor": 5
}
