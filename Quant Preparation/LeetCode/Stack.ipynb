{
 "cells": [
  {
   "cell_type": "markdown",
   "id": "c33f539e",
   "metadata": {},
   "source": [
    "# basic operations"
   ]
  },
  {
   "cell_type": "markdown",
   "id": "8507c51b",
   "metadata": {},
   "source": [
    "## creat new stacks"
   ]
  },
  {
   "cell_type": "code",
   "execution_count": 1,
   "id": "9660b543",
   "metadata": {},
   "outputs": [
    {
     "data": {
      "text/plain": [
       "[]"
      ]
     },
     "execution_count": 1,
     "metadata": {},
     "output_type": "execute_result"
    }
   ],
   "source": [
    "a = []\n",
    "a"
   ]
  },
  {
   "cell_type": "code",
   "execution_count": null,
   "id": "93099cc7",
   "metadata": {},
   "outputs": [],
   "source": [
    "## add elements"
   ]
  },
  {
   "cell_type": "code",
   "execution_count": 2,
   "id": "8aef519f",
   "metadata": {},
   "outputs": [
    {
     "data": {
      "text/plain": [
       "['s']"
      ]
     },
     "execution_count": 2,
     "metadata": {},
     "output_type": "execute_result"
    }
   ],
   "source": [
    "# from behind\n",
    "# O(1)\n",
    "a.append(\"s\")\n",
    "a"
   ]
  },
  {
   "cell_type": "markdown",
   "id": "abb531f4",
   "metadata": {},
   "source": [
    "## access elements"
   ]
  },
  {
   "cell_type": "code",
   "execution_count": 3,
   "id": "656fdd4d",
   "metadata": {},
   "outputs": [
    {
     "data": {
      "text/plain": [
       "'s'"
      ]
     },
     "execution_count": 3,
     "metadata": {},
     "output_type": "execute_result"
    }
   ],
   "source": [
    "# in a stack, usally the top of the stack is accessed\n",
    "# O(1)\n",
    "a[-1]"
   ]
  },
  {
   "cell_type": "markdown",
   "id": "d472fd8c",
   "metadata": {},
   "source": [
    "## remove elements"
   ]
  },
  {
   "cell_type": "code",
   "execution_count": 4,
   "id": "01e70db0",
   "metadata": {},
   "outputs": [
    {
     "data": {
      "text/plain": [
       "['s', 'a', 'b']"
      ]
     },
     "execution_count": 4,
     "metadata": {},
     "output_type": "execute_result"
    }
   ],
   "source": [
    "a.append(\"a\")\n",
    "a.append(\"b\")\n",
    "a"
   ]
  },
  {
   "cell_type": "code",
   "execution_count": 5,
   "id": "78b81b20",
   "metadata": {},
   "outputs": [
    {
     "data": {
      "text/plain": [
       "'b'"
      ]
     },
     "execution_count": 5,
     "metadata": {},
     "output_type": "execute_result"
    }
   ],
   "source": [
    "# O(1)\n",
    "# last in first out\n",
    "a.pop()"
   ]
  },
  {
   "cell_type": "code",
   "execution_count": 6,
   "id": "3bf7c1cc",
   "metadata": {},
   "outputs": [
    {
     "data": {
      "text/plain": [
       "['s', 'a']"
      ]
     },
     "execution_count": 6,
     "metadata": {},
     "output_type": "execute_result"
    }
   ],
   "source": [
    "a"
   ]
  },
  {
   "cell_type": "markdown",
   "id": "3ba71e5c",
   "metadata": {},
   "source": [
    "## iteratation"
   ]
  },
  {
   "cell_type": "code",
   "execution_count": null,
   "id": "a20c91af",
   "metadata": {},
   "outputs": [],
   "source": [
    "# O(N)"
   ]
  },
  {
   "cell_type": "code",
   "execution_count": 7,
   "id": "9c1237d9",
   "metadata": {},
   "outputs": [
    {
     "data": {
      "text/plain": [
       "['s', 'a']"
      ]
     },
     "execution_count": 7,
     "metadata": {},
     "output_type": "execute_result"
    }
   ],
   "source": [
    "a"
   ]
  },
  {
   "cell_type": "code",
   "execution_count": 8,
   "id": "4f249f9c",
   "metadata": {},
   "outputs": [
    {
     "name": "stdout",
     "output_type": "stream",
     "text": [
      "a\n",
      "s\n"
     ]
    },
    {
     "data": {
      "text/plain": [
       "[]"
      ]
     },
     "execution_count": 8,
     "metadata": {},
     "output_type": "execute_result"
    }
   ],
   "source": [
    "# in a stack, iteration is accompanied with pop \n",
    "while len(a) != 0:\n",
    "    print(a.pop())\n",
    "a"
   ]
  },
  {
   "cell_type": "markdown",
   "id": "058db160",
   "metadata": {},
   "source": [
    "# relevent practice"
   ]
  },
  {
   "cell_type": "markdown",
   "id": "705b1a09",
   "metadata": {},
   "source": [
    "## leetcode 20"
   ]
  },
  {
   "cell_type": "markdown",
   "id": "8fd55f75",
   "metadata": {},
   "source": [
    "https://leetcode-cn.com/problems/valid-parentheses/\n",
    "\n",
    "Given a string s containing just the characters '(', ')', '{', '}', '[' and ']', determine if the input string is valid.\n",
    "\n",
    "An input string is valid if:\n",
    "\n",
    "Open brackets must be closed by the same type of brackets.\n",
    "Open brackets must be closed in the correct order.\n",
    "\n",
    "__My Solutions:__"
   ]
  },
  {
   "cell_type": "code",
   "execution_count": null,
   "id": "34fe3ba5",
   "metadata": {},
   "outputs": [],
   "source": [
    "class Solution(object):\n",
    "    def isValid(self, s):\n",
    "        \"\"\"\n",
    "        :type s: str\n",
    "        :rtype: bool\n",
    "        \"\"\"\n",
    "        if len(s) == 1:\n",
    "            return False\n",
    "        match_dict = {\"(\": \")\", \"{\": \"}\", \"[\": \"]\"}\n",
    "        stack = []\n",
    "        for x in s:\n",
    "            if x in match_dict.keys():\n",
    "                stack.append(x)\n",
    "            else:\n",
    "                if len(stack) == 0:\n",
    "                    return False\n",
    "                elif x == match_dict.get(stack.pop()):\n",
    "                    pass\n",
    "                else:\n",
    "                    return False\n",
    "        if len(stack) == 0:\n",
    "            return True\n",
    "        else:\n",
    "            return False"
   ]
  },
  {
   "cell_type": "markdown",
   "id": "533b2ed4",
   "metadata": {},
   "source": [
    "## leetcode 496"
   ]
  },
  {
   "cell_type": "markdown",
   "id": "7a8f3b8b",
   "metadata": {},
   "source": [
    "https://leetcode-cn.com/problems/next-greater-element-i/\n",
    "\n",
    "The next greater element of some element x in an array is the first greater element that is to the right of x in the same array.\n",
    "\n",
    "You are given two distinct 0-indexed integer arrays nums1 and nums2, where nums1 is a subset of nums2.\n",
    "\n",
    "For each 0 <= i < nums1.length, find the index j such that nums1[i] == nums2[j] and determine the next greater element of nums2[j] in nums2. If there is no next greater element, then the answer for this query is -1.\n",
    "\n",
    "Return an array ans of length nums1.length such that ans[i] is the next greater element as described above.\n",
    "\n",
    "__My Solutions:__"
   ]
  },
  {
   "cell_type": "code",
   "execution_count": null,
   "id": "d8768822",
   "metadata": {},
   "outputs": [],
   "source": [
    "# method 1 without data structure"
   ]
  },
  {
   "cell_type": "code",
   "execution_count": 35,
   "id": "0d86441c",
   "metadata": {},
   "outputs": [],
   "source": [
    "class Solution(object):\n",
    "    def nextGreaterElement(self, nums1, nums2):\n",
    "        \"\"\"\n",
    "        :type nums1: List[int]\n",
    "        :type nums2: List[int]\n",
    "        :rtype: List[int]\n",
    "        \"\"\"\n",
    "        result = []\n",
    "        for x in nums1:\n",
    "            if nums2.index(x) == len(nums2) - 1:\n",
    "                result.append(-1)\n",
    "                continue\n",
    "            for i in range(nums2.index(x) + 1, len(nums2)):\n",
    "                if nums2[i] > x:\n",
    "                    result.append(nums2[i])\n",
    "                    break\n",
    "                elif i == len(nums2) - 1:\n",
    "                    result.append(-1)\n",
    "                else:\n",
    "                    continue\n",
    "        return result"
   ]
  },
  {
   "cell_type": "code",
   "execution_count": null,
   "id": "79363666",
   "metadata": {},
   "outputs": [],
   "source": [
    "# method 2 with stacks"
   ]
  },
  {
   "cell_type": "code",
   "execution_count": null,
   "id": "05259abf",
   "metadata": {},
   "outputs": [],
   "source": [
    "class Solution(object):\n",
    "    def nextGreaterElement(self, nums1, nums2):\n",
    "        \"\"\"\n",
    "        :type nums1: List[int]\n",
    "        :type nums2: List[int]\n",
    "        :rtype: List[int]\n",
    "        \"\"\"\n",
    "        # method 2\n",
    "        result = []\n",
    "        for x in nums1:\n",
    "            isFound = False\n",
    "            nextBigger = -1\n",
    "            # use a temp stack to store the popped elements\n",
    "            temp = []\n",
    "            while len(nums2) > 0 and not isFound:\n",
    "                temp.append(nums2.pop())\n",
    "                if temp[-1] > x:\n",
    "                    nextBigger = temp[-1]\n",
    "                elif temp[-1] == x:\n",
    "                    isFound = True\n",
    "                else:\n",
    "                    pass\n",
    "            result.append(nextBigger)\n",
    "            while temp:\n",
    "                nums2.append(temp.pop())\n",
    "        return result"
   ]
  },
  {
   "cell_type": "markdown",
   "id": "59b05870",
   "metadata": {},
   "source": [
    "# Recap"
   ]
  },
  {
   "cell_type": "markdown",
   "id": "d76d6a2e",
   "metadata": {},
   "source": [
    "2.2 intuition\n",
    "\n",
    "As lately data is handled first, stacks are the suitable data structure.\n",
    "\n",
    "Stacks are __\"Last In, First Out\"__"
   ]
  }
 ],
 "metadata": {
  "kernelspec": {
   "display_name": "Python 3 (ipykernel)",
   "language": "python",
   "name": "python3"
  },
  "language_info": {
   "codemirror_mode": {
    "name": "ipython",
    "version": 3
   },
   "file_extension": ".py",
   "mimetype": "text/x-python",
   "name": "python",
   "nbconvert_exporter": "python",
   "pygments_lexer": "ipython3",
   "version": "3.9.7"
  },
  "toc": {
   "base_numbering": 1,
   "nav_menu": {},
   "number_sections": true,
   "sideBar": true,
   "skip_h1_title": false,
   "title_cell": "Table of Contents",
   "title_sidebar": "Contents",
   "toc_cell": false,
   "toc_position": {
    "height": "calc(100% - 180px)",
    "left": "10px",
    "top": "150px",
    "width": "178.59375px"
   },
   "toc_section_display": true,
   "toc_window_display": false
  }
 },
 "nbformat": 4,
 "nbformat_minor": 5
}
