{
 "cells": [
  {
   "cell_type": "markdown",
   "id": "c33f539e",
   "metadata": {},
   "source": [
    "# basic operations"
   ]
  },
  {
   "cell_type": "markdown",
   "id": "8507c51b",
   "metadata": {},
   "source": [
    "## creat new linkedLists"
   ]
  },
  {
   "cell_type": "code",
   "execution_count": 1,
   "id": "65d7569d",
   "metadata": {},
   "outputs": [],
   "source": [
    "from collections import deque"
   ]
  },
  {
   "cell_type": "code",
   "execution_count": 2,
   "id": "cdbe3581",
   "metadata": {},
   "outputs": [
    {
     "data": {
      "text/plain": [
       "deque([])"
      ]
     },
     "execution_count": 2,
     "metadata": {},
     "output_type": "execute_result"
    }
   ],
   "source": [
    "# deque is also known as double end queue\n",
    "# in leetcode, the linkedlist is usually given\n",
    "linkedlist = deque()\n",
    "linkedlist"
   ]
  },
  {
   "cell_type": "code",
   "execution_count": 3,
   "id": "9660b543",
   "metadata": {},
   "outputs": [],
   "source": [
    "## add elements"
   ]
  },
  {
   "cell_type": "code",
   "execution_count": 3,
   "id": "8aef519f",
   "metadata": {},
   "outputs": [
    {
     "data": {
      "text/plain": [
       "deque(['s'])"
      ]
     },
     "execution_count": 3,
     "metadata": {},
     "output_type": "execute_result"
    }
   ],
   "source": [
    "# from behind\n",
    "# O(1) or O(N)\n",
    "linkedlist.append(\"s\")\n",
    "linkedlist"
   ]
  },
  {
   "cell_type": "code",
   "execution_count": 4,
   "id": "5d312617",
   "metadata": {},
   "outputs": [
    {
     "data": {
      "text/plain": [
       "deque(['a', 's'])"
      ]
     },
     "execution_count": 4,
     "metadata": {},
     "output_type": "execute_result"
    }
   ],
   "source": [
    "# from any position\n",
    "# O(N)\n",
    "linkedlist.insert(0, \"a\")\n",
    "linkedlist"
   ]
  },
  {
   "cell_type": "markdown",
   "id": "abb531f4",
   "metadata": {},
   "source": [
    "## access elements"
   ]
  },
  {
   "cell_type": "code",
   "execution_count": 8,
   "id": "656fdd4d",
   "metadata": {},
   "outputs": [
    {
     "data": {
      "text/plain": [
       "'s'"
      ]
     },
     "execution_count": 8,
     "metadata": {},
     "output_type": "execute_result"
    }
   ],
   "source": [
    "# O(N)\n",
    "linkedlist[1]"
   ]
  },
  {
   "cell_type": "markdown",
   "id": "56000bcb",
   "metadata": {},
   "source": [
    "## update elements"
   ]
  },
  {
   "cell_type": "code",
   "execution_count": 10,
   "id": "9a1715e9",
   "metadata": {},
   "outputs": [
    {
     "data": {
      "text/plain": [
       "deque(['a', 't'])"
      ]
     },
     "execution_count": 10,
     "metadata": {},
     "output_type": "execute_result"
    }
   ],
   "source": [
    "# O(N)\n",
    "linkedlist[1]=\"t\"\n",
    "linkedlist"
   ]
  },
  {
   "cell_type": "markdown",
   "id": "d472fd8c",
   "metadata": {},
   "source": [
    "## remove elements"
   ]
  },
  {
   "cell_type": "code",
   "execution_count": 11,
   "id": "01e70db0",
   "metadata": {},
   "outputs": [
    {
     "data": {
      "text/plain": [
       "deque(['a'])"
      ]
     },
     "execution_count": 11,
     "metadata": {},
     "output_type": "execute_result"
    }
   ],
   "source": [
    "# O(N)\n",
    "linkedlist.remove(\"t\")\n",
    "linkedlist"
   ]
  },
  {
   "cell_type": "markdown",
   "id": "058db160",
   "metadata": {},
   "source": [
    "# relevent practice"
   ]
  },
  {
   "cell_type": "markdown",
   "id": "705b1a09",
   "metadata": {},
   "source": [
    "## leetcode 206"
   ]
  },
  {
   "cell_type": "markdown",
   "id": "8fd55f75",
   "metadata": {},
   "source": [
    "https://leetcode-cn.com/problems/reverse-linked-list/\n",
    "\n",
    "Given the head of a singly linked list, reverse the list, and return the reversed list.\n",
    "\n",
    "__My Solutions:__"
   ]
  },
  {
   "cell_type": "code",
   "execution_count": null,
   "id": "34fe3ba5",
   "metadata": {},
   "outputs": [],
   "source": [
    "# Definition for singly-linked list.\n",
    "# class ListNode(object):\n",
    "#     def __init__(self, val=0, next=None):\n",
    "#         self.val = val\n",
    "#         self.next = next\n",
    "class Solution(object):\n",
    "    def reverseList(self, head):\n",
    "        \"\"\"\n",
    "        :type head: ListNode\n",
    "        :rtype: ListNode\n",
    "        \"\"\"\n",
    "        if not head:\n",
    "            return head\n",
    "        dummyNode = ListNode()\n",
    "        dummyNode.next = head\n",
    "        while head.next:\n",
    "            temp = dummyNode.next\n",
    "            dummyNode.next = head.next\n",
    "            head.next = head.next.next\n",
    "            dummyNode.next.next = temp\n",
    "        return dummyNode.next"
   ]
  },
  {
   "cell_type": "markdown",
   "id": "533b2ed4",
   "metadata": {},
   "source": [
    "## leetcode 203"
   ]
  },
  {
   "cell_type": "markdown",
   "id": "7a8f3b8b",
   "metadata": {},
   "source": [
    "https://leetcode-cn.com/problems/remove-linked-list-elements/\n",
    "\n",
    "Given the head of a linked list and an integer val, remove all the nodes of the linked list that has Node.val == val, and return the new head.\n",
    "\n",
    "__My Solutions:__"
   ]
  },
  {
   "cell_type": "code",
   "execution_count": 35,
   "id": "0d86441c",
   "metadata": {},
   "outputs": [],
   "source": [
    "# Definition for singly-linked list.\n",
    "# class ListNode(object):\n",
    "#     def __init__(self, val=0, next=None):\n",
    "#         self.val = val\n",
    "#         self.next = next\n",
    "class Solution(object):\n",
    "    def removeElements(self, head, val):\n",
    "        \"\"\"\n",
    "        :type head: ListNode\n",
    "        :type val: int\n",
    "        :rtype: ListNode\n",
    "        \"\"\"\n",
    "        dumyNode = ListNode()\n",
    "        dumyNode.next = head\n",
    "        previous = dumyNode\n",
    "        while head:\n",
    "            if head.val == val:\n",
    "                previous.next = head.next\n",
    "                head = head.next\n",
    "            else:\n",
    "                head = head.next\n",
    "                previous = previous.next\n",
    "        return dumyNode.next"
   ]
  },
  {
   "cell_type": "markdown",
   "id": "59b05870",
   "metadata": {},
   "source": [
    "# Recap"
   ]
  },
  {
   "cell_type": "markdown",
   "id": "d76d6a2e",
   "metadata": {},
   "source": [
    "2.2 linkedlist topic usually needs a __dummyNode__(for beginning) and a __temp__ node(for previous info)"
   ]
  }
 ],
 "metadata": {
  "kernelspec": {
   "display_name": "Python 3 (ipykernel)",
   "language": "python",
   "name": "python3"
  },
  "language_info": {
   "codemirror_mode": {
    "name": "ipython",
    "version": 3
   },
   "file_extension": ".py",
   "mimetype": "text/x-python",
   "name": "python",
   "nbconvert_exporter": "python",
   "pygments_lexer": "ipython3",
   "version": "3.9.7"
  },
  "toc": {
   "base_numbering": 1,
   "nav_menu": {},
   "number_sections": true,
   "sideBar": true,
   "skip_h1_title": false,
   "title_cell": "Table of Contents",
   "title_sidebar": "Contents",
   "toc_cell": false,
   "toc_position": {
    "height": "calc(100% - 180px)",
    "left": "10px",
    "top": "150px",
    "width": "178.59375px"
   },
   "toc_section_display": true,
   "toc_window_display": true
  }
 },
 "nbformat": 4,
 "nbformat_minor": 5
}
