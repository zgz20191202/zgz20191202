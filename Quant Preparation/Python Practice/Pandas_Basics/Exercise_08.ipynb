{
 "cells": [
  {
   "cell_type": "markdown",
   "metadata": {},
   "source": [
    "# Coding Exercises (Part 8)"
   ]
  },
  {
   "cell_type": "markdown",
   "metadata": {},
   "source": [
    "Now, you will have the opportunity to analyze your own dataset. <br>\n",
    "__Follow the instructions__ and insert your code! You are either requested to \n",
    "- Complete the Code and __Fill in the gaps__. Gaps are marked with \"__---__\" and are __placeholders__ for your code fragment\n",
    "- Write Code completely __on your own__ "
   ]
  },
  {
   "cell_type": "markdown",
   "metadata": {},
   "source": [
    "In some exercises, you will find questions that can only be answered, if your code is correct and returns the right output! The correct answer is provided below your coding cell. There you can check whether your code is correct."
   ]
  },
  {
   "cell_type": "markdown",
   "metadata": {},
   "source": [
    "If you need a hint, check the __Hints Section__ at the end of this Notebook. Exercises and Hints are numerated accordingly."
   ]
  },
  {
   "cell_type": "markdown",
   "metadata": {},
   "source": [
    "If you need some further help or if you want to check your code, you can also watch the __solutions videos__ or check the __solutions notebook__."
   ]
  },
  {
   "cell_type": "markdown",
   "metadata": {},
   "source": [
    "### Have Fun!"
   ]
  },
  {
   "cell_type": "markdown",
   "metadata": {},
   "source": [
    "--------------------------------------------------------------------------------------------------------------"
   ]
  },
  {
   "cell_type": "markdown",
   "metadata": {},
   "source": [
    "## Pandas: Advanced Topics"
   ]
  },
  {
   "cell_type": "markdown",
   "metadata": {},
   "source": [
    "### Exercise 8: Creating and Removing Rows and Columns"
   ]
  },
  {
   "cell_type": "code",
   "execution_count": 1,
   "metadata": {},
   "outputs": [],
   "source": [
    "#run the cell!\n",
    "import pandas as pd\n",
    "pd.options.display.float_format = '{:.2f}'.format"
   ]
  },
  {
   "cell_type": "code",
   "execution_count": 2,
   "metadata": {},
   "outputs": [],
   "source": [
    "#run the cell!\n",
    "listings = pd.read_csv(\"listings_clean.csv\")"
   ]
  },
  {
   "cell_type": "code",
   "execution_count": 3,
   "metadata": {},
   "outputs": [
    {
     "data": {
      "text/html": [
       "<div>\n",
       "<style scoped>\n",
       "    .dataframe tbody tr th:only-of-type {\n",
       "        vertical-align: middle;\n",
       "    }\n",
       "\n",
       "    .dataframe tbody tr th {\n",
       "        vertical-align: top;\n",
       "    }\n",
       "\n",
       "    .dataframe thead th {\n",
       "        text-align: right;\n",
       "    }\n",
       "</style>\n",
       "<table border=\"1\" class=\"dataframe\">\n",
       "  <thead>\n",
       "    <tr style=\"text-align: right;\">\n",
       "      <th></th>\n",
       "      <th>Symbol</th>\n",
       "      <th>Exchange</th>\n",
       "      <th>Name</th>\n",
       "      <th>Last_Price</th>\n",
       "      <th>Market_Cap</th>\n",
       "      <th>IPO_Year</th>\n",
       "      <th>Sector</th>\n",
       "      <th>Industry</th>\n",
       "    </tr>\n",
       "  </thead>\n",
       "  <tbody>\n",
       "    <tr>\n",
       "      <th>0</th>\n",
       "      <td>A</td>\n",
       "      <td>NYSE</td>\n",
       "      <td>Agilent Technologies, Inc.</td>\n",
       "      <td>81.68</td>\n",
       "      <td>25934696179.92</td>\n",
       "      <td>1999</td>\n",
       "      <td>Capital Goods</td>\n",
       "      <td>Biotechnology: Laboratory Analytical Instruments</td>\n",
       "    </tr>\n",
       "    <tr>\n",
       "      <th>1</th>\n",
       "      <td>AA</td>\n",
       "      <td>NYSE</td>\n",
       "      <td>Alcoa Corporation</td>\n",
       "      <td>29.15</td>\n",
       "      <td>5407809589.60</td>\n",
       "      <td>2016</td>\n",
       "      <td>Basic Industries</td>\n",
       "      <td>Aluminum</td>\n",
       "    </tr>\n",
       "    <tr>\n",
       "      <th>2</th>\n",
       "      <td>AABA</td>\n",
       "      <td>NASDAQ</td>\n",
       "      <td>Altaba Inc.</td>\n",
       "      <td>75.39</td>\n",
       "      <td>42781131315.30</td>\n",
       "      <td>1969</td>\n",
       "      <td>Technology</td>\n",
       "      <td>EDP Services</td>\n",
       "    </tr>\n",
       "    <tr>\n",
       "      <th>3</th>\n",
       "      <td>AAC</td>\n",
       "      <td>NYSE</td>\n",
       "      <td>AAC Holdings, Inc.</td>\n",
       "      <td>2.16</td>\n",
       "      <td>53141086.80</td>\n",
       "      <td>2014</td>\n",
       "      <td>Health Care</td>\n",
       "      <td>Medical Specialities</td>\n",
       "    </tr>\n",
       "    <tr>\n",
       "      <th>4</th>\n",
       "      <td>AAL</td>\n",
       "      <td>NASDAQ</td>\n",
       "      <td>American Airlines Group, Inc.</td>\n",
       "      <td>34.02</td>\n",
       "      <td>15276869742.96</td>\n",
       "      <td>1969</td>\n",
       "      <td>Transportation</td>\n",
       "      <td>Air Freight/Delivery Services</td>\n",
       "    </tr>\n",
       "  </tbody>\n",
       "</table>\n",
       "</div>"
      ],
      "text/plain": [
       "  Symbol Exchange                           Name  Last_Price     Market_Cap  \\\n",
       "0      A     NYSE     Agilent Technologies, Inc.       81.68 25934696179.92   \n",
       "1     AA     NYSE              Alcoa Corporation       29.15  5407809589.60   \n",
       "2   AABA   NASDAQ                    Altaba Inc.       75.39 42781131315.30   \n",
       "3    AAC     NYSE             AAC Holdings, Inc.        2.16    53141086.80   \n",
       "4    AAL   NASDAQ  American Airlines Group, Inc.       34.02 15276869742.96   \n",
       "\n",
       "   IPO_Year            Sector  \\\n",
       "0      1999     Capital Goods   \n",
       "1      2016  Basic Industries   \n",
       "2      1969        Technology   \n",
       "3      2014       Health Care   \n",
       "4      1969    Transportation   \n",
       "\n",
       "                                           Industry  \n",
       "0  Biotechnology: Laboratory Analytical Instruments  \n",
       "1                                          Aluminum  \n",
       "2                                      EDP Services  \n",
       "3                              Medical Specialities  \n",
       "4                     Air Freight/Delivery Services  "
      ]
     },
     "execution_count": 3,
     "metadata": {},
     "output_type": "execute_result"
    }
   ],
   "source": [
    "#run the cell!\n",
    "listings.head()"
   ]
  },
  {
   "cell_type": "code",
   "execution_count": 4,
   "metadata": {},
   "outputs": [
    {
     "name": "stdout",
     "output_type": "stream",
     "text": [
      "<class 'pandas.core.frame.DataFrame'>\n",
      "RangeIndex: 6852 entries, 0 to 6851\n",
      "Data columns (total 8 columns):\n",
      " #   Column      Non-Null Count  Dtype  \n",
      "---  ------      --------------  -----  \n",
      " 0   Symbol      6852 non-null   object \n",
      " 1   Exchange    6852 non-null   object \n",
      " 2   Name        6852 non-null   object \n",
      " 3   Last_Price  6852 non-null   float64\n",
      " 4   Market_Cap  5954 non-null   float64\n",
      " 5   IPO_Year    6852 non-null   int64  \n",
      " 6   Sector      5309 non-null   object \n",
      " 7   Industry    5309 non-null   object \n",
      "dtypes: float64(2), int64(1), object(5)\n",
      "memory usage: 428.4+ KB\n"
     ]
    }
   ],
   "source": [
    "# run the cell!\n",
    "listings.info()"
   ]
  },
  {
   "cell_type": "markdown",
   "metadata": {},
   "source": [
    "76. __Drop__ the columns __\"Symbol\"__ and __\"Sector\"__ from the DataFrame listings! __Save__ the change! __Fill in the gaps!__"
   ]
  },
  {
   "cell_type": "code",
   "execution_count": 5,
   "metadata": {
    "scrolled": true
   },
   "outputs": [],
   "source": [
    "listings.drop(columns = [\"Symbol\", \"Sector\"], inplace = True)"
   ]
  },
  {
   "cell_type": "code",
   "execution_count": 6,
   "metadata": {
    "scrolled": true
   },
   "outputs": [
    {
     "data": {
      "text/html": [
       "<div>\n",
       "<style scoped>\n",
       "    .dataframe tbody tr th:only-of-type {\n",
       "        vertical-align: middle;\n",
       "    }\n",
       "\n",
       "    .dataframe tbody tr th {\n",
       "        vertical-align: top;\n",
       "    }\n",
       "\n",
       "    .dataframe thead th {\n",
       "        text-align: right;\n",
       "    }\n",
       "</style>\n",
       "<table border=\"1\" class=\"dataframe\">\n",
       "  <thead>\n",
       "    <tr style=\"text-align: right;\">\n",
       "      <th></th>\n",
       "      <th>Exchange</th>\n",
       "      <th>Name</th>\n",
       "      <th>Last_Price</th>\n",
       "      <th>Market_Cap</th>\n",
       "      <th>IPO_Year</th>\n",
       "      <th>Industry</th>\n",
       "    </tr>\n",
       "  </thead>\n",
       "  <tbody>\n",
       "    <tr>\n",
       "      <th>0</th>\n",
       "      <td>NYSE</td>\n",
       "      <td>Agilent Technologies, Inc.</td>\n",
       "      <td>81.68</td>\n",
       "      <td>25934696179.92</td>\n",
       "      <td>1999</td>\n",
       "      <td>Biotechnology: Laboratory Analytical Instruments</td>\n",
       "    </tr>\n",
       "    <tr>\n",
       "      <th>1</th>\n",
       "      <td>NYSE</td>\n",
       "      <td>Alcoa Corporation</td>\n",
       "      <td>29.15</td>\n",
       "      <td>5407809589.60</td>\n",
       "      <td>2016</td>\n",
       "      <td>Aluminum</td>\n",
       "    </tr>\n",
       "    <tr>\n",
       "      <th>2</th>\n",
       "      <td>NASDAQ</td>\n",
       "      <td>Altaba Inc.</td>\n",
       "      <td>75.39</td>\n",
       "      <td>42781131315.30</td>\n",
       "      <td>1969</td>\n",
       "      <td>EDP Services</td>\n",
       "    </tr>\n",
       "    <tr>\n",
       "      <th>3</th>\n",
       "      <td>NYSE</td>\n",
       "      <td>AAC Holdings, Inc.</td>\n",
       "      <td>2.16</td>\n",
       "      <td>53141086.80</td>\n",
       "      <td>2014</td>\n",
       "      <td>Medical Specialities</td>\n",
       "    </tr>\n",
       "    <tr>\n",
       "      <th>4</th>\n",
       "      <td>NASDAQ</td>\n",
       "      <td>American Airlines Group, Inc.</td>\n",
       "      <td>34.02</td>\n",
       "      <td>15276869742.96</td>\n",
       "      <td>1969</td>\n",
       "      <td>Air Freight/Delivery Services</td>\n",
       "    </tr>\n",
       "  </tbody>\n",
       "</table>\n",
       "</div>"
      ],
      "text/plain": [
       "  Exchange                           Name  Last_Price     Market_Cap  \\\n",
       "0     NYSE     Agilent Technologies, Inc.       81.68 25934696179.92   \n",
       "1     NYSE              Alcoa Corporation       29.15  5407809589.60   \n",
       "2   NASDAQ                    Altaba Inc.       75.39 42781131315.30   \n",
       "3     NYSE             AAC Holdings, Inc.        2.16    53141086.80   \n",
       "4   NASDAQ  American Airlines Group, Inc.       34.02 15276869742.96   \n",
       "\n",
       "   IPO_Year                                          Industry  \n",
       "0      1999  Biotechnology: Laboratory Analytical Instruments  \n",
       "1      2016                                          Aluminum  \n",
       "2      1969                                      EDP Services  \n",
       "3      2014                              Medical Specialities  \n",
       "4      1969                     Air Freight/Delivery Services  "
      ]
     },
     "execution_count": 6,
     "metadata": {},
     "output_type": "execute_result"
    }
   ],
   "source": [
    "# run the cell!\n",
    "listings.head()"
   ]
  },
  {
   "cell_type": "markdown",
   "metadata": {},
   "source": [
    "77. __Drop__ all rows/listings on __\"AMEX\"__ from the DataFrame listings! Use the __loc__ operator and __overwrite listings__!<br> __Fill in the gaps!__"
   ]
  },
  {
   "cell_type": "code",
   "execution_count": 8,
   "metadata": {
    "scrolled": true
   },
   "outputs": [],
   "source": [
    "listings = listings.loc[listings.Exchange!=\"AMEX\"]"
   ]
  },
  {
   "cell_type": "code",
   "execution_count": 9,
   "metadata": {},
   "outputs": [
    {
     "data": {
      "text/html": [
       "<div>\n",
       "<style scoped>\n",
       "    .dataframe tbody tr th:only-of-type {\n",
       "        vertical-align: middle;\n",
       "    }\n",
       "\n",
       "    .dataframe tbody tr th {\n",
       "        vertical-align: top;\n",
       "    }\n",
       "\n",
       "    .dataframe thead th {\n",
       "        text-align: right;\n",
       "    }\n",
       "</style>\n",
       "<table border=\"1\" class=\"dataframe\">\n",
       "  <thead>\n",
       "    <tr style=\"text-align: right;\">\n",
       "      <th></th>\n",
       "      <th>Exchange</th>\n",
       "      <th>Name</th>\n",
       "      <th>Last_Price</th>\n",
       "      <th>Market_Cap</th>\n",
       "      <th>IPO_Year</th>\n",
       "      <th>Industry</th>\n",
       "    </tr>\n",
       "  </thead>\n",
       "  <tbody>\n",
       "    <tr>\n",
       "      <th>0</th>\n",
       "      <td>NYSE</td>\n",
       "      <td>Agilent Technologies, Inc.</td>\n",
       "      <td>81.68</td>\n",
       "      <td>25934696179.92</td>\n",
       "      <td>1999</td>\n",
       "      <td>Biotechnology: Laboratory Analytical Instruments</td>\n",
       "    </tr>\n",
       "    <tr>\n",
       "      <th>1</th>\n",
       "      <td>NYSE</td>\n",
       "      <td>Alcoa Corporation</td>\n",
       "      <td>29.15</td>\n",
       "      <td>5407809589.60</td>\n",
       "      <td>2016</td>\n",
       "      <td>Aluminum</td>\n",
       "    </tr>\n",
       "    <tr>\n",
       "      <th>2</th>\n",
       "      <td>NASDAQ</td>\n",
       "      <td>Altaba Inc.</td>\n",
       "      <td>75.39</td>\n",
       "      <td>42781131315.30</td>\n",
       "      <td>1969</td>\n",
       "      <td>EDP Services</td>\n",
       "    </tr>\n",
       "    <tr>\n",
       "      <th>3</th>\n",
       "      <td>NYSE</td>\n",
       "      <td>AAC Holdings, Inc.</td>\n",
       "      <td>2.16</td>\n",
       "      <td>53141086.80</td>\n",
       "      <td>2014</td>\n",
       "      <td>Medical Specialities</td>\n",
       "    </tr>\n",
       "    <tr>\n",
       "      <th>4</th>\n",
       "      <td>NASDAQ</td>\n",
       "      <td>American Airlines Group, Inc.</td>\n",
       "      <td>34.02</td>\n",
       "      <td>15276869742.96</td>\n",
       "      <td>1969</td>\n",
       "      <td>Air Freight/Delivery Services</td>\n",
       "    </tr>\n",
       "  </tbody>\n",
       "</table>\n",
       "</div>"
      ],
      "text/plain": [
       "  Exchange                           Name  Last_Price     Market_Cap  \\\n",
       "0     NYSE     Agilent Technologies, Inc.       81.68 25934696179.92   \n",
       "1     NYSE              Alcoa Corporation       29.15  5407809589.60   \n",
       "2   NASDAQ                    Altaba Inc.       75.39 42781131315.30   \n",
       "3     NYSE             AAC Holdings, Inc.        2.16    53141086.80   \n",
       "4   NASDAQ  American Airlines Group, Inc.       34.02 15276869742.96   \n",
       "\n",
       "   IPO_Year                                          Industry  \n",
       "0      1999  Biotechnology: Laboratory Analytical Instruments  \n",
       "1      2016                                          Aluminum  \n",
       "2      1969                                      EDP Services  \n",
       "3      2014                              Medical Specialities  \n",
       "4      1969                     Air Freight/Delivery Services  "
      ]
     },
     "execution_count": 9,
     "metadata": {},
     "output_type": "execute_result"
    }
   ],
   "source": [
    "# run the cell!\n",
    "listings.head()"
   ]
  },
  {
   "cell_type": "code",
   "execution_count": 10,
   "metadata": {},
   "outputs": [
    {
     "name": "stdout",
     "output_type": "stream",
     "text": [
      "<class 'pandas.core.frame.DataFrame'>\n",
      "Int64Index: 6541 entries, 0 to 6851\n",
      "Data columns (total 6 columns):\n",
      " #   Column      Non-Null Count  Dtype  \n",
      "---  ------      --------------  -----  \n",
      " 0   Exchange    6541 non-null   object \n",
      " 1   Name        6541 non-null   object \n",
      " 2   Last_Price  6541 non-null   float64\n",
      " 3   Market_Cap  5677 non-null   float64\n",
      " 4   IPO_Year    6541 non-null   int64  \n",
      " 5   Industry    5085 non-null   object \n",
      "dtypes: float64(2), int64(1), object(3)\n",
      "memory usage: 357.7+ KB\n"
     ]
    }
   ],
   "source": [
    "# run the cell!\n",
    "listings.info()"
   ]
  },
  {
   "cell_type": "markdown",
   "metadata": {},
   "source": [
    "78. __Add__ the new column __MCAP_MUSD__ (Market Cap in Million USD) to the DataFrame listings by dividing Market_Cap by 1 million. __Fill in the gaps__!"
   ]
  },
  {
   "cell_type": "code",
   "execution_count": 12,
   "metadata": {},
   "outputs": [
    {
     "name": "stderr",
     "output_type": "stream",
     "text": [
      "/var/folders/b8/lmz1tyx9785389sr236542740000gn/T/ipykernel_2153/2102827983.py:1: SettingWithCopyWarning: \n",
      "A value is trying to be set on a copy of a slice from a DataFrame.\n",
      "Try using .loc[row_indexer,col_indexer] = value instead\n",
      "\n",
      "See the caveats in the documentation: https://pandas.pydata.org/pandas-docs/stable/user_guide/indexing.html#returning-a-view-versus-a-copy\n",
      "  listings[\"MCAP_MUSD\"] = listings.Market_Cap/1000000\n"
     ]
    }
   ],
   "source": [
    "listings[\"MCAP_MUSD\"] = listings.Market_Cap/1000000"
   ]
  },
  {
   "cell_type": "markdown",
   "metadata": {},
   "source": [
    "__Inspect__! What is the __MCAP_MUSD__ for AAC Holdings?"
   ]
  },
  {
   "cell_type": "code",
   "execution_count": 13,
   "metadata": {},
   "outputs": [
    {
     "data": {
      "text/html": [
       "<div>\n",
       "<style scoped>\n",
       "    .dataframe tbody tr th:only-of-type {\n",
       "        vertical-align: middle;\n",
       "    }\n",
       "\n",
       "    .dataframe tbody tr th {\n",
       "        vertical-align: top;\n",
       "    }\n",
       "\n",
       "    .dataframe thead th {\n",
       "        text-align: right;\n",
       "    }\n",
       "</style>\n",
       "<table border=\"1\" class=\"dataframe\">\n",
       "  <thead>\n",
       "    <tr style=\"text-align: right;\">\n",
       "      <th></th>\n",
       "      <th>Exchange</th>\n",
       "      <th>Name</th>\n",
       "      <th>Last_Price</th>\n",
       "      <th>Market_Cap</th>\n",
       "      <th>IPO_Year</th>\n",
       "      <th>Industry</th>\n",
       "      <th>MCAP_MUSD</th>\n",
       "    </tr>\n",
       "  </thead>\n",
       "  <tbody>\n",
       "    <tr>\n",
       "      <th>0</th>\n",
       "      <td>NYSE</td>\n",
       "      <td>Agilent Technologies, Inc.</td>\n",
       "      <td>81.68</td>\n",
       "      <td>25934696179.92</td>\n",
       "      <td>1999</td>\n",
       "      <td>Biotechnology: Laboratory Analytical Instruments</td>\n",
       "      <td>25934.70</td>\n",
       "    </tr>\n",
       "    <tr>\n",
       "      <th>1</th>\n",
       "      <td>NYSE</td>\n",
       "      <td>Alcoa Corporation</td>\n",
       "      <td>29.15</td>\n",
       "      <td>5407809589.60</td>\n",
       "      <td>2016</td>\n",
       "      <td>Aluminum</td>\n",
       "      <td>5407.81</td>\n",
       "    </tr>\n",
       "    <tr>\n",
       "      <th>2</th>\n",
       "      <td>NASDAQ</td>\n",
       "      <td>Altaba Inc.</td>\n",
       "      <td>75.39</td>\n",
       "      <td>42781131315.30</td>\n",
       "      <td>1969</td>\n",
       "      <td>EDP Services</td>\n",
       "      <td>42781.13</td>\n",
       "    </tr>\n",
       "    <tr>\n",
       "      <th>3</th>\n",
       "      <td>NYSE</td>\n",
       "      <td>AAC Holdings, Inc.</td>\n",
       "      <td>2.16</td>\n",
       "      <td>53141086.80</td>\n",
       "      <td>2014</td>\n",
       "      <td>Medical Specialities</td>\n",
       "      <td>53.14</td>\n",
       "    </tr>\n",
       "    <tr>\n",
       "      <th>4</th>\n",
       "      <td>NASDAQ</td>\n",
       "      <td>American Airlines Group, Inc.</td>\n",
       "      <td>34.02</td>\n",
       "      <td>15276869742.96</td>\n",
       "      <td>1969</td>\n",
       "      <td>Air Freight/Delivery Services</td>\n",
       "      <td>15276.87</td>\n",
       "    </tr>\n",
       "  </tbody>\n",
       "</table>\n",
       "</div>"
      ],
      "text/plain": [
       "  Exchange                           Name  Last_Price     Market_Cap  \\\n",
       "0     NYSE     Agilent Technologies, Inc.       81.68 25934696179.92   \n",
       "1     NYSE              Alcoa Corporation       29.15  5407809589.60   \n",
       "2   NASDAQ                    Altaba Inc.       75.39 42781131315.30   \n",
       "3     NYSE             AAC Holdings, Inc.        2.16    53141086.80   \n",
       "4   NASDAQ  American Airlines Group, Inc.       34.02 15276869742.96   \n",
       "\n",
       "   IPO_Year                                          Industry  MCAP_MUSD  \n",
       "0      1999  Biotechnology: Laboratory Analytical Instruments   25934.70  \n",
       "1      2016                                          Aluminum    5407.81  \n",
       "2      1969                                      EDP Services   42781.13  \n",
       "3      2014                              Medical Specialities      53.14  \n",
       "4      1969                     Air Freight/Delivery Services   15276.87  "
      ]
     },
     "execution_count": 13,
     "metadata": {},
     "output_type": "execute_result"
    }
   ],
   "source": [
    "# run the cell!\n",
    "listings.head()"
   ]
  },
  {
   "cell_type": "markdown",
   "metadata": {},
   "source": [
    "AAC Holdings has a Market Cap of ... 53.14 MUSD!"
   ]
  },
  {
   "cell_type": "markdown",
   "metadata": {},
   "source": [
    "79. __Add__ the new column __Shares__ with the total amount of __shares outstanding__ for each listing. __Divide__ __Market_Cap__ by the __Last_Price__! <br>\n",
    "Instead of using the arithmetic sign \"/\", use an __appropriate method for division__! "
   ]
  },
  {
   "cell_type": "code",
   "execution_count": 14,
   "metadata": {},
   "outputs": [],
   "source": [
    "listings[\"Shares\"] = listings[\"Market_Cap\"].divide(listings[\"Last_Price\"])"
   ]
  },
  {
   "cell_type": "code",
   "execution_count": 16,
   "metadata": {},
   "outputs": [
    {
     "data": {
      "text/html": [
       "<div>\n",
       "<style scoped>\n",
       "    .dataframe tbody tr th:only-of-type {\n",
       "        vertical-align: middle;\n",
       "    }\n",
       "\n",
       "    .dataframe tbody tr th {\n",
       "        vertical-align: top;\n",
       "    }\n",
       "\n",
       "    .dataframe thead th {\n",
       "        text-align: right;\n",
       "    }\n",
       "</style>\n",
       "<table border=\"1\" class=\"dataframe\">\n",
       "  <thead>\n",
       "    <tr style=\"text-align: right;\">\n",
       "      <th></th>\n",
       "      <th>Exchange</th>\n",
       "      <th>Name</th>\n",
       "      <th>Last_Price</th>\n",
       "      <th>Market_Cap</th>\n",
       "      <th>IPO_Year</th>\n",
       "      <th>Industry</th>\n",
       "      <th>MCAP_MUSD</th>\n",
       "      <th>Shares</th>\n",
       "    </tr>\n",
       "  </thead>\n",
       "  <tbody>\n",
       "    <tr>\n",
       "      <th>0</th>\n",
       "      <td>NYSE</td>\n",
       "      <td>Agilent Technologies, Inc.</td>\n",
       "      <td>81.68</td>\n",
       "      <td>25934696179.92</td>\n",
       "      <td>1999</td>\n",
       "      <td>Biotechnology: Laboratory Analytical Instruments</td>\n",
       "      <td>25934.70</td>\n",
       "      <td>317515869.00</td>\n",
       "    </tr>\n",
       "    <tr>\n",
       "      <th>1</th>\n",
       "      <td>NYSE</td>\n",
       "      <td>Alcoa Corporation</td>\n",
       "      <td>29.15</td>\n",
       "      <td>5407809589.60</td>\n",
       "      <td>2016</td>\n",
       "      <td>Aluminum</td>\n",
       "      <td>5407.81</td>\n",
       "      <td>185516624.00</td>\n",
       "    </tr>\n",
       "    <tr>\n",
       "      <th>2</th>\n",
       "      <td>NASDAQ</td>\n",
       "      <td>Altaba Inc.</td>\n",
       "      <td>75.39</td>\n",
       "      <td>42781131315.30</td>\n",
       "      <td>1969</td>\n",
       "      <td>EDP Services</td>\n",
       "      <td>42781.13</td>\n",
       "      <td>567464270.00</td>\n",
       "    </tr>\n",
       "    <tr>\n",
       "      <th>3</th>\n",
       "      <td>NYSE</td>\n",
       "      <td>AAC Holdings, Inc.</td>\n",
       "      <td>2.16</td>\n",
       "      <td>53141086.80</td>\n",
       "      <td>2014</td>\n",
       "      <td>Medical Specialities</td>\n",
       "      <td>53.14</td>\n",
       "      <td>24602355.00</td>\n",
       "    </tr>\n",
       "    <tr>\n",
       "      <th>4</th>\n",
       "      <td>NASDAQ</td>\n",
       "      <td>American Airlines Group, Inc.</td>\n",
       "      <td>34.02</td>\n",
       "      <td>15276869742.96</td>\n",
       "      <td>1969</td>\n",
       "      <td>Air Freight/Delivery Services</td>\n",
       "      <td>15276.87</td>\n",
       "      <td>449055548.00</td>\n",
       "    </tr>\n",
       "  </tbody>\n",
       "</table>\n",
       "</div>"
      ],
      "text/plain": [
       "  Exchange                           Name  Last_Price     Market_Cap  \\\n",
       "0     NYSE     Agilent Technologies, Inc.       81.68 25934696179.92   \n",
       "1     NYSE              Alcoa Corporation       29.15  5407809589.60   \n",
       "2   NASDAQ                    Altaba Inc.       75.39 42781131315.30   \n",
       "3     NYSE             AAC Holdings, Inc.        2.16    53141086.80   \n",
       "4   NASDAQ  American Airlines Group, Inc.       34.02 15276869742.96   \n",
       "\n",
       "   IPO_Year                                          Industry  MCAP_MUSD  \\\n",
       "0      1999  Biotechnology: Laboratory Analytical Instruments   25934.70   \n",
       "1      2016                                          Aluminum    5407.81   \n",
       "2      1969                                      EDP Services   42781.13   \n",
       "3      2014                              Medical Specialities      53.14   \n",
       "4      1969                     Air Freight/Delivery Services   15276.87   \n",
       "\n",
       "        Shares  \n",
       "0 317515869.00  \n",
       "1 185516624.00  \n",
       "2 567464270.00  \n",
       "3  24602355.00  \n",
       "4 449055548.00  "
      ]
     },
     "execution_count": 16,
     "metadata": {},
     "output_type": "execute_result"
    }
   ],
   "source": [
    "# run the cell!\n",
    "listings.head()"
   ]
  },
  {
   "cell_type": "code",
   "execution_count": 17,
   "metadata": {},
   "outputs": [
    {
     "name": "stdout",
     "output_type": "stream",
     "text": [
      "<class 'pandas.core.frame.DataFrame'>\n",
      "Int64Index: 6541 entries, 0 to 6851\n",
      "Data columns (total 8 columns):\n",
      " #   Column      Non-Null Count  Dtype  \n",
      "---  ------      --------------  -----  \n",
      " 0   Exchange    6541 non-null   object \n",
      " 1   Name        6541 non-null   object \n",
      " 2   Last_Price  6541 non-null   float64\n",
      " 3   Market_Cap  5677 non-null   float64\n",
      " 4   IPO_Year    6541 non-null   int64  \n",
      " 5   Industry    5085 non-null   object \n",
      " 6   MCAP_MUSD   5677 non-null   float64\n",
      " 7   Shares      5583 non-null   float64\n",
      "dtypes: float64(4), int64(1), object(3)\n",
      "memory usage: 459.9+ KB\n"
     ]
    }
   ],
   "source": [
    "# run the cell!\n",
    "listings.info()"
   ]
  },
  {
   "cell_type": "markdown",
   "metadata": {},
   "source": [
    "80. __Sort__ listings by the __Shares__ column from __high to low__. Which listing has the __largest number__ of shares outstanding"
   ]
  },
  {
   "cell_type": "code",
   "execution_count": 18,
   "metadata": {
    "scrolled": true
   },
   "outputs": [
    {
     "data": {
      "text/html": [
       "<div>\n",
       "<style scoped>\n",
       "    .dataframe tbody tr th:only-of-type {\n",
       "        vertical-align: middle;\n",
       "    }\n",
       "\n",
       "    .dataframe tbody tr th {\n",
       "        vertical-align: top;\n",
       "    }\n",
       "\n",
       "    .dataframe thead th {\n",
       "        text-align: right;\n",
       "    }\n",
       "</style>\n",
       "<table border=\"1\" class=\"dataframe\">\n",
       "  <thead>\n",
       "    <tr style=\"text-align: right;\">\n",
       "      <th></th>\n",
       "      <th>Exchange</th>\n",
       "      <th>Name</th>\n",
       "      <th>Last_Price</th>\n",
       "      <th>Market_Cap</th>\n",
       "      <th>IPO_Year</th>\n",
       "      <th>Industry</th>\n",
       "      <th>MCAP_MUSD</th>\n",
       "      <th>Shares</th>\n",
       "    </tr>\n",
       "  </thead>\n",
       "  <tbody>\n",
       "    <tr>\n",
       "      <th>3812</th>\n",
       "      <td>NYSE</td>\n",
       "      <td>Lloyds Banking Group Plc</td>\n",
       "      <td>3.28</td>\n",
       "      <td>58377889642.08</td>\n",
       "      <td>1969</td>\n",
       "      <td>Commercial Banks</td>\n",
       "      <td>58377.89</td>\n",
       "      <td>17798137086.00</td>\n",
       "    </tr>\n",
       "    <tr>\n",
       "      <th>5422</th>\n",
       "      <td>NYSE</td>\n",
       "      <td>Banco Santander, S.A.</td>\n",
       "      <td>4.91</td>\n",
       "      <td>79721578055.22</td>\n",
       "      <td>1969</td>\n",
       "      <td>Commercial Banks</td>\n",
       "      <td>79721.58</td>\n",
       "      <td>16236573942.00</td>\n",
       "    </tr>\n",
       "    <tr>\n",
       "      <th>25</th>\n",
       "      <td>NYSE</td>\n",
       "      <td>Ambev S.A.</td>\n",
       "      <td>4.54</td>\n",
       "      <td>71397713602.90</td>\n",
       "      <td>2013</td>\n",
       "      <td>Beverages (Production/Distribution)</td>\n",
       "      <td>71397.71</td>\n",
       "      <td>15726368635.00</td>\n",
       "    </tr>\n",
       "    <tr>\n",
       "      <th>4169</th>\n",
       "      <td>NYSE</td>\n",
       "      <td>Mitsubishi UFJ Financial Group Inc</td>\n",
       "      <td>5.04</td>\n",
       "      <td>65129451176.16</td>\n",
       "      <td>1969</td>\n",
       "      <td>Commercial Banks</td>\n",
       "      <td>65129.45</td>\n",
       "      <td>12922510154.00</td>\n",
       "    </tr>\n",
       "    <tr>\n",
       "      <th>3929</th>\n",
       "      <td>NYSE</td>\n",
       "      <td>Mizuho Financial Group, Inc.</td>\n",
       "      <td>3.12</td>\n",
       "      <td>39558969655.92</td>\n",
       "      <td>1969</td>\n",
       "      <td>Major Banks</td>\n",
       "      <td>39558.97</td>\n",
       "      <td>12679156941.00</td>\n",
       "    </tr>\n",
       "    <tr>\n",
       "      <th>...</th>\n",
       "      <td>...</td>\n",
       "      <td>...</td>\n",
       "      <td>...</td>\n",
       "      <td>...</td>\n",
       "      <td>...</td>\n",
       "      <td>...</td>\n",
       "      <td>...</td>\n",
       "      <td>...</td>\n",
       "    </tr>\n",
       "    <tr>\n",
       "      <th>6819</th>\n",
       "      <td>NYSE</td>\n",
       "      <td>Zions Bancorporation N.A.</td>\n",
       "      <td>27.62</td>\n",
       "      <td>NaN</td>\n",
       "      <td>1969</td>\n",
       "      <td>NaN</td>\n",
       "      <td>NaN</td>\n",
       "      <td>NaN</td>\n",
       "    </tr>\n",
       "    <tr>\n",
       "      <th>6820</th>\n",
       "      <td>NYSE</td>\n",
       "      <td>Zions Bancorporation N.A.</td>\n",
       "      <td>25.55</td>\n",
       "      <td>NaN</td>\n",
       "      <td>1969</td>\n",
       "      <td>NaN</td>\n",
       "      <td>NaN</td>\n",
       "      <td>NaN</td>\n",
       "    </tr>\n",
       "    <tr>\n",
       "      <th>6830</th>\n",
       "      <td>NASDAQ</td>\n",
       "      <td>Zions Bancorporation N.A.</td>\n",
       "      <td>14.74</td>\n",
       "      <td>NaN</td>\n",
       "      <td>1969</td>\n",
       "      <td>Major Banks</td>\n",
       "      <td>NaN</td>\n",
       "      <td>NaN</td>\n",
       "    </tr>\n",
       "    <tr>\n",
       "      <th>6839</th>\n",
       "      <td>NASDAQ</td>\n",
       "      <td>Zion Oil &amp; Gas Inc</td>\n",
       "      <td>0.00</td>\n",
       "      <td>0.00</td>\n",
       "      <td>1969</td>\n",
       "      <td>Oil &amp; Gas Production</td>\n",
       "      <td>0.00</td>\n",
       "      <td>NaN</td>\n",
       "    </tr>\n",
       "    <tr>\n",
       "      <th>6843</th>\n",
       "      <td>NASDAQ</td>\n",
       "      <td>BATS BZX Exchange</td>\n",
       "      <td>10.10</td>\n",
       "      <td>NaN</td>\n",
       "      <td>1969</td>\n",
       "      <td>NaN</td>\n",
       "      <td>NaN</td>\n",
       "      <td>NaN</td>\n",
       "    </tr>\n",
       "  </tbody>\n",
       "</table>\n",
       "<p>6541 rows × 8 columns</p>\n",
       "</div>"
      ],
      "text/plain": [
       "     Exchange                                Name  Last_Price     Market_Cap  \\\n",
       "3812     NYSE            Lloyds Banking Group Plc        3.28 58377889642.08   \n",
       "5422     NYSE               Banco Santander, S.A.        4.91 79721578055.22   \n",
       "25       NYSE                          Ambev S.A.        4.54 71397713602.90   \n",
       "4169     NYSE  Mitsubishi UFJ Financial Group Inc        5.04 65129451176.16   \n",
       "3929     NYSE        Mizuho Financial Group, Inc.        3.12 39558969655.92   \n",
       "...       ...                                 ...         ...            ...   \n",
       "6819     NYSE           Zions Bancorporation N.A.       27.62            NaN   \n",
       "6820     NYSE           Zions Bancorporation N.A.       25.55            NaN   \n",
       "6830   NASDAQ           Zions Bancorporation N.A.       14.74            NaN   \n",
       "6839   NASDAQ                  Zion Oil & Gas Inc        0.00           0.00   \n",
       "6843   NASDAQ                   BATS BZX Exchange       10.10            NaN   \n",
       "\n",
       "      IPO_Year                             Industry  MCAP_MUSD         Shares  \n",
       "3812      1969                     Commercial Banks   58377.89 17798137086.00  \n",
       "5422      1969                     Commercial Banks   79721.58 16236573942.00  \n",
       "25        2013  Beverages (Production/Distribution)   71397.71 15726368635.00  \n",
       "4169      1969                     Commercial Banks   65129.45 12922510154.00  \n",
       "3929      1969                          Major Banks   39558.97 12679156941.00  \n",
       "...        ...                                  ...        ...            ...  \n",
       "6819      1969                                  NaN        NaN            NaN  \n",
       "6820      1969                                  NaN        NaN            NaN  \n",
       "6830      1969                          Major Banks        NaN            NaN  \n",
       "6839      1969                 Oil & Gas Production       0.00            NaN  \n",
       "6843      1969                                  NaN        NaN            NaN  \n",
       "\n",
       "[6541 rows x 8 columns]"
      ]
     },
     "execution_count": 18,
     "metadata": {},
     "output_type": "execute_result"
    }
   ],
   "source": [
    "listings.sort_values(\"Shares\",ascending=False)"
   ]
  },
  {
   "cell_type": "markdown",
   "metadata": {},
   "source": [
    "Lloyds Banking Group has over 17 billion shares outstanding!"
   ]
  },
  {
   "cell_type": "markdown",
   "metadata": {},
   "source": [
    "81. Let´s assume we have the listings for NYSE, NASDAQ and AMEX in __three separate datasets__. __Import__ the three datasets into Pandas and __inspect__!"
   ]
  },
  {
   "cell_type": "code",
   "execution_count": 19,
   "metadata": {},
   "outputs": [],
   "source": [
    "# run the cell!\n",
    "nyse = pd.read_csv(\"NYSE.csv\")\n",
    "nasdaq = pd.read_csv(\"NASDAQ.csv\") \n",
    "amex = pd.read_csv(\"AMEX.csv\") "
   ]
  },
  {
   "cell_type": "code",
   "execution_count": 20,
   "metadata": {},
   "outputs": [
    {
     "data": {
      "text/html": [
       "<div>\n",
       "<style scoped>\n",
       "    .dataframe tbody tr th:only-of-type {\n",
       "        vertical-align: middle;\n",
       "    }\n",
       "\n",
       "    .dataframe tbody tr th {\n",
       "        vertical-align: top;\n",
       "    }\n",
       "\n",
       "    .dataframe thead th {\n",
       "        text-align: right;\n",
       "    }\n",
       "</style>\n",
       "<table border=\"1\" class=\"dataframe\">\n",
       "  <thead>\n",
       "    <tr style=\"text-align: right;\">\n",
       "      <th></th>\n",
       "      <th>Symbol</th>\n",
       "      <th>Name</th>\n",
       "      <th>LastSale</th>\n",
       "      <th>MarketCap</th>\n",
       "      <th>ADR TSO</th>\n",
       "      <th>IPOyear</th>\n",
       "      <th>Sector</th>\n",
       "      <th>Industry</th>\n",
       "    </tr>\n",
       "  </thead>\n",
       "  <tbody>\n",
       "    <tr>\n",
       "      <th>0</th>\n",
       "      <td>DDD</td>\n",
       "      <td>3D Systems Corporation</td>\n",
       "      <td>10.91</td>\n",
       "      <td>1272949528.47</td>\n",
       "      <td>NaN</td>\n",
       "      <td>NaN</td>\n",
       "      <td>Technology</td>\n",
       "      <td>Computer Software: Prepackaged Software</td>\n",
       "    </tr>\n",
       "    <tr>\n",
       "      <th>1</th>\n",
       "      <td>MMM</td>\n",
       "      <td>3M Company</td>\n",
       "      <td>212.11</td>\n",
       "      <td>122153435461.96</td>\n",
       "      <td>NaN</td>\n",
       "      <td>NaN</td>\n",
       "      <td>Health Care</td>\n",
       "      <td>Medical/Dental Instruments</td>\n",
       "    </tr>\n",
       "    <tr>\n",
       "      <th>2</th>\n",
       "      <td>WBAI</td>\n",
       "      <td>500.com Limited</td>\n",
       "      <td>13.85</td>\n",
       "      <td>588423939.55</td>\n",
       "      <td>NaN</td>\n",
       "      <td>2013.00</td>\n",
       "      <td>Consumer Services</td>\n",
       "      <td>Services-Misc. Amusement &amp; Recreation</td>\n",
       "    </tr>\n",
       "    <tr>\n",
       "      <th>3</th>\n",
       "      <td>WUBA</td>\n",
       "      <td>58.com Inc.</td>\n",
       "      <td>70.11</td>\n",
       "      <td>10391864681.79</td>\n",
       "      <td>NaN</td>\n",
       "      <td>2013.00</td>\n",
       "      <td>Technology</td>\n",
       "      <td>Computer Software: Programming, Data Processing</td>\n",
       "    </tr>\n",
       "    <tr>\n",
       "      <th>4</th>\n",
       "      <td>EGHT</td>\n",
       "      <td>8x8 Inc</td>\n",
       "      <td>21.09</td>\n",
       "      <td>2017357580.82</td>\n",
       "      <td>NaN</td>\n",
       "      <td>NaN</td>\n",
       "      <td>Technology</td>\n",
       "      <td>EDP Services</td>\n",
       "    </tr>\n",
       "  </tbody>\n",
       "</table>\n",
       "</div>"
      ],
      "text/plain": [
       "  Symbol                    Name  LastSale       MarketCap  ADR TSO  IPOyear  \\\n",
       "0    DDD  3D Systems Corporation     10.91   1272949528.47      NaN      NaN   \n",
       "1    MMM              3M Company    212.11 122153435461.96      NaN      NaN   \n",
       "2   WBAI         500.com Limited     13.85    588423939.55      NaN  2013.00   \n",
       "3   WUBA             58.com Inc.     70.11  10391864681.79      NaN  2013.00   \n",
       "4   EGHT                 8x8 Inc     21.09   2017357580.82      NaN      NaN   \n",
       "\n",
       "              Sector                                         Industry  \n",
       "0         Technology          Computer Software: Prepackaged Software  \n",
       "1        Health Care                       Medical/Dental Instruments  \n",
       "2  Consumer Services            Services-Misc. Amusement & Recreation  \n",
       "3         Technology  Computer Software: Programming, Data Processing  \n",
       "4         Technology                                     EDP Services  "
      ]
     },
     "execution_count": 20,
     "metadata": {},
     "output_type": "execute_result"
    }
   ],
   "source": [
    "# run the cell!\n",
    "nyse.head()"
   ]
  },
  {
   "cell_type": "code",
   "execution_count": 21,
   "metadata": {},
   "outputs": [
    {
     "name": "stdout",
     "output_type": "stream",
     "text": [
      "<class 'pandas.core.frame.DataFrame'>\n",
      "RangeIndex: 3106 entries, 0 to 3105\n",
      "Data columns (total 8 columns):\n",
      " #   Column     Non-Null Count  Dtype  \n",
      "---  ------     --------------  -----  \n",
      " 0   Symbol     3106 non-null   object \n",
      " 1   Name       3106 non-null   object \n",
      " 2   LastSale   3015 non-null   float64\n",
      " 3   MarketCap  3106 non-null   float64\n",
      " 4   ADR TSO    0 non-null      float64\n",
      " 5   IPOyear    1416 non-null   float64\n",
      " 6   Sector     2121 non-null   object \n",
      " 7   Industry   2121 non-null   object \n",
      "dtypes: float64(4), object(4)\n",
      "memory usage: 194.2+ KB\n"
     ]
    }
   ],
   "source": [
    "# run the cell!\n",
    "nyse.info()"
   ]
  },
  {
   "cell_type": "code",
   "execution_count": 22,
   "metadata": {},
   "outputs": [
    {
     "data": {
      "text/html": [
       "<div>\n",
       "<style scoped>\n",
       "    .dataframe tbody tr th:only-of-type {\n",
       "        vertical-align: middle;\n",
       "    }\n",
       "\n",
       "    .dataframe tbody tr th {\n",
       "        vertical-align: top;\n",
       "    }\n",
       "\n",
       "    .dataframe thead th {\n",
       "        text-align: right;\n",
       "    }\n",
       "</style>\n",
       "<table border=\"1\" class=\"dataframe\">\n",
       "  <thead>\n",
       "    <tr style=\"text-align: right;\">\n",
       "      <th></th>\n",
       "      <th>Symbol</th>\n",
       "      <th>Name</th>\n",
       "      <th>LastSale</th>\n",
       "      <th>MarketCap</th>\n",
       "      <th>ADR TSO</th>\n",
       "      <th>IPOyear</th>\n",
       "      <th>Sector</th>\n",
       "      <th>Industry</th>\n",
       "    </tr>\n",
       "  </thead>\n",
       "  <tbody>\n",
       "    <tr>\n",
       "      <th>0</th>\n",
       "      <td>YI</td>\n",
       "      <td>111, Inc.</td>\n",
       "      <td>7.10</td>\n",
       "      <td>56690340.50</td>\n",
       "      <td>7984555.00</td>\n",
       "      <td>2018.00</td>\n",
       "      <td>Health Care</td>\n",
       "      <td>Medical/Nursing Services</td>\n",
       "    </tr>\n",
       "    <tr>\n",
       "      <th>1</th>\n",
       "      <td>PIH</td>\n",
       "      <td>1347 Property Insurance Holdings, Inc.</td>\n",
       "      <td>5.20</td>\n",
       "      <td>31266372.80</td>\n",
       "      <td>NaN</td>\n",
       "      <td>2014.00</td>\n",
       "      <td>Finance</td>\n",
       "      <td>Property-Casualty Insurers</td>\n",
       "    </tr>\n",
       "    <tr>\n",
       "      <th>2</th>\n",
       "      <td>PIHPP</td>\n",
       "      <td>1347 Property Insurance Holdings, Inc.</td>\n",
       "      <td>24.90</td>\n",
       "      <td>17430000.00</td>\n",
       "      <td>NaN</td>\n",
       "      <td>NaN</td>\n",
       "      <td>Finance</td>\n",
       "      <td>Property-Casualty Insurers</td>\n",
       "    </tr>\n",
       "    <tr>\n",
       "      <th>3</th>\n",
       "      <td>TURN</td>\n",
       "      <td>180 Degree Capital Corp.</td>\n",
       "      <td>1.91</td>\n",
       "      <td>59286575.61</td>\n",
       "      <td>NaN</td>\n",
       "      <td>NaN</td>\n",
       "      <td>Finance</td>\n",
       "      <td>Finance/Investors Services</td>\n",
       "    </tr>\n",
       "    <tr>\n",
       "      <th>4</th>\n",
       "      <td>FLWS</td>\n",
       "      <td>1-800 FLOWERS.COM, Inc.</td>\n",
       "      <td>18.81</td>\n",
       "      <td>1206817397.28</td>\n",
       "      <td>NaN</td>\n",
       "      <td>1999.00</td>\n",
       "      <td>Consumer Services</td>\n",
       "      <td>Other Specialty Stores</td>\n",
       "    </tr>\n",
       "  </tbody>\n",
       "</table>\n",
       "</div>"
      ],
      "text/plain": [
       "  Symbol                                    Name  LastSale     MarketCap  \\\n",
       "0     YI                               111, Inc.      7.10   56690340.50   \n",
       "1    PIH  1347 Property Insurance Holdings, Inc.      5.20   31266372.80   \n",
       "2  PIHPP  1347 Property Insurance Holdings, Inc.     24.90   17430000.00   \n",
       "3   TURN                180 Degree Capital Corp.      1.91   59286575.61   \n",
       "4   FLWS                 1-800 FLOWERS.COM, Inc.     18.81 1206817397.28   \n",
       "\n",
       "     ADR TSO  IPOyear             Sector                    Industry  \n",
       "0 7984555.00  2018.00        Health Care    Medical/Nursing Services  \n",
       "1        NaN  2014.00            Finance  Property-Casualty Insurers  \n",
       "2        NaN      NaN            Finance  Property-Casualty Insurers  \n",
       "3        NaN      NaN            Finance  Finance/Investors Services  \n",
       "4        NaN  1999.00  Consumer Services      Other Specialty Stores  "
      ]
     },
     "execution_count": 22,
     "metadata": {},
     "output_type": "execute_result"
    }
   ],
   "source": [
    "# run the cell!\n",
    "nasdaq.head()"
   ]
  },
  {
   "cell_type": "code",
   "execution_count": 23,
   "metadata": {},
   "outputs": [
    {
     "name": "stdout",
     "output_type": "stream",
     "text": [
      "<class 'pandas.core.frame.DataFrame'>\n",
      "RangeIndex: 3435 entries, 0 to 3434\n",
      "Data columns (total 8 columns):\n",
      " #   Column     Non-Null Count  Dtype  \n",
      "---  ------     --------------  -----  \n",
      " 0   Symbol     3435 non-null   object \n",
      " 1   Name       3435 non-null   object \n",
      " 2   LastSale   3432 non-null   float64\n",
      " 3   MarketCap  3435 non-null   float64\n",
      " 4   ADR TSO    140 non-null    float64\n",
      " 5   IPOyear    1599 non-null   float64\n",
      " 6   Sector     2964 non-null   object \n",
      " 7   Industry   2964 non-null   object \n",
      "dtypes: float64(4), object(4)\n",
      "memory usage: 214.8+ KB\n"
     ]
    }
   ],
   "source": [
    "# run the cell!\n",
    "nasdaq.info()"
   ]
  },
  {
   "cell_type": "code",
   "execution_count": 24,
   "metadata": {},
   "outputs": [
    {
     "data": {
      "text/html": [
       "<div>\n",
       "<style scoped>\n",
       "    .dataframe tbody tr th:only-of-type {\n",
       "        vertical-align: middle;\n",
       "    }\n",
       "\n",
       "    .dataframe tbody tr th {\n",
       "        vertical-align: top;\n",
       "    }\n",
       "\n",
       "    .dataframe thead th {\n",
       "        text-align: right;\n",
       "    }\n",
       "</style>\n",
       "<table border=\"1\" class=\"dataframe\">\n",
       "  <thead>\n",
       "    <tr style=\"text-align: right;\">\n",
       "      <th></th>\n",
       "      <th>Symbol</th>\n",
       "      <th>Name</th>\n",
       "      <th>LastSale</th>\n",
       "      <th>MarketCap</th>\n",
       "      <th>ADR TSO</th>\n",
       "      <th>IPOyear</th>\n",
       "      <th>Sector</th>\n",
       "      <th>Industry</th>\n",
       "    </tr>\n",
       "  </thead>\n",
       "  <tbody>\n",
       "    <tr>\n",
       "      <th>0</th>\n",
       "      <td>XXII</td>\n",
       "      <td>22nd Century Group, Inc</td>\n",
       "      <td>1.89</td>\n",
       "      <td>235574500.77</td>\n",
       "      <td>NaN</td>\n",
       "      <td>NaN</td>\n",
       "      <td>Consumer Non-Durables</td>\n",
       "      <td>Farming/Seeds/Milling</td>\n",
       "    </tr>\n",
       "    <tr>\n",
       "      <th>1</th>\n",
       "      <td>FAX</td>\n",
       "      <td>Aberdeen Asia-Pacific Income Fund Inc</td>\n",
       "      <td>4.14</td>\n",
       "      <td>1042993611.36</td>\n",
       "      <td>NaN</td>\n",
       "      <td>1986.00</td>\n",
       "      <td>NaN</td>\n",
       "      <td>NaN</td>\n",
       "    </tr>\n",
       "    <tr>\n",
       "      <th>2</th>\n",
       "      <td>IAF</td>\n",
       "      <td>Aberdeen Australia Equity Fund Inc</td>\n",
       "      <td>5.45</td>\n",
       "      <td>123945676.70</td>\n",
       "      <td>NaN</td>\n",
       "      <td>NaN</td>\n",
       "      <td>NaN</td>\n",
       "      <td>NaN</td>\n",
       "    </tr>\n",
       "    <tr>\n",
       "      <th>3</th>\n",
       "      <td>AEF</td>\n",
       "      <td>Aberdeen Emerging Markets Equity Income Fund, ...</td>\n",
       "      <td>7.58</td>\n",
       "      <td>453154667.63</td>\n",
       "      <td>NaN</td>\n",
       "      <td>NaN</td>\n",
       "      <td>NaN</td>\n",
       "      <td>NaN</td>\n",
       "    </tr>\n",
       "    <tr>\n",
       "      <th>4</th>\n",
       "      <td>FCO</td>\n",
       "      <td>Aberdeen Global Income Fund, Inc.</td>\n",
       "      <td>8.16</td>\n",
       "      <td>71194278.24</td>\n",
       "      <td>NaN</td>\n",
       "      <td>1992.00</td>\n",
       "      <td>NaN</td>\n",
       "      <td>NaN</td>\n",
       "    </tr>\n",
       "  </tbody>\n",
       "</table>\n",
       "</div>"
      ],
      "text/plain": [
       "  Symbol                                               Name  LastSale  \\\n",
       "0   XXII                            22nd Century Group, Inc      1.89   \n",
       "1    FAX              Aberdeen Asia-Pacific Income Fund Inc      4.14   \n",
       "2    IAF                 Aberdeen Australia Equity Fund Inc      5.45   \n",
       "3    AEF  Aberdeen Emerging Markets Equity Income Fund, ...      7.58   \n",
       "4    FCO                  Aberdeen Global Income Fund, Inc.      8.16   \n",
       "\n",
       "      MarketCap  ADR TSO  IPOyear                 Sector  \\\n",
       "0  235574500.77      NaN      NaN  Consumer Non-Durables   \n",
       "1 1042993611.36      NaN  1986.00                    NaN   \n",
       "2  123945676.70      NaN      NaN                    NaN   \n",
       "3  453154667.63      NaN      NaN                    NaN   \n",
       "4   71194278.24      NaN  1992.00                    NaN   \n",
       "\n",
       "                Industry  \n",
       "0  Farming/Seeds/Milling  \n",
       "1                    NaN  \n",
       "2                    NaN  \n",
       "3                    NaN  \n",
       "4                    NaN  "
      ]
     },
     "execution_count": 24,
     "metadata": {},
     "output_type": "execute_result"
    }
   ],
   "source": [
    "# run the cell!\n",
    "amex.head()"
   ]
  },
  {
   "cell_type": "code",
   "execution_count": 25,
   "metadata": {},
   "outputs": [
    {
     "name": "stdout",
     "output_type": "stream",
     "text": [
      "<class 'pandas.core.frame.DataFrame'>\n",
      "RangeIndex: 311 entries, 0 to 310\n",
      "Data columns (total 8 columns):\n",
      " #   Column     Non-Null Count  Dtype  \n",
      "---  ------     --------------  -----  \n",
      " 0   Symbol     311 non-null    object \n",
      " 1   Name       311 non-null    object \n",
      " 2   LastSale   298 non-null    float64\n",
      " 3   MarketCap  311 non-null    float64\n",
      " 4   ADR TSO    0 non-null      float64\n",
      " 5   IPOyear    90 non-null     float64\n",
      " 6   Sector     224 non-null    object \n",
      " 7   Industry   224 non-null    object \n",
      "dtypes: float64(4), object(4)\n",
      "memory usage: 19.6+ KB\n"
     ]
    }
   ],
   "source": [
    "# run the cell!\n",
    "amex.info()"
   ]
  },
  {
   "cell_type": "markdown",
   "metadata": {},
   "source": [
    "82. __Concatenate__ the three DataFrames into one DataFrame and save the new DataFrame in the variable __all_listings__! <br>\n",
    "Each row/listing should contain information about the respective __Exchange__ (__NYSE__, __NASDAQ__ or __AMEX__)! __Fill in the gaps__!"
   ]
  },
  {
   "cell_type": "code",
   "execution_count": 38,
   "metadata": {},
   "outputs": [],
   "source": [
    "all_listings = pd.concat([nyse, nasdaq, amex], keys = [\"NYSE\", \"NASDAQ\", \"AMEX\"], names = [\"Exchange\"])"
   ]
  },
  {
   "cell_type": "code",
   "execution_count": 36,
   "metadata": {},
   "outputs": [
    {
     "data": {
      "text/html": [
       "<div>\n",
       "<style scoped>\n",
       "    .dataframe tbody tr th:only-of-type {\n",
       "        vertical-align: middle;\n",
       "    }\n",
       "\n",
       "    .dataframe tbody tr th {\n",
       "        vertical-align: top;\n",
       "    }\n",
       "\n",
       "    .dataframe thead th {\n",
       "        text-align: right;\n",
       "    }\n",
       "</style>\n",
       "<table border=\"1\" class=\"dataframe\">\n",
       "  <thead>\n",
       "    <tr style=\"text-align: right;\">\n",
       "      <th></th>\n",
       "      <th></th>\n",
       "      <th>Symbol</th>\n",
       "      <th>Name</th>\n",
       "      <th>LastSale</th>\n",
       "      <th>MarketCap</th>\n",
       "      <th>ADR TSO</th>\n",
       "      <th>IPOyear</th>\n",
       "      <th>Sector</th>\n",
       "      <th>Industry</th>\n",
       "    </tr>\n",
       "    <tr>\n",
       "      <th>Exchange</th>\n",
       "      <th></th>\n",
       "      <th></th>\n",
       "      <th></th>\n",
       "      <th></th>\n",
       "      <th></th>\n",
       "      <th></th>\n",
       "      <th></th>\n",
       "      <th></th>\n",
       "      <th></th>\n",
       "    </tr>\n",
       "  </thead>\n",
       "  <tbody>\n",
       "    <tr>\n",
       "      <th rowspan=\"5\" valign=\"top\">NYSE</th>\n",
       "      <th>0</th>\n",
       "      <td>DDD</td>\n",
       "      <td>3D Systems Corporation</td>\n",
       "      <td>10.91</td>\n",
       "      <td>1272949528.47</td>\n",
       "      <td>NaN</td>\n",
       "      <td>NaN</td>\n",
       "      <td>Technology</td>\n",
       "      <td>Computer Software: Prepackaged Software</td>\n",
       "    </tr>\n",
       "    <tr>\n",
       "      <th>1</th>\n",
       "      <td>MMM</td>\n",
       "      <td>3M Company</td>\n",
       "      <td>212.11</td>\n",
       "      <td>122153435461.96</td>\n",
       "      <td>NaN</td>\n",
       "      <td>NaN</td>\n",
       "      <td>Health Care</td>\n",
       "      <td>Medical/Dental Instruments</td>\n",
       "    </tr>\n",
       "    <tr>\n",
       "      <th>2</th>\n",
       "      <td>WBAI</td>\n",
       "      <td>500.com Limited</td>\n",
       "      <td>13.85</td>\n",
       "      <td>588423939.55</td>\n",
       "      <td>NaN</td>\n",
       "      <td>2013.00</td>\n",
       "      <td>Consumer Services</td>\n",
       "      <td>Services-Misc. Amusement &amp; Recreation</td>\n",
       "    </tr>\n",
       "    <tr>\n",
       "      <th>3</th>\n",
       "      <td>WUBA</td>\n",
       "      <td>58.com Inc.</td>\n",
       "      <td>70.11</td>\n",
       "      <td>10391864681.79</td>\n",
       "      <td>NaN</td>\n",
       "      <td>2013.00</td>\n",
       "      <td>Technology</td>\n",
       "      <td>Computer Software: Programming, Data Processing</td>\n",
       "    </tr>\n",
       "    <tr>\n",
       "      <th>4</th>\n",
       "      <td>EGHT</td>\n",
       "      <td>8x8 Inc</td>\n",
       "      <td>21.09</td>\n",
       "      <td>2017357580.82</td>\n",
       "      <td>NaN</td>\n",
       "      <td>NaN</td>\n",
       "      <td>Technology</td>\n",
       "      <td>EDP Services</td>\n",
       "    </tr>\n",
       "  </tbody>\n",
       "</table>\n",
       "</div>"
      ],
      "text/plain": [
       "           Symbol                    Name  LastSale       MarketCap  ADR TSO  \\\n",
       "Exchange                                                                       \n",
       "NYSE     0    DDD  3D Systems Corporation     10.91   1272949528.47      NaN   \n",
       "         1    MMM              3M Company    212.11 122153435461.96      NaN   \n",
       "         2   WBAI         500.com Limited     13.85    588423939.55      NaN   \n",
       "         3   WUBA             58.com Inc.     70.11  10391864681.79      NaN   \n",
       "         4   EGHT                 8x8 Inc     21.09   2017357580.82      NaN   \n",
       "\n",
       "            IPOyear             Sector  \\\n",
       "Exchange                                 \n",
       "NYSE     0      NaN         Technology   \n",
       "         1      NaN        Health Care   \n",
       "         2  2013.00  Consumer Services   \n",
       "         3  2013.00         Technology   \n",
       "         4      NaN         Technology   \n",
       "\n",
       "                                                   Industry  \n",
       "Exchange                                                     \n",
       "NYSE     0          Computer Software: Prepackaged Software  \n",
       "         1                       Medical/Dental Instruments  \n",
       "         2            Services-Misc. Amusement & Recreation  \n",
       "         3  Computer Software: Programming, Data Processing  \n",
       "         4                                     EDP Services  "
      ]
     },
     "execution_count": 36,
     "metadata": {},
     "output_type": "execute_result"
    }
   ],
   "source": [
    "# run the cell!\n",
    "all_listings.head()"
   ]
  },
  {
   "cell_type": "code",
   "execution_count": 39,
   "metadata": {},
   "outputs": [],
   "source": [
    "# run the cell to tidy up!\n",
    "all_listings = all_listings.reset_index()"
   ]
  },
  {
   "cell_type": "markdown",
   "metadata": {},
   "source": [
    "How many listings does __listings_all__ contain in total?"
   ]
  },
  {
   "cell_type": "code",
   "execution_count": 33,
   "metadata": {
    "scrolled": true
   },
   "outputs": [
    {
     "data": {
      "text/html": [
       "<div>\n",
       "<style scoped>\n",
       "    .dataframe tbody tr th:only-of-type {\n",
       "        vertical-align: middle;\n",
       "    }\n",
       "\n",
       "    .dataframe tbody tr th {\n",
       "        vertical-align: top;\n",
       "    }\n",
       "\n",
       "    .dataframe thead th {\n",
       "        text-align: right;\n",
       "    }\n",
       "</style>\n",
       "<table border=\"1\" class=\"dataframe\">\n",
       "  <thead>\n",
       "    <tr style=\"text-align: right;\">\n",
       "      <th></th>\n",
       "      <th>Exchange</th>\n",
       "      <th>Symbol</th>\n",
       "      <th>Name</th>\n",
       "      <th>LastSale</th>\n",
       "      <th>MarketCap</th>\n",
       "      <th>ADR TSO</th>\n",
       "      <th>IPOyear</th>\n",
       "      <th>Sector</th>\n",
       "      <th>Industry</th>\n",
       "    </tr>\n",
       "  </thead>\n",
       "  <tbody>\n",
       "    <tr>\n",
       "      <th>0</th>\n",
       "      <td>NYSE</td>\n",
       "      <td>DDD</td>\n",
       "      <td>3D Systems Corporation</td>\n",
       "      <td>10.91</td>\n",
       "      <td>1272949528.47</td>\n",
       "      <td>NaN</td>\n",
       "      <td>NaN</td>\n",
       "      <td>Technology</td>\n",
       "      <td>Computer Software: Prepackaged Software</td>\n",
       "    </tr>\n",
       "    <tr>\n",
       "      <th>1</th>\n",
       "      <td>NYSE</td>\n",
       "      <td>MMM</td>\n",
       "      <td>3M Company</td>\n",
       "      <td>212.11</td>\n",
       "      <td>122153435461.96</td>\n",
       "      <td>NaN</td>\n",
       "      <td>NaN</td>\n",
       "      <td>Health Care</td>\n",
       "      <td>Medical/Dental Instruments</td>\n",
       "    </tr>\n",
       "    <tr>\n",
       "      <th>2</th>\n",
       "      <td>NYSE</td>\n",
       "      <td>WBAI</td>\n",
       "      <td>500.com Limited</td>\n",
       "      <td>13.85</td>\n",
       "      <td>588423939.55</td>\n",
       "      <td>NaN</td>\n",
       "      <td>2013.00</td>\n",
       "      <td>Consumer Services</td>\n",
       "      <td>Services-Misc. Amusement &amp; Recreation</td>\n",
       "    </tr>\n",
       "    <tr>\n",
       "      <th>3</th>\n",
       "      <td>NYSE</td>\n",
       "      <td>WUBA</td>\n",
       "      <td>58.com Inc.</td>\n",
       "      <td>70.11</td>\n",
       "      <td>10391864681.79</td>\n",
       "      <td>NaN</td>\n",
       "      <td>2013.00</td>\n",
       "      <td>Technology</td>\n",
       "      <td>Computer Software: Programming, Data Processing</td>\n",
       "    </tr>\n",
       "    <tr>\n",
       "      <th>4</th>\n",
       "      <td>NYSE</td>\n",
       "      <td>EGHT</td>\n",
       "      <td>8x8 Inc</td>\n",
       "      <td>21.09</td>\n",
       "      <td>2017357580.82</td>\n",
       "      <td>NaN</td>\n",
       "      <td>NaN</td>\n",
       "      <td>Technology</td>\n",
       "      <td>EDP Services</td>\n",
       "    </tr>\n",
       "  </tbody>\n",
       "</table>\n",
       "</div>"
      ],
      "text/plain": [
       "  Exchange Symbol                    Name  LastSale       MarketCap  ADR TSO  \\\n",
       "0     NYSE    DDD  3D Systems Corporation     10.91   1272949528.47      NaN   \n",
       "1     NYSE    MMM              3M Company    212.11 122153435461.96      NaN   \n",
       "2     NYSE   WBAI         500.com Limited     13.85    588423939.55      NaN   \n",
       "3     NYSE   WUBA             58.com Inc.     70.11  10391864681.79      NaN   \n",
       "4     NYSE   EGHT                 8x8 Inc     21.09   2017357580.82      NaN   \n",
       "\n",
       "   IPOyear             Sector                                         Industry  \n",
       "0      NaN         Technology          Computer Software: Prepackaged Software  \n",
       "1      NaN        Health Care                       Medical/Dental Instruments  \n",
       "2  2013.00  Consumer Services            Services-Misc. Amusement & Recreation  \n",
       "3  2013.00         Technology  Computer Software: Programming, Data Processing  \n",
       "4      NaN         Technology                                     EDP Services  "
      ]
     },
     "execution_count": 33,
     "metadata": {},
     "output_type": "execute_result"
    }
   ],
   "source": [
    "# run and inspect!\n",
    "all_listings.head()"
   ]
  },
  {
   "cell_type": "code",
   "execution_count": 34,
   "metadata": {},
   "outputs": [
    {
     "name": "stdout",
     "output_type": "stream",
     "text": [
      "<class 'pandas.core.frame.DataFrame'>\n",
      "RangeIndex: 6852 entries, 0 to 6851\n",
      "Data columns (total 9 columns):\n",
      " #   Column     Non-Null Count  Dtype  \n",
      "---  ------     --------------  -----  \n",
      " 0   Exchange   6852 non-null   object \n",
      " 1   Symbol     6852 non-null   object \n",
      " 2   Name       6852 non-null   object \n",
      " 3   LastSale   6745 non-null   float64\n",
      " 4   MarketCap  6852 non-null   float64\n",
      " 5   ADR TSO    140 non-null    float64\n",
      " 6   IPOyear    3105 non-null   float64\n",
      " 7   Sector     5309 non-null   object \n",
      " 8   Industry   5309 non-null   object \n",
      "dtypes: float64(4), object(5)\n",
      "memory usage: 481.9+ KB\n"
     ]
    }
   ],
   "source": [
    "# run and inspect!\n",
    "all_listings.info()"
   ]
  },
  {
   "cell_type": "markdown",
   "metadata": {},
   "source": [
    "There are in total ... 6852 listings!"
   ]
  },
  {
   "cell_type": "markdown",
   "metadata": {},
   "source": [
    "# Well Done!"
   ]
  },
  {
   "cell_type": "markdown",
   "metadata": {},
   "source": [
    "---------------------------------"
   ]
  },
  {
   "cell_type": "markdown",
   "metadata": {},
   "source": [
    "# Hints (Spoiler!)"
   ]
  },
  {
   "cell_type": "markdown",
   "metadata": {},
   "source": [
    "76. drop() method, columns parameter"
   ]
  },
  {
   "cell_type": "markdown",
   "metadata": {},
   "source": [
    "77. listings.Exchange != \"AMEX\""
   ]
  },
  {
   "cell_type": "markdown",
   "metadata": {},
   "source": [
    "78. pass \"MCAP_MUSD\" as new column label, Market_Cap column"
   ]
  },
  {
   "cell_type": "markdown",
   "metadata": {},
   "source": [
    "79. use the div() method -> listings[---] = listings.---.div(listings.---)\n",
    "\n",
    "`df1.divide(df2)`"
   ]
  },
  {
   "cell_type": "markdown",
   "metadata": {},
   "source": [
    "80. sort_values() method"
   ]
  },
  {
   "cell_type": "markdown",
   "metadata": {},
   "source": [
    "81. run the cells and inspects!"
   ]
  },
  {
   "cell_type": "markdown",
   "metadata": {},
   "source": [
    "82. pd.concat() method, keys parameter\n",
    "\n",
    "`pd.concat(df_list, keys=, names=)`"
   ]
  }
 ],
 "metadata": {
  "kernelspec": {
   "display_name": "Python 3 (ipykernel)",
   "language": "python",
   "name": "python3"
  },
  "language_info": {
   "codemirror_mode": {
    "name": "ipython",
    "version": 3
   },
   "file_extension": ".py",
   "mimetype": "text/x-python",
   "name": "python",
   "nbconvert_exporter": "python",
   "pygments_lexer": "ipython3",
   "version": "3.9.7"
  },
  "toc": {
   "base_numbering": 1,
   "nav_menu": {},
   "number_sections": true,
   "sideBar": true,
   "skip_h1_title": false,
   "title_cell": "Table of Contents",
   "title_sidebar": "Contents",
   "toc_cell": false,
   "toc_position": {},
   "toc_section_display": true,
   "toc_window_display": false
  }
 },
 "nbformat": 4,
 "nbformat_minor": 2
}
