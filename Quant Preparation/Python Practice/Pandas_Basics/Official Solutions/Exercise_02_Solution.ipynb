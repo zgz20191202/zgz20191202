{
 "cells": [
  {
   "cell_type": "markdown",
   "metadata": {},
   "source": [
    "# Coding Exercises (Part 2)"
   ]
  },
  {
   "cell_type": "markdown",
   "metadata": {},
   "source": [
    "Now, you will have the opportunity to analyze your own dataset. <br>\n",
    "__Follow the instructions__ and insert your code! You are either requested to \n",
    "- Complete the Code and __Fill in the gaps__. Gaps are marked with \"__---__\" and are __placeholders__ for your code fragment \n",
    "- Write Code completely __on your own__ "
   ]
  },
  {
   "cell_type": "markdown",
   "metadata": {},
   "source": [
    "In some exercises, you will find questions that can only be answered, if your code is correct and returns the right output! The correct answer is provided below your coding cell. There you can check whether your code is correct."
   ]
  },
  {
   "cell_type": "markdown",
   "metadata": {},
   "source": [
    "If you need a hint, check the __Hints Section__ at the end of this Notebook. Exercises and Hints are numerated accordingly."
   ]
  },
  {
   "cell_type": "markdown",
   "metadata": {},
   "source": [
    "If you need some further help or if you want to check your code, you can also watch the __solutions videos__ or check the __solutions notebook__."
   ]
  },
  {
   "cell_type": "markdown",
   "metadata": {},
   "source": [
    "### Have Fun!"
   ]
  },
  {
   "cell_type": "markdown",
   "metadata": {},
   "source": [
    "--------------------------------------------------------------------------------------------------------------"
   ]
  },
  {
   "cell_type": "markdown",
   "metadata": {},
   "source": [
    "## Pandas: Basics"
   ]
  },
  {
   "cell_type": "markdown",
   "metadata": {},
   "source": [
    "### Exercise 2: Indexing and Slicing"
   ]
  },
  {
   "cell_type": "markdown",
   "metadata": {},
   "source": [
    "7. -__Import Pandas__ (as pd)<br>\n",
    "-__Import__ the Listings Dataset (__listings.csv__) and save the DataFrame in the variable __listings__ and<br>\n",
    "-__Inspect__ the __first 5 Rows__!"
   ]
  },
  {
   "cell_type": "code",
   "execution_count": 1,
   "metadata": {},
   "outputs": [],
   "source": [
    "import pandas as pd"
   ]
  },
  {
   "cell_type": "code",
   "execution_count": 2,
   "metadata": {},
   "outputs": [],
   "source": [
    "listings = pd.read_csv(\"listings.csv\")"
   ]
  },
  {
   "cell_type": "code",
   "execution_count": 3,
   "metadata": {},
   "outputs": [
    {
     "data": {
      "text/html": [
       "<div>\n",
       "<style scoped>\n",
       "    .dataframe tbody tr th:only-of-type {\n",
       "        vertical-align: middle;\n",
       "    }\n",
       "\n",
       "    .dataframe tbody tr th {\n",
       "        vertical-align: top;\n",
       "    }\n",
       "\n",
       "    .dataframe thead th {\n",
       "        text-align: right;\n",
       "    }\n",
       "</style>\n",
       "<table border=\"1\" class=\"dataframe\">\n",
       "  <thead>\n",
       "    <tr style=\"text-align: right;\">\n",
       "      <th></th>\n",
       "      <th>Symbol</th>\n",
       "      <th>Exchange</th>\n",
       "      <th>Name</th>\n",
       "      <th>Last_Price</th>\n",
       "      <th>Market_Cap</th>\n",
       "      <th>ADR TSO</th>\n",
       "      <th>IPO_Year</th>\n",
       "      <th>Sector</th>\n",
       "      <th>Industry</th>\n",
       "    </tr>\n",
       "  </thead>\n",
       "  <tbody>\n",
       "    <tr>\n",
       "      <th>0</th>\n",
       "      <td>A</td>\n",
       "      <td>NYSE</td>\n",
       "      <td>Agilent Technologies, Inc.</td>\n",
       "      <td>81.68</td>\n",
       "      <td>2.593470e+10</td>\n",
       "      <td>NaN</td>\n",
       "      <td>1999.0</td>\n",
       "      <td>Capital Goods</td>\n",
       "      <td>Biotechnology: Laboratory Analytical Instruments</td>\n",
       "    </tr>\n",
       "    <tr>\n",
       "      <th>1</th>\n",
       "      <td>AA</td>\n",
       "      <td>NYSE</td>\n",
       "      <td>Alcoa Corporation</td>\n",
       "      <td>29.15</td>\n",
       "      <td>5.407810e+09</td>\n",
       "      <td>NaN</td>\n",
       "      <td>2016.0</td>\n",
       "      <td>Basic Industries</td>\n",
       "      <td>Aluminum</td>\n",
       "    </tr>\n",
       "    <tr>\n",
       "      <th>2</th>\n",
       "      <td>AABA</td>\n",
       "      <td>NASDAQ</td>\n",
       "      <td>Altaba Inc.</td>\n",
       "      <td>75.39</td>\n",
       "      <td>4.278113e+10</td>\n",
       "      <td>NaN</td>\n",
       "      <td>NaN</td>\n",
       "      <td>Technology</td>\n",
       "      <td>EDP Services</td>\n",
       "    </tr>\n",
       "    <tr>\n",
       "      <th>3</th>\n",
       "      <td>AAC</td>\n",
       "      <td>NYSE</td>\n",
       "      <td>AAC Holdings, Inc.</td>\n",
       "      <td>2.16</td>\n",
       "      <td>5.314109e+07</td>\n",
       "      <td>NaN</td>\n",
       "      <td>2014.0</td>\n",
       "      <td>Health Care</td>\n",
       "      <td>Medical Specialities</td>\n",
       "    </tr>\n",
       "    <tr>\n",
       "      <th>4</th>\n",
       "      <td>AAL</td>\n",
       "      <td>NASDAQ</td>\n",
       "      <td>American Airlines Group, Inc.</td>\n",
       "      <td>34.02</td>\n",
       "      <td>1.527687e+10</td>\n",
       "      <td>NaN</td>\n",
       "      <td>NaN</td>\n",
       "      <td>Transportation</td>\n",
       "      <td>Air Freight/Delivery Services</td>\n",
       "    </tr>\n",
       "  </tbody>\n",
       "</table>\n",
       "</div>"
      ],
      "text/plain": [
       "  Symbol Exchange                           Name  Last_Price    Market_Cap  \\\n",
       "0      A     NYSE     Agilent Technologies, Inc.       81.68  2.593470e+10   \n",
       "1     AA     NYSE              Alcoa Corporation       29.15  5.407810e+09   \n",
       "2   AABA   NASDAQ                    Altaba Inc.       75.39  4.278113e+10   \n",
       "3    AAC     NYSE             AAC Holdings, Inc.        2.16  5.314109e+07   \n",
       "4    AAL   NASDAQ  American Airlines Group, Inc.       34.02  1.527687e+10   \n",
       "\n",
       "   ADR TSO  IPO_Year            Sector  \\\n",
       "0      NaN    1999.0     Capital Goods   \n",
       "1      NaN    2016.0  Basic Industries   \n",
       "2      NaN       NaN        Technology   \n",
       "3      NaN    2014.0       Health Care   \n",
       "4      NaN       NaN    Transportation   \n",
       "\n",
       "                                           Industry  \n",
       "0  Biotechnology: Laboratory Analytical Instruments  \n",
       "1                                          Aluminum  \n",
       "2                                      EDP Services  \n",
       "3                              Medical Specialities  \n",
       "4                     Air Freight/Delivery Services  "
      ]
     },
     "execution_count": 3,
     "metadata": {},
     "output_type": "execute_result"
    }
   ],
   "source": [
    "listings.head()"
   ]
  },
  {
   "cell_type": "markdown",
   "metadata": {},
   "source": [
    "8. __Select__ the column __\"Name\"__ with the __attribute__ notation! What is the __company name__ with __index label 4__?"
   ]
  },
  {
   "cell_type": "code",
   "execution_count": 4,
   "metadata": {
    "scrolled": true
   },
   "outputs": [
    {
     "data": {
      "text/plain": [
       "0                              Agilent Technologies, Inc.\n",
       "1                                       Alcoa Corporation\n",
       "2                                             Altaba Inc.\n",
       "3                                      AAC Holdings, Inc.\n",
       "4                           American Airlines Group, Inc.\n",
       "5                        Altisource Asset Management Corp\n",
       "6                           Atlantic American Corporation\n",
       "7                                      Aaron&#39;s,  Inc.\n",
       "8                           Applied Optoelectronics, Inc.\n",
       "9                                              AAON, Inc.\n",
       "10                                 Advance Auto Parts Inc\n",
       "11                                             Apple Inc.\n",
       "12                            American Assets Trust, Inc.\n",
       "13                                 Almaden Minerals, Ltd.\n",
       "14                           Atlas Air Worldwide Holdings\n",
       "15      iShares MSCI All Country Asia ex Japan Index Fund\n",
       "16                                  Axon Enterprise, Inc.\n",
       "17                         AllianceBernstein Holding L.P.\n",
       "18                                                ABB Ltd\n",
       "19                                            AbbVie Inc.\n",
       "20             AmerisourceBergen Corporation (Holding Co)\n",
       "21                                         Ameris Bancorp\n",
       "22                                 Alcentra Capital Corp.\n",
       "23                               Abeona Therapeutics Inc.\n",
       "24                               Abeona Therapeutics Inc.\n",
       "25                                             Ambev S.A.\n",
       "26                            Asbury Automotive Group Inc\n",
       "27                                           Ability Inc.\n",
       "28                                   ARCA biopharma, Inc.\n",
       "29                            ABM Industries Incorporated\n",
       "                              ...                        \n",
       "6822                                   Zealand Pharma A/S\n",
       "6823                                        Zendesk, Inc.\n",
       "6824                                  Olympic Steel, Inc.\n",
       "6825                        Virtus Total Return Fund Inc.\n",
       "6826                                         Zafgen, Inc.\n",
       "6827                                   Zillow Group, Inc.\n",
       "6828                                        Zogenix, Inc.\n",
       "6829                            Zions Bancorporation N.A.\n",
       "6830                            Zions Bancorporation N.A.\n",
       "6831                                ZIOPHARM Oncology Inc\n",
       "6832                                     Credit Suisse AG\n",
       "6833                                      Zix Corporation\n",
       "6834                      ZK International Group Co., Ltd\n",
       "6835                                      Zai Lab Limited\n",
       "6836                                   Zion Oil & Gas Inc\n",
       "6837                                           Zynga Inc.\n",
       "6838              China Southern Airlines Company Limited\n",
       "6839                                   Zion Oil & Gas Inc\n",
       "6840                       Zomedica Pharmaceuticals Corp.\n",
       "6841                                        Zscaler, Inc.\n",
       "6842                            Zosano Pharma Corporation\n",
       "6843                                    BATS BZX Exchange\n",
       "6844                            ZTO Express (Cayman) Inc.\n",
       "6845            Virtus Global Dividend & Income Fund Inc.\n",
       "6846                                          Zoetis Inc.\n",
       "6847                                          Zumiez Inc.\n",
       "6848                                          Zuora, Inc.\n",
       "6849                                       Zymeworks Inc.\n",
       "6850                        Zynerba Pharmaceuticals, Inc.\n",
       "6851                                          Zynex, Inc.\n",
       "Name: Name, Length: 6852, dtype: object"
      ]
     },
     "execution_count": 4,
     "metadata": {},
     "output_type": "execute_result"
    }
   ],
   "source": [
    "listings.Name"
   ]
  },
  {
   "cell_type": "markdown",
   "metadata": {},
   "source": [
    "The company name is ... American Airlines Group, Inc.!"
   ]
  },
  {
   "cell_type": "markdown",
   "metadata": {},
   "source": [
    "9. Apply also the __second alternative__ to select the column __\"Name\"__!"
   ]
  },
  {
   "cell_type": "code",
   "execution_count": 5,
   "metadata": {
    "scrolled": true
   },
   "outputs": [
    {
     "data": {
      "text/plain": [
       "0                              Agilent Technologies, Inc.\n",
       "1                                       Alcoa Corporation\n",
       "2                                             Altaba Inc.\n",
       "3                                      AAC Holdings, Inc.\n",
       "4                           American Airlines Group, Inc.\n",
       "5                        Altisource Asset Management Corp\n",
       "6                           Atlantic American Corporation\n",
       "7                                      Aaron&#39;s,  Inc.\n",
       "8                           Applied Optoelectronics, Inc.\n",
       "9                                              AAON, Inc.\n",
       "10                                 Advance Auto Parts Inc\n",
       "11                                             Apple Inc.\n",
       "12                            American Assets Trust, Inc.\n",
       "13                                 Almaden Minerals, Ltd.\n",
       "14                           Atlas Air Worldwide Holdings\n",
       "15      iShares MSCI All Country Asia ex Japan Index Fund\n",
       "16                                  Axon Enterprise, Inc.\n",
       "17                         AllianceBernstein Holding L.P.\n",
       "18                                                ABB Ltd\n",
       "19                                            AbbVie Inc.\n",
       "20             AmerisourceBergen Corporation (Holding Co)\n",
       "21                                         Ameris Bancorp\n",
       "22                                 Alcentra Capital Corp.\n",
       "23                               Abeona Therapeutics Inc.\n",
       "24                               Abeona Therapeutics Inc.\n",
       "25                                             Ambev S.A.\n",
       "26                            Asbury Automotive Group Inc\n",
       "27                                           Ability Inc.\n",
       "28                                   ARCA biopharma, Inc.\n",
       "29                            ABM Industries Incorporated\n",
       "                              ...                        \n",
       "6822                                   Zealand Pharma A/S\n",
       "6823                                        Zendesk, Inc.\n",
       "6824                                  Olympic Steel, Inc.\n",
       "6825                        Virtus Total Return Fund Inc.\n",
       "6826                                         Zafgen, Inc.\n",
       "6827                                   Zillow Group, Inc.\n",
       "6828                                        Zogenix, Inc.\n",
       "6829                            Zions Bancorporation N.A.\n",
       "6830                            Zions Bancorporation N.A.\n",
       "6831                                ZIOPHARM Oncology Inc\n",
       "6832                                     Credit Suisse AG\n",
       "6833                                      Zix Corporation\n",
       "6834                      ZK International Group Co., Ltd\n",
       "6835                                      Zai Lab Limited\n",
       "6836                                   Zion Oil & Gas Inc\n",
       "6837                                           Zynga Inc.\n",
       "6838              China Southern Airlines Company Limited\n",
       "6839                                   Zion Oil & Gas Inc\n",
       "6840                       Zomedica Pharmaceuticals Corp.\n",
       "6841                                        Zscaler, Inc.\n",
       "6842                            Zosano Pharma Corporation\n",
       "6843                                    BATS BZX Exchange\n",
       "6844                            ZTO Express (Cayman) Inc.\n",
       "6845            Virtus Global Dividend & Income Fund Inc.\n",
       "6846                                          Zoetis Inc.\n",
       "6847                                          Zumiez Inc.\n",
       "6848                                          Zuora, Inc.\n",
       "6849                                       Zymeworks Inc.\n",
       "6850                        Zynerba Pharmaceuticals, Inc.\n",
       "6851                                          Zynex, Inc.\n",
       "Name: Name, Length: 6852, dtype: object"
      ]
     },
     "execution_count": 5,
     "metadata": {},
     "output_type": "execute_result"
    }
   ],
   "source": [
    "listings[\"Name\"]"
   ]
  },
  {
   "cell_type": "markdown",
   "metadata": {},
   "source": [
    "10. __Select__ the listing/row at __index position 100__ with the __iloc__ operator (all columns)! What is the IPO_Year?"
   ]
  },
  {
   "cell_type": "code",
   "execution_count": 6,
   "metadata": {
    "scrolled": true
   },
   "outputs": [
    {
     "data": {
      "text/plain": [
       "Symbol                                                     ADVM\n",
       "Exchange                                                 NASDAQ\n",
       "Name                              Adverum Biotechnologies, Inc.\n",
       "Last_Price                                                 5.42\n",
       "Market_Cap                                          3.42549e+08\n",
       "ADR TSO                                                     NaN\n",
       "IPO_Year                                                   2014\n",
       "Sector                                              Health Care\n",
       "Industry      Biotechnology: Biological Products (No Diagnos...\n",
       "Name: 100, dtype: object"
      ]
     },
     "execution_count": 6,
     "metadata": {},
     "output_type": "execute_result"
    }
   ],
   "source": [
    "listings.iloc[100]"
   ]
  },
  {
   "cell_type": "markdown",
   "metadata": {},
   "source": [
    "The IPO_Year of this listing is ... 2014!"
   ]
  },
  {
   "cell_type": "markdown",
   "metadata": {},
   "source": [
    "11. __Select__ the listing/row at __index position 2000__ with the __iloc__ operator (and only the column __\"Name\"__)! <br>\n",
    "What is the __company name__ of this listing?"
   ]
  },
  {
   "cell_type": "code",
   "execution_count": 7,
   "metadata": {},
   "outputs": [
    {
     "data": {
      "text/plain": [
       "'Eagle Bancorp, Inc.'"
      ]
     },
     "execution_count": 7,
     "metadata": {},
     "output_type": "execute_result"
    }
   ],
   "source": [
    "listings.iloc[2000, 2]"
   ]
  },
  {
   "cell_type": "markdown",
   "metadata": {},
   "source": [
    "It´s the ... Eagle Bancorp, Inc.!"
   ]
  },
  {
   "cell_type": "markdown",
   "metadata": {},
   "source": [
    "12. __Select__ the __last 10 rows__ and the columns __Name, Last_Price, Sector__ and __Industry__ with the __iloc__ operator! __Fill in the Gaps__! <br>\n",
    "What is the __Sector__ of the __Zymeworks Inc.__?"
   ]
  },
  {
   "cell_type": "code",
   "execution_count": 8,
   "metadata": {},
   "outputs": [
    {
     "data": {
      "text/html": [
       "<div>\n",
       "<style scoped>\n",
       "    .dataframe tbody tr th:only-of-type {\n",
       "        vertical-align: middle;\n",
       "    }\n",
       "\n",
       "    .dataframe tbody tr th {\n",
       "        vertical-align: top;\n",
       "    }\n",
       "\n",
       "    .dataframe thead th {\n",
       "        text-align: right;\n",
       "    }\n",
       "</style>\n",
       "<table border=\"1\" class=\"dataframe\">\n",
       "  <thead>\n",
       "    <tr style=\"text-align: right;\">\n",
       "      <th></th>\n",
       "      <th>Name</th>\n",
       "      <th>Last_Price</th>\n",
       "      <th>Sector</th>\n",
       "      <th>Industry</th>\n",
       "    </tr>\n",
       "  </thead>\n",
       "  <tbody>\n",
       "    <tr>\n",
       "      <th>6842</th>\n",
       "      <td>Zosano Pharma Corporation</td>\n",
       "      <td>3.71</td>\n",
       "      <td>Health Care</td>\n",
       "      <td>Major Pharmaceuticals</td>\n",
       "    </tr>\n",
       "    <tr>\n",
       "      <th>6843</th>\n",
       "      <td>BATS BZX Exchange</td>\n",
       "      <td>10.10</td>\n",
       "      <td>NaN</td>\n",
       "      <td>NaN</td>\n",
       "    </tr>\n",
       "    <tr>\n",
       "      <th>6844</th>\n",
       "      <td>ZTO Express (Cayman) Inc.</td>\n",
       "      <td>19.11</td>\n",
       "      <td>Transportation</td>\n",
       "      <td>Trucking Freight/Courier Services</td>\n",
       "    </tr>\n",
       "    <tr>\n",
       "      <th>6845</th>\n",
       "      <td>Virtus Global Dividend &amp; Income Fund Inc.</td>\n",
       "      <td>10.86</td>\n",
       "      <td>NaN</td>\n",
       "      <td>NaN</td>\n",
       "    </tr>\n",
       "    <tr>\n",
       "      <th>6846</th>\n",
       "      <td>Zoetis Inc.</td>\n",
       "      <td>101.33</td>\n",
       "      <td>Health Care</td>\n",
       "      <td>Major Pharmaceuticals</td>\n",
       "    </tr>\n",
       "    <tr>\n",
       "      <th>6847</th>\n",
       "      <td>Zumiez Inc.</td>\n",
       "      <td>26.72</td>\n",
       "      <td>Consumer Services</td>\n",
       "      <td>Clothing/Shoe/Accessory Stores</td>\n",
       "    </tr>\n",
       "    <tr>\n",
       "      <th>6848</th>\n",
       "      <td>Zuora, Inc.</td>\n",
       "      <td>19.79</td>\n",
       "      <td>Technology</td>\n",
       "      <td>Computer Software: Prepackaged Software</td>\n",
       "    </tr>\n",
       "    <tr>\n",
       "      <th>6849</th>\n",
       "      <td>Zymeworks Inc.</td>\n",
       "      <td>15.74</td>\n",
       "      <td>Health Care</td>\n",
       "      <td>Major Pharmaceuticals</td>\n",
       "    </tr>\n",
       "    <tr>\n",
       "      <th>6850</th>\n",
       "      <td>Zynerba Pharmaceuticals, Inc.</td>\n",
       "      <td>7.85</td>\n",
       "      <td>Health Care</td>\n",
       "      <td>Major Pharmaceuticals</td>\n",
       "    </tr>\n",
       "    <tr>\n",
       "      <th>6851</th>\n",
       "      <td>Zynex, Inc.</td>\n",
       "      <td>5.02</td>\n",
       "      <td>Health Care</td>\n",
       "      <td>Biotechnology: Electromedical &amp; Electrotherape...</td>\n",
       "    </tr>\n",
       "  </tbody>\n",
       "</table>\n",
       "</div>"
      ],
      "text/plain": [
       "                                           Name  Last_Price  \\\n",
       "6842                  Zosano Pharma Corporation        3.71   \n",
       "6843                          BATS BZX Exchange       10.10   \n",
       "6844                  ZTO Express (Cayman) Inc.       19.11   \n",
       "6845  Virtus Global Dividend & Income Fund Inc.       10.86   \n",
       "6846                                Zoetis Inc.      101.33   \n",
       "6847                                Zumiez Inc.       26.72   \n",
       "6848                                Zuora, Inc.       19.79   \n",
       "6849                             Zymeworks Inc.       15.74   \n",
       "6850              Zynerba Pharmaceuticals, Inc.        7.85   \n",
       "6851                                Zynex, Inc.        5.02   \n",
       "\n",
       "                 Sector                                           Industry  \n",
       "6842        Health Care                              Major Pharmaceuticals  \n",
       "6843                NaN                                                NaN  \n",
       "6844     Transportation                  Trucking Freight/Courier Services  \n",
       "6845                NaN                                                NaN  \n",
       "6846        Health Care                              Major Pharmaceuticals  \n",
       "6847  Consumer Services                     Clothing/Shoe/Accessory Stores  \n",
       "6848         Technology            Computer Software: Prepackaged Software  \n",
       "6849        Health Care                              Major Pharmaceuticals  \n",
       "6850        Health Care                              Major Pharmaceuticals  \n",
       "6851        Health Care  Biotechnology: Electromedical & Electrotherape...  "
      ]
     },
     "execution_count": 8,
     "metadata": {},
     "output_type": "execute_result"
    }
   ],
   "source": [
    "listings.iloc[-10:, [2, 3, 7, 8]]"
   ]
  },
  {
   "cell_type": "markdown",
   "metadata": {},
   "source": [
    "The Sector is ... Health Care!"
   ]
  },
  {
   "cell_type": "markdown",
   "metadata": {},
   "source": [
    "13. __Import__ the __Listings Dataset__ one more time (save in the variable __listings__) and set the column __\"Symbol\"__ as the __index__! <br>\n",
    "__Fill in the Gaps__!"
   ]
  },
  {
   "cell_type": "code",
   "execution_count": 9,
   "metadata": {},
   "outputs": [],
   "source": [
    "listings = pd.read_csv(\"listings.csv\", index_col = \"Symbol\")"
   ]
  },
  {
   "cell_type": "code",
   "execution_count": 10,
   "metadata": {},
   "outputs": [
    {
     "data": {
      "text/html": [
       "<div>\n",
       "<style scoped>\n",
       "    .dataframe tbody tr th:only-of-type {\n",
       "        vertical-align: middle;\n",
       "    }\n",
       "\n",
       "    .dataframe tbody tr th {\n",
       "        vertical-align: top;\n",
       "    }\n",
       "\n",
       "    .dataframe thead th {\n",
       "        text-align: right;\n",
       "    }\n",
       "</style>\n",
       "<table border=\"1\" class=\"dataframe\">\n",
       "  <thead>\n",
       "    <tr style=\"text-align: right;\">\n",
       "      <th></th>\n",
       "      <th>Exchange</th>\n",
       "      <th>Name</th>\n",
       "      <th>Last_Price</th>\n",
       "      <th>Market_Cap</th>\n",
       "      <th>ADR TSO</th>\n",
       "      <th>IPO_Year</th>\n",
       "      <th>Sector</th>\n",
       "      <th>Industry</th>\n",
       "    </tr>\n",
       "    <tr>\n",
       "      <th>Symbol</th>\n",
       "      <th></th>\n",
       "      <th></th>\n",
       "      <th></th>\n",
       "      <th></th>\n",
       "      <th></th>\n",
       "      <th></th>\n",
       "      <th></th>\n",
       "      <th></th>\n",
       "    </tr>\n",
       "  </thead>\n",
       "  <tbody>\n",
       "    <tr>\n",
       "      <th>A</th>\n",
       "      <td>NYSE</td>\n",
       "      <td>Agilent Technologies, Inc.</td>\n",
       "      <td>81.68</td>\n",
       "      <td>2.593470e+10</td>\n",
       "      <td>NaN</td>\n",
       "      <td>1999.0</td>\n",
       "      <td>Capital Goods</td>\n",
       "      <td>Biotechnology: Laboratory Analytical Instruments</td>\n",
       "    </tr>\n",
       "    <tr>\n",
       "      <th>AA</th>\n",
       "      <td>NYSE</td>\n",
       "      <td>Alcoa Corporation</td>\n",
       "      <td>29.15</td>\n",
       "      <td>5.407810e+09</td>\n",
       "      <td>NaN</td>\n",
       "      <td>2016.0</td>\n",
       "      <td>Basic Industries</td>\n",
       "      <td>Aluminum</td>\n",
       "    </tr>\n",
       "    <tr>\n",
       "      <th>AABA</th>\n",
       "      <td>NASDAQ</td>\n",
       "      <td>Altaba Inc.</td>\n",
       "      <td>75.39</td>\n",
       "      <td>4.278113e+10</td>\n",
       "      <td>NaN</td>\n",
       "      <td>NaN</td>\n",
       "      <td>Technology</td>\n",
       "      <td>EDP Services</td>\n",
       "    </tr>\n",
       "    <tr>\n",
       "      <th>AAC</th>\n",
       "      <td>NYSE</td>\n",
       "      <td>AAC Holdings, Inc.</td>\n",
       "      <td>2.16</td>\n",
       "      <td>5.314109e+07</td>\n",
       "      <td>NaN</td>\n",
       "      <td>2014.0</td>\n",
       "      <td>Health Care</td>\n",
       "      <td>Medical Specialities</td>\n",
       "    </tr>\n",
       "    <tr>\n",
       "      <th>AAL</th>\n",
       "      <td>NASDAQ</td>\n",
       "      <td>American Airlines Group, Inc.</td>\n",
       "      <td>34.02</td>\n",
       "      <td>1.527687e+10</td>\n",
       "      <td>NaN</td>\n",
       "      <td>NaN</td>\n",
       "      <td>Transportation</td>\n",
       "      <td>Air Freight/Delivery Services</td>\n",
       "    </tr>\n",
       "  </tbody>\n",
       "</table>\n",
       "</div>"
      ],
      "text/plain": [
       "       Exchange                           Name  Last_Price    Market_Cap  \\\n",
       "Symbol                                                                     \n",
       "A          NYSE     Agilent Technologies, Inc.       81.68  2.593470e+10   \n",
       "AA         NYSE              Alcoa Corporation       29.15  5.407810e+09   \n",
       "AABA     NASDAQ                    Altaba Inc.       75.39  4.278113e+10   \n",
       "AAC        NYSE             AAC Holdings, Inc.        2.16  5.314109e+07   \n",
       "AAL      NASDAQ  American Airlines Group, Inc.       34.02  1.527687e+10   \n",
       "\n",
       "        ADR TSO  IPO_Year            Sector  \\\n",
       "Symbol                                        \n",
       "A           NaN    1999.0     Capital Goods   \n",
       "AA          NaN    2016.0  Basic Industries   \n",
       "AABA        NaN       NaN        Technology   \n",
       "AAC         NaN    2014.0       Health Care   \n",
       "AAL         NaN       NaN    Transportation   \n",
       "\n",
       "                                                Industry  \n",
       "Symbol                                                    \n",
       "A       Biotechnology: Laboratory Analytical Instruments  \n",
       "AA                                              Aluminum  \n",
       "AABA                                        EDP Services  \n",
       "AAC                                 Medical Specialities  \n",
       "AAL                        Air Freight/Delivery Services  "
      ]
     },
     "execution_count": 10,
     "metadata": {},
     "output_type": "execute_result"
    }
   ],
   "source": [
    "#run the cell and inspect!\n",
    "listings.head()"
   ]
  },
  {
   "cell_type": "code",
   "execution_count": 11,
   "metadata": {},
   "outputs": [
    {
     "name": "stdout",
     "output_type": "stream",
     "text": [
      "<class 'pandas.core.frame.DataFrame'>\n",
      "Index: 6852 entries, A to ZYXI\n",
      "Data columns (total 8 columns):\n",
      "Exchange      6852 non-null object\n",
      "Name          6852 non-null object\n",
      "Last_Price    6745 non-null float64\n",
      "Market_Cap    5954 non-null float64\n",
      "ADR TSO       140 non-null float64\n",
      "IPO_Year      3105 non-null float64\n",
      "Sector        5309 non-null object\n",
      "Industry      5309 non-null object\n",
      "dtypes: float64(4), object(4)\n",
      "memory usage: 481.8+ KB\n"
     ]
    }
   ],
   "source": [
    "#run the cell and inspect!\n",
    "listings.info()"
   ]
  },
  {
   "cell_type": "markdown",
   "metadata": {},
   "source": [
    "14. __Inspect__ the new Index of the DataFrame by calling the __index__ attribute!"
   ]
  },
  {
   "cell_type": "code",
   "execution_count": 12,
   "metadata": {
    "scrolled": true
   },
   "outputs": [
    {
     "data": {
      "text/plain": [
       "Index(['A', 'AA', 'AABA', 'AAC', 'AAL', 'AAMC', 'AAME', 'AAN', 'AAOI', 'AAON',\n",
       "       ...\n",
       "       'ZSAN', 'ZTEST', 'ZTO', 'ZTR', 'ZTS', 'ZUMZ', 'ZUO', 'ZYME', 'ZYNE',\n",
       "       'ZYXI'],\n",
       "      dtype='object', name='Symbol', length=6852)"
      ]
     },
     "execution_count": 12,
     "metadata": {},
     "output_type": "execute_result"
    }
   ],
   "source": [
    "listings.index"
   ]
  },
  {
   "cell_type": "markdown",
   "metadata": {},
   "source": [
    "15. __Select__ the __row__ with the index label __\"AAPL\"__ (Apple) (use the __loc__ operator)! What is the __Last_Price__?"
   ]
  },
  {
   "cell_type": "code",
   "execution_count": 13,
   "metadata": {
    "scrolled": true
   },
   "outputs": [
    {
     "data": {
      "text/plain": [
       "Exchange                      NASDAQ\n",
       "Name                      Apple Inc.\n",
       "Last_Price                    200.62\n",
       "Market_Cap               9.45979e+11\n",
       "ADR TSO                          NaN\n",
       "IPO_Year                        1980\n",
       "Sector                    Technology\n",
       "Industry      Computer Manufacturing\n",
       "Name: AAPL, dtype: object"
      ]
     },
     "execution_count": 13,
     "metadata": {},
     "output_type": "execute_result"
    }
   ],
   "source": [
    "listings.loc[\"AAPL\"]"
   ]
  },
  {
   "cell_type": "markdown",
   "metadata": {},
   "source": [
    "The Last_Price is ... 200.62!"
   ]
  },
  {
   "cell_type": "markdown",
   "metadata": {},
   "source": [
    "16. __Select__ the __row__ with the index label __\"FB\"__ (Facebook) and only the columns __\"IPO_Year\"__ and __\"Industry\"__! <br>\n",
    "What´s the __Industry__?"
   ]
  },
  {
   "cell_type": "code",
   "execution_count": 14,
   "metadata": {},
   "outputs": [
    {
     "data": {
      "text/plain": [
       "IPO_Year                                               2012\n",
       "Industry    Computer Software: Programming, Data Processing\n",
       "Name: FB, dtype: object"
      ]
     },
     "execution_count": 14,
     "metadata": {},
     "output_type": "execute_result"
    }
   ],
   "source": [
    "listings.loc[\"FB\", [\"IPO_Year\", \"Industry\"]]"
   ]
  },
  {
   "cell_type": "markdown",
   "metadata": {},
   "source": [
    "The Industry is ... Computer Software: Programming, Data Processing!"
   ]
  },
  {
   "cell_type": "markdown",
   "metadata": {},
   "source": [
    "17. __Select__ the columns __\"Name\"__ and __\"Last_Price\"__ with the __loc__ operator (all rows)!"
   ]
  },
  {
   "cell_type": "code",
   "execution_count": 15,
   "metadata": {
    "scrolled": true
   },
   "outputs": [
    {
     "data": {
      "text/html": [
       "<div>\n",
       "<style scoped>\n",
       "    .dataframe tbody tr th:only-of-type {\n",
       "        vertical-align: middle;\n",
       "    }\n",
       "\n",
       "    .dataframe tbody tr th {\n",
       "        vertical-align: top;\n",
       "    }\n",
       "\n",
       "    .dataframe thead th {\n",
       "        text-align: right;\n",
       "    }\n",
       "</style>\n",
       "<table border=\"1\" class=\"dataframe\">\n",
       "  <thead>\n",
       "    <tr style=\"text-align: right;\">\n",
       "      <th></th>\n",
       "      <th>Name</th>\n",
       "      <th>Last_Price</th>\n",
       "    </tr>\n",
       "    <tr>\n",
       "      <th>Symbol</th>\n",
       "      <th></th>\n",
       "      <th></th>\n",
       "    </tr>\n",
       "  </thead>\n",
       "  <tbody>\n",
       "    <tr>\n",
       "      <th>A</th>\n",
       "      <td>Agilent Technologies, Inc.</td>\n",
       "      <td>81.6800</td>\n",
       "    </tr>\n",
       "    <tr>\n",
       "      <th>AA</th>\n",
       "      <td>Alcoa Corporation</td>\n",
       "      <td>29.1500</td>\n",
       "    </tr>\n",
       "    <tr>\n",
       "      <th>AABA</th>\n",
       "      <td>Altaba Inc.</td>\n",
       "      <td>75.3900</td>\n",
       "    </tr>\n",
       "    <tr>\n",
       "      <th>AAC</th>\n",
       "      <td>AAC Holdings, Inc.</td>\n",
       "      <td>2.1600</td>\n",
       "    </tr>\n",
       "    <tr>\n",
       "      <th>AAL</th>\n",
       "      <td>American Airlines Group, Inc.</td>\n",
       "      <td>34.0200</td>\n",
       "    </tr>\n",
       "    <tr>\n",
       "      <th>AAMC</th>\n",
       "      <td>Altisource Asset Management Corp</td>\n",
       "      <td>29.9000</td>\n",
       "    </tr>\n",
       "    <tr>\n",
       "      <th>AAME</th>\n",
       "      <td>Atlantic American Corporation</td>\n",
       "      <td>2.4800</td>\n",
       "    </tr>\n",
       "    <tr>\n",
       "      <th>AAN</th>\n",
       "      <td>Aaron&amp;#39;s,  Inc.</td>\n",
       "      <td>53.5400</td>\n",
       "    </tr>\n",
       "    <tr>\n",
       "      <th>AAOI</th>\n",
       "      <td>Applied Optoelectronics, Inc.</td>\n",
       "      <td>12.3000</td>\n",
       "    </tr>\n",
       "    <tr>\n",
       "      <th>AAON</th>\n",
       "      <td>AAON, Inc.</td>\n",
       "      <td>44.8800</td>\n",
       "    </tr>\n",
       "    <tr>\n",
       "      <th>AAP</th>\n",
       "      <td>Advance Auto Parts Inc</td>\n",
       "      <td>178.8000</td>\n",
       "    </tr>\n",
       "    <tr>\n",
       "      <th>AAPL</th>\n",
       "      <td>Apple Inc.</td>\n",
       "      <td>200.6200</td>\n",
       "    </tr>\n",
       "    <tr>\n",
       "      <th>AAT</th>\n",
       "      <td>American Assets Trust, Inc.</td>\n",
       "      <td>46.0800</td>\n",
       "    </tr>\n",
       "    <tr>\n",
       "      <th>AAU</th>\n",
       "      <td>Almaden Minerals, Ltd.</td>\n",
       "      <td>0.5750</td>\n",
       "    </tr>\n",
       "    <tr>\n",
       "      <th>AAWW</th>\n",
       "      <td>Atlas Air Worldwide Holdings</td>\n",
       "      <td>49.4900</td>\n",
       "    </tr>\n",
       "    <tr>\n",
       "      <th>AAXJ</th>\n",
       "      <td>iShares MSCI All Country Asia ex Japan Index Fund</td>\n",
       "      <td>73.1400</td>\n",
       "    </tr>\n",
       "    <tr>\n",
       "      <th>AAXN</th>\n",
       "      <td>Axon Enterprise, Inc.</td>\n",
       "      <td>60.1200</td>\n",
       "    </tr>\n",
       "    <tr>\n",
       "      <th>AB</th>\n",
       "      <td>AllianceBernstein Holding L.P.</td>\n",
       "      <td>29.3600</td>\n",
       "    </tr>\n",
       "    <tr>\n",
       "      <th>ABB</th>\n",
       "      <td>ABB Ltd</td>\n",
       "      <td>19.4400</td>\n",
       "    </tr>\n",
       "    <tr>\n",
       "      <th>ABBV</th>\n",
       "      <td>AbbVie Inc.</td>\n",
       "      <td>82.9500</td>\n",
       "    </tr>\n",
       "    <tr>\n",
       "      <th>ABC</th>\n",
       "      <td>AmerisourceBergen Corporation (Holding Co)</td>\n",
       "      <td>74.0000</td>\n",
       "    </tr>\n",
       "    <tr>\n",
       "      <th>ABCB</th>\n",
       "      <td>Ameris Bancorp</td>\n",
       "      <td>35.0900</td>\n",
       "    </tr>\n",
       "    <tr>\n",
       "      <th>ABDC</th>\n",
       "      <td>Alcentra Capital Corp.</td>\n",
       "      <td>7.8100</td>\n",
       "    </tr>\n",
       "    <tr>\n",
       "      <th>ABEO</th>\n",
       "      <td>Abeona Therapeutics Inc.</td>\n",
       "      <td>7.5400</td>\n",
       "    </tr>\n",
       "    <tr>\n",
       "      <th>ABEOW</th>\n",
       "      <td>Abeona Therapeutics Inc.</td>\n",
       "      <td>3.0700</td>\n",
       "    </tr>\n",
       "    <tr>\n",
       "      <th>ABEV</th>\n",
       "      <td>Ambev S.A.</td>\n",
       "      <td>4.5400</td>\n",
       "    </tr>\n",
       "    <tr>\n",
       "      <th>ABG</th>\n",
       "      <td>Asbury Automotive Group Inc</td>\n",
       "      <td>72.6400</td>\n",
       "    </tr>\n",
       "    <tr>\n",
       "      <th>ABIL</th>\n",
       "      <td>Ability Inc.</td>\n",
       "      <td>1.7000</td>\n",
       "    </tr>\n",
       "    <tr>\n",
       "      <th>ABIO</th>\n",
       "      <td>ARCA biopharma, Inc.</td>\n",
       "      <td>5.9200</td>\n",
       "    </tr>\n",
       "    <tr>\n",
       "      <th>ABM</th>\n",
       "      <td>ABM Industries Incorporated</td>\n",
       "      <td>37.0100</td>\n",
       "    </tr>\n",
       "    <tr>\n",
       "      <th>...</th>\n",
       "      <td>...</td>\n",
       "      <td>...</td>\n",
       "    </tr>\n",
       "    <tr>\n",
       "      <th>ZEAL</th>\n",
       "      <td>Zealand Pharma A/S</td>\n",
       "      <td>19.0100</td>\n",
       "    </tr>\n",
       "    <tr>\n",
       "      <th>ZEN</th>\n",
       "      <td>Zendesk, Inc.</td>\n",
       "      <td>83.3400</td>\n",
       "    </tr>\n",
       "    <tr>\n",
       "      <th>ZEUS</th>\n",
       "      <td>Olympic Steel, Inc.</td>\n",
       "      <td>17.3900</td>\n",
       "    </tr>\n",
       "    <tr>\n",
       "      <th>ZF</th>\n",
       "      <td>Virtus Total Return Fund Inc.</td>\n",
       "      <td>9.8500</td>\n",
       "    </tr>\n",
       "    <tr>\n",
       "      <th>ZFGN</th>\n",
       "      <td>Zafgen, Inc.</td>\n",
       "      <td>2.7300</td>\n",
       "    </tr>\n",
       "    <tr>\n",
       "      <th>ZG</th>\n",
       "      <td>Zillow Group, Inc.</td>\n",
       "      <td>36.4300</td>\n",
       "    </tr>\n",
       "    <tr>\n",
       "      <th>ZGNX</th>\n",
       "      <td>Zogenix, Inc.</td>\n",
       "      <td>40.0000</td>\n",
       "    </tr>\n",
       "    <tr>\n",
       "      <th>ZION</th>\n",
       "      <td>Zions Bancorporation N.A.</td>\n",
       "      <td>47.1400</td>\n",
       "    </tr>\n",
       "    <tr>\n",
       "      <th>ZIONW</th>\n",
       "      <td>Zions Bancorporation N.A.</td>\n",
       "      <td>14.7400</td>\n",
       "    </tr>\n",
       "    <tr>\n",
       "      <th>ZIOP</th>\n",
       "      <td>ZIOPHARM Oncology Inc</td>\n",
       "      <td>4.3300</td>\n",
       "    </tr>\n",
       "    <tr>\n",
       "      <th>ZIV</th>\n",
       "      <td>Credit Suisse AG</td>\n",
       "      <td>75.1200</td>\n",
       "    </tr>\n",
       "    <tr>\n",
       "      <th>ZIXI</th>\n",
       "      <td>Zix Corporation</td>\n",
       "      <td>7.3400</td>\n",
       "    </tr>\n",
       "    <tr>\n",
       "      <th>ZKIN</th>\n",
       "      <td>ZK International Group Co., Ltd</td>\n",
       "      <td>1.8100</td>\n",
       "    </tr>\n",
       "    <tr>\n",
       "      <th>ZLAB</th>\n",
       "      <td>Zai Lab Limited</td>\n",
       "      <td>32.4300</td>\n",
       "    </tr>\n",
       "    <tr>\n",
       "      <th>ZN</th>\n",
       "      <td>Zion Oil &amp; Gas Inc</td>\n",
       "      <td>0.8188</td>\n",
       "    </tr>\n",
       "    <tr>\n",
       "      <th>ZNGA</th>\n",
       "      <td>Zynga Inc.</td>\n",
       "      <td>5.4700</td>\n",
       "    </tr>\n",
       "    <tr>\n",
       "      <th>ZNH</th>\n",
       "      <td>China Southern Airlines Company Limited</td>\n",
       "      <td>48.7400</td>\n",
       "    </tr>\n",
       "    <tr>\n",
       "      <th>ZNWAA</th>\n",
       "      <td>Zion Oil &amp; Gas Inc</td>\n",
       "      <td>NaN</td>\n",
       "    </tr>\n",
       "    <tr>\n",
       "      <th>ZOM</th>\n",
       "      <td>Zomedica Pharmaceuticals Corp.</td>\n",
       "      <td>0.3300</td>\n",
       "    </tr>\n",
       "    <tr>\n",
       "      <th>ZS</th>\n",
       "      <td>Zscaler, Inc.</td>\n",
       "      <td>68.4400</td>\n",
       "    </tr>\n",
       "    <tr>\n",
       "      <th>ZSAN</th>\n",
       "      <td>Zosano Pharma Corporation</td>\n",
       "      <td>3.7100</td>\n",
       "    </tr>\n",
       "    <tr>\n",
       "      <th>ZTEST</th>\n",
       "      <td>BATS BZX Exchange</td>\n",
       "      <td>10.1000</td>\n",
       "    </tr>\n",
       "    <tr>\n",
       "      <th>ZTO</th>\n",
       "      <td>ZTO Express (Cayman) Inc.</td>\n",
       "      <td>19.1100</td>\n",
       "    </tr>\n",
       "    <tr>\n",
       "      <th>ZTR</th>\n",
       "      <td>Virtus Global Dividend &amp; Income Fund Inc.</td>\n",
       "      <td>10.8600</td>\n",
       "    </tr>\n",
       "    <tr>\n",
       "      <th>ZTS</th>\n",
       "      <td>Zoetis Inc.</td>\n",
       "      <td>101.3300</td>\n",
       "    </tr>\n",
       "    <tr>\n",
       "      <th>ZUMZ</th>\n",
       "      <td>Zumiez Inc.</td>\n",
       "      <td>26.7200</td>\n",
       "    </tr>\n",
       "    <tr>\n",
       "      <th>ZUO</th>\n",
       "      <td>Zuora, Inc.</td>\n",
       "      <td>19.7900</td>\n",
       "    </tr>\n",
       "    <tr>\n",
       "      <th>ZYME</th>\n",
       "      <td>Zymeworks Inc.</td>\n",
       "      <td>15.7400</td>\n",
       "    </tr>\n",
       "    <tr>\n",
       "      <th>ZYNE</th>\n",
       "      <td>Zynerba Pharmaceuticals, Inc.</td>\n",
       "      <td>7.8500</td>\n",
       "    </tr>\n",
       "    <tr>\n",
       "      <th>ZYXI</th>\n",
       "      <td>Zynex, Inc.</td>\n",
       "      <td>5.0200</td>\n",
       "    </tr>\n",
       "  </tbody>\n",
       "</table>\n",
       "<p>6852 rows × 2 columns</p>\n",
       "</div>"
      ],
      "text/plain": [
       "                                                     Name  Last_Price\n",
       "Symbol                                                               \n",
       "A                              Agilent Technologies, Inc.     81.6800\n",
       "AA                                      Alcoa Corporation     29.1500\n",
       "AABA                                          Altaba Inc.     75.3900\n",
       "AAC                                    AAC Holdings, Inc.      2.1600\n",
       "AAL                         American Airlines Group, Inc.     34.0200\n",
       "AAMC                     Altisource Asset Management Corp     29.9000\n",
       "AAME                        Atlantic American Corporation      2.4800\n",
       "AAN                                    Aaron&#39;s,  Inc.     53.5400\n",
       "AAOI                        Applied Optoelectronics, Inc.     12.3000\n",
       "AAON                                           AAON, Inc.     44.8800\n",
       "AAP                                Advance Auto Parts Inc    178.8000\n",
       "AAPL                                           Apple Inc.    200.6200\n",
       "AAT                           American Assets Trust, Inc.     46.0800\n",
       "AAU                                Almaden Minerals, Ltd.      0.5750\n",
       "AAWW                         Atlas Air Worldwide Holdings     49.4900\n",
       "AAXJ    iShares MSCI All Country Asia ex Japan Index Fund     73.1400\n",
       "AAXN                                Axon Enterprise, Inc.     60.1200\n",
       "AB                         AllianceBernstein Holding L.P.     29.3600\n",
       "ABB                                               ABB Ltd     19.4400\n",
       "ABBV                                          AbbVie Inc.     82.9500\n",
       "ABC            AmerisourceBergen Corporation (Holding Co)     74.0000\n",
       "ABCB                                       Ameris Bancorp     35.0900\n",
       "ABDC                               Alcentra Capital Corp.      7.8100\n",
       "ABEO                             Abeona Therapeutics Inc.      7.5400\n",
       "ABEOW                            Abeona Therapeutics Inc.      3.0700\n",
       "ABEV                                           Ambev S.A.      4.5400\n",
       "ABG                           Asbury Automotive Group Inc     72.6400\n",
       "ABIL                                         Ability Inc.      1.7000\n",
       "ABIO                                 ARCA biopharma, Inc.      5.9200\n",
       "ABM                           ABM Industries Incorporated     37.0100\n",
       "...                                                   ...         ...\n",
       "ZEAL                                   Zealand Pharma A/S     19.0100\n",
       "ZEN                                         Zendesk, Inc.     83.3400\n",
       "ZEUS                                  Olympic Steel, Inc.     17.3900\n",
       "ZF                          Virtus Total Return Fund Inc.      9.8500\n",
       "ZFGN                                         Zafgen, Inc.      2.7300\n",
       "ZG                                     Zillow Group, Inc.     36.4300\n",
       "ZGNX                                        Zogenix, Inc.     40.0000\n",
       "ZION                            Zions Bancorporation N.A.     47.1400\n",
       "ZIONW                           Zions Bancorporation N.A.     14.7400\n",
       "ZIOP                                ZIOPHARM Oncology Inc      4.3300\n",
       "ZIV                                      Credit Suisse AG     75.1200\n",
       "ZIXI                                      Zix Corporation      7.3400\n",
       "ZKIN                      ZK International Group Co., Ltd      1.8100\n",
       "ZLAB                                      Zai Lab Limited     32.4300\n",
       "ZN                                     Zion Oil & Gas Inc      0.8188\n",
       "ZNGA                                           Zynga Inc.      5.4700\n",
       "ZNH               China Southern Airlines Company Limited     48.7400\n",
       "ZNWAA                                  Zion Oil & Gas Inc         NaN\n",
       "ZOM                        Zomedica Pharmaceuticals Corp.      0.3300\n",
       "ZS                                          Zscaler, Inc.     68.4400\n",
       "ZSAN                            Zosano Pharma Corporation      3.7100\n",
       "ZTEST                                   BATS BZX Exchange     10.1000\n",
       "ZTO                             ZTO Express (Cayman) Inc.     19.1100\n",
       "ZTR             Virtus Global Dividend & Income Fund Inc.     10.8600\n",
       "ZTS                                           Zoetis Inc.    101.3300\n",
       "ZUMZ                                          Zumiez Inc.     26.7200\n",
       "ZUO                                           Zuora, Inc.     19.7900\n",
       "ZYME                                       Zymeworks Inc.     15.7400\n",
       "ZYNE                        Zynerba Pharmaceuticals, Inc.      7.8500\n",
       "ZYXI                                          Zynex, Inc.      5.0200\n",
       "\n",
       "[6852 rows x 2 columns]"
      ]
     },
     "execution_count": 15,
     "metadata": {},
     "output_type": "execute_result"
    }
   ],
   "source": [
    "listings.loc[:, [\"Name\", \"Last_Price\"]]"
   ]
  },
  {
   "cell_type": "markdown",
   "metadata": {},
   "source": [
    "18. __Select__ the last three columns __\"IPO_Year\"__, __\"Sector\"__ and __\"Industry\"__ for __\"MSFT\"__ (Microsoft) and __\"DIS\"__ (Disney) with the __loc__ operator. Don´t use \"Sector\" or \"Industry\" in your code! What is Disney´s __Industry__?"
   ]
  },
  {
   "cell_type": "code",
   "execution_count": 16,
   "metadata": {},
   "outputs": [
    {
     "data": {
      "text/html": [
       "<div>\n",
       "<style scoped>\n",
       "    .dataframe tbody tr th:only-of-type {\n",
       "        vertical-align: middle;\n",
       "    }\n",
       "\n",
       "    .dataframe tbody tr th {\n",
       "        vertical-align: top;\n",
       "    }\n",
       "\n",
       "    .dataframe thead th {\n",
       "        text-align: right;\n",
       "    }\n",
       "</style>\n",
       "<table border=\"1\" class=\"dataframe\">\n",
       "  <thead>\n",
       "    <tr style=\"text-align: right;\">\n",
       "      <th></th>\n",
       "      <th>IPO_Year</th>\n",
       "      <th>Sector</th>\n",
       "      <th>Industry</th>\n",
       "    </tr>\n",
       "    <tr>\n",
       "      <th>Symbol</th>\n",
       "      <th></th>\n",
       "      <th></th>\n",
       "      <th></th>\n",
       "    </tr>\n",
       "  </thead>\n",
       "  <tbody>\n",
       "    <tr>\n",
       "      <th>MSFT</th>\n",
       "      <td>1986.0</td>\n",
       "      <td>Technology</td>\n",
       "      <td>Computer Software: Prepackaged Software</td>\n",
       "    </tr>\n",
       "    <tr>\n",
       "      <th>DIS</th>\n",
       "      <td>NaN</td>\n",
       "      <td>Consumer Services</td>\n",
       "      <td>Television Services</td>\n",
       "    </tr>\n",
       "  </tbody>\n",
       "</table>\n",
       "</div>"
      ],
      "text/plain": [
       "        IPO_Year             Sector                                 Industry\n",
       "Symbol                                                                      \n",
       "MSFT      1986.0         Technology  Computer Software: Prepackaged Software\n",
       "DIS          NaN  Consumer Services                      Television Services"
      ]
     },
     "execution_count": 16,
     "metadata": {},
     "output_type": "execute_result"
    }
   ],
   "source": [
    "listings.loc[[\"MSFT\", \"DIS\"], \"IPO_Year\":]"
   ]
  },
  {
   "cell_type": "markdown",
   "metadata": {},
   "source": [
    "Disney´s Industry is ... Television Services"
   ]
  },
  {
   "cell_type": "markdown",
   "metadata": {},
   "source": [
    "# Well Done!"
   ]
  },
  {
   "cell_type": "markdown",
   "metadata": {},
   "source": [
    "---------------------------------------------------------------------------------------------------------------------"
   ]
  },
  {
   "cell_type": "markdown",
   "metadata": {},
   "source": [
    "# Hints (Spoiler!)"
   ]
  },
  {
   "cell_type": "markdown",
   "metadata": {},
   "source": [
    "7. pandas as pd, pd.read_csv(\"filename\"), head()"
   ]
  },
  {
   "cell_type": "markdown",
   "metadata": {},
   "source": [
    "8. listings.---"
   ]
  },
  {
   "cell_type": "markdown",
   "metadata": {},
   "source": [
    "9. listings[\"---\"]"
   ]
  },
  {
   "cell_type": "markdown",
   "metadata": {},
   "source": [
    "10. listings.iloc[---]"
   ]
  },
  {
   "cell_type": "markdown",
   "metadata": {},
   "source": [
    "11. listings.iloc[row index position, column index position]; \"Name\" column is at index position ... 2"
   ]
  },
  {
   "cell_type": "markdown",
   "metadata": {},
   "source": [
    "12. The last 10 rows = from index position -10 till the end (:); Count the column index positions of the Columns\n"
   ]
  },
  {
   "cell_type": "markdown",
   "metadata": {},
   "source": [
    "13. parameter index_col"
   ]
  },
  {
   "cell_type": "markdown",
   "metadata": {},
   "source": [
    "14. listings.---"
   ]
  },
  {
   "cell_type": "markdown",
   "metadata": {},
   "source": [
    "15. listings.loc[\"row label\"]"
   ]
  },
  {
   "cell_type": "markdown",
   "metadata": {},
   "source": [
    "16. listings.loc[---, [---, ---]]"
   ]
  },
  {
   "cell_type": "markdown",
   "metadata": {},
   "source": [
    "17.  listings.loc[ : , [---, ---]]"
   ]
  },
  {
   "cell_type": "markdown",
   "metadata": {},
   "source": [
    "18. listings.loc[[---, ---], ---:]"
   ]
  },
  {
   "cell_type": "code",
   "execution_count": null,
   "metadata": {},
   "outputs": [],
   "source": []
  }
 ],
 "metadata": {
  "kernelspec": {
   "display_name": "Python 3 (ipykernel)",
   "language": "python",
   "name": "python3"
  },
  "language_info": {
   "codemirror_mode": {
    "name": "ipython",
    "version": 3
   },
   "file_extension": ".py",
   "mimetype": "text/x-python",
   "name": "python",
   "nbconvert_exporter": "python",
   "pygments_lexer": "ipython3",
   "version": "3.9.7"
  },
  "toc": {
   "base_numbering": 1,
   "nav_menu": {},
   "number_sections": true,
   "sideBar": true,
   "skip_h1_title": false,
   "title_cell": "Table of Contents",
   "title_sidebar": "Contents",
   "toc_cell": false,
   "toc_position": {},
   "toc_section_display": true,
   "toc_window_display": false
  }
 },
 "nbformat": 4,
 "nbformat_minor": 2
}
