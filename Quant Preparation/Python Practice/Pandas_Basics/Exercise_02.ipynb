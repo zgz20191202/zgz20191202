{
 "cells": [
  {
   "cell_type": "markdown",
   "metadata": {},
   "source": [
    "# Coding Exercises (Part 2)"
   ]
  },
  {
   "cell_type": "markdown",
   "metadata": {},
   "source": [
    "Now, you will have the opportunity to analyze your own dataset. <br>\n",
    "__Follow the instructions__ and insert your code! You are either requested to \n",
    "- Complete the Code and __Fill in the gaps__. Gaps are marked with \"__---__\" and are __placeholders__ for your code fragment \n",
    "- Write Code completely __on your own__ "
   ]
  },
  {
   "cell_type": "markdown",
   "metadata": {},
   "source": [
    "In some exercises, you will find questions that can only be answered, if your code is correct and returns the right output! The correct answer is provided below your coding cell. There you can check whether your code is correct."
   ]
  },
  {
   "cell_type": "markdown",
   "metadata": {},
   "source": [
    "If you need a hint, check the __Hints Section__ at the end of this Notebook. Exercises and Hints are numerated accordingly."
   ]
  },
  {
   "cell_type": "markdown",
   "metadata": {},
   "source": [
    "If you need some further help or if you want to check your code, you can also watch the __solutions videos__ or check the __solutions notebook__."
   ]
  },
  {
   "cell_type": "markdown",
   "metadata": {},
   "source": [
    "### Have Fun!"
   ]
  },
  {
   "cell_type": "markdown",
   "metadata": {},
   "source": [
    "--------------------------------------------------------------------------------------------------------------"
   ]
  },
  {
   "cell_type": "markdown",
   "metadata": {},
   "source": [
    "## Pandas: Basics"
   ]
  },
  {
   "cell_type": "markdown",
   "metadata": {},
   "source": [
    "### Exercise 2: Indexing and Slicing"
   ]
  },
  {
   "cell_type": "markdown",
   "metadata": {},
   "source": [
    "7. -__Import Pandas__ (as pd)<br>\n",
    "-__Import__ the Listings Dataset (__listings.csv__) and save the DataFrame in the variable __listings__ and<br>\n",
    "-__Inspect__ the __first 5 Rows__!"
   ]
  },
  {
   "cell_type": "code",
   "execution_count": 1,
   "metadata": {},
   "outputs": [],
   "source": [
    "import pandas as pd"
   ]
  },
  {
   "cell_type": "code",
   "execution_count": 2,
   "metadata": {},
   "outputs": [],
   "source": [
    "df=pd.read_csv(\"listings.csv\")"
   ]
  },
  {
   "cell_type": "code",
   "execution_count": 3,
   "metadata": {},
   "outputs": [
    {
     "data": {
      "text/html": [
       "<div>\n",
       "<style scoped>\n",
       "    .dataframe tbody tr th:only-of-type {\n",
       "        vertical-align: middle;\n",
       "    }\n",
       "\n",
       "    .dataframe tbody tr th {\n",
       "        vertical-align: top;\n",
       "    }\n",
       "\n",
       "    .dataframe thead th {\n",
       "        text-align: right;\n",
       "    }\n",
       "</style>\n",
       "<table border=\"1\" class=\"dataframe\">\n",
       "  <thead>\n",
       "    <tr style=\"text-align: right;\">\n",
       "      <th></th>\n",
       "      <th>Symbol</th>\n",
       "      <th>Exchange</th>\n",
       "      <th>Name</th>\n",
       "      <th>Last_Price</th>\n",
       "      <th>Market_Cap</th>\n",
       "      <th>ADR TSO</th>\n",
       "      <th>IPO_Year</th>\n",
       "      <th>Sector</th>\n",
       "      <th>Industry</th>\n",
       "    </tr>\n",
       "  </thead>\n",
       "  <tbody>\n",
       "    <tr>\n",
       "      <th>0</th>\n",
       "      <td>A</td>\n",
       "      <td>NYSE</td>\n",
       "      <td>Agilent Technologies, Inc.</td>\n",
       "      <td>81.68</td>\n",
       "      <td>2.593470e+10</td>\n",
       "      <td>NaN</td>\n",
       "      <td>1999.0</td>\n",
       "      <td>Capital Goods</td>\n",
       "      <td>Biotechnology: Laboratory Analytical Instruments</td>\n",
       "    </tr>\n",
       "    <tr>\n",
       "      <th>1</th>\n",
       "      <td>AA</td>\n",
       "      <td>NYSE</td>\n",
       "      <td>Alcoa Corporation</td>\n",
       "      <td>29.15</td>\n",
       "      <td>5.407810e+09</td>\n",
       "      <td>NaN</td>\n",
       "      <td>2016.0</td>\n",
       "      <td>Basic Industries</td>\n",
       "      <td>Aluminum</td>\n",
       "    </tr>\n",
       "    <tr>\n",
       "      <th>2</th>\n",
       "      <td>AABA</td>\n",
       "      <td>NASDAQ</td>\n",
       "      <td>Altaba Inc.</td>\n",
       "      <td>75.39</td>\n",
       "      <td>4.278113e+10</td>\n",
       "      <td>NaN</td>\n",
       "      <td>NaN</td>\n",
       "      <td>Technology</td>\n",
       "      <td>EDP Services</td>\n",
       "    </tr>\n",
       "    <tr>\n",
       "      <th>3</th>\n",
       "      <td>AAC</td>\n",
       "      <td>NYSE</td>\n",
       "      <td>AAC Holdings, Inc.</td>\n",
       "      <td>2.16</td>\n",
       "      <td>5.314109e+07</td>\n",
       "      <td>NaN</td>\n",
       "      <td>2014.0</td>\n",
       "      <td>Health Care</td>\n",
       "      <td>Medical Specialities</td>\n",
       "    </tr>\n",
       "    <tr>\n",
       "      <th>4</th>\n",
       "      <td>AAL</td>\n",
       "      <td>NASDAQ</td>\n",
       "      <td>American Airlines Group, Inc.</td>\n",
       "      <td>34.02</td>\n",
       "      <td>1.527687e+10</td>\n",
       "      <td>NaN</td>\n",
       "      <td>NaN</td>\n",
       "      <td>Transportation</td>\n",
       "      <td>Air Freight/Delivery Services</td>\n",
       "    </tr>\n",
       "  </tbody>\n",
       "</table>\n",
       "</div>"
      ],
      "text/plain": [
       "  Symbol Exchange                           Name  Last_Price    Market_Cap  \\\n",
       "0      A     NYSE     Agilent Technologies, Inc.       81.68  2.593470e+10   \n",
       "1     AA     NYSE              Alcoa Corporation       29.15  5.407810e+09   \n",
       "2   AABA   NASDAQ                    Altaba Inc.       75.39  4.278113e+10   \n",
       "3    AAC     NYSE             AAC Holdings, Inc.        2.16  5.314109e+07   \n",
       "4    AAL   NASDAQ  American Airlines Group, Inc.       34.02  1.527687e+10   \n",
       "\n",
       "   ADR TSO  IPO_Year            Sector  \\\n",
       "0      NaN    1999.0     Capital Goods   \n",
       "1      NaN    2016.0  Basic Industries   \n",
       "2      NaN       NaN        Technology   \n",
       "3      NaN    2014.0       Health Care   \n",
       "4      NaN       NaN    Transportation   \n",
       "\n",
       "                                           Industry  \n",
       "0  Biotechnology: Laboratory Analytical Instruments  \n",
       "1                                          Aluminum  \n",
       "2                                      EDP Services  \n",
       "3                              Medical Specialities  \n",
       "4                     Air Freight/Delivery Services  "
      ]
     },
     "execution_count": 3,
     "metadata": {},
     "output_type": "execute_result"
    }
   ],
   "source": [
    "df.head()"
   ]
  },
  {
   "cell_type": "markdown",
   "metadata": {},
   "source": [
    "8. __Select__ the column __\"Name\"__ with the __attribute__ notation! What is the __company name__ with __index label 4__?"
   ]
  },
  {
   "cell_type": "code",
   "execution_count": 4,
   "metadata": {
    "scrolled": true
   },
   "outputs": [
    {
     "data": {
      "text/plain": [
       "'American Airlines Group, Inc.'"
      ]
     },
     "execution_count": 4,
     "metadata": {},
     "output_type": "execute_result"
    }
   ],
   "source": [
    "df.Name[4]"
   ]
  },
  {
   "cell_type": "markdown",
   "metadata": {},
   "source": [
    "The company name is ... American Airlines Group, Inc.!"
   ]
  },
  {
   "cell_type": "markdown",
   "metadata": {},
   "source": [
    "9. Apply also the __second alternative__ to select the column __\"Name\"__!"
   ]
  },
  {
   "cell_type": "code",
   "execution_count": 5,
   "metadata": {
    "scrolled": true
   },
   "outputs": [
    {
     "data": {
      "text/plain": [
       "0          Agilent Technologies, Inc.\n",
       "1                   Alcoa Corporation\n",
       "2                         Altaba Inc.\n",
       "3                  AAC Holdings, Inc.\n",
       "4       American Airlines Group, Inc.\n",
       "                    ...              \n",
       "6847                      Zumiez Inc.\n",
       "6848                      Zuora, Inc.\n",
       "6849                   Zymeworks Inc.\n",
       "6850    Zynerba Pharmaceuticals, Inc.\n",
       "6851                      Zynex, Inc.\n",
       "Name: Name, Length: 6852, dtype: object"
      ]
     },
     "execution_count": 5,
     "metadata": {},
     "output_type": "execute_result"
    }
   ],
   "source": [
    "df[\"Name\"]"
   ]
  },
  {
   "cell_type": "markdown",
   "metadata": {},
   "source": [
    "10. __Select__ the listing/row at __index position 100__ with the __iloc__ operator (all columns)! What is the IPO_Year?"
   ]
  },
  {
   "cell_type": "code",
   "execution_count": 8,
   "metadata": {
    "scrolled": true
   },
   "outputs": [
    {
     "data": {
      "text/plain": [
       "2014.0"
      ]
     },
     "execution_count": 8,
     "metadata": {},
     "output_type": "execute_result"
    }
   ],
   "source": [
    "df.iloc[100,-3]"
   ]
  },
  {
   "cell_type": "markdown",
   "metadata": {},
   "source": [
    "The IPO_Year of this listing is ... 2014!"
   ]
  },
  {
   "cell_type": "markdown",
   "metadata": {},
   "source": [
    "11. __Select__ the listing/row at __index position 2000__ with the __iloc__ operator (and only the column __\"Name\"__)! <br>\n",
    "What is the __company name__ of this listing?"
   ]
  },
  {
   "cell_type": "code",
   "execution_count": 9,
   "metadata": {},
   "outputs": [
    {
     "data": {
      "text/plain": [
       "'Eagle Bancorp, Inc.'"
      ]
     },
     "execution_count": 9,
     "metadata": {},
     "output_type": "execute_result"
    }
   ],
   "source": [
    "df.iloc[2000,2]"
   ]
  },
  {
   "cell_type": "markdown",
   "metadata": {},
   "source": [
    "It´s the ... Eagle Bancorp, Inc.!"
   ]
  },
  {
   "cell_type": "markdown",
   "metadata": {},
   "source": [
    "12. __Select__ the __last 10 rows__ and the columns __Name, Last_Price, Sector__ and __Industry__ with the __iloc__ operator! __Fill in the Gaps__! <br>\n",
    "What is the __Sector__ of the __Zymeworks Inc.__?"
   ]
  },
  {
   "cell_type": "code",
   "execution_count": 14,
   "metadata": {},
   "outputs": [
    {
     "data": {
      "text/plain": [
       "6849    Health Care\n",
       "Name: Sector, dtype: object"
      ]
     },
     "execution_count": 14,
     "metadata": {},
     "output_type": "execute_result"
    }
   ],
   "source": [
    "df[df.Name=='Zymeworks Inc.'].Sector"
   ]
  },
  {
   "cell_type": "markdown",
   "metadata": {},
   "source": [
    "The Sector is ... Healthcare!"
   ]
  },
  {
   "cell_type": "markdown",
   "metadata": {},
   "source": [
    "13. __Import__ the __Listings Dataset__ one more time (save in the variable __listings__) and set the column __\"Symbol\"__ as the __index__! <br>\n",
    "__Fill in the Gaps__!"
   ]
  },
  {
   "cell_type": "code",
   "execution_count": 17,
   "metadata": {},
   "outputs": [],
   "source": [
    "listings = pd.read_csv(\"listings.csv\", index_col = \"Symbol\")"
   ]
  },
  {
   "cell_type": "code",
   "execution_count": 18,
   "metadata": {},
   "outputs": [
    {
     "data": {
      "text/html": [
       "<div>\n",
       "<style scoped>\n",
       "    .dataframe tbody tr th:only-of-type {\n",
       "        vertical-align: middle;\n",
       "    }\n",
       "\n",
       "    .dataframe tbody tr th {\n",
       "        vertical-align: top;\n",
       "    }\n",
       "\n",
       "    .dataframe thead th {\n",
       "        text-align: right;\n",
       "    }\n",
       "</style>\n",
       "<table border=\"1\" class=\"dataframe\">\n",
       "  <thead>\n",
       "    <tr style=\"text-align: right;\">\n",
       "      <th></th>\n",
       "      <th>Exchange</th>\n",
       "      <th>Name</th>\n",
       "      <th>Last_Price</th>\n",
       "      <th>Market_Cap</th>\n",
       "      <th>ADR TSO</th>\n",
       "      <th>IPO_Year</th>\n",
       "      <th>Sector</th>\n",
       "      <th>Industry</th>\n",
       "    </tr>\n",
       "    <tr>\n",
       "      <th>Symbol</th>\n",
       "      <th></th>\n",
       "      <th></th>\n",
       "      <th></th>\n",
       "      <th></th>\n",
       "      <th></th>\n",
       "      <th></th>\n",
       "      <th></th>\n",
       "      <th></th>\n",
       "    </tr>\n",
       "  </thead>\n",
       "  <tbody>\n",
       "    <tr>\n",
       "      <th>A</th>\n",
       "      <td>NYSE</td>\n",
       "      <td>Agilent Technologies, Inc.</td>\n",
       "      <td>81.68</td>\n",
       "      <td>2.593470e+10</td>\n",
       "      <td>NaN</td>\n",
       "      <td>1999.0</td>\n",
       "      <td>Capital Goods</td>\n",
       "      <td>Biotechnology: Laboratory Analytical Instruments</td>\n",
       "    </tr>\n",
       "    <tr>\n",
       "      <th>AA</th>\n",
       "      <td>NYSE</td>\n",
       "      <td>Alcoa Corporation</td>\n",
       "      <td>29.15</td>\n",
       "      <td>5.407810e+09</td>\n",
       "      <td>NaN</td>\n",
       "      <td>2016.0</td>\n",
       "      <td>Basic Industries</td>\n",
       "      <td>Aluminum</td>\n",
       "    </tr>\n",
       "    <tr>\n",
       "      <th>AABA</th>\n",
       "      <td>NASDAQ</td>\n",
       "      <td>Altaba Inc.</td>\n",
       "      <td>75.39</td>\n",
       "      <td>4.278113e+10</td>\n",
       "      <td>NaN</td>\n",
       "      <td>NaN</td>\n",
       "      <td>Technology</td>\n",
       "      <td>EDP Services</td>\n",
       "    </tr>\n",
       "    <tr>\n",
       "      <th>AAC</th>\n",
       "      <td>NYSE</td>\n",
       "      <td>AAC Holdings, Inc.</td>\n",
       "      <td>2.16</td>\n",
       "      <td>5.314109e+07</td>\n",
       "      <td>NaN</td>\n",
       "      <td>2014.0</td>\n",
       "      <td>Health Care</td>\n",
       "      <td>Medical Specialities</td>\n",
       "    </tr>\n",
       "    <tr>\n",
       "      <th>AAL</th>\n",
       "      <td>NASDAQ</td>\n",
       "      <td>American Airlines Group, Inc.</td>\n",
       "      <td>34.02</td>\n",
       "      <td>1.527687e+10</td>\n",
       "      <td>NaN</td>\n",
       "      <td>NaN</td>\n",
       "      <td>Transportation</td>\n",
       "      <td>Air Freight/Delivery Services</td>\n",
       "    </tr>\n",
       "  </tbody>\n",
       "</table>\n",
       "</div>"
      ],
      "text/plain": [
       "       Exchange                           Name  Last_Price    Market_Cap  \\\n",
       "Symbol                                                                     \n",
       "A          NYSE     Agilent Technologies, Inc.       81.68  2.593470e+10   \n",
       "AA         NYSE              Alcoa Corporation       29.15  5.407810e+09   \n",
       "AABA     NASDAQ                    Altaba Inc.       75.39  4.278113e+10   \n",
       "AAC        NYSE             AAC Holdings, Inc.        2.16  5.314109e+07   \n",
       "AAL      NASDAQ  American Airlines Group, Inc.       34.02  1.527687e+10   \n",
       "\n",
       "        ADR TSO  IPO_Year            Sector  \\\n",
       "Symbol                                        \n",
       "A           NaN    1999.0     Capital Goods   \n",
       "AA          NaN    2016.0  Basic Industries   \n",
       "AABA        NaN       NaN        Technology   \n",
       "AAC         NaN    2014.0       Health Care   \n",
       "AAL         NaN       NaN    Transportation   \n",
       "\n",
       "                                                Industry  \n",
       "Symbol                                                    \n",
       "A       Biotechnology: Laboratory Analytical Instruments  \n",
       "AA                                              Aluminum  \n",
       "AABA                                        EDP Services  \n",
       "AAC                                 Medical Specialities  \n",
       "AAL                        Air Freight/Delivery Services  "
      ]
     },
     "execution_count": 18,
     "metadata": {},
     "output_type": "execute_result"
    }
   ],
   "source": [
    "#run the cell and inspect!\n",
    "listings.head()"
   ]
  },
  {
   "cell_type": "code",
   "execution_count": 19,
   "metadata": {},
   "outputs": [
    {
     "name": "stdout",
     "output_type": "stream",
     "text": [
      "<class 'pandas.core.frame.DataFrame'>\n",
      "Index: 6852 entries, A to ZYXI\n",
      "Data columns (total 8 columns):\n",
      " #   Column      Non-Null Count  Dtype  \n",
      "---  ------      --------------  -----  \n",
      " 0   Exchange    6852 non-null   object \n",
      " 1   Name        6852 non-null   object \n",
      " 2   Last_Price  6745 non-null   float64\n",
      " 3   Market_Cap  5954 non-null   float64\n",
      " 4   ADR TSO     140 non-null    float64\n",
      " 5   IPO_Year    3105 non-null   float64\n",
      " 6   Sector      5309 non-null   object \n",
      " 7   Industry    5309 non-null   object \n",
      "dtypes: float64(4), object(4)\n",
      "memory usage: 481.8+ KB\n"
     ]
    }
   ],
   "source": [
    "#run the cell and inspect!\n",
    "listings.info()"
   ]
  },
  {
   "cell_type": "markdown",
   "metadata": {},
   "source": [
    "14. __Inspect__ the new Index of the DataFrame by calling the __index__ attribute!"
   ]
  },
  {
   "cell_type": "code",
   "execution_count": 23,
   "metadata": {
    "scrolled": true
   },
   "outputs": [
    {
     "data": {
      "text/plain": [
       "Index(['A', 'AA', 'AABA', 'AAC', 'AAL', 'AAMC', 'AAME', 'AAN', 'AAOI', 'AAON',\n",
       "       ...\n",
       "       'ZSAN', 'ZTEST', 'ZTO', 'ZTR', 'ZTS', 'ZUMZ', 'ZUO', 'ZYME', 'ZYNE',\n",
       "       'ZYXI'],\n",
       "      dtype='object', name='Symbol', length=6852)"
      ]
     },
     "execution_count": 23,
     "metadata": {},
     "output_type": "execute_result"
    }
   ],
   "source": [
    "listings.index"
   ]
  },
  {
   "cell_type": "markdown",
   "metadata": {},
   "source": [
    "15. __Select__ the __row__ with the index label __\"AAPL\"__ (Apple) (use the __loc__ operator)! What is the __Last_Price__?"
   ]
  },
  {
   "cell_type": "code",
   "execution_count": 24,
   "metadata": {
    "scrolled": true
   },
   "outputs": [
    {
     "data": {
      "text/plain": [
       "200.62"
      ]
     },
     "execution_count": 24,
     "metadata": {},
     "output_type": "execute_result"
    }
   ],
   "source": [
    "listings.loc[\"AAPL\" ,\"Last_Price\"]"
   ]
  },
  {
   "cell_type": "markdown",
   "metadata": {},
   "source": [
    "The Last_Price is ... 200.62!"
   ]
  },
  {
   "cell_type": "markdown",
   "metadata": {},
   "source": [
    "16. __Select__ the __row__ with the index label __\"FB\"__ (Facebook) and only the columns __\"IPO_Year\"__ and __\"Industry\"__! <br>\n",
    "What´s the __Industry__?"
   ]
  },
  {
   "cell_type": "code",
   "execution_count": 25,
   "metadata": {},
   "outputs": [
    {
     "data": {
      "text/plain": [
       "IPO_Year                                             2012.0\n",
       "Industry    Computer Software: Programming, Data Processing\n",
       "Name: FB, dtype: object"
      ]
     },
     "execution_count": 25,
     "metadata": {},
     "output_type": "execute_result"
    }
   ],
   "source": [
    "listings.loc[\"FB\",[\"IPO_Year\",\"Industry\"]]"
   ]
  },
  {
   "cell_type": "markdown",
   "metadata": {},
   "source": [
    "The Industry is ... Computer Software: Programming, Data Processing!"
   ]
  },
  {
   "cell_type": "markdown",
   "metadata": {},
   "source": [
    "17. __Select__ the columns __\"Name\"__ and __\"Last_Price\"__ with the __loc__ operator (all rows)!"
   ]
  },
  {
   "cell_type": "code",
   "execution_count": 26,
   "metadata": {
    "scrolled": true
   },
   "outputs": [
    {
     "data": {
      "text/html": [
       "<div>\n",
       "<style scoped>\n",
       "    .dataframe tbody tr th:only-of-type {\n",
       "        vertical-align: middle;\n",
       "    }\n",
       "\n",
       "    .dataframe tbody tr th {\n",
       "        vertical-align: top;\n",
       "    }\n",
       "\n",
       "    .dataframe thead th {\n",
       "        text-align: right;\n",
       "    }\n",
       "</style>\n",
       "<table border=\"1\" class=\"dataframe\">\n",
       "  <thead>\n",
       "    <tr style=\"text-align: right;\">\n",
       "      <th></th>\n",
       "      <th>Name</th>\n",
       "      <th>Last_Price</th>\n",
       "    </tr>\n",
       "    <tr>\n",
       "      <th>Symbol</th>\n",
       "      <th></th>\n",
       "      <th></th>\n",
       "    </tr>\n",
       "  </thead>\n",
       "  <tbody>\n",
       "    <tr>\n",
       "      <th>A</th>\n",
       "      <td>Agilent Technologies, Inc.</td>\n",
       "      <td>81.68</td>\n",
       "    </tr>\n",
       "    <tr>\n",
       "      <th>AA</th>\n",
       "      <td>Alcoa Corporation</td>\n",
       "      <td>29.15</td>\n",
       "    </tr>\n",
       "    <tr>\n",
       "      <th>AABA</th>\n",
       "      <td>Altaba Inc.</td>\n",
       "      <td>75.39</td>\n",
       "    </tr>\n",
       "    <tr>\n",
       "      <th>AAC</th>\n",
       "      <td>AAC Holdings, Inc.</td>\n",
       "      <td>2.16</td>\n",
       "    </tr>\n",
       "    <tr>\n",
       "      <th>AAL</th>\n",
       "      <td>American Airlines Group, Inc.</td>\n",
       "      <td>34.02</td>\n",
       "    </tr>\n",
       "    <tr>\n",
       "      <th>...</th>\n",
       "      <td>...</td>\n",
       "      <td>...</td>\n",
       "    </tr>\n",
       "    <tr>\n",
       "      <th>ZUMZ</th>\n",
       "      <td>Zumiez Inc.</td>\n",
       "      <td>26.72</td>\n",
       "    </tr>\n",
       "    <tr>\n",
       "      <th>ZUO</th>\n",
       "      <td>Zuora, Inc.</td>\n",
       "      <td>19.79</td>\n",
       "    </tr>\n",
       "    <tr>\n",
       "      <th>ZYME</th>\n",
       "      <td>Zymeworks Inc.</td>\n",
       "      <td>15.74</td>\n",
       "    </tr>\n",
       "    <tr>\n",
       "      <th>ZYNE</th>\n",
       "      <td>Zynerba Pharmaceuticals, Inc.</td>\n",
       "      <td>7.85</td>\n",
       "    </tr>\n",
       "    <tr>\n",
       "      <th>ZYXI</th>\n",
       "      <td>Zynex, Inc.</td>\n",
       "      <td>5.02</td>\n",
       "    </tr>\n",
       "  </tbody>\n",
       "</table>\n",
       "<p>6852 rows × 2 columns</p>\n",
       "</div>"
      ],
      "text/plain": [
       "                                 Name  Last_Price\n",
       "Symbol                                           \n",
       "A          Agilent Technologies, Inc.       81.68\n",
       "AA                  Alcoa Corporation       29.15\n",
       "AABA                      Altaba Inc.       75.39\n",
       "AAC                AAC Holdings, Inc.        2.16\n",
       "AAL     American Airlines Group, Inc.       34.02\n",
       "...                               ...         ...\n",
       "ZUMZ                      Zumiez Inc.       26.72\n",
       "ZUO                       Zuora, Inc.       19.79\n",
       "ZYME                   Zymeworks Inc.       15.74\n",
       "ZYNE    Zynerba Pharmaceuticals, Inc.        7.85\n",
       "ZYXI                      Zynex, Inc.        5.02\n",
       "\n",
       "[6852 rows x 2 columns]"
      ]
     },
     "execution_count": 26,
     "metadata": {},
     "output_type": "execute_result"
    }
   ],
   "source": [
    "listings.loc[:,[\"Name\",\"Last_Price\"]]"
   ]
  },
  {
   "cell_type": "markdown",
   "metadata": {},
   "source": [
    "18. __Select__ the last three columns __\"IPO_Year\"__, __\"Sector\"__ and __\"Industry\"__ for __\"MSFT\"__ (Microsoft) and __\"DIS\"__ (Disney) with the __loc__ operator. Don´t use \"Sector\" or \"Industry\" in your code! What is Disney´s __Industry__?"
   ]
  },
  {
   "cell_type": "code",
   "execution_count": 28,
   "metadata": {},
   "outputs": [
    {
     "data": {
      "text/html": [
       "<div>\n",
       "<style scoped>\n",
       "    .dataframe tbody tr th:only-of-type {\n",
       "        vertical-align: middle;\n",
       "    }\n",
       "\n",
       "    .dataframe tbody tr th {\n",
       "        vertical-align: top;\n",
       "    }\n",
       "\n",
       "    .dataframe thead th {\n",
       "        text-align: right;\n",
       "    }\n",
       "</style>\n",
       "<table border=\"1\" class=\"dataframe\">\n",
       "  <thead>\n",
       "    <tr style=\"text-align: right;\">\n",
       "      <th></th>\n",
       "      <th>IPO_Year</th>\n",
       "      <th>Sector</th>\n",
       "      <th>Industry</th>\n",
       "    </tr>\n",
       "    <tr>\n",
       "      <th>Symbol</th>\n",
       "      <th></th>\n",
       "      <th></th>\n",
       "      <th></th>\n",
       "    </tr>\n",
       "  </thead>\n",
       "  <tbody>\n",
       "    <tr>\n",
       "      <th>MSFT</th>\n",
       "      <td>1986.0</td>\n",
       "      <td>Technology</td>\n",
       "      <td>Computer Software: Prepackaged Software</td>\n",
       "    </tr>\n",
       "    <tr>\n",
       "      <th>DIS</th>\n",
       "      <td>NaN</td>\n",
       "      <td>Consumer Services</td>\n",
       "      <td>Television Services</td>\n",
       "    </tr>\n",
       "  </tbody>\n",
       "</table>\n",
       "</div>"
      ],
      "text/plain": [
       "        IPO_Year             Sector                                 Industry\n",
       "Symbol                                                                      \n",
       "MSFT      1986.0         Technology  Computer Software: Prepackaged Software\n",
       "DIS          NaN  Consumer Services                      Television Services"
      ]
     },
     "execution_count": 28,
     "metadata": {},
     "output_type": "execute_result"
    }
   ],
   "source": [
    "listings.loc[['MSFT','DIS'],\"IPO_Year\":]"
   ]
  },
  {
   "cell_type": "markdown",
   "metadata": {},
   "source": [
    "Disney´s Industry is ... Television Services"
   ]
  },
  {
   "cell_type": "markdown",
   "metadata": {},
   "source": [
    "# Well Done!"
   ]
  },
  {
   "cell_type": "markdown",
   "metadata": {},
   "source": [
    "---------------------------------------------------------------------------------------------------------------------"
   ]
  },
  {
   "cell_type": "markdown",
   "metadata": {},
   "source": [
    "# Hints (Spoiler!)"
   ]
  },
  {
   "cell_type": "markdown",
   "metadata": {},
   "source": [
    "7. pandas as pd, pd.read_csv(\"filename\"), head()"
   ]
  },
  {
   "cell_type": "markdown",
   "metadata": {},
   "source": [
    "8. listings.---"
   ]
  },
  {
   "cell_type": "markdown",
   "metadata": {},
   "source": [
    "9. listings[\"---\"]"
   ]
  },
  {
   "cell_type": "markdown",
   "metadata": {},
   "source": [
    "10. listings.iloc[---]"
   ]
  },
  {
   "cell_type": "markdown",
   "metadata": {},
   "source": [
    "11. listings.iloc[row index position, column index position]; \"Name\" column is at index position ... 2"
   ]
  },
  {
   "cell_type": "markdown",
   "metadata": {},
   "source": [
    "12. The last 10 rows = from index position -10 till the end (:); Count the column index positions of the Columns\n"
   ]
  },
  {
   "cell_type": "markdown",
   "metadata": {},
   "source": [
    "13. parameter index_col"
   ]
  },
  {
   "cell_type": "markdown",
   "metadata": {},
   "source": [
    "14. listings.---"
   ]
  },
  {
   "cell_type": "markdown",
   "metadata": {},
   "source": [
    "15. listings.loc[\"row label\"]"
   ]
  },
  {
   "cell_type": "markdown",
   "metadata": {},
   "source": [
    "16. listings.loc[---, [---, ---]]"
   ]
  },
  {
   "cell_type": "markdown",
   "metadata": {},
   "source": [
    "17.  listings.loc[ : , [---, ---]]"
   ]
  },
  {
   "cell_type": "markdown",
   "metadata": {},
   "source": [
    "18. listings.loc[[---, ---], ---:]"
   ]
  },
  {
   "cell_type": "code",
   "execution_count": null,
   "metadata": {},
   "outputs": [],
   "source": []
  }
 ],
 "metadata": {
  "kernelspec": {
   "display_name": "Python 3 (ipykernel)",
   "language": "python",
   "name": "python3"
  },
  "language_info": {
   "codemirror_mode": {
    "name": "ipython",
    "version": 3
   },
   "file_extension": ".py",
   "mimetype": "text/x-python",
   "name": "python",
   "nbconvert_exporter": "python",
   "pygments_lexer": "ipython3",
   "version": "3.9.7"
  },
  "toc": {
   "base_numbering": 1,
   "nav_menu": {},
   "number_sections": true,
   "sideBar": true,
   "skip_h1_title": false,
   "title_cell": "Table of Contents",
   "title_sidebar": "Contents",
   "toc_cell": false,
   "toc_position": {},
   "toc_section_display": true,
   "toc_window_display": false
  }
 },
 "nbformat": 4,
 "nbformat_minor": 2
}
