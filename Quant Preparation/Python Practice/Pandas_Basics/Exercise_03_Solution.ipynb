{
 "cells": [
  {
   "cell_type": "markdown",
   "metadata": {},
   "source": [
    "# Coding Exercises (Part 3)"
   ]
  },
  {
   "cell_type": "markdown",
   "metadata": {},
   "source": [
    "Now, you will have the opportunity to analyze your own dataset. <br>\n",
    "__Follow the instructions__ and insert your code! You are either requested to \n",
    "- Complete the Code and __Fill in the gaps__. Gaps are marked with \"__---__\" and are __placeholders__ for your code fragment. \n",
    "- Write Code completely __on your own__."
   ]
  },
  {
   "cell_type": "markdown",
   "metadata": {},
   "source": [
    "In some exercises, you will find questions that can only be answered, if your code is correct and returns the right output! The correct answer is provided below your coding cell. There you can check whether your code is correct."
   ]
  },
  {
   "cell_type": "markdown",
   "metadata": {},
   "source": [
    "If you need a hint, check the __Hints Section__ at the end of this Notebook. Exercises and Hints are numerated accordingly."
   ]
  },
  {
   "cell_type": "markdown",
   "metadata": {},
   "source": [
    "If you need some further help or if you want to check your code, you can also watch the __solutions videos__ or check the __solutions notebook__."
   ]
  },
  {
   "cell_type": "markdown",
   "metadata": {},
   "source": [
    "### Have Fun!"
   ]
  },
  {
   "cell_type": "markdown",
   "metadata": {},
   "source": [
    "--------------------------------------------------------------------------------------------------------------"
   ]
  },
  {
   "cell_type": "markdown",
   "metadata": {},
   "source": [
    "## Pandas: Intermediate Topics\n"
   ]
  },
  {
   "cell_type": "markdown",
   "metadata": {},
   "source": [
    "### Exercise 3: Analyzing Columns / Pandas Series"
   ]
  },
  {
   "cell_type": "code",
   "execution_count": 1,
   "metadata": {},
   "outputs": [],
   "source": [
    "#run the cell!\n",
    "import pandas as pd"
   ]
  },
  {
   "cell_type": "code",
   "execution_count": 2,
   "metadata": {},
   "outputs": [],
   "source": [
    "#run the cell!\n",
    "listings = pd.read_csv(\"listings.csv\")"
   ]
  },
  {
   "cell_type": "code",
   "execution_count": 3,
   "metadata": {},
   "outputs": [
    {
     "data": {
      "text/html": [
       "<div>\n",
       "<style scoped>\n",
       "    .dataframe tbody tr th:only-of-type {\n",
       "        vertical-align: middle;\n",
       "    }\n",
       "\n",
       "    .dataframe tbody tr th {\n",
       "        vertical-align: top;\n",
       "    }\n",
       "\n",
       "    .dataframe thead th {\n",
       "        text-align: right;\n",
       "    }\n",
       "</style>\n",
       "<table border=\"1\" class=\"dataframe\">\n",
       "  <thead>\n",
       "    <tr style=\"text-align: right;\">\n",
       "      <th></th>\n",
       "      <th>Symbol</th>\n",
       "      <th>Exchange</th>\n",
       "      <th>Name</th>\n",
       "      <th>Last_Price</th>\n",
       "      <th>Market_Cap</th>\n",
       "      <th>ADR TSO</th>\n",
       "      <th>IPO_Year</th>\n",
       "      <th>Sector</th>\n",
       "      <th>Industry</th>\n",
       "    </tr>\n",
       "  </thead>\n",
       "  <tbody>\n",
       "    <tr>\n",
       "      <th>0</th>\n",
       "      <td>A</td>\n",
       "      <td>NYSE</td>\n",
       "      <td>Agilent Technologies, Inc.</td>\n",
       "      <td>81.68</td>\n",
       "      <td>2.593470e+10</td>\n",
       "      <td>NaN</td>\n",
       "      <td>1999.0</td>\n",
       "      <td>Capital Goods</td>\n",
       "      <td>Biotechnology: Laboratory Analytical Instruments</td>\n",
       "    </tr>\n",
       "    <tr>\n",
       "      <th>1</th>\n",
       "      <td>AA</td>\n",
       "      <td>NYSE</td>\n",
       "      <td>Alcoa Corporation</td>\n",
       "      <td>29.15</td>\n",
       "      <td>5.407810e+09</td>\n",
       "      <td>NaN</td>\n",
       "      <td>2016.0</td>\n",
       "      <td>Basic Industries</td>\n",
       "      <td>Aluminum</td>\n",
       "    </tr>\n",
       "    <tr>\n",
       "      <th>2</th>\n",
       "      <td>AABA</td>\n",
       "      <td>NASDAQ</td>\n",
       "      <td>Altaba Inc.</td>\n",
       "      <td>75.39</td>\n",
       "      <td>4.278113e+10</td>\n",
       "      <td>NaN</td>\n",
       "      <td>NaN</td>\n",
       "      <td>Technology</td>\n",
       "      <td>EDP Services</td>\n",
       "    </tr>\n",
       "    <tr>\n",
       "      <th>3</th>\n",
       "      <td>AAC</td>\n",
       "      <td>NYSE</td>\n",
       "      <td>AAC Holdings, Inc.</td>\n",
       "      <td>2.16</td>\n",
       "      <td>5.314109e+07</td>\n",
       "      <td>NaN</td>\n",
       "      <td>2014.0</td>\n",
       "      <td>Health Care</td>\n",
       "      <td>Medical Specialities</td>\n",
       "    </tr>\n",
       "    <tr>\n",
       "      <th>4</th>\n",
       "      <td>AAL</td>\n",
       "      <td>NASDAQ</td>\n",
       "      <td>American Airlines Group, Inc.</td>\n",
       "      <td>34.02</td>\n",
       "      <td>1.527687e+10</td>\n",
       "      <td>NaN</td>\n",
       "      <td>NaN</td>\n",
       "      <td>Transportation</td>\n",
       "      <td>Air Freight/Delivery Services</td>\n",
       "    </tr>\n",
       "  </tbody>\n",
       "</table>\n",
       "</div>"
      ],
      "text/plain": [
       "  Symbol Exchange                           Name  Last_Price    Market_Cap  \\\n",
       "0      A     NYSE     Agilent Technologies, Inc.       81.68  2.593470e+10   \n",
       "1     AA     NYSE              Alcoa Corporation       29.15  5.407810e+09   \n",
       "2   AABA   NASDAQ                    Altaba Inc.       75.39  4.278113e+10   \n",
       "3    AAC     NYSE             AAC Holdings, Inc.        2.16  5.314109e+07   \n",
       "4    AAL   NASDAQ  American Airlines Group, Inc.       34.02  1.527687e+10   \n",
       "\n",
       "   ADR TSO  IPO_Year            Sector  \\\n",
       "0      NaN    1999.0     Capital Goods   \n",
       "1      NaN    2016.0  Basic Industries   \n",
       "2      NaN       NaN        Technology   \n",
       "3      NaN    2014.0       Health Care   \n",
       "4      NaN       NaN    Transportation   \n",
       "\n",
       "                                           Industry  \n",
       "0  Biotechnology: Laboratory Analytical Instruments  \n",
       "1                                          Aluminum  \n",
       "2                                      EDP Services  \n",
       "3                              Medical Specialities  \n",
       "4                     Air Freight/Delivery Services  "
      ]
     },
     "execution_count": 3,
     "metadata": {},
     "output_type": "execute_result"
    }
   ],
   "source": [
    "#run the cell!\n",
    "listings.head()"
   ]
  },
  {
   "cell_type": "code",
   "execution_count": 4,
   "metadata": {},
   "outputs": [
    {
     "name": "stdout",
     "output_type": "stream",
     "text": [
      "<class 'pandas.core.frame.DataFrame'>\n",
      "RangeIndex: 6852 entries, 0 to 6851\n",
      "Data columns (total 9 columns):\n",
      "Symbol        6852 non-null object\n",
      "Exchange      6852 non-null object\n",
      "Name          6852 non-null object\n",
      "Last_Price    6745 non-null float64\n",
      "Market_Cap    5954 non-null float64\n",
      "ADR TSO       140 non-null float64\n",
      "IPO_Year      3105 non-null float64\n",
      "Sector        5309 non-null object\n",
      "Industry      5309 non-null object\n",
      "dtypes: float64(4), object(5)\n",
      "memory usage: 481.9+ KB\n"
     ]
    }
   ],
   "source": [
    "#run the cell!\n",
    "listings.info()"
   ]
  },
  {
   "cell_type": "markdown",
   "metadata": {},
   "source": [
    "19. __Select__ the numerical column __\"Last_Price\"__, create a __copy__ and __save__ the column/Pandas Series in the variable __price__! __Fill in the gaps!__"
   ]
  },
  {
   "cell_type": "code",
   "execution_count": 5,
   "metadata": {},
   "outputs": [],
   "source": [
    "price = listings.Last_Price.copy()"
   ]
  },
  {
   "cell_type": "code",
   "execution_count": 6,
   "metadata": {},
   "outputs": [
    {
     "data": {
      "text/plain": [
       "0    81.68\n",
       "1    29.15\n",
       "2    75.39\n",
       "3     2.16\n",
       "4    34.02\n",
       "Name: Last_Price, dtype: float64"
      ]
     },
     "execution_count": 6,
     "metadata": {},
     "output_type": "execute_result"
    }
   ],
   "source": [
    "#run the cell!\n",
    "price.head()"
   ]
  },
  {
   "cell_type": "markdown",
   "metadata": {},
   "source": [
    "20. Get some __summary statistics__ on the Series __price__! What is the __price__ of the __most expensive stock__?"
   ]
  },
  {
   "cell_type": "code",
   "execution_count": 7,
   "metadata": {},
   "outputs": [
    {
     "data": {
      "text/plain": [
       "count    6745.000000\n",
       "mean       37.372232\n",
       "std        99.249040\n",
       "min         0.003000\n",
       "25%         8.310000\n",
       "50%        20.573500\n",
       "75%        37.370000\n",
       "max      4299.990000\n",
       "Name: Last_Price, dtype: float64"
      ]
     },
     "execution_count": 7,
     "metadata": {},
     "output_type": "execute_result"
    }
   ],
   "source": [
    "price.describe()"
   ]
  },
  {
   "cell_type": "markdown",
   "metadata": {},
   "source": [
    "The price of the most expensive stock is ... 4299.99!"
   ]
  },
  {
   "cell_type": "markdown",
   "metadata": {},
   "source": [
    "21. Get the __minimum Value__ in the Series __price__ by explicitly calling the ... method! The cheapest stock has a __Last_Price__ of...?"
   ]
  },
  {
   "cell_type": "code",
   "execution_count": 8,
   "metadata": {},
   "outputs": [
    {
     "data": {
      "text/plain": [
       "0.003"
      ]
     },
     "execution_count": 8,
     "metadata": {},
     "output_type": "execute_result"
    }
   ],
   "source": [
    "price.min()"
   ]
  },
  {
   "cell_type": "markdown",
   "metadata": {},
   "source": [
    "The cheapest stock has a stock price of... 0.003!"
   ]
  },
  {
   "cell_type": "markdown",
   "metadata": {},
   "source": [
    "22. Get the Frequency/__Counts__ of all unique __values__ in the Series __price__! What is the __most frequent__ price?"
   ]
  },
  {
   "cell_type": "code",
   "execution_count": 9,
   "metadata": {
    "scrolled": true
   },
   "outputs": [
    {
     "data": {
      "text/plain": [
       "9.7300      9\n",
       "25.0000     9\n",
       "1.6100      8\n",
       "2.5000      8\n",
       "10.2600     7\n",
       "25.1700     7\n",
       "1.3300      7\n",
       "25.4400     7\n",
       "25.7000     7\n",
       "1.0800      7\n",
       "25.4000     7\n",
       "5.1000      6\n",
       "25.6800     6\n",
       "1.0300      6\n",
       "3.1900      6\n",
       "1.0100      6\n",
       "25.6000     6\n",
       "25.6200     6\n",
       "10.5000     6\n",
       "0.3500      6\n",
       "25.1000     6\n",
       "25.1500     6\n",
       "11.0000     6\n",
       "25.8900     6\n",
       "25.3200     6\n",
       "3.3000      6\n",
       "8.0000      6\n",
       "1.1100      6\n",
       "9.9300      6\n",
       "1.4800      6\n",
       "           ..\n",
       "74.3400     1\n",
       "22.2400     1\n",
       "40.5600     1\n",
       "18.4850     1\n",
       "198.7800    1\n",
       "14.9800     1\n",
       "6.3500      1\n",
       "0.8610      1\n",
       "19.6500     1\n",
       "0.0070      1\n",
       "0.8827      1\n",
       "24.2443     1\n",
       "68.9200     1\n",
       "64.4100     1\n",
       "76.6000     1\n",
       "51.8200     1\n",
       "16.6500     1\n",
       "76.8500     1\n",
       "15.6700     1\n",
       "22.8500     1\n",
       "55.8000     1\n",
       "89.5600     1\n",
       "58.2300     1\n",
       "66.6600     1\n",
       "13.5400     1\n",
       "46.8000     1\n",
       "131.3235    1\n",
       "35.3000     1\n",
       "53.9100     1\n",
       "74.0000     1\n",
       "Name: Last_Price, Length: 4470, dtype: int64"
      ]
     },
     "execution_count": 9,
     "metadata": {},
     "output_type": "execute_result"
    }
   ],
   "source": [
    "price.value_counts()"
   ]
  },
  {
   "cell_type": "markdown",
   "metadata": {},
   "source": [
    "The most frequent values are ... 25.0 and 9.73!"
   ]
  },
  {
   "cell_type": "markdown",
   "metadata": {},
   "source": [
    "23. Get the __relative frequencies__ in the Series __price__! What is the __relative frequency__ of the __most frequent price__?"
   ]
  },
  {
   "cell_type": "code",
   "execution_count": 10,
   "metadata": {
    "scrolled": true
   },
   "outputs": [
    {
     "data": {
      "text/plain": [
       "9.7300      0.001334\n",
       "25.0000     0.001334\n",
       "1.6100      0.001186\n",
       "2.5000      0.001186\n",
       "10.2600     0.001038\n",
       "25.1700     0.001038\n",
       "1.3300      0.001038\n",
       "25.4400     0.001038\n",
       "25.7000     0.001038\n",
       "1.0800      0.001038\n",
       "25.4000     0.001038\n",
       "5.1000      0.000890\n",
       "25.6800     0.000890\n",
       "1.0300      0.000890\n",
       "3.1900      0.000890\n",
       "1.0100      0.000890\n",
       "25.6000     0.000890\n",
       "25.6200     0.000890\n",
       "10.5000     0.000890\n",
       "0.3500      0.000890\n",
       "25.1000     0.000890\n",
       "25.1500     0.000890\n",
       "11.0000     0.000890\n",
       "25.8900     0.000890\n",
       "25.3200     0.000890\n",
       "3.3000      0.000890\n",
       "8.0000      0.000890\n",
       "1.1100      0.000890\n",
       "9.9300      0.000890\n",
       "1.4800      0.000890\n",
       "              ...   \n",
       "74.3400     0.000148\n",
       "22.2400     0.000148\n",
       "40.5600     0.000148\n",
       "18.4850     0.000148\n",
       "198.7800    0.000148\n",
       "14.9800     0.000148\n",
       "6.3500      0.000148\n",
       "0.8610      0.000148\n",
       "19.6500     0.000148\n",
       "0.0070      0.000148\n",
       "0.8827      0.000148\n",
       "24.2443     0.000148\n",
       "68.9200     0.000148\n",
       "64.4100     0.000148\n",
       "76.6000     0.000148\n",
       "51.8200     0.000148\n",
       "16.6500     0.000148\n",
       "76.8500     0.000148\n",
       "15.6700     0.000148\n",
       "22.8500     0.000148\n",
       "55.8000     0.000148\n",
       "89.5600     0.000148\n",
       "58.2300     0.000148\n",
       "66.6600     0.000148\n",
       "13.5400     0.000148\n",
       "46.8000     0.000148\n",
       "131.3235    0.000148\n",
       "35.3000     0.000148\n",
       "53.9100     0.000148\n",
       "74.0000     0.000148\n",
       "Name: Last_Price, Length: 4470, dtype: float64"
      ]
     },
     "execution_count": 10,
     "metadata": {},
     "output_type": "execute_result"
    }
   ],
   "source": [
    "price.value_counts(normalize = True)"
   ]
  },
  {
   "cell_type": "markdown",
   "metadata": {},
   "source": [
    "The relative frequency of 25.0 and 9.73 is ... 0.001334!"
   ]
  },
  {
   "cell_type": "markdown",
   "metadata": {},
   "source": [
    "24. __Sort__ the Series __price__ from __low to high__! What is the __second lowest__ price?"
   ]
  },
  {
   "cell_type": "code",
   "execution_count": 11,
   "metadata": {
    "scrolled": true
   },
   "outputs": [
    {
     "data": {
      "text/plain": [
       "1676    0.0030\n",
       "3375    0.0040\n",
       "6439    0.0050\n",
       "6650    0.0070\n",
       "5684    0.0100\n",
       "3718    0.0115\n",
       "387     0.0151\n",
       "337     0.0207\n",
       "2239    0.0213\n",
       "1844    0.0230\n",
       "5560    0.0270\n",
       "1177    0.0300\n",
       "4481    0.0354\n",
       "4864    0.0388\n",
       "4693    0.0401\n",
       "333     0.0489\n",
       "4530    0.0490\n",
       "1335    0.0500\n",
       "1336    0.0600\n",
       "146     0.0600\n",
       "2957    0.0800\n",
       "2159    0.0800\n",
       "236     0.0800\n",
       "1391    0.0800\n",
       "1794    0.0860\n",
       "893     0.0912\n",
       "5632    0.1000\n",
       "2683    0.1000\n",
       "3468    0.1000\n",
       "399     0.1100\n",
       "         ...  \n",
       "4591       NaN\n",
       "4606       NaN\n",
       "4607       NaN\n",
       "4747       NaN\n",
       "5092       NaN\n",
       "5093       NaN\n",
       "5205       NaN\n",
       "5206       NaN\n",
       "5299       NaN\n",
       "5300       NaN\n",
       "5347       NaN\n",
       "5382       NaN\n",
       "5383       NaN\n",
       "5561       NaN\n",
       "5718       NaN\n",
       "5719       NaN\n",
       "5861       NaN\n",
       "5926       NaN\n",
       "5933       NaN\n",
       "5994       NaN\n",
       "5995       NaN\n",
       "5996       NaN\n",
       "6054       NaN\n",
       "6136       NaN\n",
       "6137       NaN\n",
       "6170       NaN\n",
       "6403       NaN\n",
       "6551       NaN\n",
       "6717       NaN\n",
       "6839       NaN\n",
       "Name: Last_Price, Length: 6852, dtype: float64"
      ]
     },
     "execution_count": 11,
     "metadata": {},
     "output_type": "execute_result"
    }
   ],
   "source": [
    "price.sort_values()"
   ]
  },
  {
   "cell_type": "markdown",
   "metadata": {},
   "source": [
    "The second lowest value is ... 0.0040!"
   ]
  },
  {
   "cell_type": "markdown",
   "metadata": {},
   "source": [
    "25. __Sort__ the Series __price__ from __high to low__ and __save the changes__ by setting the __inplace__ parameter to __True__!  <br>\n",
    "__Fill in the gaps!__"
   ]
  },
  {
   "cell_type": "code",
   "execution_count": 12,
   "metadata": {},
   "outputs": [],
   "source": [
    "price.sort_values(ascending = False, inplace = True)"
   ]
  },
  {
   "cell_type": "markdown",
   "metadata": {},
   "source": [
    "__Inspect__ the __first 5 elements__ of price! What is the __second highest__ price?"
   ]
  },
  {
   "cell_type": "code",
   "execution_count": 13,
   "metadata": {
    "scrolled": true
   },
   "outputs": [
    {
     "data": {
      "text/plain": [
       "5505    4299.9900\n",
       "4500    2910.4200\n",
       "350     1847.3300\n",
       "815     1806.0000\n",
       "631     1316.6999\n",
       "Name: Last_Price, dtype: float64"
      ]
     },
     "execution_count": 13,
     "metadata": {},
     "output_type": "execute_result"
    }
   ],
   "source": [
    "#run the cell!\n",
    "price.head()"
   ]
  },
  {
   "cell_type": "markdown",
   "metadata": {},
   "source": [
    "The second highest price is ... 2910.42!"
   ]
  },
  {
   "cell_type": "markdown",
   "metadata": {},
   "source": [
    "26. __Sort__ the Series __price__ by the __Index__ (ascending) and __save__ the changes!"
   ]
  },
  {
   "cell_type": "code",
   "execution_count": 14,
   "metadata": {},
   "outputs": [],
   "source": [
    "price.sort_index(inplace = True)"
   ]
  },
  {
   "cell_type": "code",
   "execution_count": 15,
   "metadata": {},
   "outputs": [
    {
     "data": {
      "text/plain": [
       "0    81.68\n",
       "1    29.15\n",
       "2    75.39\n",
       "3     2.16\n",
       "4    34.02\n",
       "5    29.90\n",
       "6     2.48\n",
       "7    53.54\n",
       "8    12.30\n",
       "9    44.88\n",
       "Name: Last_Price, dtype: float64"
      ]
     },
     "execution_count": 15,
     "metadata": {},
     "output_type": "execute_result"
    }
   ],
   "source": [
    "#run the cell!\n",
    "price.head(10)"
   ]
  },
  {
   "cell_type": "markdown",
   "metadata": {},
   "source": [
    "27. __Select__ the non-numerical column __\"Sector\"__, create a __copy__ and __save__ the column/Pandas Series in the variable __sector__! "
   ]
  },
  {
   "cell_type": "code",
   "execution_count": 16,
   "metadata": {},
   "outputs": [],
   "source": [
    "sector = listings.Sector.copy()"
   ]
  },
  {
   "cell_type": "markdown",
   "metadata": {},
   "source": [
    "Inspect! The first element/sector is ... ?"
   ]
  },
  {
   "cell_type": "code",
   "execution_count": 17,
   "metadata": {
    "scrolled": true
   },
   "outputs": [
    {
     "data": {
      "text/plain": [
       "0       Capital Goods\n",
       "1    Basic Industries\n",
       "2          Technology\n",
       "3         Health Care\n",
       "4      Transportation\n",
       "Name: Sector, dtype: object"
      ]
     },
     "execution_count": 17,
     "metadata": {},
     "output_type": "execute_result"
    }
   ],
   "source": [
    "#run the cell!\n",
    "sector.head()"
   ]
  },
  {
   "cell_type": "markdown",
   "metadata": {},
   "source": [
    "The first element/sector is ... Capital Goods !"
   ]
  },
  {
   "cell_type": "markdown",
   "metadata": {},
   "source": [
    "28. Call the __describe()__ method on the non-numerical Series __\"sector\"__! What is the __most frequent__ value/sector?"
   ]
  },
  {
   "cell_type": "code",
   "execution_count": 18,
   "metadata": {},
   "outputs": [
    {
     "data": {
      "text/plain": [
       "count        5309\n",
       "unique         12\n",
       "top       Finance\n",
       "freq         1059\n",
       "Name: Sector, dtype: object"
      ]
     },
     "execution_count": 18,
     "metadata": {},
     "output_type": "execute_result"
    }
   ],
   "source": [
    "sector.describe()"
   ]
  },
  {
   "cell_type": "markdown",
   "metadata": {},
   "source": [
    "The most frequent value/sector is ... Finance!"
   ]
  },
  {
   "cell_type": "markdown",
   "metadata": {},
   "source": [
    "29. Get all __unique values__ in the Series __sector__!"
   ]
  },
  {
   "cell_type": "code",
   "execution_count": 19,
   "metadata": {},
   "outputs": [
    {
     "data": {
      "text/plain": [
       "array(['Capital Goods', 'Basic Industries', 'Technology', 'Health Care',\n",
       "       'Transportation', 'Finance', 'Consumer Services', nan,\n",
       "       'Consumer Durables', 'Consumer Non-Durables', 'Miscellaneous',\n",
       "       'Public Utilities', 'Energy'], dtype=object)"
      ]
     },
     "execution_count": 19,
     "metadata": {},
     "output_type": "execute_result"
    }
   ],
   "source": [
    "sector.unique()"
   ]
  },
  {
   "cell_type": "markdown",
   "metadata": {},
   "source": [
    "30. Last but not least, __count the frequencies__ in the Series __sector__! How often does the value/sector __Transportation__ appear?"
   ]
  },
  {
   "cell_type": "code",
   "execution_count": 20,
   "metadata": {},
   "outputs": [
    {
     "data": {
      "text/plain": [
       "Finance                  1059\n",
       "Health Care               898\n",
       "Consumer Services         826\n",
       "Technology                619\n",
       "Capital Goods             389\n",
       "Basic Industries          314\n",
       "Energy                    292\n",
       "Public Utilities          264\n",
       "Consumer Non-Durables     236\n",
       "Miscellaneous             152\n",
       "Consumer Durables         137\n",
       "Transportation            123\n",
       "Name: Sector, dtype: int64"
      ]
     },
     "execution_count": 20,
     "metadata": {},
     "output_type": "execute_result"
    }
   ],
   "source": [
    "sector.value_counts()"
   ]
  },
  {
   "cell_type": "markdown",
   "metadata": {},
   "source": [
    "The value/sector Transportation appears ... 123 times!"
   ]
  },
  {
   "cell_type": "markdown",
   "metadata": {},
   "source": [
    "# Well Done!"
   ]
  },
  {
   "cell_type": "markdown",
   "metadata": {},
   "source": [
    "------------------------------------------------------------"
   ]
  },
  {
   "cell_type": "markdown",
   "metadata": {},
   "source": [
    "# Hints (Spoiler!)"
   ]
  },
  {
   "cell_type": "markdown",
   "metadata": {},
   "source": [
    "19. Last_Price and copy() method"
   ]
  },
  {
   "cell_type": "markdown",
   "metadata": {},
   "source": [
    "20. describe() method"
   ]
  },
  {
   "cell_type": "markdown",
   "metadata": {},
   "source": [
    "21. min() method"
   ]
  },
  {
   "cell_type": "markdown",
   "metadata": {},
   "source": [
    "22. value_counts() method"
   ]
  },
  {
   "cell_type": "markdown",
   "metadata": {},
   "source": [
    "23. normalize parameter"
   ]
  },
  {
   "cell_type": "markdown",
   "metadata": {},
   "source": [
    "24. sort_values() method"
   ]
  },
  {
   "cell_type": "markdown",
   "metadata": {},
   "source": [
    "25. ascending & inplace parameter"
   ]
  },
  {
   "cell_type": "markdown",
   "metadata": {},
   "source": [
    "26. sort_index() method; inplace parameter"
   ]
  },
  {
   "cell_type": "markdown",
   "metadata": {},
   "source": [
    "27. sector = listings.---.---"
   ]
  },
  {
   "cell_type": "markdown",
   "metadata": {},
   "source": [
    "28. sector.---"
   ]
  },
  {
   "cell_type": "markdown",
   "metadata": {},
   "source": [
    "29. unique() method"
   ]
  },
  {
   "cell_type": "markdown",
   "metadata": {},
   "source": [
    "30. value_counts() method"
   ]
  },
  {
   "cell_type": "code",
   "execution_count": null,
   "metadata": {},
   "outputs": [],
   "source": []
  }
 ],
 "metadata": {
  "kernelspec": {
   "display_name": "Python 3 (ipykernel)",
   "language": "python",
   "name": "python3"
  },
  "language_info": {
   "codemirror_mode": {
    "name": "ipython",
    "version": 3
   },
   "file_extension": ".py",
   "mimetype": "text/x-python",
   "name": "python",
   "nbconvert_exporter": "python",
   "pygments_lexer": "ipython3",
   "version": "3.9.7"
  },
  "toc": {
   "base_numbering": 1,
   "nav_menu": {},
   "number_sections": true,
   "sideBar": true,
   "skip_h1_title": false,
   "title_cell": "Table of Contents",
   "title_sidebar": "Contents",
   "toc_cell": false,
   "toc_position": {},
   "toc_section_display": true,
   "toc_window_display": false
  }
 },
 "nbformat": 4,
 "nbformat_minor": 2
}
