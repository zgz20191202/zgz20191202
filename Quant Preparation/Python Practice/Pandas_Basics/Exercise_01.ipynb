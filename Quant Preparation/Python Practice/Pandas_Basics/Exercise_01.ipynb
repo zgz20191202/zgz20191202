{
 "cells": [
  {
   "cell_type": "markdown",
   "metadata": {},
   "source": [
    "# Coding Exercises (Part 1)"
   ]
  },
  {
   "cell_type": "markdown",
   "metadata": {},
   "source": [
    "Now, you will have the opportunity to analyze your own dataset. <br>\n",
    "__Follow the instructions__ and insert your code! You are either requested to \n",
    "- Complete the Code and __Fill in the gaps__. Gaps are marked with \"__---__\" and are __placeholders__ for your code fragment\n",
    "- Write Code completely __on your own__ "
   ]
  },
  {
   "cell_type": "markdown",
   "metadata": {},
   "source": [
    "In some exercises, you will find questions that can only be answered, if your code is correct and returns the right output! The correct answer is provided below your coding cell. There you can check whether your code is correct."
   ]
  },
  {
   "cell_type": "markdown",
   "metadata": {},
   "source": [
    "If you need a hint, check the __Hints Section__ at the end of this Notebook. Exercises and Hints are numerated accordingly."
   ]
  },
  {
   "cell_type": "markdown",
   "metadata": {},
   "source": [
    "If you need some further help or if you want to check your code, you can also watch the __solutions videos__ or check the __solutions notebook__."
   ]
  },
  {
   "cell_type": "markdown",
   "metadata": {},
   "source": [
    "### Have Fun!"
   ]
  },
  {
   "cell_type": "markdown",
   "metadata": {},
   "source": [
    "--------------------------------------------------------------------------------------------------------------"
   ]
  },
  {
   "cell_type": "markdown",
   "metadata": {},
   "source": [
    "## Pandas: Basics"
   ]
  },
  {
   "cell_type": "markdown",
   "metadata": {},
   "source": [
    "### Exercise 1: Importing and Inspecting your own Dataset"
   ]
  },
  {
   "cell_type": "markdown",
   "metadata": {},
   "source": [
    "Before we can work with the Pandas Library, we need to __import Pandas__ (by convention as __pd__). <br>\n",
    "1. __Import__ Pandas. __Fill in the gaps__!"
   ]
  },
  {
   "cell_type": "code",
   "execution_count": 2,
   "metadata": {},
   "outputs": [],
   "source": [
    "import pandas as pd"
   ]
  },
  {
   "cell_type": "markdown",
   "metadata": {},
   "source": [
    "Now we want to import the __Listings Dataset__ that is stored in the CSV-File __listings.csv__. <br>\n",
    "2. __Import__ the Listings Dataset and __store__ the Pandas DataFrame in the variable __listings__! __Fill in the gaps__!"
   ]
  },
  {
   "cell_type": "code",
   "execution_count": 9,
   "metadata": {},
   "outputs": [],
   "source": [
    "listings = pd.read_csv(\"listings.csv\")"
   ]
  },
  {
   "cell_type": "markdown",
   "metadata": {},
   "source": [
    "#### Some more details on the Columns:\n",
    "\n",
    "- __Symbol__: A Stock Ticker Symbol is an abbreviation used to uniquely identify publicly traded shares of a particular stock on a particular stock market\n",
    "- __Exchange__: Marketplace in which shares are traded \n",
    "- __Name__: Legal Company Name\n",
    "- __Last_Price__: Last Trading Price (as of April 2019)\n",
    "- __Market_Cap__: Dollar Value of Outstanding Shares (as of April 2019). Computed as Shares times current Price. \n",
    "- __ADR_TSO__: Additional Information on foreign stocks trading in the US\n",
    "- __IPO_Year__: Year of Initial Public Offering \n",
    "- __Sector__: Sector of main business activity\n",
    "- __Industry__: Industry of main business activity"
   ]
  },
  {
   "cell_type": "markdown",
   "metadata": {},
   "source": [
    "3. __Inspect__ the __first 10 Rows__ of the DataFrame listings! __Fill in the gaps__! <br> What is the __company name of the very first listing__ in the first row (@ index label/pos = 0)?"
   ]
  },
  {
   "cell_type": "code",
   "execution_count": 11,
   "metadata": {},
   "outputs": [
    {
     "data": {
      "text/plain": [
       "'Agilent Technologies, Inc.'"
      ]
     },
     "execution_count": 11,
     "metadata": {},
     "output_type": "execute_result"
    }
   ],
   "source": [
    "listings.iloc[0,2]"
   ]
  },
  {
   "cell_type": "markdown",
   "metadata": {},
   "source": [
    "It´s ... Agilent Technologies, Inc.!"
   ]
  },
  {
   "cell_type": "markdown",
   "metadata": {},
   "source": [
    "4. Also __inspect__ the __last 5 Rows__! __How many listings/rows__ do we have in the Dataset (mind the range index starting from 0!)?"
   ]
  },
  {
   "cell_type": "code",
   "execution_count": 15,
   "metadata": {},
   "outputs": [
    {
     "data": {
      "text/html": [
       "<div>\n",
       "<style scoped>\n",
       "    .dataframe tbody tr th:only-of-type {\n",
       "        vertical-align: middle;\n",
       "    }\n",
       "\n",
       "    .dataframe tbody tr th {\n",
       "        vertical-align: top;\n",
       "    }\n",
       "\n",
       "    .dataframe thead th {\n",
       "        text-align: right;\n",
       "    }\n",
       "</style>\n",
       "<table border=\"1\" class=\"dataframe\">\n",
       "  <thead>\n",
       "    <tr style=\"text-align: right;\">\n",
       "      <th></th>\n",
       "      <th>Symbol</th>\n",
       "      <th>Exchange</th>\n",
       "      <th>Name</th>\n",
       "      <th>Last_Price</th>\n",
       "      <th>Market_Cap</th>\n",
       "      <th>ADR TSO</th>\n",
       "      <th>IPO_Year</th>\n",
       "      <th>Sector</th>\n",
       "      <th>Industry</th>\n",
       "    </tr>\n",
       "  </thead>\n",
       "  <tbody>\n",
       "    <tr>\n",
       "      <th>6847</th>\n",
       "      <td>ZUMZ</td>\n",
       "      <td>NASDAQ</td>\n",
       "      <td>Zumiez Inc.</td>\n",
       "      <td>26.72</td>\n",
       "      <td>6.819191e+08</td>\n",
       "      <td>NaN</td>\n",
       "      <td>2005.0</td>\n",
       "      <td>Consumer Services</td>\n",
       "      <td>Clothing/Shoe/Accessory Stores</td>\n",
       "    </tr>\n",
       "    <tr>\n",
       "      <th>6848</th>\n",
       "      <td>ZUO</td>\n",
       "      <td>NYSE</td>\n",
       "      <td>Zuora, Inc.</td>\n",
       "      <td>19.79</td>\n",
       "      <td>2.147266e+09</td>\n",
       "      <td>NaN</td>\n",
       "      <td>2018.0</td>\n",
       "      <td>Technology</td>\n",
       "      <td>Computer Software: Prepackaged Software</td>\n",
       "    </tr>\n",
       "    <tr>\n",
       "      <th>6849</th>\n",
       "      <td>ZYME</td>\n",
       "      <td>NYSE</td>\n",
       "      <td>Zymeworks Inc.</td>\n",
       "      <td>15.74</td>\n",
       "      <td>5.040782e+08</td>\n",
       "      <td>NaN</td>\n",
       "      <td>2017.0</td>\n",
       "      <td>Health Care</td>\n",
       "      <td>Major Pharmaceuticals</td>\n",
       "    </tr>\n",
       "    <tr>\n",
       "      <th>6850</th>\n",
       "      <td>ZYNE</td>\n",
       "      <td>NASDAQ</td>\n",
       "      <td>Zynerba Pharmaceuticals, Inc.</td>\n",
       "      <td>7.85</td>\n",
       "      <td>1.653995e+08</td>\n",
       "      <td>NaN</td>\n",
       "      <td>2015.0</td>\n",
       "      <td>Health Care</td>\n",
       "      <td>Major Pharmaceuticals</td>\n",
       "    </tr>\n",
       "    <tr>\n",
       "      <th>6851</th>\n",
       "      <td>ZYXI</td>\n",
       "      <td>NASDAQ</td>\n",
       "      <td>Zynex, Inc.</td>\n",
       "      <td>5.02</td>\n",
       "      <td>1.618349e+08</td>\n",
       "      <td>NaN</td>\n",
       "      <td>NaN</td>\n",
       "      <td>Health Care</td>\n",
       "      <td>Biotechnology: Electromedical &amp; Electrotherape...</td>\n",
       "    </tr>\n",
       "  </tbody>\n",
       "</table>\n",
       "</div>"
      ],
      "text/plain": [
       "     Symbol Exchange                           Name  Last_Price    Market_Cap  \\\n",
       "6847   ZUMZ   NASDAQ                    Zumiez Inc.       26.72  6.819191e+08   \n",
       "6848    ZUO     NYSE                    Zuora, Inc.       19.79  2.147266e+09   \n",
       "6849   ZYME     NYSE                 Zymeworks Inc.       15.74  5.040782e+08   \n",
       "6850   ZYNE   NASDAQ  Zynerba Pharmaceuticals, Inc.        7.85  1.653995e+08   \n",
       "6851   ZYXI   NASDAQ                    Zynex, Inc.        5.02  1.618349e+08   \n",
       "\n",
       "      ADR TSO  IPO_Year             Sector  \\\n",
       "6847      NaN    2005.0  Consumer Services   \n",
       "6848      NaN    2018.0         Technology   \n",
       "6849      NaN    2017.0        Health Care   \n",
       "6850      NaN    2015.0        Health Care   \n",
       "6851      NaN       NaN        Health Care   \n",
       "\n",
       "                                               Industry  \n",
       "6847                     Clothing/Shoe/Accessory Stores  \n",
       "6848            Computer Software: Prepackaged Software  \n",
       "6849                              Major Pharmaceuticals  \n",
       "6850                              Major Pharmaceuticals  \n",
       "6851  Biotechnology: Electromedical & Electrotherape...  "
      ]
     },
     "execution_count": 15,
     "metadata": {},
     "output_type": "execute_result"
    }
   ],
   "source": [
    "listings.tail(5)"
   ]
  },
  {
   "cell_type": "markdown",
   "metadata": {},
   "source": [
    "We have ... 6852 listings!"
   ]
  },
  {
   "cell_type": "markdown",
   "metadata": {},
   "source": [
    "5. Get some __meta information__ on our DataFrame! In which __Column(s)__ do we have __missing/NaN__ Values?"
   ]
  },
  {
   "cell_type": "code",
   "execution_count": 16,
   "metadata": {},
   "outputs": [
    {
     "name": "stdout",
     "output_type": "stream",
     "text": [
      "<class 'pandas.core.frame.DataFrame'>\n",
      "RangeIndex: 6852 entries, 0 to 6851\n",
      "Data columns (total 9 columns):\n",
      " #   Column      Non-Null Count  Dtype  \n",
      "---  ------      --------------  -----  \n",
      " 0   Symbol      6852 non-null   object \n",
      " 1   Exchange    6852 non-null   object \n",
      " 2   Name        6852 non-null   object \n",
      " 3   Last_Price  6745 non-null   float64\n",
      " 4   Market_Cap  5954 non-null   float64\n",
      " 5   ADR TSO     140 non-null    float64\n",
      " 6   IPO_Year    3105 non-null   float64\n",
      " 7   Sector      5309 non-null   object \n",
      " 8   Industry    5309 non-null   object \n",
      "dtypes: float64(4), object(5)\n",
      "memory usage: 481.9+ KB\n"
     ]
    }
   ],
   "source": [
    "listings.info()"
   ]
  },
  {
   "cell_type": "markdown",
   "metadata": {},
   "source": [
    "We have missing/NaN Values in the columns ... Last_Price, Market_Cap, ADR TSO, IPO_Year, Sector & Industry!"
   ]
  },
  {
   "cell_type": "markdown",
   "metadata": {},
   "source": [
    "6. Let´s get some __summary statistics__ on our DataFrame! What is the __maximum__ value in the column __Last_Price__?"
   ]
  },
  {
   "cell_type": "code",
   "execution_count": 17,
   "metadata": {},
   "outputs": [
    {
     "data": {
      "text/html": [
       "<div>\n",
       "<style scoped>\n",
       "    .dataframe tbody tr th:only-of-type {\n",
       "        vertical-align: middle;\n",
       "    }\n",
       "\n",
       "    .dataframe tbody tr th {\n",
       "        vertical-align: top;\n",
       "    }\n",
       "\n",
       "    .dataframe thead th {\n",
       "        text-align: right;\n",
       "    }\n",
       "</style>\n",
       "<table border=\"1\" class=\"dataframe\">\n",
       "  <thead>\n",
       "    <tr style=\"text-align: right;\">\n",
       "      <th></th>\n",
       "      <th>Last_Price</th>\n",
       "      <th>Market_Cap</th>\n",
       "      <th>ADR TSO</th>\n",
       "      <th>IPO_Year</th>\n",
       "    </tr>\n",
       "  </thead>\n",
       "  <tbody>\n",
       "    <tr>\n",
       "      <th>count</th>\n",
       "      <td>6745.000000</td>\n",
       "      <td>5.954000e+03</td>\n",
       "      <td>1.400000e+02</td>\n",
       "      <td>3105.000000</td>\n",
       "    </tr>\n",
       "    <tr>\n",
       "      <th>mean</th>\n",
       "      <td>37.372232</td>\n",
       "      <td>7.174440e+09</td>\n",
       "      <td>5.869242e+07</td>\n",
       "      <td>2009.025765</td>\n",
       "    </tr>\n",
       "    <tr>\n",
       "      <th>std</th>\n",
       "      <td>99.249040</td>\n",
       "      <td>3.525455e+10</td>\n",
       "      <td>1.629909e+08</td>\n",
       "      <td>9.337562</td>\n",
       "    </tr>\n",
       "    <tr>\n",
       "      <th>min</th>\n",
       "      <td>0.003000</td>\n",
       "      <td>0.000000e+00</td>\n",
       "      <td>2.400000e+04</td>\n",
       "      <td>1972.000000</td>\n",
       "    </tr>\n",
       "    <tr>\n",
       "      <th>25%</th>\n",
       "      <td>8.310000</td>\n",
       "      <td>1.203769e+08</td>\n",
       "      <td>4.271224e+06</td>\n",
       "      <td>2003.000000</td>\n",
       "    </tr>\n",
       "    <tr>\n",
       "      <th>50%</th>\n",
       "      <td>20.573500</td>\n",
       "      <td>5.585176e+08</td>\n",
       "      <td>1.406964e+07</td>\n",
       "      <td>2013.000000</td>\n",
       "    </tr>\n",
       "    <tr>\n",
       "      <th>75%</th>\n",
       "      <td>37.370000</td>\n",
       "      <td>2.888747e+09</td>\n",
       "      <td>3.962613e+07</td>\n",
       "      <td>2017.000000</td>\n",
       "    </tr>\n",
       "    <tr>\n",
       "      <th>max</th>\n",
       "      <td>4299.990000</td>\n",
       "      <td>9.459795e+11</td>\n",
       "      <td>1.485426e+09</td>\n",
       "      <td>2019.000000</td>\n",
       "    </tr>\n",
       "  </tbody>\n",
       "</table>\n",
       "</div>"
      ],
      "text/plain": [
       "        Last_Price    Market_Cap       ADR TSO     IPO_Year\n",
       "count  6745.000000  5.954000e+03  1.400000e+02  3105.000000\n",
       "mean     37.372232  7.174440e+09  5.869242e+07  2009.025765\n",
       "std      99.249040  3.525455e+10  1.629909e+08     9.337562\n",
       "min       0.003000  0.000000e+00  2.400000e+04  1972.000000\n",
       "25%       8.310000  1.203769e+08  4.271224e+06  2003.000000\n",
       "50%      20.573500  5.585176e+08  1.406964e+07  2013.000000\n",
       "75%      37.370000  2.888747e+09  3.962613e+07  2017.000000\n",
       "max    4299.990000  9.459795e+11  1.485426e+09  2019.000000"
      ]
     },
     "execution_count": 17,
     "metadata": {},
     "output_type": "execute_result"
    }
   ],
   "source": [
    "listings.describe()"
   ]
  },
  {
   "cell_type": "markdown",
   "metadata": {},
   "source": [
    "The maximum value in the column Last_Price is ... 4299.99!"
   ]
  },
  {
   "cell_type": "markdown",
   "metadata": {},
   "source": [
    "# Well Done!"
   ]
  },
  {
   "cell_type": "markdown",
   "metadata": {},
   "source": [
    "---------------------------------------------------------------------------------------------------------------------"
   ]
  },
  {
   "cell_type": "markdown",
   "metadata": {},
   "source": [
    "# Hints (Spoiler!)"
   ]
  },
  {
   "cell_type": "markdown",
   "metadata": {},
   "source": [
    "1. pandas as pd"
   ]
  },
  {
   "cell_type": "markdown",
   "metadata": {},
   "source": [
    "2. Pass the filename in quotation marks to pd.read_csv()"
   ]
  },
  {
   "cell_type": "markdown",
   "metadata": {},
   "source": [
    "3. head() method with n = 10"
   ]
  },
  {
   "cell_type": "markdown",
   "metadata": {},
   "source": [
    "4. tail() method"
   ]
  },
  {
   "cell_type": "markdown",
   "metadata": {},
   "source": [
    "5. info() method"
   ]
  },
  {
   "cell_type": "markdown",
   "metadata": {},
   "source": [
    "6. describe() method"
   ]
  }
 ],
 "metadata": {
  "kernelspec": {
   "display_name": "Python 3 (ipykernel)",
   "language": "python",
   "name": "python3"
  },
  "language_info": {
   "codemirror_mode": {
    "name": "ipython",
    "version": 3
   },
   "file_extension": ".py",
   "mimetype": "text/x-python",
   "name": "python",
   "nbconvert_exporter": "python",
   "pygments_lexer": "ipython3",
   "version": "3.9.7"
  },
  "toc": {
   "base_numbering": 1,
   "nav_menu": {},
   "number_sections": true,
   "sideBar": true,
   "skip_h1_title": false,
   "title_cell": "Table of Contents",
   "title_sidebar": "Contents",
   "toc_cell": false,
   "toc_position": {},
   "toc_section_display": true,
   "toc_window_display": false
  }
 },
 "nbformat": 4,
 "nbformat_minor": 2
}
