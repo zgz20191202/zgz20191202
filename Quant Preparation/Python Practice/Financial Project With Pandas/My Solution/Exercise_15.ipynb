{
 "cells": [
  {
   "cell_type": "markdown",
   "metadata": {},
   "source": [
    "# Coding Exercises (Part 15)"
   ]
  },
  {
   "cell_type": "markdown",
   "metadata": {},
   "source": [
    "## Financial Portfolios"
   ]
  },
  {
   "cell_type": "markdown",
   "metadata": {},
   "source": [
    "### Exercise 15 : Creating, analyzing and optimizing Portfolios "
   ]
  },
  {
   "cell_type": "markdown",
   "metadata": {},
   "source": [
    "Now, you will have the opportunity to analyze your own dataset. <br>\n",
    "__Follow the instructions__ and insert your code! You are either requested to \n",
    "- Complete the Code and __Fill in the gaps__. Gaps are marked with \"__---__\" and are __placeholders__ for your code fragment \n",
    "- Write Code completely __on your own__ "
   ]
  },
  {
   "cell_type": "markdown",
   "metadata": {},
   "source": [
    "In some exercises, you will find questions that can only be answered, if your code is correct and returns the right output! The correct answer is provided below your coding cell. There you can check whether your code is correct."
   ]
  },
  {
   "cell_type": "markdown",
   "metadata": {},
   "source": [
    "If you need a hint, check the __Hints Section__ at the end of this Notebook. Exercises and Hints are numerated accordingly."
   ]
  },
  {
   "cell_type": "markdown",
   "metadata": {},
   "source": [
    "If you need some further help or if you want to check your code, you can also check the __solutions notebook__."
   ]
  },
  {
   "cell_type": "markdown",
   "metadata": {},
   "source": [
    "### Have Fun!"
   ]
  },
  {
   "cell_type": "markdown",
   "metadata": {},
   "source": [
    "--------------------------------------------------------------------------------------------------------------"
   ]
  },
  {
   "cell_type": "markdown",
   "metadata": {},
   "source": [
    "## Option 1: Self_guided"
   ]
  },
  {
   "cell_type": "markdown",
   "metadata": {},
   "source": [
    "Import the us stocks dataset (__us_stocks.csv__) and select the 5-Year period from __31-12-2013__ (incl.) until __31-12-2018__ (incl.). Save the DataFrame in the variable __stocks__ and work through the next questions with this DataFrame!"
   ]
  },
  {
   "cell_type": "code",
   "execution_count": 2,
   "metadata": {},
   "outputs": [],
   "source": [
    "import pandas as pd\n",
    "import numpy as np\n",
    "import matplotlib.pyplot as plt\n",
    "import seaborn as sns"
   ]
  },
  {
   "cell_type": "code",
   "execution_count": 3,
   "metadata": {},
   "outputs": [
    {
     "data": {
      "text/html": [
       "<div>\n",
       "<style scoped>\n",
       "    .dataframe tbody tr th:only-of-type {\n",
       "        vertical-align: middle;\n",
       "    }\n",
       "\n",
       "    .dataframe tbody tr th {\n",
       "        vertical-align: top;\n",
       "    }\n",
       "\n",
       "    .dataframe thead th {\n",
       "        text-align: right;\n",
       "    }\n",
       "</style>\n",
       "<table border=\"1\" class=\"dataframe\">\n",
       "  <thead>\n",
       "    <tr style=\"text-align: right;\">\n",
       "      <th></th>\n",
       "      <th>AXP</th>\n",
       "      <th>FB</th>\n",
       "      <th>INTC</th>\n",
       "      <th>MCD</th>\n",
       "      <th>PG</th>\n",
       "      <th>WMT</th>\n",
       "    </tr>\n",
       "    <tr>\n",
       "      <th>Date</th>\n",
       "      <th></th>\n",
       "      <th></th>\n",
       "      <th></th>\n",
       "      <th></th>\n",
       "      <th></th>\n",
       "      <th></th>\n",
       "    </tr>\n",
       "  </thead>\n",
       "  <tbody>\n",
       "    <tr>\n",
       "      <th>2018-12-21</th>\n",
       "      <td>91.330002</td>\n",
       "      <td>124.949997</td>\n",
       "      <td>44.840000</td>\n",
       "      <td>174.149994</td>\n",
       "      <td>90.970001</td>\n",
       "      <td>87.129997</td>\n",
       "    </tr>\n",
       "    <tr>\n",
       "      <th>2018-12-24</th>\n",
       "      <td>89.500000</td>\n",
       "      <td>124.059998</td>\n",
       "      <td>43.590000</td>\n",
       "      <td>170.279999</td>\n",
       "      <td>87.360001</td>\n",
       "      <td>85.820000</td>\n",
       "    </tr>\n",
       "    <tr>\n",
       "      <th>2018-12-26</th>\n",
       "      <td>93.839996</td>\n",
       "      <td>134.179993</td>\n",
       "      <td>46.189999</td>\n",
       "      <td>174.029999</td>\n",
       "      <td>90.089996</td>\n",
       "      <td>90.410004</td>\n",
       "    </tr>\n",
       "    <tr>\n",
       "      <th>2018-12-27</th>\n",
       "      <td>94.680000</td>\n",
       "      <td>134.520004</td>\n",
       "      <td>46.360001</td>\n",
       "      <td>175.710007</td>\n",
       "      <td>92.019997</td>\n",
       "      <td>91.589996</td>\n",
       "    </tr>\n",
       "    <tr>\n",
       "      <th>2018-12-28</th>\n",
       "      <td>94.419998</td>\n",
       "      <td>133.199997</td>\n",
       "      <td>46.750000</td>\n",
       "      <td>175.559998</td>\n",
       "      <td>91.180000</td>\n",
       "      <td>92.129997</td>\n",
       "    </tr>\n",
       "  </tbody>\n",
       "</table>\n",
       "</div>"
      ],
      "text/plain": [
       "                  AXP          FB       INTC         MCD         PG        WMT\n",
       "Date                                                                          \n",
       "2018-12-21  91.330002  124.949997  44.840000  174.149994  90.970001  87.129997\n",
       "2018-12-24  89.500000  124.059998  43.590000  170.279999  87.360001  85.820000\n",
       "2018-12-26  93.839996  134.179993  46.189999  174.029999  90.089996  90.410004\n",
       "2018-12-27  94.680000  134.520004  46.360001  175.710007  92.019997  91.589996\n",
       "2018-12-28  94.419998  133.199997  46.750000  175.559998  91.180000  92.129997"
      ]
     },
     "execution_count": 3,
     "metadata": {},
     "output_type": "execute_result"
    }
   ],
   "source": [
    "stocks=pd.read_csv(\"us_stocks.csv\",header=[0,1],index_col=0,parse_dates=True).loc[:,\"Close\"][\"31-12-2013\":\"1-1-2019\"]\n",
    "stocks.tail()"
   ]
  },
  {
   "cell_type": "markdown",
   "metadata": {},
   "source": [
    "Create __10,000 random portfolios__ where weights of constituents __sum up to 1__ (all weights must be __between 0 and 1__). Use __np.random.seed(123)__!"
   ]
  },
  {
   "cell_type": "code",
   "execution_count": 16,
   "metadata": {},
   "outputs": [
    {
     "data": {
      "text/html": [
       "<div>\n",
       "<style scoped>\n",
       "    .dataframe tbody tr th:only-of-type {\n",
       "        vertical-align: middle;\n",
       "    }\n",
       "\n",
       "    .dataframe tbody tr th {\n",
       "        vertical-align: top;\n",
       "    }\n",
       "\n",
       "    .dataframe thead th {\n",
       "        text-align: right;\n",
       "    }\n",
       "</style>\n",
       "<table border=\"1\" class=\"dataframe\">\n",
       "  <thead>\n",
       "    <tr style=\"text-align: right;\">\n",
       "      <th></th>\n",
       "      <th>AXP</th>\n",
       "      <th>FB</th>\n",
       "      <th>INTC</th>\n",
       "      <th>MCD</th>\n",
       "      <th>PG</th>\n",
       "      <th>WMT</th>\n",
       "    </tr>\n",
       "  </thead>\n",
       "  <tbody>\n",
       "    <tr>\n",
       "      <th>0</th>\n",
       "      <td>0.239885</td>\n",
       "      <td>0.098555</td>\n",
       "      <td>0.078134</td>\n",
       "      <td>0.189889</td>\n",
       "      <td>0.247806</td>\n",
       "      <td>0.145730</td>\n",
       "    </tr>\n",
       "    <tr>\n",
       "      <th>1</th>\n",
       "      <td>0.271614</td>\n",
       "      <td>0.189658</td>\n",
       "      <td>0.133190</td>\n",
       "      <td>0.108594</td>\n",
       "      <td>0.095040</td>\n",
       "      <td>0.201904</td>\n",
       "    </tr>\n",
       "    <tr>\n",
       "      <th>2</th>\n",
       "      <td>0.220141</td>\n",
       "      <td>0.029955</td>\n",
       "      <td>0.199798</td>\n",
       "      <td>0.370436</td>\n",
       "      <td>0.091602</td>\n",
       "      <td>0.088068</td>\n",
       "    </tr>\n",
       "    <tr>\n",
       "      <th>3</th>\n",
       "      <td>0.136903</td>\n",
       "      <td>0.136974</td>\n",
       "      <td>0.163392</td>\n",
       "      <td>0.218774</td>\n",
       "      <td>0.186586</td>\n",
       "      <td>0.157371</td>\n",
       "    </tr>\n",
       "    <tr>\n",
       "      <th>4</th>\n",
       "      <td>0.282189</td>\n",
       "      <td>0.126149</td>\n",
       "      <td>0.141316</td>\n",
       "      <td>0.089160</td>\n",
       "      <td>0.114726</td>\n",
       "      <td>0.246461</td>\n",
       "    </tr>\n",
       "    <tr>\n",
       "      <th>...</th>\n",
       "      <td>...</td>\n",
       "      <td>...</td>\n",
       "      <td>...</td>\n",
       "      <td>...</td>\n",
       "      <td>...</td>\n",
       "      <td>...</td>\n",
       "    </tr>\n",
       "    <tr>\n",
       "      <th>995</th>\n",
       "      <td>0.159481</td>\n",
       "      <td>0.007873</td>\n",
       "      <td>0.241659</td>\n",
       "      <td>0.004052</td>\n",
       "      <td>0.292326</td>\n",
       "      <td>0.294609</td>\n",
       "    </tr>\n",
       "    <tr>\n",
       "      <th>996</th>\n",
       "      <td>0.014295</td>\n",
       "      <td>0.034012</td>\n",
       "      <td>0.238237</td>\n",
       "      <td>0.152141</td>\n",
       "      <td>0.276551</td>\n",
       "      <td>0.284764</td>\n",
       "    </tr>\n",
       "    <tr>\n",
       "      <th>997</th>\n",
       "      <td>0.015918</td>\n",
       "      <td>0.129600</td>\n",
       "      <td>0.394941</td>\n",
       "      <td>0.116138</td>\n",
       "      <td>0.027961</td>\n",
       "      <td>0.315443</td>\n",
       "    </tr>\n",
       "    <tr>\n",
       "      <th>998</th>\n",
       "      <td>0.035599</td>\n",
       "      <td>0.210482</td>\n",
       "      <td>0.194003</td>\n",
       "      <td>0.177664</td>\n",
       "      <td>0.194757</td>\n",
       "      <td>0.187496</td>\n",
       "    </tr>\n",
       "    <tr>\n",
       "      <th>999</th>\n",
       "      <td>0.206231</td>\n",
       "      <td>0.260247</td>\n",
       "      <td>0.196283</td>\n",
       "      <td>0.126773</td>\n",
       "      <td>0.175026</td>\n",
       "      <td>0.035440</td>\n",
       "    </tr>\n",
       "  </tbody>\n",
       "</table>\n",
       "<p>1000 rows × 6 columns</p>\n",
       "</div>"
      ],
      "text/plain": [
       "          AXP        FB      INTC       MCD        PG       WMT\n",
       "0    0.239885  0.098555  0.078134  0.189889  0.247806  0.145730\n",
       "1    0.271614  0.189658  0.133190  0.108594  0.095040  0.201904\n",
       "2    0.220141  0.029955  0.199798  0.370436  0.091602  0.088068\n",
       "3    0.136903  0.136974  0.163392  0.218774  0.186586  0.157371\n",
       "4    0.282189  0.126149  0.141316  0.089160  0.114726  0.246461\n",
       "..        ...       ...       ...       ...       ...       ...\n",
       "995  0.159481  0.007873  0.241659  0.004052  0.292326  0.294609\n",
       "996  0.014295  0.034012  0.238237  0.152141  0.276551  0.284764\n",
       "997  0.015918  0.129600  0.394941  0.116138  0.027961  0.315443\n",
       "998  0.035599  0.210482  0.194003  0.177664  0.194757  0.187496\n",
       "999  0.206231  0.260247  0.196283  0.126773  0.175026  0.035440\n",
       "\n",
       "[1000 rows x 6 columns]"
      ]
     },
     "execution_count": 16,
     "metadata": {},
     "output_type": "execute_result"
    }
   ],
   "source": [
    "# count=1\n",
    "# weights=[]\n",
    "# while count<=1000:\n",
    "#     wt=np.random.random_sample(6)\n",
    "#     weights.append(wt)\n",
    "#     count+=1\n",
    "np.random.seed(123)\n",
    "weights=np.random.random(stocks.shape[1]*1000).reshape(1000,stocks.shape[1])\n",
    "weights=pd.DataFrame(weights)\n",
    "weights.columns=stocks.columns\n",
    "row_sum=weights.sum(axis=1)\n",
    "# weights[\"sums\"]=row_sum\n",
    "# weights/weights.iloc[:,-1]\n",
    "weights=weights.divide(row_sum,axis=0)\n",
    "# weights=weights.iloc[:,:-1]\n",
    "weights"
   ]
  },
  {
   "cell_type": "markdown",
   "metadata": {},
   "source": [
    "Calculate __annualized risk and return__ for the __six stocks__ and for the 10,000 __random portfolios__! Calculation shall be based on __daily__ returns (__simple__ returns). __Visualize__! (Use the user-defined function ann_risk_return)"
   ]
  },
  {
   "cell_type": "code",
   "execution_count": 17,
   "metadata": {
    "scrolled": false
   },
   "outputs": [
    {
     "data": {
      "text/html": [
       "<div>\n",
       "<style scoped>\n",
       "    .dataframe tbody tr th:only-of-type {\n",
       "        vertical-align: middle;\n",
       "    }\n",
       "\n",
       "    .dataframe tbody tr th {\n",
       "        vertical-align: top;\n",
       "    }\n",
       "\n",
       "    .dataframe thead th {\n",
       "        text-align: right;\n",
       "    }\n",
       "</style>\n",
       "<table border=\"1\" class=\"dataframe\">\n",
       "  <thead>\n",
       "    <tr style=\"text-align: right;\">\n",
       "      <th></th>\n",
       "      <th>AXP</th>\n",
       "      <th>FB</th>\n",
       "      <th>INTC</th>\n",
       "      <th>MCD</th>\n",
       "      <th>PG</th>\n",
       "      <th>WMT</th>\n",
       "    </tr>\n",
       "    <tr>\n",
       "      <th>Date</th>\n",
       "      <th></th>\n",
       "      <th></th>\n",
       "      <th></th>\n",
       "      <th></th>\n",
       "      <th></th>\n",
       "      <th></th>\n",
       "    </tr>\n",
       "  </thead>\n",
       "  <tbody>\n",
       "    <tr>\n",
       "      <th>2013-12-31</th>\n",
       "      <td>NaN</td>\n",
       "      <td>NaN</td>\n",
       "      <td>NaN</td>\n",
       "      <td>NaN</td>\n",
       "      <td>NaN</td>\n",
       "      <td>NaN</td>\n",
       "    </tr>\n",
       "    <tr>\n",
       "      <th>2014-01-02</th>\n",
       "      <td>-0.014108</td>\n",
       "      <td>0.001098</td>\n",
       "      <td>-0.006548</td>\n",
       "      <td>-0.006390</td>\n",
       "      <td>-0.010687</td>\n",
       "      <td>0.002796</td>\n",
       "    </tr>\n",
       "    <tr>\n",
       "      <th>2014-01-03</th>\n",
       "      <td>0.003242</td>\n",
       "      <td>-0.002742</td>\n",
       "      <td>-0.000388</td>\n",
       "      <td>0.001348</td>\n",
       "      <td>-0.001118</td>\n",
       "      <td>-0.003295</td>\n",
       "    </tr>\n",
       "    <tr>\n",
       "      <th>2014-01-06</th>\n",
       "      <td>-0.000446</td>\n",
       "      <td>0.048387</td>\n",
       "      <td>-0.012413</td>\n",
       "      <td>-0.007147</td>\n",
       "      <td>0.002362</td>\n",
       "      <td>-0.005594</td>\n",
       "    </tr>\n",
       "    <tr>\n",
       "      <th>2014-01-07</th>\n",
       "      <td>-0.003790</td>\n",
       "      <td>0.012587</td>\n",
       "      <td>0.005106</td>\n",
       "      <td>0.005529</td>\n",
       "      <td>0.009673</td>\n",
       "      <td>0.003069</td>\n",
       "    </tr>\n",
       "  </tbody>\n",
       "</table>\n",
       "</div>"
      ],
      "text/plain": [
       "                 AXP        FB      INTC       MCD        PG       WMT\n",
       "Date                                                                  \n",
       "2013-12-31       NaN       NaN       NaN       NaN       NaN       NaN\n",
       "2014-01-02 -0.014108  0.001098 -0.006548 -0.006390 -0.010687  0.002796\n",
       "2014-01-03  0.003242 -0.002742 -0.000388  0.001348 -0.001118 -0.003295\n",
       "2014-01-06 -0.000446  0.048387 -0.012413 -0.007147  0.002362 -0.005594\n",
       "2014-01-07 -0.003790  0.012587  0.005106  0.005529  0.009673  0.003069"
      ]
     },
     "execution_count": 17,
     "metadata": {},
     "output_type": "execute_result"
    }
   ],
   "source": [
    "daily_return_stocks=stocks.pct_change()\n",
    "daily_return_stocks.head()"
   ]
  },
  {
   "cell_type": "code",
   "execution_count": 18,
   "metadata": {},
   "outputs": [
    {
     "data": {
      "text/html": [
       "<div>\n",
       "<style scoped>\n",
       "    .dataframe tbody tr th:only-of-type {\n",
       "        vertical-align: middle;\n",
       "    }\n",
       "\n",
       "    .dataframe tbody tr th {\n",
       "        vertical-align: top;\n",
       "    }\n",
       "\n",
       "    .dataframe thead th {\n",
       "        text-align: right;\n",
       "    }\n",
       "</style>\n",
       "<table border=\"1\" class=\"dataframe\">\n",
       "  <thead>\n",
       "    <tr style=\"text-align: right;\">\n",
       "      <th></th>\n",
       "      <th>AXP</th>\n",
       "      <th>FB</th>\n",
       "      <th>INTC</th>\n",
       "      <th>MCD</th>\n",
       "      <th>PG</th>\n",
       "      <th>WMT</th>\n",
       "    </tr>\n",
       "  </thead>\n",
       "  <tbody>\n",
       "    <tr>\n",
       "      <th>0</th>\n",
       "      <td>0.239885</td>\n",
       "      <td>0.098555</td>\n",
       "      <td>0.078134</td>\n",
       "      <td>0.189889</td>\n",
       "      <td>0.247806</td>\n",
       "      <td>0.145730</td>\n",
       "    </tr>\n",
       "    <tr>\n",
       "      <th>1</th>\n",
       "      <td>0.271614</td>\n",
       "      <td>0.189658</td>\n",
       "      <td>0.133190</td>\n",
       "      <td>0.108594</td>\n",
       "      <td>0.095040</td>\n",
       "      <td>0.201904</td>\n",
       "    </tr>\n",
       "    <tr>\n",
       "      <th>2</th>\n",
       "      <td>0.220141</td>\n",
       "      <td>0.029955</td>\n",
       "      <td>0.199798</td>\n",
       "      <td>0.370436</td>\n",
       "      <td>0.091602</td>\n",
       "      <td>0.088068</td>\n",
       "    </tr>\n",
       "    <tr>\n",
       "      <th>3</th>\n",
       "      <td>0.136903</td>\n",
       "      <td>0.136974</td>\n",
       "      <td>0.163392</td>\n",
       "      <td>0.218774</td>\n",
       "      <td>0.186586</td>\n",
       "      <td>0.157371</td>\n",
       "    </tr>\n",
       "    <tr>\n",
       "      <th>4</th>\n",
       "      <td>0.282189</td>\n",
       "      <td>0.126149</td>\n",
       "      <td>0.141316</td>\n",
       "      <td>0.089160</td>\n",
       "      <td>0.114726</td>\n",
       "      <td>0.246461</td>\n",
       "    </tr>\n",
       "  </tbody>\n",
       "</table>\n",
       "</div>"
      ],
      "text/plain": [
       "        AXP        FB      INTC       MCD        PG       WMT\n",
       "0  0.239885  0.098555  0.078134  0.189889  0.247806  0.145730\n",
       "1  0.271614  0.189658  0.133190  0.108594  0.095040  0.201904\n",
       "2  0.220141  0.029955  0.199798  0.370436  0.091602  0.088068\n",
       "3  0.136903  0.136974  0.163392  0.218774  0.186586  0.157371\n",
       "4  0.282189  0.126149  0.141316  0.089160  0.114726  0.246461"
      ]
     },
     "execution_count": 18,
     "metadata": {},
     "output_type": "execute_result"
    }
   ],
   "source": [
    "weights.head()"
   ]
  },
  {
   "cell_type": "code",
   "execution_count": 21,
   "metadata": {},
   "outputs": [
    {
     "data": {
      "text/html": [
       "<div>\n",
       "<style scoped>\n",
       "    .dataframe tbody tr th:only-of-type {\n",
       "        vertical-align: middle;\n",
       "    }\n",
       "\n",
       "    .dataframe tbody tr th {\n",
       "        vertical-align: top;\n",
       "    }\n",
       "\n",
       "    .dataframe thead th {\n",
       "        text-align: right;\n",
       "    }\n",
       "</style>\n",
       "<table border=\"1\" class=\"dataframe\">\n",
       "  <thead>\n",
       "    <tr style=\"text-align: right;\">\n",
       "      <th></th>\n",
       "      <th>0</th>\n",
       "    </tr>\n",
       "    <tr>\n",
       "      <th>Date</th>\n",
       "      <th></th>\n",
       "    </tr>\n",
       "  </thead>\n",
       "  <tbody>\n",
       "    <tr>\n",
       "      <th>2014-01-02</th>\n",
       "      <td>-0.007242</td>\n",
       "    </tr>\n",
       "    <tr>\n",
       "      <th>2014-01-03</th>\n",
       "      <td>-0.000024</td>\n",
       "    </tr>\n",
       "    <tr>\n",
       "      <th>2014-01-06</th>\n",
       "      <td>0.002105</td>\n",
       "    </tr>\n",
       "    <tr>\n",
       "      <th>2014-01-07</th>\n",
       "      <td>0.004624</td>\n",
       "    </tr>\n",
       "    <tr>\n",
       "      <th>2014-01-08</th>\n",
       "      <td>-0.006481</td>\n",
       "    </tr>\n",
       "  </tbody>\n",
       "</table>\n",
       "</div>"
      ],
      "text/plain": [
       "                   0\n",
       "Date                \n",
       "2014-01-02 -0.007242\n",
       "2014-01-03 -0.000024\n",
       "2014-01-06  0.002105\n",
       "2014-01-07  0.004624\n",
       "2014-01-08 -0.006481"
      ]
     },
     "execution_count": 21,
     "metadata": {},
     "output_type": "execute_result"
    }
   ],
   "source": [
    "daily_return_port=daily_return_stocks.mul(weights.iloc[0]).dropna().sum(axis=1).to_frame()\n",
    "daily_return_port.head()"
   ]
  },
  {
   "cell_type": "code",
   "execution_count": 129,
   "metadata": {},
   "outputs": [],
   "source": [
    "def ann_risk_return(returns_df):\n",
    "    summary = returns_df.agg([\"mean\", \"std\"]).T\n",
    "    summary.columns = [\"Return\", \"Risk\"]\n",
    "    summary.Return = summary.Return*252\n",
    "    summary.Risk = summary.Risk * np.sqrt(252)\n",
    "    return summary"
   ]
  },
  {
   "cell_type": "code",
   "execution_count": 131,
   "metadata": {},
   "outputs": [
    {
     "data": {
      "text/html": [
       "<div>\n",
       "<style scoped>\n",
       "    .dataframe tbody tr th:only-of-type {\n",
       "        vertical-align: middle;\n",
       "    }\n",
       "\n",
       "    .dataframe tbody tr th {\n",
       "        vertical-align: top;\n",
       "    }\n",
       "\n",
       "    .dataframe thead th {\n",
       "        text-align: right;\n",
       "    }\n",
       "</style>\n",
       "<table border=\"1\" class=\"dataframe\">\n",
       "  <thead>\n",
       "    <tr style=\"text-align: right;\">\n",
       "      <th></th>\n",
       "      <th>0</th>\n",
       "    </tr>\n",
       "    <tr>\n",
       "      <th>Date</th>\n",
       "      <th></th>\n",
       "    </tr>\n",
       "  </thead>\n",
       "  <tbody>\n",
       "    <tr>\n",
       "      <th>2014-01-02</th>\n",
       "      <td>-0.006491</td>\n",
       "    </tr>\n",
       "    <tr>\n",
       "      <th>2014-01-03</th>\n",
       "      <td>-0.000262</td>\n",
       "    </tr>\n",
       "    <tr>\n",
       "      <th>2014-01-06</th>\n",
       "      <td>0.009373</td>\n",
       "    </tr>\n",
       "    <tr>\n",
       "      <th>2014-01-07</th>\n",
       "      <td>0.005999</td>\n",
       "    </tr>\n",
       "    <tr>\n",
       "      <th>2014-01-08</th>\n",
       "      <td>-0.003812</td>\n",
       "    </tr>\n",
       "  </tbody>\n",
       "</table>\n",
       "</div>"
      ],
      "text/plain": [
       "                   0\n",
       "Date                \n",
       "2014-01-02 -0.006491\n",
       "2014-01-03 -0.000262\n",
       "2014-01-06  0.009373\n",
       "2014-01-07  0.005999\n",
       "2014-01-08 -0.003812"
      ]
     },
     "execution_count": 131,
     "metadata": {},
     "output_type": "execute_result"
    }
   ],
   "source": [
    "daily_return_port.head()"
   ]
  },
  {
   "cell_type": "code",
   "execution_count": 132,
   "metadata": {},
   "outputs": [
    {
     "data": {
      "text/html": [
       "<div>\n",
       "<style scoped>\n",
       "    .dataframe tbody tr th:only-of-type {\n",
       "        vertical-align: middle;\n",
       "    }\n",
       "\n",
       "    .dataframe tbody tr th {\n",
       "        vertical-align: top;\n",
       "    }\n",
       "\n",
       "    .dataframe thead th {\n",
       "        text-align: right;\n",
       "    }\n",
       "</style>\n",
       "<table border=\"1\" class=\"dataframe\">\n",
       "  <thead>\n",
       "    <tr style=\"text-align: right;\">\n",
       "      <th></th>\n",
       "      <th>Return</th>\n",
       "      <th>Risk</th>\n",
       "    </tr>\n",
       "  </thead>\n",
       "  <tbody>\n",
       "    <tr>\n",
       "      <th>0</th>\n",
       "      <td>0.11791</td>\n",
       "      <td>0.15091</td>\n",
       "    </tr>\n",
       "  </tbody>\n",
       "</table>\n",
       "</div>"
      ],
      "text/plain": [
       "    Return     Risk\n",
       "0  0.11791  0.15091"
      ]
     },
     "execution_count": 132,
     "metadata": {},
     "output_type": "execute_result"
    }
   ],
   "source": [
    "port_return_risk=ann_risk_return(daily_return_port)\n",
    "port_return_risk"
   ]
  },
  {
   "cell_type": "code",
   "execution_count": 25,
   "metadata": {},
   "outputs": [
    {
     "data": {
      "text/plain": [
       "1000"
      ]
     },
     "execution_count": 25,
     "metadata": {},
     "output_type": "execute_result"
    }
   ],
   "source": [
    "weights.shape[0]"
   ]
  },
  {
   "cell_type": "code",
   "execution_count": 26,
   "metadata": {},
   "outputs": [],
   "source": [
    "df_ls=[]"
   ]
  },
  {
   "cell_type": "code",
   "execution_count": 27,
   "metadata": {},
   "outputs": [
    {
     "data": {
      "text/html": [
       "<div>\n",
       "<style scoped>\n",
       "    .dataframe tbody tr th:only-of-type {\n",
       "        vertical-align: middle;\n",
       "    }\n",
       "\n",
       "    .dataframe tbody tr th {\n",
       "        vertical-align: top;\n",
       "    }\n",
       "\n",
       "    .dataframe thead th {\n",
       "        text-align: right;\n",
       "    }\n",
       "</style>\n",
       "<table border=\"1\" class=\"dataframe\">\n",
       "  <thead>\n",
       "    <tr style=\"text-align: right;\">\n",
       "      <th></th>\n",
       "      <th>Return</th>\n",
       "      <th>Risk</th>\n",
       "    </tr>\n",
       "  </thead>\n",
       "  <tbody>\n",
       "    <tr>\n",
       "      <th>0</th>\n",
       "      <td>0.081607</td>\n",
       "      <td>0.125412</td>\n",
       "    </tr>\n",
       "    <tr>\n",
       "      <th>1</th>\n",
       "      <td>0.097977</td>\n",
       "      <td>0.141345</td>\n",
       "    </tr>\n",
       "    <tr>\n",
       "      <th>2</th>\n",
       "      <td>0.099470</td>\n",
       "      <td>0.131930</td>\n",
       "    </tr>\n",
       "    <tr>\n",
       "      <th>3</th>\n",
       "      <td>0.102159</td>\n",
       "      <td>0.130194</td>\n",
       "    </tr>\n",
       "    <tr>\n",
       "      <th>4</th>\n",
       "      <td>0.085636</td>\n",
       "      <td>0.136907</td>\n",
       "    </tr>\n",
       "    <tr>\n",
       "      <th>...</th>\n",
       "      <td>...</td>\n",
       "      <td>...</td>\n",
       "    </tr>\n",
       "    <tr>\n",
       "      <th>995</th>\n",
       "      <td>0.067636</td>\n",
       "      <td>0.135325</td>\n",
       "    </tr>\n",
       "    <tr>\n",
       "      <th>996</th>\n",
       "      <td>0.087282</td>\n",
       "      <td>0.131569</td>\n",
       "    </tr>\n",
       "    <tr>\n",
       "      <th>997</th>\n",
       "      <td>0.120326</td>\n",
       "      <td>0.157043</td>\n",
       "    </tr>\n",
       "    <tr>\n",
       "      <th>998</th>\n",
       "      <td>0.116502</td>\n",
       "      <td>0.138923</td>\n",
       "    </tr>\n",
       "    <tr>\n",
       "      <th>999</th>\n",
       "      <td>0.117910</td>\n",
       "      <td>0.150910</td>\n",
       "    </tr>\n",
       "  </tbody>\n",
       "</table>\n",
       "<p>1000 rows × 2 columns</p>\n",
       "</div>"
      ],
      "text/plain": [
       "       Return      Risk\n",
       "0    0.081607  0.125412\n",
       "1    0.097977  0.141345\n",
       "2    0.099470  0.131930\n",
       "3    0.102159  0.130194\n",
       "4    0.085636  0.136907\n",
       "..        ...       ...\n",
       "995  0.067636  0.135325\n",
       "996  0.087282  0.131569\n",
       "997  0.120326  0.157043\n",
       "998  0.116502  0.138923\n",
       "999  0.117910  0.150910\n",
       "\n",
       "[1000 rows x 2 columns]"
      ]
     },
     "execution_count": 27,
     "metadata": {},
     "output_type": "execute_result"
    }
   ],
   "source": [
    "for i in range(0,weights.shape[0]):\n",
    "    daily_return_port=daily_return_stocks.mul(weights.iloc[i]).dropna().sum(axis=1).to_frame()\n",
    "    port_return_risk=ann_risk_return(daily_return_port)\n",
    "    df_ls.append(port_return_risk)\n",
    "return_risk=pd.concat(df_ls)   \n",
    "return_risk.index=range(0,return_risk.shape[0])\n",
    "return_risk"
   ]
  },
  {
   "cell_type": "code",
   "execution_count": 28,
   "metadata": {},
   "outputs": [
    {
     "data": {
      "image/png": "[encoded data removed]",
      "text/plain": [
       "<Figure size 864x576 with 1 Axes>"
      ]
     },
     "metadata": {
      "needs_background": "light"
     },
     "output_type": "display_data"
    }
   ],
   "source": [
    "return_risk.plot(kind=\"scatter\",y=\"Return\",x=\"Risk\",figsize=(12,8),grid=True)\n",
    "plt.show()"
   ]
  },
  {
   "cell_type": "markdown",
   "metadata": {},
   "source": [
    "Assume that the approximate __risk-free asset__ showed a return of __1.7%__ p.a. (5-Year US Treasury Note). __Calculate__ the __Sharpe Ratio__ for the __six stocks__ and for the 10,000 __random portfolios__! __Visualize__ again (Sharpe Ratio as \"Third Dimension\")!"
   ]
  },
  {
   "cell_type": "code",
   "execution_count": 29,
   "metadata": {},
   "outputs": [
    {
     "data": {
      "text/html": [
       "<div>\n",
       "<style scoped>\n",
       "    .dataframe tbody tr th:only-of-type {\n",
       "        vertical-align: middle;\n",
       "    }\n",
       "\n",
       "    .dataframe tbody tr th {\n",
       "        vertical-align: top;\n",
       "    }\n",
       "\n",
       "    .dataframe thead th {\n",
       "        text-align: right;\n",
       "    }\n",
       "</style>\n",
       "<table border=\"1\" class=\"dataframe\">\n",
       "  <thead>\n",
       "    <tr style=\"text-align: right;\">\n",
       "      <th></th>\n",
       "      <th>AXP</th>\n",
       "      <th>FB</th>\n",
       "      <th>INTC</th>\n",
       "      <th>MCD</th>\n",
       "      <th>PG</th>\n",
       "      <th>WMT</th>\n",
       "    </tr>\n",
       "    <tr>\n",
       "      <th>Date</th>\n",
       "      <th></th>\n",
       "      <th></th>\n",
       "      <th></th>\n",
       "      <th></th>\n",
       "      <th></th>\n",
       "      <th></th>\n",
       "    </tr>\n",
       "  </thead>\n",
       "  <tbody>\n",
       "    <tr>\n",
       "      <th>2013-12-31</th>\n",
       "      <td>90.730003</td>\n",
       "      <td>54.650002</td>\n",
       "      <td>25.959999</td>\n",
       "      <td>97.029999</td>\n",
       "      <td>81.410004</td>\n",
       "      <td>78.690002</td>\n",
       "    </tr>\n",
       "    <tr>\n",
       "      <th>2014-01-02</th>\n",
       "      <td>89.449997</td>\n",
       "      <td>54.709999</td>\n",
       "      <td>25.790001</td>\n",
       "      <td>96.410004</td>\n",
       "      <td>80.540001</td>\n",
       "      <td>78.910004</td>\n",
       "    </tr>\n",
       "    <tr>\n",
       "      <th>2014-01-03</th>\n",
       "      <td>89.739998</td>\n",
       "      <td>54.560001</td>\n",
       "      <td>25.780001</td>\n",
       "      <td>96.540001</td>\n",
       "      <td>80.449997</td>\n",
       "      <td>78.650002</td>\n",
       "    </tr>\n",
       "    <tr>\n",
       "      <th>2014-01-06</th>\n",
       "      <td>89.699997</td>\n",
       "      <td>57.200001</td>\n",
       "      <td>25.459999</td>\n",
       "      <td>95.849998</td>\n",
       "      <td>80.639999</td>\n",
       "      <td>78.209999</td>\n",
       "    </tr>\n",
       "    <tr>\n",
       "      <th>2014-01-07</th>\n",
       "      <td>89.360001</td>\n",
       "      <td>57.919998</td>\n",
       "      <td>25.590000</td>\n",
       "      <td>96.379997</td>\n",
       "      <td>81.419998</td>\n",
       "      <td>78.449997</td>\n",
       "    </tr>\n",
       "  </tbody>\n",
       "</table>\n",
       "</div>"
      ],
      "text/plain": [
       "                  AXP         FB       INTC        MCD         PG        WMT\n",
       "Date                                                                        \n",
       "2013-12-31  90.730003  54.650002  25.959999  97.029999  81.410004  78.690002\n",
       "2014-01-02  89.449997  54.709999  25.790001  96.410004  80.540001  78.910004\n",
       "2014-01-03  89.739998  54.560001  25.780001  96.540001  80.449997  78.650002\n",
       "2014-01-06  89.699997  57.200001  25.459999  95.849998  80.639999  78.209999\n",
       "2014-01-07  89.360001  57.919998  25.590000  96.379997  81.419998  78.449997"
      ]
     },
     "execution_count": 29,
     "metadata": {},
     "output_type": "execute_result"
    }
   ],
   "source": [
    "stocks.head()"
   ]
  },
  {
   "cell_type": "code",
   "execution_count": 63,
   "metadata": {},
   "outputs": [],
   "source": [
    "rf=0.017\n",
    "def get_sr(risk,rt):\n",
    "    return (rt-rf)/risk"
   ]
  },
  {
   "cell_type": "code",
   "execution_count": 98,
   "metadata": {
    "scrolled": true
   },
   "outputs": [
    {
     "data": {
      "text/html": [
       "<div>\n",
       "<style scoped>\n",
       "    .dataframe tbody tr th:only-of-type {\n",
       "        vertical-align: middle;\n",
       "    }\n",
       "\n",
       "    .dataframe tbody tr th {\n",
       "        vertical-align: top;\n",
       "    }\n",
       "\n",
       "    .dataframe thead th {\n",
       "        text-align: right;\n",
       "    }\n",
       "</style>\n",
       "<table border=\"1\" class=\"dataframe\">\n",
       "  <thead>\n",
       "    <tr style=\"text-align: right;\">\n",
       "      <th></th>\n",
       "      <th>Return</th>\n",
       "      <th>Risk</th>\n",
       "    </tr>\n",
       "  </thead>\n",
       "  <tbody>\n",
       "    <tr>\n",
       "      <th>AXP</th>\n",
       "      <td>0.029475</td>\n",
       "      <td>0.206778</td>\n",
       "    </tr>\n",
       "    <tr>\n",
       "      <th>FB</th>\n",
       "      <td>0.223580</td>\n",
       "      <td>0.299131</td>\n",
       "    </tr>\n",
       "    <tr>\n",
       "      <th>INTC</th>\n",
       "      <td>0.148437</td>\n",
       "      <td>0.247231</td>\n",
       "    </tr>\n",
       "    <tr>\n",
       "      <th>MCD</th>\n",
       "      <td>0.132492</td>\n",
       "      <td>0.165322</td>\n",
       "    </tr>\n",
       "    <tr>\n",
       "      <th>PG</th>\n",
       "      <td>0.033851</td>\n",
       "      <td>0.149389</td>\n",
       "    </tr>\n",
       "  </tbody>\n",
       "</table>\n",
       "</div>"
      ],
      "text/plain": [
       "        Return      Risk\n",
       "AXP   0.029475  0.206778\n",
       "FB    0.223580  0.299131\n",
       "INTC  0.148437  0.247231\n",
       "MCD   0.132492  0.165322\n",
       "PG    0.033851  0.149389"
      ]
     },
     "execution_count": 98,
     "metadata": {},
     "output_type": "execute_result"
    }
   ],
   "source": [
    "sr_stocks=ann_risk_return(daily_return_stocks)\n",
    "sr_stocks.head()"
   ]
  },
  {
   "cell_type": "code",
   "execution_count": 133,
   "metadata": {},
   "outputs": [
    {
     "data": {
      "text/plain": [
       "AXP     0.060328\n",
       "FB      0.690599\n",
       "INTC    0.531639\n",
       "MCD     0.698585\n",
       "PG      0.112800\n",
       "WMT     0.172221\n",
       "dtype: float64"
      ]
     },
     "execution_count": 133,
     "metadata": {},
     "output_type": "execute_result"
    }
   ],
   "source": [
    "sr_stocks[\"SharpRatio\"]=get_sr(sr_stocks[\"Risk\"], sr_stocks[\"Return\"])"
   ]
  },
  {
   "cell_type": "code",
   "execution_count": 105,
   "metadata": {},
   "outputs": [
    {
     "data": {
      "text/html": [
       "<div>\n",
       "<style scoped>\n",
       "    .dataframe tbody tr th:only-of-type {\n",
       "        vertical-align: middle;\n",
       "    }\n",
       "\n",
       "    .dataframe tbody tr th {\n",
       "        vertical-align: top;\n",
       "    }\n",
       "\n",
       "    .dataframe thead th {\n",
       "        text-align: right;\n",
       "    }\n",
       "</style>\n",
       "<table border=\"1\" class=\"dataframe\">\n",
       "  <thead>\n",
       "    <tr style=\"text-align: right;\">\n",
       "      <th></th>\n",
       "      <th>Return</th>\n",
       "      <th>Risk</th>\n",
       "      <th>SharpRatio</th>\n",
       "    </tr>\n",
       "  </thead>\n",
       "  <tbody>\n",
       "    <tr>\n",
       "      <th>AXP</th>\n",
       "      <td>0.029475</td>\n",
       "      <td>0.206778</td>\n",
       "      <td>0.060328</td>\n",
       "    </tr>\n",
       "    <tr>\n",
       "      <th>FB</th>\n",
       "      <td>0.223580</td>\n",
       "      <td>0.299131</td>\n",
       "      <td>0.690599</td>\n",
       "    </tr>\n",
       "    <tr>\n",
       "      <th>INTC</th>\n",
       "      <td>0.148437</td>\n",
       "      <td>0.247231</td>\n",
       "      <td>0.531639</td>\n",
       "    </tr>\n",
       "    <tr>\n",
       "      <th>MCD</th>\n",
       "      <td>0.132492</td>\n",
       "      <td>0.165322</td>\n",
       "      <td>0.698585</td>\n",
       "    </tr>\n",
       "    <tr>\n",
       "      <th>PG</th>\n",
       "      <td>0.033851</td>\n",
       "      <td>0.149389</td>\n",
       "      <td>0.112800</td>\n",
       "    </tr>\n",
       "    <tr>\n",
       "      <th>WMT</th>\n",
       "      <td>0.050479</td>\n",
       "      <td>0.194394</td>\n",
       "      <td>0.172221</td>\n",
       "    </tr>\n",
       "  </tbody>\n",
       "</table>\n",
       "</div>"
      ],
      "text/plain": [
       "        Return      Risk  SharpRatio\n",
       "AXP   0.029475  0.206778    0.060328\n",
       "FB    0.223580  0.299131    0.690599\n",
       "INTC  0.148437  0.247231    0.531639\n",
       "MCD   0.132492  0.165322    0.698585\n",
       "PG    0.033851  0.149389    0.112800\n",
       "WMT   0.050479  0.194394    0.172221"
      ]
     },
     "execution_count": 105,
     "metadata": {},
     "output_type": "execute_result"
    }
   ],
   "source": [
    "sr_stocks"
   ]
  },
  {
   "cell_type": "code",
   "execution_count": 107,
   "metadata": {
    "scrolled": true
   },
   "outputs": [
    {
     "data": {
      "text/html": [
       "<div>\n",
       "<style scoped>\n",
       "    .dataframe tbody tr th:only-of-type {\n",
       "        vertical-align: middle;\n",
       "    }\n",
       "\n",
       "    .dataframe tbody tr th {\n",
       "        vertical-align: top;\n",
       "    }\n",
       "\n",
       "    .dataframe thead th {\n",
       "        text-align: right;\n",
       "    }\n",
       "</style>\n",
       "<table border=\"1\" class=\"dataframe\">\n",
       "  <thead>\n",
       "    <tr style=\"text-align: right;\">\n",
       "      <th></th>\n",
       "      <th>Return</th>\n",
       "      <th>Risk</th>\n",
       "      <th>SharpRatio</th>\n",
       "    </tr>\n",
       "  </thead>\n",
       "  <tbody>\n",
       "    <tr>\n",
       "      <th>0</th>\n",
       "      <td>0.081607</td>\n",
       "      <td>0.125412</td>\n",
       "      <td>0.515159</td>\n",
       "    </tr>\n",
       "    <tr>\n",
       "      <th>1</th>\n",
       "      <td>0.097977</td>\n",
       "      <td>0.141345</td>\n",
       "      <td>0.572898</td>\n",
       "    </tr>\n",
       "    <tr>\n",
       "      <th>2</th>\n",
       "      <td>0.099470</td>\n",
       "      <td>0.131930</td>\n",
       "      <td>0.625103</td>\n",
       "    </tr>\n",
       "    <tr>\n",
       "      <th>3</th>\n",
       "      <td>0.102159</td>\n",
       "      <td>0.130194</td>\n",
       "      <td>0.654093</td>\n",
       "    </tr>\n",
       "    <tr>\n",
       "      <th>4</th>\n",
       "      <td>0.085636</td>\n",
       "      <td>0.136907</td>\n",
       "      <td>0.501333</td>\n",
       "    </tr>\n",
       "    <tr>\n",
       "      <th>...</th>\n",
       "      <td>...</td>\n",
       "      <td>...</td>\n",
       "      <td>...</td>\n",
       "    </tr>\n",
       "    <tr>\n",
       "      <th>995</th>\n",
       "      <td>0.067636</td>\n",
       "      <td>0.135325</td>\n",
       "      <td>0.374180</td>\n",
       "    </tr>\n",
       "    <tr>\n",
       "      <th>996</th>\n",
       "      <td>0.087282</td>\n",
       "      <td>0.131569</td>\n",
       "      <td>0.534187</td>\n",
       "    </tr>\n",
       "    <tr>\n",
       "      <th>997</th>\n",
       "      <td>0.120326</td>\n",
       "      <td>0.157043</td>\n",
       "      <td>0.657948</td>\n",
       "    </tr>\n",
       "    <tr>\n",
       "      <th>998</th>\n",
       "      <td>0.116502</td>\n",
       "      <td>0.138923</td>\n",
       "      <td>0.716240</td>\n",
       "    </tr>\n",
       "    <tr>\n",
       "      <th>999</th>\n",
       "      <td>0.117910</td>\n",
       "      <td>0.150910</td>\n",
       "      <td>0.668681</td>\n",
       "    </tr>\n",
       "  </tbody>\n",
       "</table>\n",
       "<p>1000 rows × 3 columns</p>\n",
       "</div>"
      ],
      "text/plain": [
       "       Return      Risk  SharpRatio\n",
       "0    0.081607  0.125412    0.515159\n",
       "1    0.097977  0.141345    0.572898\n",
       "2    0.099470  0.131930    0.625103\n",
       "3    0.102159  0.130194    0.654093\n",
       "4    0.085636  0.136907    0.501333\n",
       "..        ...       ...         ...\n",
       "995  0.067636  0.135325    0.374180\n",
       "996  0.087282  0.131569    0.534187\n",
       "997  0.120326  0.157043    0.657948\n",
       "998  0.116502  0.138923    0.716240\n",
       "999  0.117910  0.150910    0.668681\n",
       "\n",
       "[1000 rows x 3 columns]"
      ]
     },
     "execution_count": 107,
     "metadata": {},
     "output_type": "execute_result"
    }
   ],
   "source": [
    "return_risk[\"SharpRatio\"]=get_sr(return_risk[\"Risk\"], return_risk[\"Return\"])\n",
    "return_risk"
   ]
  },
  {
   "cell_type": "code",
   "execution_count": 126,
   "metadata": {},
   "outputs": [],
   "source": [
    "# cmap = \"coolwarm\", vmin = 0.5, vmax = 1.00, alpha = 0.8\n",
    "plt.scatter?"
   ]
  },
  {
   "cell_type": "code",
   "execution_count": 128,
   "metadata": {},
   "outputs": [
    {
     "data": {
      "image/png": "[encoded data removed]",
      "text/plain": [
       "<Figure size 864x576 with 2 Axes>"
      ]
     },
     "metadata": {
      "needs_background": "light"
     },
     "output_type": "display_data"
    }
   ],
   "source": [
    "plt.figure(figsize=(12,8))\n",
    "plt.scatter(y=return_risk[\"Return\"],x=return_risk[\"Risk\"],c=return_risk[\"SharpRatio\"],cmap=\"coolwarm\",vmin=0.5,vmax=1)\n",
    "plt.colorbar()\n",
    "plt.show()"
   ]
  },
  {
   "cell_type": "markdown",
   "metadata": {},
   "source": [
    "Search for the __Max Sharpe Ratio Portfolio__ (from the set of 10,000 random portfolios) and determine __risk, return and Sharpe Ratio__ of the Max Sharpe Ratio Portfolio!"
   ]
  },
  {
   "cell_type": "code",
   "execution_count": 110,
   "metadata": {},
   "outputs": [
    {
     "data": {
      "text/plain": [
       "357"
      ]
     },
     "execution_count": 110,
     "metadata": {},
     "output_type": "execute_result"
    }
   ],
   "source": [
    "return_risk[\"SharpRatio\"].idxmax()"
   ]
  },
  {
   "cell_type": "code",
   "execution_count": 113,
   "metadata": {},
   "outputs": [
    {
     "data": {
      "text/plain": [
       "Return        0.153617\n",
       "Risk          0.163089\n",
       "SharpRatio    0.837684\n",
       "Name: 357, dtype: float64"
      ]
     },
     "execution_count": 113,
     "metadata": {},
     "output_type": "execute_result"
    }
   ],
   "source": [
    "return_risk.loc[return_risk[\"SharpRatio\"].idxmax()]"
   ]
  },
  {
   "cell_type": "markdown",
   "metadata": {},
   "source": [
    "Determine the __weights of the constituents__ in the Max Sharpe Ratio Portfolio and, if your computing power allows for this, __increase__ the __number of random portfolios__. Which stocks do you think have an __actual weight of 0__ in the \"real\" Max Sharpe Ratio Portfolio that can be derived with Optimization Algorithms? Can you identify a __highly concentrated position__ in one Stock?  "
   ]
  },
  {
   "cell_type": "code",
   "execution_count": 115,
   "metadata": {},
   "outputs": [
    {
     "data": {
      "text/plain": [
       "AXP     0.063848\n",
       "FB      0.318752\n",
       "INTC    0.225493\n",
       "MCD     0.335008\n",
       "PG      0.015671\n",
       "WMT     0.041230\n",
       "Name: 357, dtype: float64"
      ]
     },
     "execution_count": 115,
     "metadata": {},
     "output_type": "execute_result"
    }
   ],
   "source": [
    "weights.loc[return_risk[\"SharpRatio\"].idxmax()]"
   ]
  },
  {
   "cell_type": "markdown",
   "metadata": {},
   "source": [
    "------------------------"
   ]
  },
  {
   "cell_type": "markdown",
   "metadata": {},
   "source": [
    "# Well Done!"
   ]
  },
  {
   "cell_type": "markdown",
   "metadata": {},
   "source": [
    "-------------------"
   ]
  },
  {
   "cell_type": "markdown",
   "metadata": {},
   "source": [
    "# Hints (Spoiler!)"
   ]
  },
  {
   "cell_type": "markdown",
   "metadata": {},
   "source": [
    "148. agg() method, std\n",
    "\n",
    "`df.agg`(function_list) to return the summary of the df\n",
    "\n",
    "The df looks like below:\n",
    "```\n",
    "        0\n",
    "func1   24\n",
    "func2   23.1 \n",
    "...\n",
    "func100 21\n",
    "```"
   ]
  },
  {
   "cell_type": "markdown",
   "metadata": {},
   "source": [
    "150. pass DataFrame ret to ann_risk_return()"
   ]
  },
  {
   "cell_type": "markdown",
   "metadata": {},
   "source": [
    "152. Create 10,000 * 6 random floats in total, reshape() method\n",
    "\n",
    "use np.`randam.random.reshape(m,n)` to get random weights\n",
    "\n",
    "df=pd.DataFrame(array)\n",
    "\n",
    "df.`columns`=`column_list` to define the column name "
   ]
  },
  {
   "cell_type": "markdown",
   "metadata": {},
   "source": [
    "159. plt.scatter(c=df[col1])\n",
    "\n",
    "`plt.colorbar()` to show the colorbar"
   ]
  },
  {
   "cell_type": "markdown",
   "metadata": {},
   "source": [
    "160. idxmax() method\n",
    "\n",
    "df.`idxmax`(\"col_name\")"
   ]
  }
 ],
 "metadata": {
  "kernelspec": {
   "display_name": "Python 3 (ipykernel)",
   "language": "python",
   "name": "python3"
  },
  "language_info": {
   "codemirror_mode": {
    "name": "ipython",
    "version": 3
   },
   "file_extension": ".py",
   "mimetype": "text/x-python",
   "name": "python",
   "nbconvert_exporter": "python",
   "pygments_lexer": "ipython3",
   "version": "3.9.7"
  },
  "toc": {
   "base_numbering": 1,
   "nav_menu": {},
   "number_sections": true,
   "sideBar": true,
   "skip_h1_title": false,
   "title_cell": "Table of Contents",
   "title_sidebar": "Contents",
   "toc_cell": false,
   "toc_position": {},
   "toc_section_display": true,
   "toc_window_display": false
  }
 },
 "nbformat": 4,
 "nbformat_minor": 2
}
