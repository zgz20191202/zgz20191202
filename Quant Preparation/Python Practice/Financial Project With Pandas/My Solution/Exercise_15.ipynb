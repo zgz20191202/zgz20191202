{
 "cells": [
  {
   "cell_type": "markdown",
   "metadata": {},
   "source": [
    "# Coding Exercises (Part 15)"
   ]
  },
  {
   "cell_type": "markdown",
   "metadata": {},
   "source": [
    "## Financial Portfolios"
   ]
  },
  {
   "cell_type": "markdown",
   "metadata": {},
   "source": [
    "## Self_guided"
   ]
  },
  {
   "cell_type": "markdown",
   "metadata": {},
   "source": [
    "Import the us stocks dataset (__us_stocks.csv__) and select the 5-Year period from __31-12-2013__ (incl.) until __31-12-2018__ (incl.). Save the DataFrame in the variable __stocks__ and work through the next questions with this DataFrame!"
   ]
  },
  {
   "cell_type": "code",
   "execution_count": 1,
   "metadata": {},
   "outputs": [],
   "source": [
    "import pandas as pd\n",
    "import numpy as np\n",
    "import matplotlib.pyplot as plt\n",
    "import seaborn as sns"
   ]
  },
  {
   "cell_type": "code",
   "execution_count": 4,
   "metadata": {},
   "outputs": [
    {
     "data": {
      "text/html": [
       "<div>\n",
       "<style scoped>\n",
       "    .dataframe tbody tr th:only-of-type {\n",
       "        vertical-align: middle;\n",
       "    }\n",
       "\n",
       "    .dataframe tbody tr th {\n",
       "        vertical-align: top;\n",
       "    }\n",
       "\n",
       "    .dataframe thead th {\n",
       "        text-align: right;\n",
       "    }\n",
       "</style>\n",
       "<table border=\"1\" class=\"dataframe\">\n",
       "  <thead>\n",
       "    <tr style=\"text-align: right;\">\n",
       "      <th></th>\n",
       "      <th>AXP</th>\n",
       "      <th>FB</th>\n",
       "      <th>INTC</th>\n",
       "      <th>MCD</th>\n",
       "      <th>PG</th>\n",
       "      <th>WMT</th>\n",
       "    </tr>\n",
       "    <tr>\n",
       "      <th>Date</th>\n",
       "      <th></th>\n",
       "      <th></th>\n",
       "      <th></th>\n",
       "      <th></th>\n",
       "      <th></th>\n",
       "      <th></th>\n",
       "    </tr>\n",
       "  </thead>\n",
       "  <tbody>\n",
       "    <tr>\n",
       "      <th>2013-12-31</th>\n",
       "      <td>83.891060</td>\n",
       "      <td>54.650002</td>\n",
       "      <td>22.291279</td>\n",
       "      <td>82.911514</td>\n",
       "      <td>68.759727</td>\n",
       "      <td>69.113091</td>\n",
       "    </tr>\n",
       "    <tr>\n",
       "      <th>2014-01-02</th>\n",
       "      <td>82.707558</td>\n",
       "      <td>54.709999</td>\n",
       "      <td>22.145308</td>\n",
       "      <td>82.381737</td>\n",
       "      <td>68.024887</td>\n",
       "      <td>69.306335</td>\n",
       "    </tr>\n",
       "    <tr>\n",
       "      <th>2014-01-03</th>\n",
       "      <td>82.975700</td>\n",
       "      <td>54.560001</td>\n",
       "      <td>22.136719</td>\n",
       "      <td>82.492821</td>\n",
       "      <td>67.948891</td>\n",
       "      <td>69.077980</td>\n",
       "    </tr>\n",
       "    <tr>\n",
       "      <th>2014-01-06</th>\n",
       "      <td>82.938721</td>\n",
       "      <td>57.200001</td>\n",
       "      <td>21.861942</td>\n",
       "      <td>81.903206</td>\n",
       "      <td>68.109367</td>\n",
       "      <td>68.691544</td>\n",
       "    </tr>\n",
       "    <tr>\n",
       "      <th>2014-01-07</th>\n",
       "      <td>82.624329</td>\n",
       "      <td>57.919998</td>\n",
       "      <td>21.973566</td>\n",
       "      <td>82.356094</td>\n",
       "      <td>68.768166</td>\n",
       "      <td>68.902321</td>\n",
       "    </tr>\n",
       "  </tbody>\n",
       "</table>\n",
       "</div>"
      ],
      "text/plain": [
       "                  AXP         FB       INTC        MCD         PG        WMT\n",
       "Date                                                                        \n",
       "2013-12-31  83.891060  54.650002  22.291279  82.911514  68.759727  69.113091\n",
       "2014-01-02  82.707558  54.709999  22.145308  82.381737  68.024887  69.306335\n",
       "2014-01-03  82.975700  54.560001  22.136719  82.492821  67.948891  69.077980\n",
       "2014-01-06  82.938721  57.200001  21.861942  81.903206  68.109367  68.691544\n",
       "2014-01-07  82.624329  57.919998  21.973566  82.356094  68.768166  68.902321"
      ]
     },
     "execution_count": 4,
     "metadata": {},
     "output_type": "execute_result"
    }
   ],
   "source": [
    "stocks=pd.read_csv(\"us_stocks.csv\",header=[0,1],index_col=0,parse_dates=True).loc[:,\"Adj Close\"][\"31-12-2013\":\"1-1-2019\"]\n",
    "stocks.head()"
   ]
  },
  {
   "cell_type": "markdown",
   "metadata": {},
   "source": [
    "Create __10,000 random portfolios__ where weights of constituents __sum up to 1__ (all weights must be __between 0 and 1__). Use __np.random.seed(123)__!"
   ]
  },
  {
   "cell_type": "code",
   "execution_count": 15,
   "metadata": {},
   "outputs": [
    {
     "data": {
      "text/html": [
       "<div>\n",
       "<style scoped>\n",
       "    .dataframe tbody tr th:only-of-type {\n",
       "        vertical-align: middle;\n",
       "    }\n",
       "\n",
       "    .dataframe tbody tr th {\n",
       "        vertical-align: top;\n",
       "    }\n",
       "\n",
       "    .dataframe thead th {\n",
       "        text-align: right;\n",
       "    }\n",
       "</style>\n",
       "<table border=\"1\" class=\"dataframe\">\n",
       "  <thead>\n",
       "    <tr style=\"text-align: right;\">\n",
       "      <th></th>\n",
       "      <th>AXP</th>\n",
       "      <th>FB</th>\n",
       "      <th>INTC</th>\n",
       "      <th>MCD</th>\n",
       "      <th>PG</th>\n",
       "      <th>WMT</th>\n",
       "    </tr>\n",
       "  </thead>\n",
       "  <tbody>\n",
       "    <tr>\n",
       "      <th>0</th>\n",
       "      <td>0.239885</td>\n",
       "      <td>0.098555</td>\n",
       "      <td>0.078134</td>\n",
       "      <td>0.189889</td>\n",
       "      <td>0.247806</td>\n",
       "      <td>0.145730</td>\n",
       "    </tr>\n",
       "    <tr>\n",
       "      <th>1</th>\n",
       "      <td>0.271614</td>\n",
       "      <td>0.189658</td>\n",
       "      <td>0.133190</td>\n",
       "      <td>0.108594</td>\n",
       "      <td>0.095040</td>\n",
       "      <td>0.201904</td>\n",
       "    </tr>\n",
       "    <tr>\n",
       "      <th>2</th>\n",
       "      <td>0.220141</td>\n",
       "      <td>0.029955</td>\n",
       "      <td>0.199798</td>\n",
       "      <td>0.370436</td>\n",
       "      <td>0.091602</td>\n",
       "      <td>0.088068</td>\n",
       "    </tr>\n",
       "    <tr>\n",
       "      <th>3</th>\n",
       "      <td>0.136903</td>\n",
       "      <td>0.136974</td>\n",
       "      <td>0.163392</td>\n",
       "      <td>0.218774</td>\n",
       "      <td>0.186586</td>\n",
       "      <td>0.157371</td>\n",
       "    </tr>\n",
       "    <tr>\n",
       "      <th>4</th>\n",
       "      <td>0.282189</td>\n",
       "      <td>0.126149</td>\n",
       "      <td>0.141316</td>\n",
       "      <td>0.089160</td>\n",
       "      <td>0.114726</td>\n",
       "      <td>0.246461</td>\n",
       "    </tr>\n",
       "    <tr>\n",
       "      <th>...</th>\n",
       "      <td>...</td>\n",
       "      <td>...</td>\n",
       "      <td>...</td>\n",
       "      <td>...</td>\n",
       "      <td>...</td>\n",
       "      <td>...</td>\n",
       "    </tr>\n",
       "    <tr>\n",
       "      <th>995</th>\n",
       "      <td>0.159481</td>\n",
       "      <td>0.007873</td>\n",
       "      <td>0.241659</td>\n",
       "      <td>0.004052</td>\n",
       "      <td>0.292326</td>\n",
       "      <td>0.294609</td>\n",
       "    </tr>\n",
       "    <tr>\n",
       "      <th>996</th>\n",
       "      <td>0.014295</td>\n",
       "      <td>0.034012</td>\n",
       "      <td>0.238237</td>\n",
       "      <td>0.152141</td>\n",
       "      <td>0.276551</td>\n",
       "      <td>0.284764</td>\n",
       "    </tr>\n",
       "    <tr>\n",
       "      <th>997</th>\n",
       "      <td>0.015918</td>\n",
       "      <td>0.129600</td>\n",
       "      <td>0.394941</td>\n",
       "      <td>0.116138</td>\n",
       "      <td>0.027961</td>\n",
       "      <td>0.315443</td>\n",
       "    </tr>\n",
       "    <tr>\n",
       "      <th>998</th>\n",
       "      <td>0.035599</td>\n",
       "      <td>0.210482</td>\n",
       "      <td>0.194003</td>\n",
       "      <td>0.177664</td>\n",
       "      <td>0.194757</td>\n",
       "      <td>0.187496</td>\n",
       "    </tr>\n",
       "    <tr>\n",
       "      <th>999</th>\n",
       "      <td>0.206231</td>\n",
       "      <td>0.260247</td>\n",
       "      <td>0.196283</td>\n",
       "      <td>0.126773</td>\n",
       "      <td>0.175026</td>\n",
       "      <td>0.035440</td>\n",
       "    </tr>\n",
       "  </tbody>\n",
       "</table>\n",
       "<p>1000 rows × 6 columns</p>\n",
       "</div>"
      ],
      "text/plain": [
       "          AXP        FB      INTC       MCD        PG       WMT\n",
       "0    0.239885  0.098555  0.078134  0.189889  0.247806  0.145730\n",
       "1    0.271614  0.189658  0.133190  0.108594  0.095040  0.201904\n",
       "2    0.220141  0.029955  0.199798  0.370436  0.091602  0.088068\n",
       "3    0.136903  0.136974  0.163392  0.218774  0.186586  0.157371\n",
       "4    0.282189  0.126149  0.141316  0.089160  0.114726  0.246461\n",
       "..        ...       ...       ...       ...       ...       ...\n",
       "995  0.159481  0.007873  0.241659  0.004052  0.292326  0.294609\n",
       "996  0.014295  0.034012  0.238237  0.152141  0.276551  0.284764\n",
       "997  0.015918  0.129600  0.394941  0.116138  0.027961  0.315443\n",
       "998  0.035599  0.210482  0.194003  0.177664  0.194757  0.187496\n",
       "999  0.206231  0.260247  0.196283  0.126773  0.175026  0.035440\n",
       "\n",
       "[1000 rows x 6 columns]"
      ]
     },
     "execution_count": 15,
     "metadata": {},
     "output_type": "execute_result"
    }
   ],
   "source": [
    "# count=1\n",
    "# weights=[]\n",
    "# while count<=1000:\n",
    "#     wt=np.random.random_sample(6)\n",
    "#     weights.append(wt)\n",
    "#     count+=1\n",
    "np.random.seed(123)\n",
    "weights=np.random.random(stocks.shape[1]*1000).reshape(1000,stocks.shape[1])\n",
    "weights=pd.DataFrame(weights)\n",
    "weights.columns=stocks.columns\n",
    "row_sum=weights.sum(axis=1)\n",
    "# weights[\"sums\"]=row_sum\n",
    "# weights/weights.iloc[:,-1]\n",
    "weights=weights.divide(row_sum,axis=0)\n",
    "# weights=weights.iloc[:,:-1]\n",
    "weights\n",
    "# row_sum"
   ]
  },
  {
   "cell_type": "markdown",
   "metadata": {},
   "source": [
    "Calculate __annualized risk and return__ for the __six stocks__ and for the 10,000 __random portfolios__! Calculation shall be based on __daily__ returns (__simple__ returns). __Visualize__! (Use the user-defined function ann_risk_return)"
   ]
  },
  {
   "cell_type": "code",
   "execution_count": 16,
   "metadata": {
    "scrolled": false
   },
   "outputs": [
    {
     "data": {
      "text/html": [
       "<div>\n",
       "<style scoped>\n",
       "    .dataframe tbody tr th:only-of-type {\n",
       "        vertical-align: middle;\n",
       "    }\n",
       "\n",
       "    .dataframe tbody tr th {\n",
       "        vertical-align: top;\n",
       "    }\n",
       "\n",
       "    .dataframe thead th {\n",
       "        text-align: right;\n",
       "    }\n",
       "</style>\n",
       "<table border=\"1\" class=\"dataframe\">\n",
       "  <thead>\n",
       "    <tr style=\"text-align: right;\">\n",
       "      <th></th>\n",
       "      <th>AXP</th>\n",
       "      <th>FB</th>\n",
       "      <th>INTC</th>\n",
       "      <th>MCD</th>\n",
       "      <th>PG</th>\n",
       "      <th>WMT</th>\n",
       "    </tr>\n",
       "    <tr>\n",
       "      <th>Date</th>\n",
       "      <th></th>\n",
       "      <th></th>\n",
       "      <th></th>\n",
       "      <th></th>\n",
       "      <th></th>\n",
       "      <th></th>\n",
       "    </tr>\n",
       "  </thead>\n",
       "  <tbody>\n",
       "    <tr>\n",
       "      <th>2013-12-31</th>\n",
       "      <td>NaN</td>\n",
       "      <td>NaN</td>\n",
       "      <td>NaN</td>\n",
       "      <td>NaN</td>\n",
       "      <td>NaN</td>\n",
       "      <td>NaN</td>\n",
       "    </tr>\n",
       "    <tr>\n",
       "      <th>2014-01-02</th>\n",
       "      <td>-0.014108</td>\n",
       "      <td>0.001098</td>\n",
       "      <td>-0.006548</td>\n",
       "      <td>-0.006390</td>\n",
       "      <td>-0.010687</td>\n",
       "      <td>0.002796</td>\n",
       "    </tr>\n",
       "    <tr>\n",
       "      <th>2014-01-03</th>\n",
       "      <td>0.003242</td>\n",
       "      <td>-0.002742</td>\n",
       "      <td>-0.000388</td>\n",
       "      <td>0.001348</td>\n",
       "      <td>-0.001117</td>\n",
       "      <td>-0.003295</td>\n",
       "    </tr>\n",
       "    <tr>\n",
       "      <th>2014-01-06</th>\n",
       "      <td>-0.000446</td>\n",
       "      <td>0.048387</td>\n",
       "      <td>-0.012413</td>\n",
       "      <td>-0.007147</td>\n",
       "      <td>0.002362</td>\n",
       "      <td>-0.005594</td>\n",
       "    </tr>\n",
       "    <tr>\n",
       "      <th>2014-01-07</th>\n",
       "      <td>-0.003791</td>\n",
       "      <td>0.012587</td>\n",
       "      <td>0.005106</td>\n",
       "      <td>0.005530</td>\n",
       "      <td>0.009673</td>\n",
       "      <td>0.003068</td>\n",
       "    </tr>\n",
       "  </tbody>\n",
       "</table>\n",
       "</div>"
      ],
      "text/plain": [
       "                 AXP        FB      INTC       MCD        PG       WMT\n",
       "Date                                                                  \n",
       "2013-12-31       NaN       NaN       NaN       NaN       NaN       NaN\n",
       "2014-01-02 -0.014108  0.001098 -0.006548 -0.006390 -0.010687  0.002796\n",
       "2014-01-03  0.003242 -0.002742 -0.000388  0.001348 -0.001117 -0.003295\n",
       "2014-01-06 -0.000446  0.048387 -0.012413 -0.007147  0.002362 -0.005594\n",
       "2014-01-07 -0.003791  0.012587  0.005106  0.005530  0.009673  0.003068"
      ]
     },
     "execution_count": 16,
     "metadata": {},
     "output_type": "execute_result"
    }
   ],
   "source": [
    "daily_return_stocks=stocks.pct_change()\n",
    "daily_return_stocks.head()"
   ]
  },
  {
   "cell_type": "code",
   "execution_count": 17,
   "metadata": {},
   "outputs": [
    {
     "data": {
      "text/html": [
       "<div>\n",
       "<style scoped>\n",
       "    .dataframe tbody tr th:only-of-type {\n",
       "        vertical-align: middle;\n",
       "    }\n",
       "\n",
       "    .dataframe tbody tr th {\n",
       "        vertical-align: top;\n",
       "    }\n",
       "\n",
       "    .dataframe thead th {\n",
       "        text-align: right;\n",
       "    }\n",
       "</style>\n",
       "<table border=\"1\" class=\"dataframe\">\n",
       "  <thead>\n",
       "    <tr style=\"text-align: right;\">\n",
       "      <th></th>\n",
       "      <th>AXP</th>\n",
       "      <th>FB</th>\n",
       "      <th>INTC</th>\n",
       "      <th>MCD</th>\n",
       "      <th>PG</th>\n",
       "      <th>WMT</th>\n",
       "    </tr>\n",
       "  </thead>\n",
       "  <tbody>\n",
       "    <tr>\n",
       "      <th>0</th>\n",
       "      <td>0.239885</td>\n",
       "      <td>0.098555</td>\n",
       "      <td>0.078134</td>\n",
       "      <td>0.189889</td>\n",
       "      <td>0.247806</td>\n",
       "      <td>0.145730</td>\n",
       "    </tr>\n",
       "    <tr>\n",
       "      <th>1</th>\n",
       "      <td>0.271614</td>\n",
       "      <td>0.189658</td>\n",
       "      <td>0.133190</td>\n",
       "      <td>0.108594</td>\n",
       "      <td>0.095040</td>\n",
       "      <td>0.201904</td>\n",
       "    </tr>\n",
       "    <tr>\n",
       "      <th>2</th>\n",
       "      <td>0.220141</td>\n",
       "      <td>0.029955</td>\n",
       "      <td>0.199798</td>\n",
       "      <td>0.370436</td>\n",
       "      <td>0.091602</td>\n",
       "      <td>0.088068</td>\n",
       "    </tr>\n",
       "    <tr>\n",
       "      <th>3</th>\n",
       "      <td>0.136903</td>\n",
       "      <td>0.136974</td>\n",
       "      <td>0.163392</td>\n",
       "      <td>0.218774</td>\n",
       "      <td>0.186586</td>\n",
       "      <td>0.157371</td>\n",
       "    </tr>\n",
       "    <tr>\n",
       "      <th>4</th>\n",
       "      <td>0.282189</td>\n",
       "      <td>0.126149</td>\n",
       "      <td>0.141316</td>\n",
       "      <td>0.089160</td>\n",
       "      <td>0.114726</td>\n",
       "      <td>0.246461</td>\n",
       "    </tr>\n",
       "  </tbody>\n",
       "</table>\n",
       "</div>"
      ],
      "text/plain": [
       "        AXP        FB      INTC       MCD        PG       WMT\n",
       "0  0.239885  0.098555  0.078134  0.189889  0.247806  0.145730\n",
       "1  0.271614  0.189658  0.133190  0.108594  0.095040  0.201904\n",
       "2  0.220141  0.029955  0.199798  0.370436  0.091602  0.088068\n",
       "3  0.136903  0.136974  0.163392  0.218774  0.186586  0.157371\n",
       "4  0.282189  0.126149  0.141316  0.089160  0.114726  0.246461"
      ]
     },
     "execution_count": 17,
     "metadata": {},
     "output_type": "execute_result"
    }
   ],
   "source": [
    "weights.head()"
   ]
  },
  {
   "cell_type": "code",
   "execution_count": 21,
   "metadata": {},
   "outputs": [
    {
     "data": {
      "text/html": [
       "<div>\n",
       "<style scoped>\n",
       "    .dataframe tbody tr th:only-of-type {\n",
       "        vertical-align: middle;\n",
       "    }\n",
       "\n",
       "    .dataframe tbody tr th {\n",
       "        vertical-align: top;\n",
       "    }\n",
       "\n",
       "    .dataframe thead th {\n",
       "        text-align: right;\n",
       "    }\n",
       "</style>\n",
       "<table border=\"1\" class=\"dataframe\">\n",
       "  <thead>\n",
       "    <tr style=\"text-align: right;\">\n",
       "      <th></th>\n",
       "      <th>return</th>\n",
       "    </tr>\n",
       "    <tr>\n",
       "      <th>Date</th>\n",
       "      <th></th>\n",
       "    </tr>\n",
       "  </thead>\n",
       "  <tbody>\n",
       "    <tr>\n",
       "      <th>2014-01-02</th>\n",
       "      <td>-0.007242</td>\n",
       "    </tr>\n",
       "    <tr>\n",
       "      <th>2014-01-03</th>\n",
       "      <td>-0.000024</td>\n",
       "    </tr>\n",
       "    <tr>\n",
       "      <th>2014-01-06</th>\n",
       "      <td>0.002105</td>\n",
       "    </tr>\n",
       "    <tr>\n",
       "      <th>2014-01-07</th>\n",
       "      <td>0.004624</td>\n",
       "    </tr>\n",
       "    <tr>\n",
       "      <th>2014-01-08</th>\n",
       "      <td>-0.005862</td>\n",
       "    </tr>\n",
       "  </tbody>\n",
       "</table>\n",
       "</div>"
      ],
      "text/plain": [
       "              return\n",
       "Date                \n",
       "2014-01-02 -0.007242\n",
       "2014-01-03 -0.000024\n",
       "2014-01-06  0.002105\n",
       "2014-01-07  0.004624\n",
       "2014-01-08 -0.005862"
      ]
     },
     "execution_count": 21,
     "metadata": {},
     "output_type": "execute_result"
    }
   ],
   "source": [
    "daily_return_port=daily_return_stocks.mul(weights.iloc[0]).dropna().sum(axis=1).to_frame()\n",
    "daily_return_port.columns=[\"return\"]\n",
    "daily_return_port.head()"
   ]
  },
  {
   "cell_type": "code",
   "execution_count": 23,
   "metadata": {},
   "outputs": [],
   "source": [
    "def ann_risk_return(returns_df):\n",
    "    summary = returns_df.agg([\"mean\", \"std\"]).T\n",
    "    summary.columns = [\"Return\", \"Risk\"]\n",
    "    summary.Return = summary.Return*252\n",
    "    summary.Risk = summary.Risk * np.sqrt(252)\n",
    "    return summary"
   ]
  },
  {
   "cell_type": "code",
   "execution_count": 24,
   "metadata": {},
   "outputs": [
    {
     "data": {
      "text/html": [
       "<div>\n",
       "<style scoped>\n",
       "    .dataframe tbody tr th:only-of-type {\n",
       "        vertical-align: middle;\n",
       "    }\n",
       "\n",
       "    .dataframe tbody tr th {\n",
       "        vertical-align: top;\n",
       "    }\n",
       "\n",
       "    .dataframe thead th {\n",
       "        text-align: right;\n",
       "    }\n",
       "</style>\n",
       "<table border=\"1\" class=\"dataframe\">\n",
       "  <thead>\n",
       "    <tr style=\"text-align: right;\">\n",
       "      <th></th>\n",
       "      <th>return</th>\n",
       "    </tr>\n",
       "    <tr>\n",
       "      <th>Date</th>\n",
       "      <th></th>\n",
       "    </tr>\n",
       "  </thead>\n",
       "  <tbody>\n",
       "    <tr>\n",
       "      <th>2014-01-02</th>\n",
       "      <td>-0.007242</td>\n",
       "    </tr>\n",
       "    <tr>\n",
       "      <th>2014-01-03</th>\n",
       "      <td>-0.000024</td>\n",
       "    </tr>\n",
       "    <tr>\n",
       "      <th>2014-01-06</th>\n",
       "      <td>0.002105</td>\n",
       "    </tr>\n",
       "    <tr>\n",
       "      <th>2014-01-07</th>\n",
       "      <td>0.004624</td>\n",
       "    </tr>\n",
       "    <tr>\n",
       "      <th>2014-01-08</th>\n",
       "      <td>-0.005862</td>\n",
       "    </tr>\n",
       "  </tbody>\n",
       "</table>\n",
       "</div>"
      ],
      "text/plain": [
       "              return\n",
       "Date                \n",
       "2014-01-02 -0.007242\n",
       "2014-01-03 -0.000024\n",
       "2014-01-06  0.002105\n",
       "2014-01-07  0.004624\n",
       "2014-01-08 -0.005862"
      ]
     },
     "execution_count": 24,
     "metadata": {},
     "output_type": "execute_result"
    }
   ],
   "source": [
    "daily_return_port.head()"
   ]
  },
  {
   "cell_type": "code",
   "execution_count": 25,
   "metadata": {},
   "outputs": [
    {
     "data": {
      "text/html": [
       "<div>\n",
       "<style scoped>\n",
       "    .dataframe tbody tr th:only-of-type {\n",
       "        vertical-align: middle;\n",
       "    }\n",
       "\n",
       "    .dataframe tbody tr th {\n",
       "        vertical-align: top;\n",
       "    }\n",
       "\n",
       "    .dataframe thead th {\n",
       "        text-align: right;\n",
       "    }\n",
       "</style>\n",
       "<table border=\"1\" class=\"dataframe\">\n",
       "  <thead>\n",
       "    <tr style=\"text-align: right;\">\n",
       "      <th></th>\n",
       "      <th>Return</th>\n",
       "      <th>Risk</th>\n",
       "    </tr>\n",
       "  </thead>\n",
       "  <tbody>\n",
       "    <tr>\n",
       "      <th>return</th>\n",
       "      <td>0.105159</td>\n",
       "      <td>0.125332</td>\n",
       "    </tr>\n",
       "  </tbody>\n",
       "</table>\n",
       "</div>"
      ],
      "text/plain": [
       "          Return      Risk\n",
       "return  0.105159  0.125332"
      ]
     },
     "execution_count": 25,
     "metadata": {},
     "output_type": "execute_result"
    }
   ],
   "source": [
    "port_return_risk=ann_risk_return(daily_return_port)\n",
    "port_return_risk"
   ]
  },
  {
   "cell_type": "code",
   "execution_count": 26,
   "metadata": {},
   "outputs": [
    {
     "data": {
      "text/plain": [
       "1000"
      ]
     },
     "execution_count": 26,
     "metadata": {},
     "output_type": "execute_result"
    }
   ],
   "source": [
    "weights.shape[0]"
   ]
  },
  {
   "cell_type": "code",
   "execution_count": 27,
   "metadata": {},
   "outputs": [],
   "source": [
    "df_ls=[]"
   ]
  },
  {
   "cell_type": "code",
   "execution_count": 28,
   "metadata": {},
   "outputs": [
    {
     "data": {
      "text/html": [
       "<div>\n",
       "<style scoped>\n",
       "    .dataframe tbody tr th:only-of-type {\n",
       "        vertical-align: middle;\n",
       "    }\n",
       "\n",
       "    .dataframe tbody tr th {\n",
       "        vertical-align: top;\n",
       "    }\n",
       "\n",
       "    .dataframe thead th {\n",
       "        text-align: right;\n",
       "    }\n",
       "</style>\n",
       "<table border=\"1\" class=\"dataframe\">\n",
       "  <thead>\n",
       "    <tr style=\"text-align: right;\">\n",
       "      <th></th>\n",
       "      <th>Return</th>\n",
       "      <th>Risk</th>\n",
       "    </tr>\n",
       "  </thead>\n",
       "  <tbody>\n",
       "    <tr>\n",
       "      <th>0</th>\n",
       "      <td>0.105159</td>\n",
       "      <td>0.125332</td>\n",
       "    </tr>\n",
       "    <tr>\n",
       "      <th>1</th>\n",
       "      <td>0.117619</td>\n",
       "      <td>0.141440</td>\n",
       "    </tr>\n",
       "    <tr>\n",
       "      <th>2</th>\n",
       "      <td>0.125457</td>\n",
       "      <td>0.132000</td>\n",
       "    </tr>\n",
       "    <tr>\n",
       "      <th>3</th>\n",
       "      <td>0.125908</td>\n",
       "      <td>0.130126</td>\n",
       "    </tr>\n",
       "    <tr>\n",
       "      <th>4</th>\n",
       "      <td>0.106849</td>\n",
       "      <td>0.136994</td>\n",
       "    </tr>\n",
       "    <tr>\n",
       "      <th>...</th>\n",
       "      <td>...</td>\n",
       "      <td>...</td>\n",
       "    </tr>\n",
       "    <tr>\n",
       "      <th>995</th>\n",
       "      <td>0.094192</td>\n",
       "      <td>0.135166</td>\n",
       "    </tr>\n",
       "    <tr>\n",
       "      <th>996</th>\n",
       "      <td>0.115470</td>\n",
       "      <td>0.131295</td>\n",
       "    </tr>\n",
       "    <tr>\n",
       "      <th>997</th>\n",
       "      <td>0.144811</td>\n",
       "      <td>0.156934</td>\n",
       "    </tr>\n",
       "    <tr>\n",
       "      <th>998</th>\n",
       "      <td>0.139379</td>\n",
       "      <td>0.138780</td>\n",
       "    </tr>\n",
       "    <tr>\n",
       "      <th>999</th>\n",
       "      <td>0.137219</td>\n",
       "      <td>0.150892</td>\n",
       "    </tr>\n",
       "  </tbody>\n",
       "</table>\n",
       "<p>1000 rows × 2 columns</p>\n",
       "</div>"
      ],
      "text/plain": [
       "       Return      Risk\n",
       "0    0.105159  0.125332\n",
       "1    0.117619  0.141440\n",
       "2    0.125457  0.132000\n",
       "3    0.125908  0.130126\n",
       "4    0.106849  0.136994\n",
       "..        ...       ...\n",
       "995  0.094192  0.135166\n",
       "996  0.115470  0.131295\n",
       "997  0.144811  0.156934\n",
       "998  0.139379  0.138780\n",
       "999  0.137219  0.150892\n",
       "\n",
       "[1000 rows x 2 columns]"
      ]
     },
     "execution_count": 28,
     "metadata": {},
     "output_type": "execute_result"
    }
   ],
   "source": [
    "for i in range(0,weights.shape[0]):\n",
    "    daily_return_port=daily_return_stocks.mul(weights.iloc[i]).dropna().sum(axis=1).to_frame()\n",
    "    port_return_risk=ann_risk_return(daily_return_port)\n",
    "    df_ls.append(port_return_risk)\n",
    "return_risk=pd.concat(df_ls)   \n",
    "return_risk.index=range(0,return_risk.shape[0])\n",
    "return_risk"
   ]
  },
  {
   "cell_type": "code",
   "execution_count": 30,
   "metadata": {},
   "outputs": [
    {
     "data": {
      "image/png": "[encoded data removed]",
      "text/plain": [
       "<Figure size 864x576 with 1 Axes>"
      ]
     },
     "metadata": {
      "needs_background": "light"
     },
     "output_type": "display_data"
    }
   ],
   "source": [
    "return_risk.plot(kind=\"scatter\",y=\"Return\",x=\"Risk\",figsize=(12,8),grid=True)\n",
    "plt.show()"
   ]
  },
  {
   "cell_type": "markdown",
   "metadata": {},
   "source": [
    "Assume that the approximate __risk-free asset__ showed a return of __1.7%__ p.a. (5-Year US Treasury Note). __Calculate__ the __Sharpe Ratio__ for the __six stocks__ and for the 10,000 __random portfolios__! __Visualize__ again (Sharpe Ratio as \"Third Dimension\")!"
   ]
  },
  {
   "cell_type": "code",
   "execution_count": 31,
   "metadata": {},
   "outputs": [
    {
     "data": {
      "text/html": [
       "<div>\n",
       "<style scoped>\n",
       "    .dataframe tbody tr th:only-of-type {\n",
       "        vertical-align: middle;\n",
       "    }\n",
       "\n",
       "    .dataframe tbody tr th {\n",
       "        vertical-align: top;\n",
       "    }\n",
       "\n",
       "    .dataframe thead th {\n",
       "        text-align: right;\n",
       "    }\n",
       "</style>\n",
       "<table border=\"1\" class=\"dataframe\">\n",
       "  <thead>\n",
       "    <tr style=\"text-align: right;\">\n",
       "      <th></th>\n",
       "      <th>AXP</th>\n",
       "      <th>FB</th>\n",
       "      <th>INTC</th>\n",
       "      <th>MCD</th>\n",
       "      <th>PG</th>\n",
       "      <th>WMT</th>\n",
       "    </tr>\n",
       "    <tr>\n",
       "      <th>Date</th>\n",
       "      <th></th>\n",
       "      <th></th>\n",
       "      <th></th>\n",
       "      <th></th>\n",
       "      <th></th>\n",
       "      <th></th>\n",
       "    </tr>\n",
       "  </thead>\n",
       "  <tbody>\n",
       "    <tr>\n",
       "      <th>2013-12-31</th>\n",
       "      <td>83.891060</td>\n",
       "      <td>54.650002</td>\n",
       "      <td>22.291279</td>\n",
       "      <td>82.911514</td>\n",
       "      <td>68.759727</td>\n",
       "      <td>69.113091</td>\n",
       "    </tr>\n",
       "    <tr>\n",
       "      <th>2014-01-02</th>\n",
       "      <td>82.707558</td>\n",
       "      <td>54.709999</td>\n",
       "      <td>22.145308</td>\n",
       "      <td>82.381737</td>\n",
       "      <td>68.024887</td>\n",
       "      <td>69.306335</td>\n",
       "    </tr>\n",
       "    <tr>\n",
       "      <th>2014-01-03</th>\n",
       "      <td>82.975700</td>\n",
       "      <td>54.560001</td>\n",
       "      <td>22.136719</td>\n",
       "      <td>82.492821</td>\n",
       "      <td>67.948891</td>\n",
       "      <td>69.077980</td>\n",
       "    </tr>\n",
       "    <tr>\n",
       "      <th>2014-01-06</th>\n",
       "      <td>82.938721</td>\n",
       "      <td>57.200001</td>\n",
       "      <td>21.861942</td>\n",
       "      <td>81.903206</td>\n",
       "      <td>68.109367</td>\n",
       "      <td>68.691544</td>\n",
       "    </tr>\n",
       "    <tr>\n",
       "      <th>2014-01-07</th>\n",
       "      <td>82.624329</td>\n",
       "      <td>57.919998</td>\n",
       "      <td>21.973566</td>\n",
       "      <td>82.356094</td>\n",
       "      <td>68.768166</td>\n",
       "      <td>68.902321</td>\n",
       "    </tr>\n",
       "  </tbody>\n",
       "</table>\n",
       "</div>"
      ],
      "text/plain": [
       "                  AXP         FB       INTC        MCD         PG        WMT\n",
       "Date                                                                        \n",
       "2013-12-31  83.891060  54.650002  22.291279  82.911514  68.759727  69.113091\n",
       "2014-01-02  82.707558  54.709999  22.145308  82.381737  68.024887  69.306335\n",
       "2014-01-03  82.975700  54.560001  22.136719  82.492821  67.948891  69.077980\n",
       "2014-01-06  82.938721  57.200001  21.861942  81.903206  68.109367  68.691544\n",
       "2014-01-07  82.624329  57.919998  21.973566  82.356094  68.768166  68.902321"
      ]
     },
     "execution_count": 31,
     "metadata": {},
     "output_type": "execute_result"
    }
   ],
   "source": [
    "stocks.head()"
   ]
  },
  {
   "cell_type": "code",
   "execution_count": 32,
   "metadata": {},
   "outputs": [],
   "source": [
    "rf=0.017\n",
    "def get_sr(risk,rt):\n",
    "    return (rt-rf)/risk"
   ]
  },
  {
   "cell_type": "code",
   "execution_count": 33,
   "metadata": {
    "scrolled": true
   },
   "outputs": [
    {
     "data": {
      "text/html": [
       "<div>\n",
       "<style scoped>\n",
       "    .dataframe tbody tr th:only-of-type {\n",
       "        vertical-align: middle;\n",
       "    }\n",
       "\n",
       "    .dataframe tbody tr th {\n",
       "        vertical-align: top;\n",
       "    }\n",
       "\n",
       "    .dataframe thead th {\n",
       "        text-align: right;\n",
       "    }\n",
       "</style>\n",
       "<table border=\"1\" class=\"dataframe\">\n",
       "  <thead>\n",
       "    <tr style=\"text-align: right;\">\n",
       "      <th></th>\n",
       "      <th>Return</th>\n",
       "      <th>Risk</th>\n",
       "    </tr>\n",
       "  </thead>\n",
       "  <tbody>\n",
       "    <tr>\n",
       "      <th>AXP</th>\n",
       "      <td>0.044418</td>\n",
       "      <td>0.207027</td>\n",
       "    </tr>\n",
       "    <tr>\n",
       "      <th>FB</th>\n",
       "      <td>0.223580</td>\n",
       "      <td>0.299131</td>\n",
       "    </tr>\n",
       "    <tr>\n",
       "      <th>INTC</th>\n",
       "      <td>0.177555</td>\n",
       "      <td>0.246522</td>\n",
       "    </tr>\n",
       "    <tr>\n",
       "      <th>MCD</th>\n",
       "      <td>0.163971</td>\n",
       "      <td>0.164948</td>\n",
       "    </tr>\n",
       "    <tr>\n",
       "      <th>PG</th>\n",
       "      <td>0.065845</td>\n",
       "      <td>0.147473</td>\n",
       "    </tr>\n",
       "  </tbody>\n",
       "</table>\n",
       "</div>"
      ],
      "text/plain": [
       "        Return      Risk\n",
       "AXP   0.044418  0.207027\n",
       "FB    0.223580  0.299131\n",
       "INTC  0.177555  0.246522\n",
       "MCD   0.163971  0.164948\n",
       "PG    0.065845  0.147473"
      ]
     },
     "execution_count": 33,
     "metadata": {},
     "output_type": "execute_result"
    }
   ],
   "source": [
    "sr_stocks=ann_risk_return(daily_return_stocks)\n",
    "sr_stocks.head()"
   ]
  },
  {
   "cell_type": "code",
   "execution_count": 34,
   "metadata": {},
   "outputs": [],
   "source": [
    "sr_stocks[\"SharpRatio\"]=get_sr(sr_stocks[\"Risk\"], sr_stocks[\"Return\"])"
   ]
  },
  {
   "cell_type": "code",
   "execution_count": 35,
   "metadata": {},
   "outputs": [
    {
     "data": {
      "text/html": [
       "<div>\n",
       "<style scoped>\n",
       "    .dataframe tbody tr th:only-of-type {\n",
       "        vertical-align: middle;\n",
       "    }\n",
       "\n",
       "    .dataframe tbody tr th {\n",
       "        vertical-align: top;\n",
       "    }\n",
       "\n",
       "    .dataframe thead th {\n",
       "        text-align: right;\n",
       "    }\n",
       "</style>\n",
       "<table border=\"1\" class=\"dataframe\">\n",
       "  <thead>\n",
       "    <tr style=\"text-align: right;\">\n",
       "      <th></th>\n",
       "      <th>Return</th>\n",
       "      <th>Risk</th>\n",
       "      <th>SharpRatio</th>\n",
       "    </tr>\n",
       "  </thead>\n",
       "  <tbody>\n",
       "    <tr>\n",
       "      <th>AXP</th>\n",
       "      <td>0.044418</td>\n",
       "      <td>0.207027</td>\n",
       "      <td>0.132435</td>\n",
       "    </tr>\n",
       "    <tr>\n",
       "      <th>FB</th>\n",
       "      <td>0.223580</td>\n",
       "      <td>0.299131</td>\n",
       "      <td>0.690599</td>\n",
       "    </tr>\n",
       "    <tr>\n",
       "      <th>INTC</th>\n",
       "      <td>0.177555</td>\n",
       "      <td>0.246522</td>\n",
       "      <td>0.651281</td>\n",
       "    </tr>\n",
       "    <tr>\n",
       "      <th>MCD</th>\n",
       "      <td>0.163971</td>\n",
       "      <td>0.164948</td>\n",
       "      <td>0.891011</td>\n",
       "    </tr>\n",
       "    <tr>\n",
       "      <th>PG</th>\n",
       "      <td>0.065845</td>\n",
       "      <td>0.147473</td>\n",
       "      <td>0.331215</td>\n",
       "    </tr>\n",
       "    <tr>\n",
       "      <th>WMT</th>\n",
       "      <td>0.076464</td>\n",
       "      <td>0.194218</td>\n",
       "      <td>0.306171</td>\n",
       "    </tr>\n",
       "  </tbody>\n",
       "</table>\n",
       "</div>"
      ],
      "text/plain": [
       "        Return      Risk  SharpRatio\n",
       "AXP   0.044418  0.207027    0.132435\n",
       "FB    0.223580  0.299131    0.690599\n",
       "INTC  0.177555  0.246522    0.651281\n",
       "MCD   0.163971  0.164948    0.891011\n",
       "PG    0.065845  0.147473    0.331215\n",
       "WMT   0.076464  0.194218    0.306171"
      ]
     },
     "execution_count": 35,
     "metadata": {},
     "output_type": "execute_result"
    }
   ],
   "source": [
    "sr_stocks"
   ]
  },
  {
   "cell_type": "code",
   "execution_count": 36,
   "metadata": {
    "scrolled": true
   },
   "outputs": [
    {
     "data": {
      "text/html": [
       "<div>\n",
       "<style scoped>\n",
       "    .dataframe tbody tr th:only-of-type {\n",
       "        vertical-align: middle;\n",
       "    }\n",
       "\n",
       "    .dataframe tbody tr th {\n",
       "        vertical-align: top;\n",
       "    }\n",
       "\n",
       "    .dataframe thead th {\n",
       "        text-align: right;\n",
       "    }\n",
       "</style>\n",
       "<table border=\"1\" class=\"dataframe\">\n",
       "  <thead>\n",
       "    <tr style=\"text-align: right;\">\n",
       "      <th></th>\n",
       "      <th>Return</th>\n",
       "      <th>Risk</th>\n",
       "      <th>SharpRatio</th>\n",
       "    </tr>\n",
       "  </thead>\n",
       "  <tbody>\n",
       "    <tr>\n",
       "      <th>0</th>\n",
       "      <td>0.105159</td>\n",
       "      <td>0.125332</td>\n",
       "      <td>0.703408</td>\n",
       "    </tr>\n",
       "    <tr>\n",
       "      <th>1</th>\n",
       "      <td>0.117619</td>\n",
       "      <td>0.141440</td>\n",
       "      <td>0.711392</td>\n",
       "    </tr>\n",
       "    <tr>\n",
       "      <th>2</th>\n",
       "      <td>0.125457</td>\n",
       "      <td>0.132000</td>\n",
       "      <td>0.821643</td>\n",
       "    </tr>\n",
       "    <tr>\n",
       "      <th>3</th>\n",
       "      <td>0.125908</td>\n",
       "      <td>0.130126</td>\n",
       "      <td>0.836946</td>\n",
       "    </tr>\n",
       "    <tr>\n",
       "      <th>4</th>\n",
       "      <td>0.106849</td>\n",
       "      <td>0.136994</td>\n",
       "      <td>0.655862</td>\n",
       "    </tr>\n",
       "    <tr>\n",
       "      <th>...</th>\n",
       "      <td>...</td>\n",
       "      <td>...</td>\n",
       "      <td>...</td>\n",
       "    </tr>\n",
       "    <tr>\n",
       "      <th>995</th>\n",
       "      <td>0.094192</td>\n",
       "      <td>0.135166</td>\n",
       "      <td>0.571087</td>\n",
       "    </tr>\n",
       "    <tr>\n",
       "      <th>996</th>\n",
       "      <td>0.115470</td>\n",
       "      <td>0.131295</td>\n",
       "      <td>0.749991</td>\n",
       "    </tr>\n",
       "    <tr>\n",
       "      <th>997</th>\n",
       "      <td>0.144811</td>\n",
       "      <td>0.156934</td>\n",
       "      <td>0.814425</td>\n",
       "    </tr>\n",
       "    <tr>\n",
       "      <th>998</th>\n",
       "      <td>0.139379</td>\n",
       "      <td>0.138780</td>\n",
       "      <td>0.881818</td>\n",
       "    </tr>\n",
       "    <tr>\n",
       "      <th>999</th>\n",
       "      <td>0.137219</td>\n",
       "      <td>0.150892</td>\n",
       "      <td>0.796723</td>\n",
       "    </tr>\n",
       "  </tbody>\n",
       "</table>\n",
       "<p>1000 rows × 3 columns</p>\n",
       "</div>"
      ],
      "text/plain": [
       "       Return      Risk  SharpRatio\n",
       "0    0.105159  0.125332    0.703408\n",
       "1    0.117619  0.141440    0.711392\n",
       "2    0.125457  0.132000    0.821643\n",
       "3    0.125908  0.130126    0.836946\n",
       "4    0.106849  0.136994    0.655862\n",
       "..        ...       ...         ...\n",
       "995  0.094192  0.135166    0.571087\n",
       "996  0.115470  0.131295    0.749991\n",
       "997  0.144811  0.156934    0.814425\n",
       "998  0.139379  0.138780    0.881818\n",
       "999  0.137219  0.150892    0.796723\n",
       "\n",
       "[1000 rows x 3 columns]"
      ]
     },
     "execution_count": 36,
     "metadata": {},
     "output_type": "execute_result"
    }
   ],
   "source": [
    "return_risk[\"SharpRatio\"]=get_sr(return_risk[\"Risk\"], return_risk[\"Return\"])\n",
    "return_risk"
   ]
  },
  {
   "cell_type": "code",
   "execution_count": 126,
   "metadata": {},
   "outputs": [],
   "source": [
    "# cmap = \"coolwarm\", vmin = 0.5, vmax = 1.00, alpha = 0.8\n",
    "plt.scatter?"
   ]
  },
  {
   "cell_type": "code",
   "execution_count": 37,
   "metadata": {},
   "outputs": [
    {
     "data": {
      "image/png": "[encoded data removed]",
      "text/plain": [
       "<Figure size 864x576 with 2 Axes>"
      ]
     },
     "metadata": {
      "needs_background": "light"
     },
     "output_type": "display_data"
    }
   ],
   "source": [
    "plt.figure(figsize=(12,8))\n",
    "plt.scatter(y=return_risk[\"Return\"],x=return_risk[\"Risk\"],c=return_risk[\"SharpRatio\"],cmap=\"coolwarm\",vmin=0.5,vmax=1)\n",
    "plt.colorbar()\n",
    "plt.show()"
   ]
  },
  {
   "cell_type": "markdown",
   "metadata": {},
   "source": [
    "Search for the __Max Sharpe Ratio Portfolio__ (from the set of 10,000 random portfolios) and determine __risk, return and Sharpe Ratio__ of the Max Sharpe Ratio Portfolio!"
   ]
  },
  {
   "cell_type": "code",
   "execution_count": 38,
   "metadata": {},
   "outputs": [
    {
     "data": {
      "text/plain": [
       "595"
      ]
     },
     "execution_count": 38,
     "metadata": {},
     "output_type": "execute_result"
    }
   ],
   "source": [
    "return_risk[\"SharpRatio\"].idxmax()"
   ]
  },
  {
   "cell_type": "code",
   "execution_count": 39,
   "metadata": {},
   "outputs": [
    {
     "data": {
      "text/plain": [
       "Return        0.152828\n",
       "Risk          0.141150\n",
       "SharpRatio    0.962292\n",
       "Name: 595, dtype: float64"
      ]
     },
     "execution_count": 39,
     "metadata": {},
     "output_type": "execute_result"
    }
   ],
   "source": [
    "return_risk.loc[return_risk[\"SharpRatio\"].idxmax()]"
   ]
  },
  {
   "cell_type": "markdown",
   "metadata": {},
   "source": [
    "Determine the __weights of the constituents__ in the Max Sharpe Ratio Portfolio and, if your computing power allows for this, __increase__ the __number of random portfolios__. Which stocks do you think have an __actual weight of 0__ in the \"real\" Max Sharpe Ratio Portfolio that can be derived with Optimization Algorithms? Can you identify a __highly concentrated position__ in one Stock?  "
   ]
  },
  {
   "cell_type": "code",
   "execution_count": 40,
   "metadata": {},
   "outputs": [
    {
     "data": {
      "text/plain": [
       "595"
      ]
     },
     "execution_count": 40,
     "metadata": {},
     "output_type": "execute_result"
    }
   ],
   "source": [
    "return_risk[\"SharpRatio\"].idxmax()"
   ]
  },
  {
   "cell_type": "code",
   "execution_count": 115,
   "metadata": {},
   "outputs": [
    {
     "data": {
      "text/plain": [
       "AXP     0.063848\n",
       "FB      0.318752\n",
       "INTC    0.225493\n",
       "MCD     0.335008\n",
       "PG      0.015671\n",
       "WMT     0.041230\n",
       "Name: 357, dtype: float64"
      ]
     },
     "execution_count": 115,
     "metadata": {},
     "output_type": "execute_result"
    }
   ],
   "source": [
    "weights.loc[return_risk[\"SharpRatio\"].idxmax()]"
   ]
  },
  {
   "cell_type": "markdown",
   "metadata": {},
   "source": [
    "# Recap"
   ]
  },
  {
   "cell_type": "markdown",
   "metadata": {},
   "source": [
    "152. generate random matrix by generating random array and then reshaping\n",
    "\n",
    "use np.`randam.random.reshape(m,n)` to get random weights\n",
    "\n",
    "df=pd.DataFrame(array)\n",
    "\n",
    "df.`columns`=`column_list` to define the column name "
   ]
  },
  {
   "cell_type": "markdown",
   "metadata": {},
   "source": [
    "159. generate scatters with different colors\n",
    "\n",
    "`plt.scatter(c=df[col1])`\n",
    "\n",
    "`plt.colorbar()` to show the colorbar"
   ]
  },
  {
   "cell_type": "markdown",
   "metadata": {},
   "source": [
    "160. find the location of the max element\n",
    "\n",
    "df.`idxmax`(\"col_name\")"
   ]
  }
 ],
 "metadata": {
  "kernelspec": {
   "display_name": "Python 3 (ipykernel)",
   "language": "python",
   "name": "python3"
  },
  "language_info": {
   "codemirror_mode": {
    "name": "ipython",
    "version": 3
   },
   "file_extension": ".py",
   "mimetype": "text/x-python",
   "name": "python",
   "nbconvert_exporter": "python",
   "pygments_lexer": "ipython3",
   "version": "3.9.7"
  },
  "toc": {
   "base_numbering": 1,
   "nav_menu": {},
   "number_sections": true,
   "sideBar": true,
   "skip_h1_title": false,
   "title_cell": "Table of Contents",
   "title_sidebar": "Contents",
   "toc_cell": false,
   "toc_position": {},
   "toc_section_display": true,
   "toc_window_display": false
  }
 },
 "nbformat": 4,
 "nbformat_minor": 2
}
