{
 "cells": [
  {
   "cell_type": "markdown",
   "metadata": {},
   "source": [
    "# Coding Exercises (Part 13)"
   ]
  },
  {
   "cell_type": "markdown",
   "metadata": {},
   "source": [
    "## Financial Data: Advanced Analysis Techniques"
   ]
  },
  {
   "cell_type": "markdown",
   "metadata": {},
   "source": [
    "## Option 1: Self_guided"
   ]
  },
  {
   "cell_type": "markdown",
   "metadata": {},
   "source": [
    "__Import__ the Dow Jones Industrial Average Index (__DJIA__) dataset (__djia.csv__)."
   ]
  },
  {
   "cell_type": "code",
   "execution_count": 1,
   "metadata": {},
   "outputs": [],
   "source": [
    "import pandas as pd\n",
    "import matplotlib.pyplot as plt"
   ]
  },
  {
   "cell_type": "code",
   "execution_count": 2,
   "metadata": {},
   "outputs": [
    {
     "data": {
      "text/html": [
       "<div>\n",
       "<style scoped>\n",
       "    .dataframe tbody tr th:only-of-type {\n",
       "        vertical-align: middle;\n",
       "    }\n",
       "\n",
       "    .dataframe tbody tr th {\n",
       "        vertical-align: top;\n",
       "    }\n",
       "\n",
       "    .dataframe thead th {\n",
       "        text-align: right;\n",
       "    }\n",
       "</style>\n",
       "<table border=\"1\" class=\"dataframe\">\n",
       "  <thead>\n",
       "    <tr style=\"text-align: right;\">\n",
       "      <th></th>\n",
       "      <th>Open</th>\n",
       "      <th>High</th>\n",
       "      <th>Low</th>\n",
       "      <th>Close</th>\n",
       "      <th>Adj Close</th>\n",
       "      <th>Volume</th>\n",
       "    </tr>\n",
       "    <tr>\n",
       "      <th>Date</th>\n",
       "      <th></th>\n",
       "      <th></th>\n",
       "      <th></th>\n",
       "      <th></th>\n",
       "      <th></th>\n",
       "      <th></th>\n",
       "    </tr>\n",
       "  </thead>\n",
       "  <tbody>\n",
       "    <tr>\n",
       "      <th>1989-12-29</th>\n",
       "      <td>2736.35</td>\n",
       "      <td>2763.01</td>\n",
       "      <td>2726.96</td>\n",
       "      <td>2753.20</td>\n",
       "      <td>2753.20</td>\n",
       "      <td>14580000</td>\n",
       "    </tr>\n",
       "    <tr>\n",
       "      <th>1990-01-02</th>\n",
       "      <td>2748.72</td>\n",
       "      <td>2811.65</td>\n",
       "      <td>2732.51</td>\n",
       "      <td>2810.15</td>\n",
       "      <td>2810.15</td>\n",
       "      <td>20680000</td>\n",
       "    </tr>\n",
       "    <tr>\n",
       "      <th>1990-01-03</th>\n",
       "      <td>2814.20</td>\n",
       "      <td>2834.04</td>\n",
       "      <td>2786.26</td>\n",
       "      <td>2809.73</td>\n",
       "      <td>2809.73</td>\n",
       "      <td>23620000</td>\n",
       "    </tr>\n",
       "    <tr>\n",
       "      <th>1990-01-04</th>\n",
       "      <td>2804.39</td>\n",
       "      <td>2821.46</td>\n",
       "      <td>2766.42</td>\n",
       "      <td>2796.08</td>\n",
       "      <td>2796.08</td>\n",
       "      <td>24370000</td>\n",
       "    </tr>\n",
       "    <tr>\n",
       "      <th>1990-01-05</th>\n",
       "      <td>2786.90</td>\n",
       "      <td>2810.15</td>\n",
       "      <td>2758.11</td>\n",
       "      <td>2773.25</td>\n",
       "      <td>2773.25</td>\n",
       "      <td>20290000</td>\n",
       "    </tr>\n",
       "  </tbody>\n",
       "</table>\n",
       "</div>"
      ],
      "text/plain": [
       "               Open     High      Low    Close  Adj Close    Volume\n",
       "Date                                                               \n",
       "1989-12-29  2736.35  2763.01  2726.96  2753.20    2753.20  14580000\n",
       "1990-01-02  2748.72  2811.65  2732.51  2810.15    2810.15  20680000\n",
       "1990-01-03  2814.20  2834.04  2786.26  2809.73    2809.73  23620000\n",
       "1990-01-04  2804.39  2821.46  2766.42  2796.08    2796.08  24370000\n",
       "1990-01-05  2786.90  2810.15  2758.11  2773.25    2773.25  20290000"
      ]
     },
     "execution_count": 2,
     "metadata": {},
     "output_type": "execute_result"
    }
   ],
   "source": [
    "djia=pd.read_csv(\"djia.csv\",index_col=0,parse_dates=True)\n",
    "djia.head()"
   ]
  },
  {
   "cell_type": "markdown",
   "metadata": {},
   "source": [
    "__Calculate__, __Visualize__ and __Compare__ the DJIA __SMA50 vs. SMA200__ (based on daily Close Prices). __Select__ the day __May 15, 2017__ and __Verify__, whether a Trader with __SMA Momentum Strategy__ was __invested__ (long) in the DJIA at this day! "
   ]
  },
  {
   "cell_type": "code",
   "execution_count": 5,
   "metadata": {},
   "outputs": [
    {
     "data": {
      "text/plain": [
       "Date\n",
       "1989-12-29    2753.20\n",
       "1990-01-02    2810.15\n",
       "1990-01-03    2809.73\n",
       "1990-01-04    2796.08\n",
       "1990-01-05    2773.25\n",
       "Name: Close, dtype: float64"
      ]
     },
     "execution_count": 5,
     "metadata": {},
     "output_type": "execute_result"
    }
   ],
   "source": [
    "djia_close=djia.Close\n",
    "djia_close.head()"
   ]
  },
  {
   "cell_type": "code",
   "execution_count": 6,
   "metadata": {},
   "outputs": [
    {
     "data": {
      "text/html": [
       "<div>\n",
       "<style scoped>\n",
       "    .dataframe tbody tr th:only-of-type {\n",
       "        vertical-align: middle;\n",
       "    }\n",
       "\n",
       "    .dataframe tbody tr th {\n",
       "        vertical-align: top;\n",
       "    }\n",
       "\n",
       "    .dataframe thead th {\n",
       "        text-align: right;\n",
       "    }\n",
       "</style>\n",
       "<table border=\"1\" class=\"dataframe\">\n",
       "  <thead>\n",
       "    <tr style=\"text-align: right;\">\n",
       "      <th></th>\n",
       "      <th>Close</th>\n",
       "    </tr>\n",
       "    <tr>\n",
       "      <th>Date</th>\n",
       "      <th></th>\n",
       "    </tr>\n",
       "  </thead>\n",
       "  <tbody>\n",
       "    <tr>\n",
       "      <th>1989-12-29</th>\n",
       "      <td>2753.20</td>\n",
       "    </tr>\n",
       "    <tr>\n",
       "      <th>1990-01-02</th>\n",
       "      <td>2810.15</td>\n",
       "    </tr>\n",
       "    <tr>\n",
       "      <th>1990-01-03</th>\n",
       "      <td>2809.73</td>\n",
       "    </tr>\n",
       "    <tr>\n",
       "      <th>1990-01-04</th>\n",
       "      <td>2796.08</td>\n",
       "    </tr>\n",
       "    <tr>\n",
       "      <th>1990-01-05</th>\n",
       "      <td>2773.25</td>\n",
       "    </tr>\n",
       "  </tbody>\n",
       "</table>\n",
       "</div>"
      ],
      "text/plain": [
       "              Close\n",
       "Date               \n",
       "1989-12-29  2753.20\n",
       "1990-01-02  2810.15\n",
       "1990-01-03  2809.73\n",
       "1990-01-04  2796.08\n",
       "1990-01-05  2773.25"
      ]
     },
     "execution_count": 6,
     "metadata": {},
     "output_type": "execute_result"
    }
   ],
   "source": [
    "djia_close=djia.Close.to_frame()\n",
    "djia_close.head()"
   ]
  },
  {
   "cell_type": "code",
   "execution_count": 7,
   "metadata": {},
   "outputs": [
    {
     "data": {
      "text/html": [
       "<div>\n",
       "<style scoped>\n",
       "    .dataframe tbody tr th:only-of-type {\n",
       "        vertical-align: middle;\n",
       "    }\n",
       "\n",
       "    .dataframe tbody tr th {\n",
       "        vertical-align: top;\n",
       "    }\n",
       "\n",
       "    .dataframe thead th {\n",
       "        text-align: right;\n",
       "    }\n",
       "</style>\n",
       "<table border=\"1\" class=\"dataframe\">\n",
       "  <thead>\n",
       "    <tr style=\"text-align: right;\">\n",
       "      <th></th>\n",
       "      <th>Close</th>\n",
       "    </tr>\n",
       "    <tr>\n",
       "      <th>Date</th>\n",
       "      <th></th>\n",
       "    </tr>\n",
       "  </thead>\n",
       "  <tbody>\n",
       "    <tr>\n",
       "      <th>1990-03-12</th>\n",
       "      <td>2654.4774</td>\n",
       "    </tr>\n",
       "    <tr>\n",
       "      <th>1990-03-13</th>\n",
       "      <td>2652.9044</td>\n",
       "    </tr>\n",
       "    <tr>\n",
       "      <th>1990-03-14</th>\n",
       "      <td>2650.4582</td>\n",
       "    </tr>\n",
       "    <tr>\n",
       "      <th>1990-03-15</th>\n",
       "      <td>2648.1780</td>\n",
       "    </tr>\n",
       "    <tr>\n",
       "      <th>1990-03-16</th>\n",
       "      <td>2647.0808</td>\n",
       "    </tr>\n",
       "  </tbody>\n",
       "</table>\n",
       "</div>"
      ],
      "text/plain": [
       "                Close\n",
       "Date                 \n",
       "1990-03-12  2654.4774\n",
       "1990-03-13  2652.9044\n",
       "1990-03-14  2650.4582\n",
       "1990-03-15  2648.1780\n",
       "1990-03-16  2647.0808"
      ]
     },
     "execution_count": 7,
     "metadata": {},
     "output_type": "execute_result"
    }
   ],
   "source": [
    "sma50=djia_close.rolling(window=50).mean()\n",
    "sma50=sma50.dropna()\n",
    "sma50.head()"
   ]
  },
  {
   "cell_type": "code",
   "execution_count": 8,
   "metadata": {},
   "outputs": [
    {
     "data": {
      "text/html": [
       "<div>\n",
       "<style scoped>\n",
       "    .dataframe tbody tr th:only-of-type {\n",
       "        vertical-align: middle;\n",
       "    }\n",
       "\n",
       "    .dataframe tbody tr th {\n",
       "        vertical-align: top;\n",
       "    }\n",
       "\n",
       "    .dataframe thead th {\n",
       "        text-align: right;\n",
       "    }\n",
       "</style>\n",
       "<table border=\"1\" class=\"dataframe\">\n",
       "  <thead>\n",
       "    <tr style=\"text-align: right;\">\n",
       "      <th></th>\n",
       "      <th>Close</th>\n",
       "    </tr>\n",
       "    <tr>\n",
       "      <th>Date</th>\n",
       "      <th></th>\n",
       "    </tr>\n",
       "  </thead>\n",
       "  <tbody>\n",
       "    <tr>\n",
       "      <th>1990-10-12</th>\n",
       "      <td>2718.16325</td>\n",
       "    </tr>\n",
       "    <tr>\n",
       "      <th>1990-10-15</th>\n",
       "      <td>2716.47895</td>\n",
       "    </tr>\n",
       "    <tr>\n",
       "      <th>1990-10-16</th>\n",
       "      <td>2714.33415</td>\n",
       "    </tr>\n",
       "    <tr>\n",
       "      <th>1990-10-17</th>\n",
       "      <td>2712.22485</td>\n",
       "    </tr>\n",
       "    <tr>\n",
       "      <th>1990-10-18</th>\n",
       "      <td>2710.50805</td>\n",
       "    </tr>\n",
       "  </tbody>\n",
       "</table>\n",
       "</div>"
      ],
      "text/plain": [
       "                 Close\n",
       "Date                  \n",
       "1990-10-12  2718.16325\n",
       "1990-10-15  2716.47895\n",
       "1990-10-16  2714.33415\n",
       "1990-10-17  2712.22485\n",
       "1990-10-18  2710.50805"
      ]
     },
     "execution_count": 8,
     "metadata": {},
     "output_type": "execute_result"
    }
   ],
   "source": [
    "sma200=djia_close.rolling(window=200).mean()\n",
    "sma200=sma200.dropna()\n",
    "sma200.head()"
   ]
  },
  {
   "cell_type": "code",
   "execution_count": 9,
   "metadata": {
    "scrolled": true
   },
   "outputs": [
    {
     "name": "stdout",
     "output_type": "stream",
     "text": [
      "sma 50 Close    20786.4816\n",
      "Name: 2017-05-15 00:00:00, dtype: float64\n",
      "sma200 Close    19522.93675\n",
      "Name: 2017-05-15 00:00:00, dtype: float64\n"
     ]
    }
   ],
   "source": [
    "print(\"sma 50\", sma50.loc[\"May 15, 2017\"])\n",
    "print(\"sma200\",sma200.loc[\"May 15, 2017\"])\n",
    "# as sma50 is above sma200, investors are longing the market"
   ]
  },
  {
   "cell_type": "code",
   "execution_count": 30,
   "metadata": {},
   "outputs": [
    {
     "data": {
      "image/png": "[encoded data removed]",
      "text/plain": [
       "<Figure size 864x576 with 1 Axes>"
      ]
     },
     "metadata": {},
     "output_type": "display_data"
    }
   ],
   "source": [
    "plt.style.use(\"seaborn\")\n",
    "plt.figure(figsize=(12,8))\n",
    "plt.plot(sma50.index,sma50.Close,label=\"SMA50\")\n",
    "plt.plot(sma200.index,sma200.Close,label=\"SMA200\")\n",
    "# when using legend(), label is supposed to be given in plot() function\n",
    "plt.legend()\n",
    "plt.show()"
   ]
  },
  {
   "cell_type": "markdown",
   "metadata": {},
   "source": [
    "__Calculate__ the DJIA __36 months rolling mean return__ and the __36 months rolling standard deviation__ of returns (based on monthly returns of Close prices). __Visualize__, __Compare__ and __indicate__, whether there is a __positive or negative relation__ between __risk and return__!  "
   ]
  },
  {
   "cell_type": "code",
   "execution_count": 11,
   "metadata": {},
   "outputs": [
    {
     "data": {
      "text/html": [
       "<div>\n",
       "<style scoped>\n",
       "    .dataframe tbody tr th:only-of-type {\n",
       "        vertical-align: middle;\n",
       "    }\n",
       "\n",
       "    .dataframe tbody tr th {\n",
       "        vertical-align: top;\n",
       "    }\n",
       "\n",
       "    .dataframe thead th {\n",
       "        text-align: right;\n",
       "    }\n",
       "</style>\n",
       "<table border=\"1\" class=\"dataframe\">\n",
       "  <thead>\n",
       "    <tr style=\"text-align: right;\">\n",
       "      <th></th>\n",
       "      <th>Close</th>\n",
       "    </tr>\n",
       "    <tr>\n",
       "      <th>Date</th>\n",
       "      <th></th>\n",
       "    </tr>\n",
       "  </thead>\n",
       "  <tbody>\n",
       "    <tr>\n",
       "      <th>1989-12-29</th>\n",
       "      <td>2753.20</td>\n",
       "    </tr>\n",
       "    <tr>\n",
       "      <th>1990-01-02</th>\n",
       "      <td>2810.15</td>\n",
       "    </tr>\n",
       "    <tr>\n",
       "      <th>1990-01-03</th>\n",
       "      <td>2809.73</td>\n",
       "    </tr>\n",
       "    <tr>\n",
       "      <th>1990-01-04</th>\n",
       "      <td>2796.08</td>\n",
       "    </tr>\n",
       "    <tr>\n",
       "      <th>1990-01-05</th>\n",
       "      <td>2773.25</td>\n",
       "    </tr>\n",
       "  </tbody>\n",
       "</table>\n",
       "</div>"
      ],
      "text/plain": [
       "              Close\n",
       "Date               \n",
       "1989-12-29  2753.20\n",
       "1990-01-02  2810.15\n",
       "1990-01-03  2809.73\n",
       "1990-01-04  2796.08\n",
       "1990-01-05  2773.25"
      ]
     },
     "execution_count": 11,
     "metadata": {},
     "output_type": "execute_result"
    }
   ],
   "source": [
    "djia_close.head()"
   ]
  },
  {
   "cell_type": "code",
   "execution_count": 12,
   "metadata": {},
   "outputs": [
    {
     "data": {
      "text/html": [
       "<div>\n",
       "<style scoped>\n",
       "    .dataframe tbody tr th:only-of-type {\n",
       "        vertical-align: middle;\n",
       "    }\n",
       "\n",
       "    .dataframe tbody tr th {\n",
       "        vertical-align: top;\n",
       "    }\n",
       "\n",
       "    .dataframe thead th {\n",
       "        text-align: right;\n",
       "    }\n",
       "</style>\n",
       "<table border=\"1\" class=\"dataframe\">\n",
       "  <thead>\n",
       "    <tr style=\"text-align: right;\">\n",
       "      <th></th>\n",
       "      <th>Close</th>\n",
       "    </tr>\n",
       "    <tr>\n",
       "      <th>Date</th>\n",
       "      <th></th>\n",
       "    </tr>\n",
       "  </thead>\n",
       "  <tbody>\n",
       "    <tr>\n",
       "      <th>1989-12</th>\n",
       "      <td>2753.20</td>\n",
       "    </tr>\n",
       "    <tr>\n",
       "      <th>1990-01</th>\n",
       "      <td>2590.54</td>\n",
       "    </tr>\n",
       "    <tr>\n",
       "      <th>1990-02</th>\n",
       "      <td>2627.25</td>\n",
       "    </tr>\n",
       "    <tr>\n",
       "      <th>1990-03</th>\n",
       "      <td>2707.21</td>\n",
       "    </tr>\n",
       "    <tr>\n",
       "      <th>1990-04</th>\n",
       "      <td>2656.76</td>\n",
       "    </tr>\n",
       "  </tbody>\n",
       "</table>\n",
       "</div>"
      ],
      "text/plain": [
       "           Close\n",
       "Date            \n",
       "1989-12  2753.20\n",
       "1990-01  2590.54\n",
       "1990-02  2627.25\n",
       "1990-03  2707.21\n",
       "1990-04  2656.76"
      ]
     },
     "execution_count": 12,
     "metadata": {},
     "output_type": "execute_result"
    }
   ],
   "source": [
    "month_close=djia_close.resample(\"m\",kind=\"period\").last()\n",
    "month_close.head()"
   ]
  },
  {
   "cell_type": "code",
   "execution_count": 13,
   "metadata": {},
   "outputs": [
    {
     "data": {
      "text/html": [
       "<div>\n",
       "<style scoped>\n",
       "    .dataframe tbody tr th:only-of-type {\n",
       "        vertical-align: middle;\n",
       "    }\n",
       "\n",
       "    .dataframe tbody tr th {\n",
       "        vertical-align: top;\n",
       "    }\n",
       "\n",
       "    .dataframe thead th {\n",
       "        text-align: right;\n",
       "    }\n",
       "</style>\n",
       "<table border=\"1\" class=\"dataframe\">\n",
       "  <thead>\n",
       "    <tr style=\"text-align: right;\">\n",
       "      <th></th>\n",
       "      <th>Close</th>\n",
       "    </tr>\n",
       "    <tr>\n",
       "      <th>Date</th>\n",
       "      <th></th>\n",
       "    </tr>\n",
       "  </thead>\n",
       "  <tbody>\n",
       "    <tr>\n",
       "      <th>1990-01</th>\n",
       "      <td>-0.059080</td>\n",
       "    </tr>\n",
       "    <tr>\n",
       "      <th>1990-02</th>\n",
       "      <td>0.014171</td>\n",
       "    </tr>\n",
       "    <tr>\n",
       "      <th>1990-03</th>\n",
       "      <td>0.030435</td>\n",
       "    </tr>\n",
       "    <tr>\n",
       "      <th>1990-04</th>\n",
       "      <td>-0.018635</td>\n",
       "    </tr>\n",
       "    <tr>\n",
       "      <th>1990-05</th>\n",
       "      <td>0.082770</td>\n",
       "    </tr>\n",
       "  </tbody>\n",
       "</table>\n",
       "</div>"
      ],
      "text/plain": [
       "            Close\n",
       "Date             \n",
       "1990-01 -0.059080\n",
       "1990-02  0.014171\n",
       "1990-03  0.030435\n",
       "1990-04 -0.018635\n",
       "1990-05  0.082770"
      ]
     },
     "execution_count": 13,
     "metadata": {},
     "output_type": "execute_result"
    }
   ],
   "source": [
    "month_return=month_close.pct_change().dropna()\n",
    "month_return.head()"
   ]
  },
  {
   "cell_type": "code",
   "execution_count": 14,
   "metadata": {},
   "outputs": [
    {
     "data": {
      "text/html": [
       "<div>\n",
       "<style scoped>\n",
       "    .dataframe tbody tr th:only-of-type {\n",
       "        vertical-align: middle;\n",
       "    }\n",
       "\n",
       "    .dataframe tbody tr th {\n",
       "        vertical-align: top;\n",
       "    }\n",
       "\n",
       "    .dataframe thead th {\n",
       "        text-align: right;\n",
       "    }\n",
       "</style>\n",
       "<table border=\"1\" class=\"dataframe\">\n",
       "  <thead>\n",
       "    <tr style=\"text-align: right;\">\n",
       "      <th></th>\n",
       "      <th>Mean</th>\n",
       "    </tr>\n",
       "    <tr>\n",
       "      <th>Date</th>\n",
       "      <th></th>\n",
       "    </tr>\n",
       "  </thead>\n",
       "  <tbody>\n",
       "    <tr>\n",
       "      <th>1992-12</th>\n",
       "      <td>0.005837</td>\n",
       "    </tr>\n",
       "    <tr>\n",
       "      <th>1993-01</th>\n",
       "      <td>0.007553</td>\n",
       "    </tr>\n",
       "    <tr>\n",
       "      <th>1993-02</th>\n",
       "      <td>0.007669</td>\n",
       "    </tr>\n",
       "    <tr>\n",
       "      <th>1993-03</th>\n",
       "      <td>0.007354</td>\n",
       "    </tr>\n",
       "    <tr>\n",
       "      <th>1993-04</th>\n",
       "      <td>0.007810</td>\n",
       "    </tr>\n",
       "  </tbody>\n",
       "</table>\n",
       "</div>"
      ],
      "text/plain": [
       "             Mean\n",
       "Date             \n",
       "1992-12  0.005837\n",
       "1993-01  0.007553\n",
       "1993-02  0.007669\n",
       "1993-03  0.007354\n",
       "1993-04  0.007810"
      ]
     },
     "execution_count": 14,
     "metadata": {},
     "output_type": "execute_result"
    }
   ],
   "source": [
    "month_36=month_return.rolling(window=36).mean().dropna()\n",
    "month_36.rename(columns={\"Close\":\"Mean\"},inplace=True)\n",
    "month_36.head()"
   ]
  },
  {
   "cell_type": "code",
   "execution_count": 15,
   "metadata": {},
   "outputs": [
    {
     "data": {
      "text/html": [
       "<div>\n",
       "<style scoped>\n",
       "    .dataframe tbody tr th:only-of-type {\n",
       "        vertical-align: middle;\n",
       "    }\n",
       "\n",
       "    .dataframe tbody tr th {\n",
       "        vertical-align: top;\n",
       "    }\n",
       "\n",
       "    .dataframe thead th {\n",
       "        text-align: right;\n",
       "    }\n",
       "</style>\n",
       "<table border=\"1\" class=\"dataframe\">\n",
       "  <thead>\n",
       "    <tr style=\"text-align: right;\">\n",
       "      <th></th>\n",
       "      <th>Mean</th>\n",
       "      <th>Std</th>\n",
       "    </tr>\n",
       "    <tr>\n",
       "      <th>Date</th>\n",
       "      <th></th>\n",
       "      <th></th>\n",
       "    </tr>\n",
       "  </thead>\n",
       "  <tbody>\n",
       "    <tr>\n",
       "      <th>1992-12</th>\n",
       "      <td>0.005837</td>\n",
       "      <td>0.040028</td>\n",
       "    </tr>\n",
       "    <tr>\n",
       "      <th>1993-01</th>\n",
       "      <td>0.007553</td>\n",
       "      <td>0.038459</td>\n",
       "    </tr>\n",
       "    <tr>\n",
       "      <th>1993-02</th>\n",
       "      <td>0.007669</td>\n",
       "      <td>0.038486</td>\n",
       "    </tr>\n",
       "    <tr>\n",
       "      <th>1993-03</th>\n",
       "      <td>0.007354</td>\n",
       "      <td>0.038340</td>\n",
       "    </tr>\n",
       "    <tr>\n",
       "      <th>1993-04</th>\n",
       "      <td>0.007810</td>\n",
       "      <td>0.038119</td>\n",
       "    </tr>\n",
       "  </tbody>\n",
       "</table>\n",
       "</div>"
      ],
      "text/plain": [
       "             Mean       Std\n",
       "Date                       \n",
       "1992-12  0.005837  0.040028\n",
       "1993-01  0.007553  0.038459\n",
       "1993-02  0.007669  0.038486\n",
       "1993-03  0.007354  0.038340\n",
       "1993-04  0.007810  0.038119"
      ]
     },
     "execution_count": 15,
     "metadata": {},
     "output_type": "execute_result"
    }
   ],
   "source": [
    "month_36[\"Std\"]=month_return.rolling(window=36).std().dropna()\n",
    "month_36.head()"
   ]
  },
  {
   "cell_type": "code",
   "execution_count": 16,
   "metadata": {},
   "outputs": [
    {
     "data": {
      "text/html": [
       "<div>\n",
       "<style scoped>\n",
       "    .dataframe tbody tr th:only-of-type {\n",
       "        vertical-align: middle;\n",
       "    }\n",
       "\n",
       "    .dataframe tbody tr th {\n",
       "        vertical-align: top;\n",
       "    }\n",
       "\n",
       "    .dataframe thead th {\n",
       "        text-align: right;\n",
       "    }\n",
       "</style>\n",
       "<table border=\"1\" class=\"dataframe\">\n",
       "  <thead>\n",
       "    <tr style=\"text-align: right;\">\n",
       "      <th></th>\n",
       "      <th>Mean</th>\n",
       "      <th>Std</th>\n",
       "    </tr>\n",
       "  </thead>\n",
       "  <tbody>\n",
       "    <tr>\n",
       "      <th>Mean</th>\n",
       "      <td>1.000000</td>\n",
       "      <td>-0.386493</td>\n",
       "    </tr>\n",
       "    <tr>\n",
       "      <th>Std</th>\n",
       "      <td>-0.386493</td>\n",
       "      <td>1.000000</td>\n",
       "    </tr>\n",
       "  </tbody>\n",
       "</table>\n",
       "</div>"
      ],
      "text/plain": [
       "          Mean       Std\n",
       "Mean  1.000000 -0.386493\n",
       "Std  -0.386493  1.000000"
      ]
     },
     "execution_count": 16,
     "metadata": {},
     "output_type": "execute_result"
    }
   ],
   "source": [
    "corr_matrix=month_36.corr()\n",
    "corr_matrix"
   ]
  },
  {
   "cell_type": "code",
   "execution_count": 17,
   "metadata": {},
   "outputs": [],
   "source": [
    "import seaborn as sns"
   ]
  },
  {
   "cell_type": "code",
   "execution_count": 18,
   "metadata": {},
   "outputs": [
    {
     "data": {
      "image/png": "[encoded data removed]",
      "text/plain": [
       "<Figure size 864x576 with 2 Axes>"
      ]
     },
     "metadata": {},
     "output_type": "display_data"
    }
   ],
   "source": [
    "plt.figure(figsize=(12,8))\n",
    "sns.heatmap(corr_matrix,annot=True)\n",
    "plt.show()"
   ]
  },
  {
   "cell_type": "markdown",
   "metadata": {},
   "source": [
    "__Import__ the __S&P 500 Total Return Index__ dataset (__SP500_TR.csv__) and __create__ the annual __Return Triangle__. Based on historical data, are there any time periods of __11 Years or longer__ where investors __lost money__?"
   ]
  },
  {
   "cell_type": "code",
   "execution_count": 19,
   "metadata": {},
   "outputs": [
    {
     "data": {
      "text/html": [
       "<div>\n",
       "<style scoped>\n",
       "    .dataframe tbody tr th:only-of-type {\n",
       "        vertical-align: middle;\n",
       "    }\n",
       "\n",
       "    .dataframe tbody tr th {\n",
       "        vertical-align: top;\n",
       "    }\n",
       "\n",
       "    .dataframe thead th {\n",
       "        text-align: right;\n",
       "    }\n",
       "</style>\n",
       "<table border=\"1\" class=\"dataframe\">\n",
       "  <thead>\n",
       "    <tr style=\"text-align: right;\">\n",
       "      <th></th>\n",
       "      <th>Open</th>\n",
       "      <th>High</th>\n",
       "      <th>Low</th>\n",
       "      <th>Close</th>\n",
       "      <th>Adj Close</th>\n",
       "      <th>Volume</th>\n",
       "    </tr>\n",
       "    <tr>\n",
       "      <th>Date</th>\n",
       "      <th></th>\n",
       "      <th></th>\n",
       "      <th></th>\n",
       "      <th></th>\n",
       "      <th></th>\n",
       "      <th></th>\n",
       "    </tr>\n",
       "  </thead>\n",
       "  <tbody>\n",
       "    <tr>\n",
       "      <th>1988-12-30</th>\n",
       "      <td>288.12</td>\n",
       "      <td>288.12</td>\n",
       "      <td>288.12</td>\n",
       "      <td>288.12</td>\n",
       "      <td>288.12</td>\n",
       "      <td>0</td>\n",
       "    </tr>\n",
       "    <tr>\n",
       "      <th>1989-01-03</th>\n",
       "      <td>285.65</td>\n",
       "      <td>285.65</td>\n",
       "      <td>285.65</td>\n",
       "      <td>285.65</td>\n",
       "      <td>285.65</td>\n",
       "      <td>0</td>\n",
       "    </tr>\n",
       "    <tr>\n",
       "      <th>1989-01-04</th>\n",
       "      <td>289.99</td>\n",
       "      <td>289.99</td>\n",
       "      <td>289.99</td>\n",
       "      <td>289.99</td>\n",
       "      <td>289.99</td>\n",
       "      <td>0</td>\n",
       "    </tr>\n",
       "    <tr>\n",
       "      <th>1989-01-05</th>\n",
       "      <td>290.61</td>\n",
       "      <td>290.61</td>\n",
       "      <td>290.61</td>\n",
       "      <td>290.61</td>\n",
       "      <td>290.61</td>\n",
       "      <td>0</td>\n",
       "    </tr>\n",
       "    <tr>\n",
       "      <th>1989-01-06</th>\n",
       "      <td>291.29</td>\n",
       "      <td>291.29</td>\n",
       "      <td>291.29</td>\n",
       "      <td>291.29</td>\n",
       "      <td>291.29</td>\n",
       "      <td>0</td>\n",
       "    </tr>\n",
       "  </tbody>\n",
       "</table>\n",
       "</div>"
      ],
      "text/plain": [
       "              Open    High     Low   Close  Adj Close  Volume\n",
       "Date                                                         \n",
       "1988-12-30  288.12  288.12  288.12  288.12     288.12       0\n",
       "1989-01-03  285.65  285.65  285.65  285.65     285.65       0\n",
       "1989-01-04  289.99  289.99  289.99  289.99     289.99       0\n",
       "1989-01-05  290.61  290.61  290.61  290.61     290.61       0\n",
       "1989-01-06  291.29  291.29  291.29  291.29     291.29       0"
      ]
     },
     "execution_count": 19,
     "metadata": {},
     "output_type": "execute_result"
    }
   ],
   "source": [
    "sp=pd.read_csv(\"SP500_TR.csv\",parse_dates=True,index_col=0)\n",
    "sp.head()"
   ]
  },
  {
   "cell_type": "code",
   "execution_count": 20,
   "metadata": {},
   "outputs": [
    {
     "data": {
      "text/html": [
       "<div>\n",
       "<style scoped>\n",
       "    .dataframe tbody tr th:only-of-type {\n",
       "        vertical-align: middle;\n",
       "    }\n",
       "\n",
       "    .dataframe tbody tr th {\n",
       "        vertical-align: top;\n",
       "    }\n",
       "\n",
       "    .dataframe thead th {\n",
       "        text-align: right;\n",
       "    }\n",
       "</style>\n",
       "<table border=\"1\" class=\"dataframe\">\n",
       "  <thead>\n",
       "    <tr style=\"text-align: right;\">\n",
       "      <th></th>\n",
       "      <th>Close</th>\n",
       "    </tr>\n",
       "    <tr>\n",
       "      <th>Date</th>\n",
       "      <th></th>\n",
       "    </tr>\n",
       "  </thead>\n",
       "  <tbody>\n",
       "    <tr>\n",
       "      <th>1989</th>\n",
       "      <td>0.316847</td>\n",
       "    </tr>\n",
       "    <tr>\n",
       "      <th>1990</th>\n",
       "      <td>-0.031048</td>\n",
       "    </tr>\n",
       "    <tr>\n",
       "      <th>1991</th>\n",
       "      <td>0.304654</td>\n",
       "    </tr>\n",
       "    <tr>\n",
       "      <th>1992</th>\n",
       "      <td>0.076205</td>\n",
       "    </tr>\n",
       "    <tr>\n",
       "      <th>1993</th>\n",
       "      <td>0.100779</td>\n",
       "    </tr>\n",
       "  </tbody>\n",
       "</table>\n",
       "</div>"
      ],
      "text/plain": [
       "         Close\n",
       "Date          \n",
       "1989  0.316847\n",
       "1990 -0.031048\n",
       "1991  0.304654\n",
       "1992  0.076205\n",
       "1993  0.100779"
      ]
     },
     "execution_count": 20,
     "metadata": {},
     "output_type": "execute_result"
    }
   ],
   "source": [
    "annual_sp_return=sp.resample(\"y\",kind=\"period\").last().Close.to_frame().pct_change().dropna()\n",
    "annual_sp_return.head()"
   ]
  },
  {
   "cell_type": "code",
   "execution_count": 21,
   "metadata": {},
   "outputs": [
    {
     "data": {
      "text/html": [
       "<div>\n",
       "<style scoped>\n",
       "    .dataframe tbody tr th:only-of-type {\n",
       "        vertical-align: middle;\n",
       "    }\n",
       "\n",
       "    .dataframe tbody tr th {\n",
       "        vertical-align: top;\n",
       "    }\n",
       "\n",
       "    .dataframe thead th {\n",
       "        text-align: right;\n",
       "    }\n",
       "</style>\n",
       "<table border=\"1\" class=\"dataframe\">\n",
       "  <thead>\n",
       "    <tr style=\"text-align: right;\">\n",
       "      <th></th>\n",
       "      <th>Close</th>\n",
       "    </tr>\n",
       "    <tr>\n",
       "      <th>Date</th>\n",
       "      <th></th>\n",
       "    </tr>\n",
       "  </thead>\n",
       "  <tbody>\n",
       "    <tr>\n",
       "      <th>1998</th>\n",
       "      <td>0.200544</td>\n",
       "    </tr>\n",
       "    <tr>\n",
       "      <th>1999</th>\n",
       "      <td>0.189901</td>\n",
       "    </tr>\n",
       "    <tr>\n",
       "      <th>2000</th>\n",
       "      <td>0.183902</td>\n",
       "    </tr>\n",
       "    <tr>\n",
       "      <th>2001</th>\n",
       "      <td>0.141550</td>\n",
       "    </tr>\n",
       "    <tr>\n",
       "      <th>2002</th>\n",
       "      <td>0.111829</td>\n",
       "    </tr>\n",
       "    <tr>\n",
       "      <th>2003</th>\n",
       "      <td>0.130436</td>\n",
       "    </tr>\n",
       "    <tr>\n",
       "      <th>2004</th>\n",
       "      <td>0.139996</td>\n",
       "    </tr>\n",
       "    <tr>\n",
       "      <th>2005</th>\n",
       "      <td>0.107332</td>\n",
       "    </tr>\n",
       "    <tr>\n",
       "      <th>2006</th>\n",
       "      <td>0.100165</td>\n",
       "    </tr>\n",
       "    <tr>\n",
       "      <th>2007</th>\n",
       "      <td>0.072296</td>\n",
       "    </tr>\n",
       "    <tr>\n",
       "      <th>2008</th>\n",
       "      <td>0.006719</td>\n",
       "    </tr>\n",
       "    <tr>\n",
       "      <th>2009</th>\n",
       "      <td>0.012143</td>\n",
       "    </tr>\n",
       "    <tr>\n",
       "      <th>2010</th>\n",
       "      <td>0.036310</td>\n",
       "    </tr>\n",
       "    <tr>\n",
       "      <th>2011</th>\n",
       "      <td>0.050308</td>\n",
       "    </tr>\n",
       "    <tr>\n",
       "      <th>2012</th>\n",
       "      <td>0.088411</td>\n",
       "    </tr>\n",
       "    <tr>\n",
       "      <th>2013</th>\n",
       "      <td>0.092116</td>\n",
       "    </tr>\n",
       "    <tr>\n",
       "      <th>2014</th>\n",
       "      <td>0.094922</td>\n",
       "    </tr>\n",
       "    <tr>\n",
       "      <th>2015</th>\n",
       "      <td>0.091394</td>\n",
       "    </tr>\n",
       "    <tr>\n",
       "      <th>2016</th>\n",
       "      <td>0.087559</td>\n",
       "    </tr>\n",
       "    <tr>\n",
       "      <th>2017</th>\n",
       "      <td>0.103897</td>\n",
       "    </tr>\n",
       "    <tr>\n",
       "      <th>2018</th>\n",
       "      <td>0.135693</td>\n",
       "    </tr>\n",
       "  </tbody>\n",
       "</table>\n",
       "</div>"
      ],
      "text/plain": [
       "         Close\n",
       "Date          \n",
       "1998  0.200544\n",
       "1999  0.189901\n",
       "2000  0.183902\n",
       "2001  0.141550\n",
       "2002  0.111829\n",
       "2003  0.130436\n",
       "2004  0.139996\n",
       "2005  0.107332\n",
       "2006  0.100165\n",
       "2007  0.072296\n",
       "2008  0.006719\n",
       "2009  0.012143\n",
       "2010  0.036310\n",
       "2011  0.050308\n",
       "2012  0.088411\n",
       "2013  0.092116\n",
       "2014  0.094922\n",
       "2015  0.091394\n",
       "2016  0.087559\n",
       "2017  0.103897\n",
       "2018  0.135693"
      ]
     },
     "execution_count": 21,
     "metadata": {},
     "output_type": "execute_result"
    }
   ],
   "source": [
    "sp_10year_return=annual_sp_return.rolling(window=10).mean().dropna()\n",
    "sp_10year_return"
   ]
  },
  {
   "cell_type": "markdown",
   "metadata": {},
   "source": [
    "__Import__ the monthly returns of the __S&P 500__ Price Return Index and the __DJIA__ Price Return Index (__sp500_djia.csv__). "
   ]
  },
  {
   "cell_type": "code",
   "execution_count": 22,
   "metadata": {},
   "outputs": [
    {
     "data": {
      "text/html": [
       "<div>\n",
       "<style scoped>\n",
       "    .dataframe tbody tr th:only-of-type {\n",
       "        vertical-align: middle;\n",
       "    }\n",
       "\n",
       "    .dataframe tbody tr th {\n",
       "        vertical-align: top;\n",
       "    }\n",
       "\n",
       "    .dataframe thead th {\n",
       "        text-align: right;\n",
       "    }\n",
       "</style>\n",
       "<table border=\"1\" class=\"dataframe\">\n",
       "  <thead>\n",
       "    <tr style=\"text-align: right;\">\n",
       "      <th></th>\n",
       "      <th>SP500</th>\n",
       "      <th>DJIA</th>\n",
       "    </tr>\n",
       "    <tr>\n",
       "      <th>Date</th>\n",
       "      <th></th>\n",
       "      <th></th>\n",
       "    </tr>\n",
       "  </thead>\n",
       "  <tbody>\n",
       "    <tr>\n",
       "      <th>1990-01-01</th>\n",
       "      <td>-0.068817</td>\n",
       "      <td>-0.059080</td>\n",
       "    </tr>\n",
       "    <tr>\n",
       "      <th>1990-02-01</th>\n",
       "      <td>0.008539</td>\n",
       "      <td>0.014171</td>\n",
       "    </tr>\n",
       "    <tr>\n",
       "      <th>1990-03-01</th>\n",
       "      <td>0.024255</td>\n",
       "      <td>0.030435</td>\n",
       "    </tr>\n",
       "    <tr>\n",
       "      <th>1990-04-01</th>\n",
       "      <td>-0.026887</td>\n",
       "      <td>-0.018635</td>\n",
       "    </tr>\n",
       "    <tr>\n",
       "      <th>1990-05-01</th>\n",
       "      <td>0.091989</td>\n",
       "      <td>0.082770</td>\n",
       "    </tr>\n",
       "  </tbody>\n",
       "</table>\n",
       "</div>"
      ],
      "text/plain": [
       "               SP500      DJIA\n",
       "Date                          \n",
       "1990-01-01 -0.068817 -0.059080\n",
       "1990-02-01  0.008539  0.014171\n",
       "1990-03-01  0.024255  0.030435\n",
       "1990-04-01 -0.026887 -0.018635\n",
       "1990-05-01  0.091989  0.082770"
      ]
     },
     "execution_count": 22,
     "metadata": {},
     "output_type": "execute_result"
    }
   ],
   "source": [
    "sp_djia=pd.read_csv(\"sp500_djia.csv\",parse_dates=True,index_col=0)\n",
    "sp_djia.head()"
   ]
  },
  {
   "cell_type": "markdown",
   "metadata": {},
   "source": [
    "__Calculate__ and __Visualize__ the 36 months __rolling correlation__ between S&P 500 returns and DJIA returns."
   ]
  },
  {
   "cell_type": "code",
   "execution_count": 33,
   "metadata": {},
   "outputs": [
    {
     "data": {
      "text/plain": [
       "Date\n",
       "1990-01-01   -0.059080\n",
       "1990-02-01    0.014171\n",
       "1990-03-01    0.030435\n",
       "1990-04-01   -0.018635\n",
       "1990-05-01    0.082770\n",
       "                ...   \n",
       "2018-08-01    0.021626\n",
       "2018-09-01    0.019006\n",
       "2018-10-01   -0.050742\n",
       "2018-11-01    0.016830\n",
       "2018-12-01   -0.096954\n",
       "Name: DJIA, Length: 348, dtype: float64"
      ]
     },
     "execution_count": 33,
     "metadata": {},
     "output_type": "execute_result"
    }
   ],
   "source": [
    "sp_djia.DJIA"
   ]
  },
  {
   "cell_type": "code",
   "execution_count": 23,
   "metadata": {},
   "outputs": [
    {
     "data": {
      "text/html": [
       "<div>\n",
       "<style scoped>\n",
       "    .dataframe tbody tr th:only-of-type {\n",
       "        vertical-align: middle;\n",
       "    }\n",
       "\n",
       "    .dataframe tbody tr th {\n",
       "        vertical-align: top;\n",
       "    }\n",
       "\n",
       "    .dataframe thead th {\n",
       "        text-align: right;\n",
       "    }\n",
       "</style>\n",
       "<table border=\"1\" class=\"dataframe\">\n",
       "  <thead>\n",
       "    <tr style=\"text-align: right;\">\n",
       "      <th></th>\n",
       "      <th>SP500</th>\n",
       "    </tr>\n",
       "    <tr>\n",
       "      <th>Date</th>\n",
       "      <th></th>\n",
       "    </tr>\n",
       "  </thead>\n",
       "  <tbody>\n",
       "    <tr>\n",
       "      <th>1992-12-01</th>\n",
       "      <td>0.958593</td>\n",
       "    </tr>\n",
       "    <tr>\n",
       "      <th>1993-01-01</th>\n",
       "      <td>0.955134</td>\n",
       "    </tr>\n",
       "    <tr>\n",
       "      <th>1993-02-01</th>\n",
       "      <td>0.954807</td>\n",
       "    </tr>\n",
       "    <tr>\n",
       "      <th>1993-03-01</th>\n",
       "      <td>0.955167</td>\n",
       "    </tr>\n",
       "    <tr>\n",
       "      <th>1993-04-01</th>\n",
       "      <td>0.950339</td>\n",
       "    </tr>\n",
       "  </tbody>\n",
       "</table>\n",
       "</div>"
      ],
      "text/plain": [
       "               SP500\n",
       "Date                \n",
       "1992-12-01  0.958593\n",
       "1993-01-01  0.955134\n",
       "1993-02-01  0.954807\n",
       "1993-03-01  0.955167\n",
       "1993-04-01  0.950339"
      ]
     },
     "execution_count": 23,
     "metadata": {},
     "output_type": "execute_result"
    }
   ],
   "source": [
    "data_36month=sp_djia.SP500.to_frame().rolling(36).corr(sp_djia.DJIA).dropna()\n",
    "data_36month.head()"
   ]
  },
  {
   "cell_type": "code",
   "execution_count": 24,
   "metadata": {},
   "outputs": [],
   "source": [
    "data_36month.rename(columns={\"SP500\":\"corr\"},inplace=True)"
   ]
  },
  {
   "cell_type": "code",
   "execution_count": 25,
   "metadata": {},
   "outputs": [
    {
     "data": {
      "text/html": [
       "<div>\n",
       "<style scoped>\n",
       "    .dataframe tbody tr th:only-of-type {\n",
       "        vertical-align: middle;\n",
       "    }\n",
       "\n",
       "    .dataframe tbody tr th {\n",
       "        vertical-align: top;\n",
       "    }\n",
       "\n",
       "    .dataframe thead th {\n",
       "        text-align: right;\n",
       "    }\n",
       "</style>\n",
       "<table border=\"1\" class=\"dataframe\">\n",
       "  <thead>\n",
       "    <tr style=\"text-align: right;\">\n",
       "      <th></th>\n",
       "      <th>corr</th>\n",
       "    </tr>\n",
       "    <tr>\n",
       "      <th>Date</th>\n",
       "      <th></th>\n",
       "    </tr>\n",
       "  </thead>\n",
       "  <tbody>\n",
       "    <tr>\n",
       "      <th>1992-12-01</th>\n",
       "      <td>0.958593</td>\n",
       "    </tr>\n",
       "    <tr>\n",
       "      <th>1993-01-01</th>\n",
       "      <td>0.955134</td>\n",
       "    </tr>\n",
       "    <tr>\n",
       "      <th>1993-02-01</th>\n",
       "      <td>0.954807</td>\n",
       "    </tr>\n",
       "    <tr>\n",
       "      <th>1993-03-01</th>\n",
       "      <td>0.955167</td>\n",
       "    </tr>\n",
       "    <tr>\n",
       "      <th>1993-04-01</th>\n",
       "      <td>0.950339</td>\n",
       "    </tr>\n",
       "  </tbody>\n",
       "</table>\n",
       "</div>"
      ],
      "text/plain": [
       "                corr\n",
       "Date                \n",
       "1992-12-01  0.958593\n",
       "1993-01-01  0.955134\n",
       "1993-02-01  0.954807\n",
       "1993-03-01  0.955167\n",
       "1993-04-01  0.950339"
      ]
     },
     "execution_count": 25,
     "metadata": {},
     "output_type": "execute_result"
    }
   ],
   "source": [
    "data_36month.head()"
   ]
  },
  {
   "cell_type": "code",
   "execution_count": 26,
   "metadata": {},
   "outputs": [
    {
     "data": {
      "image/png": "[encoded data removed]",
      "text/plain": [
       "<Figure size 864x576 with 1 Axes>"
      ]
     },
     "metadata": {},
     "output_type": "display_data"
    }
   ],
   "source": [
    "data_36month.plot(figsize=(12,8),grid=True)\n",
    "plt.ylabel(\"Correlation\")\n",
    "plt.show()"
   ]
  },
  {
   "cell_type": "markdown",
   "metadata": {},
   "source": [
    "------------------------"
   ]
  },
  {
   "cell_type": "markdown",
   "metadata": {},
   "source": [
    "# Recap"
   ]
  },
  {
   "cell_type": "markdown",
   "metadata": {},
   "source": [
    "117. calculate SMA50\n",
    "\n",
    "`df.rolling(window = 50).mean()`"
   ]
  },
  {
   "cell_type": "markdown",
   "metadata": {},
   "source": [
    "119. plot more than two lines in one figure\n",
    "\n",
    "step1: make a figure   `plt.figure(figsize=(12,8))`\n",
    "\n",
    "step2: plot lines with labels each time `plt.plot(data, x, y,label)`\n",
    "\n",
    "when __data is series type, x,y can be ignored__\n",
    "\n",
    "step3: locate the legends to a suitable place `plt.legend(loc)`\n"
   ]
  },
  {
   "cell_type": "markdown",
   "metadata": {},
   "source": [
    "128. calculate __log__ return \n",
    "\n",
    "`np.log(df/df.shift())`"
   ]
  },
  {
   "cell_type": "markdown",
   "metadata": {},
   "source": [
    "133. calculate the correlation between one column and another\n",
    "\n",
    "`df.col1.corr(df.col2)`"
   ]
  },
  {
   "cell_type": "markdown",
   "metadata": {},
   "source": [
    "133. calculate the rolling correlation between two time series\n",
    "\n",
    "`df1.rolling(window=36).corr(df2)`"
   ]
  }
 ],
 "metadata": {
  "kernelspec": {
   "display_name": "Python 3 (ipykernel)",
   "language": "python",
   "name": "python3"
  },
  "language_info": {
   "codemirror_mode": {
    "name": "ipython",
    "version": 3
   },
   "file_extension": ".py",
   "mimetype": "text/x-python",
   "name": "python",
   "nbconvert_exporter": "python",
   "pygments_lexer": "ipython3",
   "version": "3.9.7"
  },
  "toc": {
   "base_numbering": 1,
   "nav_menu": {},
   "number_sections": true,
   "sideBar": true,
   "skip_h1_title": false,
   "title_cell": "Table of Contents",
   "title_sidebar": "Contents",
   "toc_cell": false,
   "toc_position": {},
   "toc_section_display": true,
   "toc_window_display": false
  }
 },
 "nbformat": 4,
 "nbformat_minor": 2
}
