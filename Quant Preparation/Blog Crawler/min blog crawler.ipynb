{
 "cells": [
  {
   "cell_type": "code",
   "execution_count": 2,
   "id": "a1ac86e6",
   "metadata": {
    "scrolled": false
   },
   "outputs": [],
   "source": [
    "import requests \n",
    "from lxml import etree\n",
    "import pandas as pd\n",
    "\n",
    "def get_data(xpath):\n",
    "#     get http response\n",
    "    response=requests.get('https://www.cnblogs.com/')\n",
    "#     sparse html into node tree\n",
    "    element=etree.HTML(response.text)\n",
    "#     filter the info\n",
    "    result=element.xpath(xpath)\n",
    "    return result\n",
    "\n",
    "# get title、url、author、post date、likes、comments、views、abstract\n",
    "# title\n",
    "title_xpath='//*[@id=\"post_list\"]/article/section/div/a/text()'\n",
    "title_ls=get_data(title_xpath)\n",
    "\n",
    "# url\n",
    "url_xpath='//*[@id=\"post_list\"]/article/section/div/a/@href'\n",
    "url_ls=get_data(url_xpath)\n",
    "\n",
    "# author\n",
    "author_xpath='//*[@id=\"post_list\"]/article/section/footer/a[1]/span/text()'\n",
    "author_ls=get_data(author_xpath)\n",
    "\n",
    "# post date\n",
    "postDate_xpath='//*[@id=\"post_list\"]/article/section/footer/span[1]/span/text()'\n",
    "postDate_ls=get_data(postDate_xpath)\n",
    "\n",
    "# id\n",
    "id_xpath='//*[@id=\"post_list\"]/article/@data-post-id'\n",
    "id_lst=get_data(id_xpath)\n",
    "\n",
    "# likes\n",
    "like_xpath=['//*[@id=\\\"digg_count_'+str(id)+'\\\"]/text()' for id in id_lst]\n",
    "like_ls=[int(get_data(path)[0]) for path in like_xpath]\n",
    "\n",
    "\n",
    "# comments\n",
    "# //*[@id=\"post_list\"]/article[2]/section/footer/a[3]/span\n",
    "comment_xpath='//*[@id=\"post_list\"]/article/section/footer/a[3]/span/text()'\n",
    "comment_ls=[int(x) for x in get_data(comment_xpath)]\n",
    "\n",
    "# veiws\n",
    "view_xpath='//*[@id=\"post_list\"]/article/section/footer/a[4]/span/text()'\n",
    "view_ls=[int(x) for x in get_data(view_xpath)]\n",
    "\n",
    "# abstract\n",
    "intro_xpath='//*[@id=\"post_list\"]/article/section/div/p/text()'\n",
    "intro_ls=get_data(intro_xpath)\n",
    "ele_del='\\n                        '\n",
    "intro_ls=[x for x in intro_ls if x!=ele_del]\n",
    "\n",
    "posts_dic={'title':title_ls,'url':url_ls,'author':author_ls,'post':postDate_ls,\n",
    "           'likes':like_ls,'comments':comment_ls,'views':view_ls,'abstract':intro_ls}\n",
    "posts_df=pd.DataFrame(posts_dic)\n",
    "\n",
    "# save data into csv\n",
    "posts_df.to_csv('post.csv')"
   ]
  }
 ],
 "metadata": {
  "kernelspec": {
   "display_name": "Python 3 (ipykernel)",
   "language": "python",
   "name": "python3"
  },
  "language_info": {
   "codemirror_mode": {
    "name": "ipython",
    "version": 3
   },
   "file_extension": ".py",
   "mimetype": "text/x-python",
   "name": "python",
   "nbconvert_exporter": "python",
   "pygments_lexer": "ipython3",
   "version": "3.9.7"
  },
  "toc": {
   "base_numbering": 1,
   "nav_menu": {},
   "number_sections": true,
   "sideBar": true,
   "skip_h1_title": false,
   "title_cell": "Table of Contents",
   "title_sidebar": "Contents",
   "toc_cell": false,
   "toc_position": {},
   "toc_section_display": true,
   "toc_window_display": false
  }
 },
 "nbformat": 4,
 "nbformat_minor": 5
}
